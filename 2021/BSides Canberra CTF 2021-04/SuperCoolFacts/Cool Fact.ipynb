{
 "cells": [
  {
   "cell_type": "code",
   "execution_count": 1,
   "id": "floral-vector",
   "metadata": {},
   "outputs": [],
   "source": [
    "import Crypto.Util.number as nt\n",
    "from binascii import *\n",
    "\n",
    "#cybears 2020 params\n",
    "p = 273540544991637969479760315194669352313\n",
    "a = int(hexlify(b'cybears'), 16)\n",
    "b = 2020\n",
    "\n",
    "gx = 27880441596758306727342197655611673569\n",
    "gy = 214924393757041059014541565759775133463\n",
    "\n",
    "order = 273540544991637969474690923574060066154\n",
    "\n",
    "class ec_point:\n",
    "    def __init__(self,E, x,y):\n",
    "        self.x = x % E.p\n",
    "        self.y = y % E.p\n",
    "\n",
    "class ec_curve:\n",
    "    def __init__(self, p, a, b):\n",
    "        self.p = p\n",
    "        self.a = a\n",
    "        self.b = b\n",
    "\n",
    "E = ec_curve(p,a,b)\n",
    "G = ec_point(E, gx,gy)\n",
    "\n",
    "O = ec_point(E, 0,1) #Point at Infinity\n",
    "\n",
    "def ec_inverse(E, P):\n",
    "    return ec_point(E, P.x, (-P.y) % E.p)\n",
    "\n",
    "def ec_isInf(P):\n",
    "    if P.x == 0 and P.y == 1:\n",
    "        return True\n",
    "    else:\n",
    "        return False\n",
    "\n",
    "def ec_equals(P1,P2):\n",
    "    if P1.x == P2.x and P1.y == P2.y:\n",
    "        return True\n",
    "    else:\n",
    "        return False\n",
    "\n",
    "def ec_add(E, P1,P2):\n",
    "    if ec_isInf(P1):\n",
    "        return P2\n",
    "    if ec_isInf(P2):\n",
    "        return P1\n",
    "    if ec_equals(P1, ec_inverse(E, P2)):\n",
    "        return O\n",
    "\n",
    "    if ec_equals(P1,P2):\n",
    "        m = (3*P1.x**2 + E.a) * nt.inverse(2*P1.y,E.p)\n",
    "    else:\n",
    "        m = (P2.y - P1.y)*nt.inverse((P2.x-P1.x) , E.p)\n",
    "\n",
    "    x3 = m*m - P1.x - P2.x\n",
    "    y3 = m*(P1.x - x3) - P1.y\n",
    "\n",
    "    return ec_point(E,x3,y3)\n",
    "\n",
    "def ec_scalar(E,k,P):\n",
    "    result = O\n",
    "    Q = ec_point(E, P.x, P.y)\n",
    "    while (k > 0):\n",
    "        if k%2 == 1: #isodd(k)\n",
    "            result = ec_add(E,result, Q)\n",
    "        Q = ec_add(E,Q,Q)\n",
    "        k = k >> 1\n",
    "    return result\n"
   ]
  },
  {
   "cell_type": "code",
   "execution_count": 28,
   "id": "assigned-notification",
   "metadata": {},
   "outputs": [],
   "source": [
    "H = ec_point(E, 0,1)"
   ]
  },
  {
   "cell_type": "code",
   "execution_count": 29,
   "id": "blond-corner",
   "metadata": {},
   "outputs": [
    {
     "data": {
      "text/plain": [
       "1"
      ]
     },
     "execution_count": 29,
     "metadata": {},
     "output_type": "execute_result"
    }
   ],
   "source": [
    "ec_scalar(E,101,H).y"
   ]
  },
  {
   "cell_type": "code",
   "execution_count": 22,
   "id": "raised-scoop",
   "metadata": {},
   "outputs": [],
   "source": [
    "import Crypto.Cipher.AES as AES\n",
    "import hashlib\n",
    "from Crypto.Util.number import long_to_bytes"
   ]
  },
  {
   "cell_type": "code",
   "execution_count": 30,
   "id": "western-comfort",
   "metadata": {},
   "outputs": [],
   "source": [
    "def kdf(shared_point):\n",
    "    s = str(shared_point.x) + str(shared_point.y)\n",
    "    return hashlib.sha1(s.encode(\"utf-8\")).digest()[0:16]"
   ]
  },
  {
   "cell_type": "code",
   "execution_count": 37,
   "id": "illegal-hawaii",
   "metadata": {},
   "outputs": [],
   "source": [
    "ct = long_to_bytes(int(\"7d98c0d8f586c5bbfb72744908ee8dd93a3a97e1ba64b4b68a5932a633fdd1f8c49fd5173cbd3e4eaa340f37b359f6b194c11bd3b548235baaba088c13e253b544207de4f5f74be2f81da252efafcacd657ef43c4d1c09c8471760d65ebb8496\",16))\n",
    "iv = long_to_bytes(int(\"8eaaa0b55f228dd659ed2c0c7ba53850\",16))\n",
    "A = AES.new(kdf(H), AES.MODE_CBC, iv=iv)\n",
    "B = A.decrypt(ct)"
   ]
  },
  {
   "cell_type": "code",
   "execution_count": 38,
   "id": "stuck-consensus",
   "metadata": {},
   "outputs": [
    {
     "data": {
      "text/plain": [
       "b'COOL FACT: The Reuleaux Triangle is a shape of constant width other than a circle\\x0f\\x0f\\x0f\\x0f\\x0f\\x0f\\x0f\\x0f\\x0f\\x0f\\x0f\\x0f\\x0f\\x0f\\x0f'"
      ]
     },
     "execution_count": 38,
     "metadata": {},
     "output_type": "execute_result"
    }
   ],
   "source": [
    "B"
   ]
  },
  {
   "cell_type": "code",
   "execution_count": null,
   "id": "welcome-thumb",
   "metadata": {},
   "outputs": [],
   "source": []
  },
  {
   "cell_type": "code",
   "execution_count": 43,
   "id": "headed-mayor",
   "metadata": {},
   "outputs": [],
   "source": [
    "import gmpy2"
   ]
  },
  {
   "cell_type": "code",
   "execution_count": 47,
   "id": "cheap-spank",
   "metadata": {},
   "outputs": [
    {
     "data": {
      "text/plain": [
       "(mpz(16539061188339499261), False)"
      ]
     },
     "execution_count": 47,
     "metadata": {},
     "output_type": "execute_result"
    }
   ],
   "source": [
    "gmpy2.iroot(273540544991637969474690923574060066154,2)"
   ]
  },
  {
   "cell_type": "code",
   "execution_count": null,
   "id": "complimentary-membrane",
   "metadata": {},
   "outputs": [],
   "source": []
  }
 ],
 "metadata": {
  "kernelspec": {
   "display_name": "Python 3",
   "language": "python",
   "name": "python3"
  },
  "language_info": {
   "codemirror_mode": {
    "name": "ipython",
    "version": 3
   },
   "file_extension": ".py",
   "mimetype": "text/x-python",
   "name": "python",
   "nbconvert_exporter": "python",
   "pygments_lexer": "ipython3",
   "version": "3.9.1+"
  }
 },
 "nbformat": 4,
 "nbformat_minor": 5
}
