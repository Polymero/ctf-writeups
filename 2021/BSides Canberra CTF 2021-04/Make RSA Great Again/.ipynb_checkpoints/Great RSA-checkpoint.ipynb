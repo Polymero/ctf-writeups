{
 "cells": [
  {
   "cell_type": "code",
   "execution_count": 12,
   "id": "worth-young",
   "metadata": {},
   "outputs": [],
   "source": [
    "import numpy as np\n",
    "import gmpy2\n",
    "from Crypto.Util.number import long_to_bytes"
   ]
  },
  {
   "cell_type": "code",
   "execution_count": 2,
   "id": "military-density",
   "metadata": {},
   "outputs": [],
   "source": [
    "data = np.loadtxt('output.json',dtype=list)"
   ]
  },
  {
   "cell_type": "code",
   "execution_count": 3,
   "id": "disciplinary-projection",
   "metadata": {},
   "outputs": [],
   "source": [
    "msgs = []\n",
    "for i in range(0,len(data),6):\n",
    "    msgs.append( { \n",
    "        \"N\": int(data[i+1][:-1]),\n",
    "        \"e\": int(data[i+3][:-1]),\n",
    "        \"C\": int(data[i+5][1:-3],16)\n",
    "    } )"
   ]
  },
  {
   "cell_type": "code",
   "execution_count": 7,
   "id": "described-appraisal",
   "metadata": {},
   "outputs": [],
   "source": [
    "Ns = [i[\"N\"] for i in msgs]"
   ]
  },
  {
   "cell_type": "code",
   "execution_count": 13,
   "id": "killing-rough",
   "metadata": {},
   "outputs": [
    {
     "name": "stdout",
     "output_type": "stream",
     "text": [
      "b'\\x02)))-\\x91\\xe10\\xafo\\x82A\\xa3v\\xac,\\xdc\\x0c\\x1c\\x8b\\xac\\xda\\xc2e\\xcb\\xaf\\x9b\\xf0\\xe5g\\xc0j\\xeb\\x99\\xa2>\\x1c\\xac\\x91\\x86\\xf2m\\xf8\\xbd(#_x\\xf2Z\\x92b%\\xd2OP\\xa6\\x0c\\\\\\xfd\\xc3\\x883\\xfa8M\\xf5//\\xd3[\\x00Thank you Mario! But our princess is in another castle!'\n",
      "b'\\x02@H\\xb5\\x95d\\xfc\\xa5\\x8b\\x8cE\\x15N\\xa9\\xb4\\x17q6\\xf0\\xc2\\x0f\\x0eYk\\xcan\\x15\\x1dy(\\xa1\\xb0\\xff8\\xd9\\xacj\\xb9\\xff\\xd9-87\\x02\\xe3B4G\\xf29\\xf3|6\\x17\\x03\\xba\\xe2\\x1c\\xfeA8V\\xd7\\x12\\x16\\xe4b\\xcf\\xf4{9 \\xcfO\\xdd\\x97\\xa5\\x13\\x9cq\\xd8\\x00cybears{1_kn0w_pr1m3z.1_h4v3_th3_b35t_pr1m3z}'\n"
     ]
    }
   ],
   "source": [
    "for i,Ni in enumerate(Ns):\n",
    "    \n",
    "    for j,Nj in enumerate(Ns):\n",
    "        \n",
    "        if Ni != Nj:\n",
    "            \n",
    "            gcd = gmpy2.gcd(Ni,Nj)\n",
    "            \n",
    "            if gcd != 1:\n",
    "                 \n",
    "                N = Ni\n",
    "                p = gcd\n",
    "                q = Ni // p\n",
    "                \n",
    "                assert p*q == Ni\n",
    "                \n",
    "                phi = (p-1)*(q-1)\n",
    "                \n",
    "                d = gmpy2.invert(msgs[i][\"e\"], phi)\n",
    "                \n",
    "                m = pow(msgs[i][\"C\"], d, N)\n",
    "                \n",
    "                print(long_to_bytes(m))"
   ]
  },
  {
   "cell_type": "code",
   "execution_count": null,
   "id": "authentic-temple",
   "metadata": {},
   "outputs": [],
   "source": []
  }
 ],
 "metadata": {
  "kernelspec": {
   "display_name": "Python 3",
   "language": "python",
   "name": "python3"
  },
  "language_info": {
   "codemirror_mode": {
    "name": "ipython",
    "version": 3
   },
   "file_extension": ".py",
   "mimetype": "text/x-python",
   "name": "python",
   "nbconvert_exporter": "python",
   "pygments_lexer": "ipython3",
   "version": "3.9.1+"
  }
 },
 "nbformat": 4,
 "nbformat_minor": 5
}
