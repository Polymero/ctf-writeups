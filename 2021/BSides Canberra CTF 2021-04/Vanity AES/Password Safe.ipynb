{
 "cells": [
  {
   "cell_type": "code",
   "execution_count": 8,
   "id": "several-ambassador",
   "metadata": {},
   "outputs": [],
   "source": [
    "from Crypto.Util.number import long_to_bytes,bytes_to_long\n",
    "import os"
   ]
  },
  {
   "cell_type": "code",
   "execution_count": 2,
   "id": "separated-composer",
   "metadata": {},
   "outputs": [],
   "source": [
    "from Crypto.Cipher import AES"
   ]
  },
  {
   "cell_type": "code",
   "execution_count": 16,
   "id": "embedded-study",
   "metadata": {},
   "outputs": [],
   "source": [
    "ct = long_to_bytes(0x3f24b052ee4ce98a849e954d5b0c9859344d870af49b233a78cd83860e339ee4228b1d76b054e9239bf3b3c29d0cef91)"
   ]
  },
  {
   "cell_type": "code",
   "execution_count": null,
   "id": "absent-grove",
   "metadata": {},
   "outputs": [],
   "source": []
  },
  {
   "cell_type": "code",
   "execution_count": 19,
   "id": "verified-policy",
   "metadata": {},
   "outputs": [
    {
     "name": "stdout",
     "output_type": "stream",
     "text": [
      "b'cybears{y0u_sh0uld_r34lly_u53_4_l0ng_p455phr453}'\n"
     ]
    }
   ],
   "source": [
    "for i in range(1000000):\n",
    "\n",
    "    key = long_to_bytes(0x1af7ecfac3596c6425ce4f403c44) + os.urandom(2)\n",
    "    #print(key)\n",
    "    A = AES.new(key, AES.MODE_ECB)\n",
    "    \n",
    "    dec = A.decrypt(ct)\n",
    "    if b'cybears' in dec:\n",
    "        print(dec)\n",
    "        break"
   ]
  },
  {
   "cell_type": "code",
   "execution_count": 15,
   "id": "automated-giant",
   "metadata": {},
   "outputs": [],
   "source": []
  },
  {
   "cell_type": "code",
   "execution_count": null,
   "id": "capital-wells",
   "metadata": {},
   "outputs": [],
   "source": []
  }
 ],
 "metadata": {
  "kernelspec": {
   "display_name": "Python 3",
   "language": "python",
   "name": "python3"
  },
  "language_info": {
   "codemirror_mode": {
    "name": "ipython",
    "version": 3
   },
   "file_extension": ".py",
   "mimetype": "text/x-python",
   "name": "python",
   "nbconvert_exporter": "python",
   "pygments_lexer": "ipython3",
   "version": "3.9.1+"
  }
 },
 "nbformat": 4,
 "nbformat_minor": 5
}
