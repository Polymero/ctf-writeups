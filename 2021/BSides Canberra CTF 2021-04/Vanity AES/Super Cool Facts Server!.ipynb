{
 "cells": [
  {
   "cell_type": "markdown",
   "id": "optical-irrigation",
   "metadata": {},
   "source": [
    "# Super Cool Facts Server!"
   ]
  },
  {
   "cell_type": "code",
   "execution_count": 9,
   "id": "elect-laugh",
   "metadata": {},
   "outputs": [],
   "source": [
    "import gmpy2\n",
    "import math"
   ]
  },
  {
   "cell_type": "code",
   "execution_count": 24,
   "id": "scenic-chrome",
   "metadata": {},
   "outputs": [],
   "source": [
    "def add(a, b, p):\n",
    "    if a == -1:\n",
    "        return b\n",
    "    if b == -1:\n",
    "        return a\n",
    "    x1, y1 = a\n",
    "    x2, y2 = b\n",
    "    x3 = ((x1*x2 - x1*y2 - x2*y1 + 2*y1*y2) \n",
    "          * gmpy2.invert(x1 + x2 - y1 - y2 - 1, p)) % p\n",
    "    y3 = ((y1*y2)*gmpy2.invert(x1 + x2 - y1 - y2 - 1, p)) % p\n",
    "    return (x3, y3)\n",
    "    \n",
    "def mul(m, g, p):\n",
    "    r = -1\n",
    "    while m != 0:\n",
    "        if m & 1:\n",
    "            r = add(r, g, p)\n",
    "        m >>= 1\n",
    "        g = add(g, g, p)\n",
    "    return r\n",
    "\n",
    "def baby_step_giant_step(A, g, p):\n",
    "    m = int((math.sqrt(p))+1)\n",
    "    T = {}\n",
    "    \n",
    "    mapping = lambda x : x[0] * p + x[1]\n",
    "    \n",
    "    # Giant steps\n",
    "    mG = mul(m, g, p)\n",
    "    Z = mG\n",
    "    for j in range(1, m):\n",
    "        if mapping(Z) in T:\n",
    "            T[mapping(Z)] += [j * m]\n",
    "        else:\n",
    "            T[mapping(Z)] = [j * m]\n",
    "        Z = add(mG, Z, p)\n",
    "        \n",
    "    # Baby steps\n",
    "    solutions = []\n",
    "    Z = A\n",
    "    for j in range(0, m):\n",
    "        if mapping(Z) in T:\n",
    "            solutions += [(q-j) % p for q in T[mapping(Z)]]\n",
    "        Z = add(Z, g, p)\n",
    "    \n",
    "    return solutions"
   ]
  },
  {
   "cell_type": "code",
   "execution_count": 25,
   "id": "united-radio",
   "metadata": {},
   "outputs": [],
   "source": [
    "p = 273540544991637969479760315194669352313\n",
    "a = int(b'cybears'.hex(), 16)\n",
    "b = 2020\n",
    "\n",
    "gx = 27880441596758306727342197655611673569\n",
    "gy = 214924393757041059014541565759775133463\n",
    "G = (gx, gy)\n",
    "\n",
    "order = 273540544991637969474690923574060066154"
   ]
  },
  {
   "cell_type": "code",
   "execution_count": 26,
   "id": "ambient-drilling",
   "metadata": {},
   "outputs": [],
   "source": [
    "Spub = (202928518370413342468088992285234460911, 100721675396230469444870122815528768878)"
   ]
  },
  {
   "cell_type": "code",
   "execution_count": null,
   "id": "entitled-calvin",
   "metadata": {},
   "outputs": [],
   "source": [
    "baby_step_giant_step(Spub, G, p)"
   ]
  },
  {
   "cell_type": "code",
   "execution_count": null,
   "id": "expensive-croatia",
   "metadata": {},
   "outputs": [],
   "source": []
  }
 ],
 "metadata": {
  "kernelspec": {
   "display_name": "Python 3",
   "language": "python",
   "name": "python3"
  },
  "language_info": {
   "codemirror_mode": {
    "name": "ipython",
    "version": 3
   },
   "file_extension": ".py",
   "mimetype": "text/x-python",
   "name": "python",
   "nbconvert_exporter": "python",
   "pygments_lexer": "ipython3",
   "version": "3.9.1+"
  }
 },
 "nbformat": 4,
 "nbformat_minor": 5
}
