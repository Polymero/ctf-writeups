{
 "cells": [
  {
   "cell_type": "markdown",
   "id": "personal-enough",
   "metadata": {},
   "source": [
    "# IV Structure"
   ]
  },
  {
   "cell_type": "code",
   "execution_count": 29,
   "id": "congressional-receipt",
   "metadata": {},
   "outputs": [],
   "source": [
    "from Crypto.Util.number import long_to_bytes,bytes_to_long"
   ]
  },
  {
   "cell_type": "code",
   "execution_count": 1,
   "id": "humanitarian-slovakia",
   "metadata": {},
   "outputs": [],
   "source": [
    "blc1 = \"\"\"\n",
    "A6 E2 AE 00 98 DD 11 EB  87 E4 69 E5 64 21 5A D3\n",
    "AC 3F F8 80 98 DD 11 EB  87 E5 69 E5 64 21 5A D3\n",
    "B1 04 AC 80 98 DD 11 EB  87 E6 69 E5 64 21 5A D3\n",
    "B6 61 F7 00 98 DD 11 EB  87 E7 69 E5 64 21 5A D3\n",
    "BB 26 AB 00 98 DD 11 EB  87 E8 69 E5 64 21 5A D3\n",
    "BF 52 C8 80 98 DD 11 EB  87 E9 69 E5 64 21 5A D3\n",
    "C4 17 7C 80 98 DD 11 EB  87 EA 69 E5 64 21 5A D3\n",
    "C8 DC 30 80 98 DD 11 EB  87 EB 69 E5 64 21 5A D3\n",
    "CD 08 4E 00 98 DD 11 EB  87 EC 69 E5 64 21 5A D3\n",
    "D1 CD 02 00 98 DD 11 EB  87 ED 69 E5 64 21 5A D3\n",
    "D5 F9 1F 80 98 DD 11 EB  87 EE 69 E5 64 21 5A D3\n",
    "DA BD D3 80 98 DD 11 EB  87 EF 69 E5 64 21 5A D3\n",
    "DE E9 F1 00 98 DD 11 EB  87 F0 69 E5 64 21 5A D3\n",
    "E4 47 3B 80 98 DD 11 EB  87 F1 69 E5 64 21 5A D3\n",
    "E8 73 59 00 98 DD 11 EB  87 F2 69 E5 64 21 5A D3\n",
    "ED 38 0D 00 98 DD 11 EB  87 F3 69 E5 64 21 5A D3\n",
    "F1 FC C1 00 98 DD 11 EB  87 F4 69 E5 64 21 5A D3\n",
    "F6 28 DE 80 98 DD 11 EB  87 F5 69 E5 64 21 5A D3\n",
    "FA ED 92 80 98 DD 11 EB  87 F6 69 E5 64 21 5A D3\n",
    "FF 19 B0 00 98 DD 11 EB  87 F7 69 E5 64 21 5A D3\n",
    "\"\"\""
   ]
  },
  {
   "cell_type": "code",
   "execution_count": 9,
   "id": "marked-concord",
   "metadata": {},
   "outputs": [
    {
     "name": "stdout",
     "output_type": "stream",
     "text": [
      "[351562, 312500, 351563, 312500, 273437, 312500, 312500, 273438, 312500, 273437, 312500, 273438, 351562, 273438, 312500, 312500, 273437, 312500, 273438]\n"
     ]
    }
   ],
   "source": [
    "ints = [ int(i[0:8].replace(' ','').lower(),16) for i in blc1.split(\"\\n\")[1:-1] ]\n",
    "diffs = [ ints[i+1]-ints[i] for i in range(0,len(ints)-1)]\n",
    "print(diffs)"
   ]
  },
  {
   "cell_type": "code",
   "execution_count": 10,
   "id": "amateur-authority",
   "metadata": {},
   "outputs": [
    {
     "name": "stdout",
     "output_type": "stream",
     "text": [
      "[90000000, 80000000, 90000000, 80000000, 70000000, 80000000, 80000000, 70000000, 80000000, 70000000, 80000000, 70000000, 90000000, 70000000, 80000000, 80000000, 70000000, 80000000, 70000000]\n"
     ]
    }
   ],
   "source": [
    "ints = [ int(i[0:11].replace(' ','').lower(),16) for i in blc1.split(\"\\n\")[1:-1] ]\n",
    "diffs = [ ints[i+1]-ints[i] for i in range(0,len(ints)-1)]\n",
    "print(diffs)"
   ]
  },
  {
   "cell_type": "code",
   "execution_count": 11,
   "id": "impaired-appeal",
   "metadata": {},
   "outputs": [],
   "source": [
    "blc2 = \"\"\"\n",
    "3C 7E 3D 80 98 DE 11 EB  87 E4 69 E5 64 21 5A D3\n",
    "41 42 F1 80 98 DE 11 EB  87 E5 69 E5 64 21 5A D3\n",
    "46 07 A5 80 98 DE 11 EB  87 E6 69 E5 64 21 5A D3\n",
    "4A CC 59 80 98 DE 11 EB  87 E7 69 E5 64 21 5A D3\n",
    "4F 91 0D 80 98 DE 11 EB  87 E8 69 E5 64 21 5A D3\n",
    "54 55 C1 80 98 DE 11 EB  87 E9 69 E5 64 21 5A D3\n",
    "59 1A 75 80 98 DE 11 EB  87 EA 69 E5 64 21 5A D3\n",
    "5D DF 29 80 98 DE 11 EB  87 EB 69 E5 64 21 5A D3\n",
    "62 0B 47 00 98 DE 11 EB  87 EC 69 E5 64 21 5A D3\n",
    "66 CF FB 00 98 DE 11 EB  87 ED 69 E5 64 21 5A D3\n",
    "6B 94 AF 00 98 DE 11 EB  87 EE 69 E5 64 21 5A D3\n",
    "70 59 63 00 98 DE 11 EB  87 EF 69 E5 64 21 5A D3\n",
    "74 85 80 80 98 DE 11 EB  87 F0 69 E5 64 21 5A D3\n",
    "79 4A 34 80 98 DE 11 EB  87 F1 69 E5 64 21 5A D3\n",
    "7E 0E E8 80 98 DE 11 EB  87 F2 69 E5 64 21 5A D3\n",
    "82 D3 9C 80 98 DE 11 EB  87 F3 69 E5 64 21 5A D3\n",
    "87 98 50 80 98 DE 11 EB  87 F4 69 E5 64 21 5A D3\n",
    "8C 5D 04 80 98 DE 11 EB  87 F5 69 E5 64 21 5A D3\n",
    "90 89 22 00 98 DE 11 EB  87 F6 69 E5 64 21 5A D3\n",
    "95 4D D6 00 98 DE 11 EB  87 F7 69 E5 64 21 5A D3\n",
    "99 79 F3 80 98 DE 11 EB  87 F8 69 E5 64 21 5A D3\n",
    "9E D7 3E 00 98 DE 11 EB  87 F9 69 E5 64 21 5A D3\n",
    "A3 03 5B 80 98 DE 11 EB  87 FA 69 E5 64 21 5A D3\n",
    "A7 2F 79 00 98 DE 11 EB  87 FB 69 E5 64 21 5A D3\n",
    "AC 8C C3 80 98 DE 11 EB  87 FC 69 E5 64 21 5A D3\n",
    "B0 B8 E1 00 98 DE 11 EB  87 FD 69 E5 64 21 5A D3\n",
    "B4 E4 FE 80 98 DE 11 EB  87 FE 69 E5 64 21 5A D3\n",
    "B9 A9 B2 80 98 DE 11 EB  87 FF 69 E5 64 21 5A D3\n",
    "BE 6E 66 80 98 DE 11 EB  88 00 69 E5 64 21 5A D3\n",
    "C3 33 1A 80 98 DE 11 EB  88 01 69 E5 64 21 5A D3\n",
    "\"\"\""
   ]
  },
  {
   "cell_type": "code",
   "execution_count": 13,
   "id": "front-religion",
   "metadata": {},
   "outputs": [
    {
     "name": "stdout",
     "output_type": "stream",
     "text": [
      "[312500, 312500, 312500, 312500, 312500, 312500, 312500, 273438, 312500, 312500, 312500, 273437, 312500, 312500, 312500, 312500, 312500, 273438, 312500, 273437, 351563, 273437, 273438, 351562, 273438, 273437, 312500, 312500, 312500]\n"
     ]
    }
   ],
   "source": [
    "ints = [ int(i[0:8].replace(' ','').lower(),16) for i in blc2.split(\"\\n\")[1:-1] ]\n",
    "diffs = [ ints[i+1]-ints[i] for i in range(0,len(ints)-1)]\n",
    "print(diffs)"
   ]
  },
  {
   "cell_type": "code",
   "execution_count": 17,
   "id": "choice-upgrade",
   "metadata": {},
   "outputs": [
    {
     "name": "stdout",
     "output_type": "stream",
     "text": [
      "[80000000, 80000000, 80000000, 80000000, 80000000, 80000000, 80000000, 70000000, 80000000, 80000000, 80000000, 70000000, 80000000, 80000000, 80000000, 80000000, 80000000, 70000000, 80000000, 70000000, 90000000, 70000000, 70000000, 90000000, 70000000, 70000000, 80000000, 80000000, 80000000]\n"
     ]
    }
   ],
   "source": [
    "ints = [ int(i[0:11].replace(' ','').lower(),16) for i in blc2.split(\"\\n\")[1:-1] ]\n",
    "diffs = [ ints[i+1]-ints[i] for i in range(0,len(ints)-1)]\n",
    "print(diffs)"
   ]
  },
  {
   "cell_type": "code",
   "execution_count": 15,
   "id": "impaired-castle",
   "metadata": {},
   "outputs": [],
   "source": [
    "blc3 = \"\"\"\n",
    "0B 05 72 00 98 DE 11 EB  87 E4 69 E5 64 21 5A D3\n",
    "0F CA 26 00 98 DE 11 EB  87 E5 69 E5 64 21 5A D3\n",
    "13 F6 43 80 98 DE 11 EB  87 E6 69 E5 64 21 5A D3\n",
    "18 BA F7 80 98 DE 11 EB  87 E7 69 E5 64 21 5A D3\n",
    "1D 7F AB 80 98 DE 11 EB  87 E8 69 E5 64 21 5A D3\n",
    "22 44 5F 80 98 DE 11 EB  87 E9 69 E5 64 21 5A D3\n",
    "27 09 13 80 98 DE 11 EB  87 EA 69 E5 64 21 5A D3\n",
    "2B CD C7 80 98 DE 11 EB  87 EB 69 E5 64 21 5A D3\n",
    "30 92 7B 80 98 DE 11 EB  87 EC 69 E5 64 21 5A D3\n",
    "35 57 2F 80 98 DE 11 EB  87 ED 69 E5 64 21 5A D3\n",
    "\"\"\""
   ]
  },
  {
   "cell_type": "code",
   "execution_count": 18,
   "id": "greenhouse-possible",
   "metadata": {},
   "outputs": [
    {
     "name": "stdout",
     "output_type": "stream",
     "text": [
      "[80000000, 70000000, 80000000, 80000000, 80000000, 80000000, 80000000, 80000000, 80000000]\n"
     ]
    }
   ],
   "source": [
    "ints = [ int(i[0:11].replace(' ','').lower(),16) for i in blc3.split(\"\\n\")[1:-1] ]\n",
    "diffs = [ ints[i+1]-ints[i] for i in range(0,len(ints)-1)]\n",
    "print(diffs)"
   ]
  },
  {
   "cell_type": "code",
   "execution_count": 19,
   "id": "ordered-lambda",
   "metadata": {},
   "outputs": [],
   "source": [
    "dat = \"\"\"\n",
    "00000000: F8 8C 38 00 98 DF 11 EB  87 E5 69 E5 64 21 5A D3  ..8.......i.d!Z.\n",
    "00000010: E4 F2 51 B0 4E B0 7B 7A  64 88 B3 B6 4D EA 3C 84  ..Q.N.{zd...M.<.\n",
    "00000020: 1E 29 57 82 4A C5 F4 00  54 4F 92 C2 FD C9 F3 1D  .)W.J...TO......\n",
    "00000030: 2C 6C E3 6F 1D F4 C7 0E  4C EC 26 D1 2E 8F 25 82  ,l.o....L.&...%.\n",
    "00000040: 82 FC A4 A5 3B F7 BB 86  F9 35 3A 13 AE 40 E8 EC  ....;....5:..@..\n",
    "00000050: 9D 3E 9E CD E6 79 52 08  A0 E3 08 74 48 58 E2 F1  .>...yR....tHX..\n",
    "00000060: 9A 86 A0 2C F4 F2 D7 85  14 81 B9 A6 CC 1B 7D 55  ...,..........}U\n",
    "00000070: B2 BD A6 62 27 A0 C0 C5  75 C7 9E 25 B9 F6 8C 72  ...b'...u..%...r\n",
    "00000080: 79 53 5B 1C 52 6B CA AC  BB 4F 12 9C 95 3D 99 9D  yS[.Rk...O...=..\n",
    "00000090: 1E D3 45 B8 5E 37 7F D3  BC 79 C5 78 EA 13 38 70  ..E.^7...y.x..8p\n",
    "000000A0: AB C0 13 F8 17 ED 30 6C  90 2D F2 81 8A 18 15 BA  ......0l.-......\n",
    "000000B0: 94 06 43 C4 1F C1 AF 1B  44 E2 E3 7F 45 69 B4 DB  ..C.....D...Ei..\n",
    "000000C0: 5B 53 74 FC 48 7E 78 2B  14 30 B0 9B BE FE D6 C2  [St.H~x+.0......\n",
    "000000D0: B2 8C 0A F7 08 F7 84 58  9F 93 32 16 20 EF 39 C9  .......X..2. .9.\n",
    "000000E0: 56 99 4D FE CF 8F 10 C3  8A 04 37 E2 79 39 CF 91  V.M.......7.y9..\n",
    "000000F0: 1E EA 51 D1 82 A8 F2 79  2C BC 4A AE 1C 8E 93 D1  ..Q....y,.J.....\n",
    "00000100: 6B 77 95 5F AA F3 F4 22  FB AE CF 26 92 00 57 5E  kw._...\"...&..W^\n",
    "00000110: C1 B6 70 7C DC D5 2C 83  76 47 61 7A E4 3E A1 4A  ..p|..,.vGaz.>.J\n",
    "00000120: 88 D2 C5 7E 9C 8F 1E 13  32 51 DF CF BF BC 03 79  ...~....2Q.....y\n",
    "00000130: 23 A3 71 FB DF 05 88 68  1A DB EC 3A A0 74 39 5D  #.q....h...:.t9]\n",
    "00000140: 5F 0A E5 67 AD DD 0A 37  45 AB D2 02 2B 32 E6 6C  _..g...7E...+2.l\n",
    "00000150: 08 AB 60 A3 F0 E6 C9 C4  22 FB FC AD 0A 5E 60 ED  ..`.....\"....^`.\n",
    "00000160: 97 F3 91 23 41 89 AB 6E  B5 C9 1B 5C 56 04 11 F7  ...#A..n...\\V...\n",
    "00000170: 12 A3 C1 19 6B 8D 4F 6F  EF 4F 50 06 4B 97 A0 2D  ....k.Oo.OP.K..-\n",
    "00000180: 3B A3 04 30 2A 60 1A 8E  BD A8 72 F7 FB DE A2 53  ;..0*`....r....S\n",
    "00000190: C8 72 2B AF 2B 70 12 9B  01 E2 22 1B 1B 2D 26 DC  .r+.+p....\"..-&.\n",
    "000001A0: FD 8E 7C 86 5C 4C DE 51  96 85 E7 B7 D2 F1 CD 4C  ..|.\\L.Q.......L\n",
    "000001B0: FC B5 04 5E A8 48 1F 0C  54 13 7A CA 4F 8B C3 FD  ...^.H..T.z.O...\n",
    "000001C0: F7 49 12 8A 0C DD BB E4  D7 B9 45 A5 A6 F1 56 25  .I........E...V%\n",
    "000001D0: 1B D4 CE 6B 77 6E 73 E4  72 61 6E EB 0A 24 6B 23  ...kwns.ran..$k#\n",
    "000001E0: F2 00 27 D5 F9 3A EF C2  FC 2D 1E 93 C4 EF 93 7F  ..'..:...-......\n",
    "000001F0: E4 B8 89 67 B0 E9 95 E2  04 EC BF 94 CC 0D 2E F0  ...g............\n",
    "00000200: C3 06 AA 79 95 35 E5 AC  C2 8E 13 60 76 A8 F8 42  ...y.5.....`v..B\n",
    "00000210: C0 42 52 C6 81 44 33 6F  DE 01 A7 81 22 95 BA 51  .BR..D3o....\"..Q\n",
    "\"\"\""
   ]
  },
  {
   "cell_type": "code",
   "execution_count": 25,
   "id": "minute-portuguese",
   "metadata": {},
   "outputs": [],
   "source": [
    "lins = dat.split('\\n')[1:-1]\n",
    "hexs = [i[10:58] for i in lins]\n",
    "itns = [int(i.replace(' ','').lower(),16) for i in hexs]"
   ]
  },
  {
   "cell_type": "code",
   "execution_count": 37,
   "id": "sharp-large",
   "metadata": {},
   "outputs": [
    {
     "data": {
      "text/plain": [
       "'f88c380098df11eb87e569e564215ad3'"
      ]
     },
     "execution_count": 37,
     "metadata": {},
     "output_type": "execute_result"
    }
   ],
   "source": [
    "hexs[0].replace(' ','').lower()"
   ]
  },
  {
   "cell_type": "code",
   "execution_count": 32,
   "id": "contained-owner",
   "metadata": {},
   "outputs": [
    {
     "data": {
      "text/plain": [
       "'1c7e69b0d66f6a91e36dda5329cb6657'"
      ]
     },
     "execution_count": 32,
     "metadata": {},
     "output_type": "execute_result"
    }
   ],
   "source": [
    "long_to_bytes(itns[0] ^ itns[1]).hex()"
   ]
  },
  {
   "cell_type": "code",
   "execution_count": 33,
   "id": "psychological-heading",
   "metadata": {},
   "outputs": [
    {
     "data": {
      "text/plain": [
       "'fadb063204758f7a30c72174b023cf99'"
      ]
     },
     "execution_count": 33,
     "metadata": {},
     "output_type": "execute_result"
    }
   ],
   "source": [
    "long_to_bytes(itns[1] ^ itns[2]).hex()"
   ]
  },
  {
   "cell_type": "code",
   "execution_count": 34,
   "id": "romantic-participation",
   "metadata": {},
   "outputs": [
    {
     "data": {
      "text/plain": [
       "'00000000000000000000000000000000'"
      ]
     },
     "execution_count": 34,
     "metadata": {},
     "output_type": "execute_result"
    }
   ],
   "source": [
    "'00'*16 "
   ]
  },
  {
   "cell_type": "code",
   "execution_count": 35,
   "id": "foster-establishment",
   "metadata": {},
   "outputs": [
    {
     "data": {
      "text/plain": [
       "'435942454152534359424541525343594245415253'"
      ]
     },
     "execution_count": 35,
     "metadata": {},
     "output_type": "execute_result"
    }
   ],
   "source": [
    "b'CYBEARSCYBEARSCYBEARS'.hex()"
   ]
  },
  {
   "cell_type": "code",
   "execution_count": null,
   "id": "living-arcade",
   "metadata": {},
   "outputs": [],
   "source": []
  }
 ],
 "metadata": {
  "kernelspec": {
   "display_name": "Python 3",
   "language": "python",
   "name": "python3"
  },
  "language_info": {
   "codemirror_mode": {
    "name": "ipython",
    "version": 3
   },
   "file_extension": ".py",
   "mimetype": "text/x-python",
   "name": "python",
   "nbconvert_exporter": "python",
   "pygments_lexer": "ipython3",
   "version": "3.9.1+"
  }
 },
 "nbformat": 4,
 "nbformat_minor": 5
}
