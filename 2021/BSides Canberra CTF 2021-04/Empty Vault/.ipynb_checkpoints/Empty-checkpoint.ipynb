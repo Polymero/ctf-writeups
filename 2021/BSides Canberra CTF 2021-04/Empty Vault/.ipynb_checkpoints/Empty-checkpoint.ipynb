{
 "cells": [
  {
   "cell_type": "code",
   "execution_count": 1,
   "id": "indirect-crime",
   "metadata": {},
   "outputs": [],
   "source": [
    "from flask import Flask,render_template, request\n",
    "app = Flask(__name__)\n",
    "\n",
    "\n",
    "'''\n",
    "\"What is identity? It is the difference between us. Difference is experienced in the mind, yet the Buddha said this mind creates the world, that this world only exists in the mind and nowhere else.\"\n",
    "'''\n",
    "\n",
    "from hashlib import sha256\n",
    "import os\n",
    "from binascii import * \n",
    "#from flag import flag\n",
    "flag = \"help\"\n",
    "\n",
    "class MerkleTree(object): \n",
    "    def __init__(self):\n",
    "        self.leaves = list()\n",
    "        self.levels = None\n",
    "        self.is_ready = False\n",
    "\n",
    "    def add_leaf(self, value):         \n",
    "        self.leaves.append(sha256(value).digest())\n",
    "\n",
    "    def _calculate_next_level(self):\n",
    "        solo_leave = None\n",
    "        N = len(self.levels[0])  # number of leaves on the level\n",
    "        if N % 2 == 1:  # if odd number of leaves on the level\n",
    "            solo_leave = self.levels[0][-1]\n",
    "            N -= 1\n",
    "\n",
    "        new_level = []\n",
    "        for l, r in zip(self.levels[0][0:N:2], self.levels[0][1:N:2]):\n",
    "            new_level.append(sha256(l+r).digest())\n",
    "            print(sha256(l+r).digest())\n",
    "        if solo_leave is not None:\n",
    "            new_level.append(solo_leave)\n",
    "        self.levels = [new_level, ] + self.levels  # prepend new level\n",
    "\n",
    "    def make_tree(self):\n",
    "        self.is_ready = False\n",
    "        if len(self.leaves) > 0:\n",
    "            self.levels = [self.leaves, ]\n",
    "            while len(self.levels[0]) > 1:\n",
    "                self._calculate_next_level()\n",
    "        self.is_ready = True\n",
    "\n",
    "    def get_merkle_root(self):\n",
    "        if self.is_ready:\n",
    "            if self.levels is not None:\n",
    "                return self.levels[0][0]\n",
    "            else:\n",
    "                return None\n",
    "        else:\n",
    "            return None\n",
    "\n",
    "def hashPassword(p):\n",
    "    mt = MerkleTree()\n",
    "    for c in p: \n",
    "        mt.add_leaf(c)\n",
    "    mt.make_tree()\n",
    "    return hexlify(mt.get_merkle_root())\n",
    "\n",
    "def generateRandomPassword(length):\n",
    "    p = os.urandom(length)\n",
    "    return hexlify(p)\n",
    "\n",
    "def splitPassword(p, isString=True):\n",
    "    if isString:\n",
    "        return \",\".join([c for c in p]).split(\",\")\n",
    "    else:\n",
    "        return b\",\".join([chr(c).encode() for c in p]).split(b\",\")\n",
    "\n",
    "def validatePassword(user_password, password_hashes, denyList=[], debug=False):    \n",
    "    try:\n",
    "        joined_password = unhexlify(\"\".join(user_password.split(\",\")))\n",
    "    except Exception as e: \n",
    "        raise Exception(\"ERROR: Formatting error. Exiting\")\n",
    "        \n",
    "    if joined_password in denyList: \n",
    "        raise Exception(\"Nice try, but that password is not allowed...\")\n",
    "    \n",
    "    split_password = [unhexlify(c) for c in user_password.split(\",\")]\n",
    "    user_password_hash = hashPassword(split_password)\n",
    "\n",
    "    if debug: \n",
    "        print(\"user_password entered: [\", user_password, \"]\")\n",
    "        print(\"hashes\", password_hashes)\n",
    "        print(\"deny list\", denyList)\n",
    "        print(\"hash\", user_password_hash)\n",
    "\n",
    "    if (user_password_hash in password_hashes): \n",
    "        return True\n",
    "\n",
    "    return False\n",
    "\n",
    "test_password = b\"SuperSecretPassword\"\n",
    "test_password_list = splitPassword(test_password, isString=False)\n",
    "test_password_hash = hashPassword(test_password_list)\n",
    "password_hashes = [test_password_hash]\n",
    "\n",
    "for i in range(0,9):\n",
    "    new_password = generateRandomPassword(32)\n",
    "    new_password_list = splitPassword(new_password, isString=False)\n",
    "    new_password_hash = hashPassword(new_password_list)\n",
    "    password_hashes.append(new_password_hash)\n",
    "\n",
    "@app.route('/')\n",
    "def hello_world():\n",
    "    return render_template(\"login.html\")\n",
    "\n",
    "@app.route('/auth', methods=['GET'])\n",
    "def do_auth():\n",
    "    TP = request.args.get('transformed','')\n",
    "    P = request.args.get('password','').encode()\n",
    "    \n",
    "    if P == test_password:\n",
    "        return 'Nice try, but that password is not allowed :P'\n",
    "\n",
    "    try:\n",
    "        res = validatePassword(TP, password_hashes, denyList=[test_password])\n",
    "    except Exception as e: \n",
    "        return str(e)    \n",
    "\n",
    "    if res:\n",
    "        return 'Authed! Here is your flag: '+flag\n",
    "    else:\n",
    "        return 'Wrong Password'"
   ]
  },
  {
   "cell_type": "code",
   "execution_count": 2,
   "id": "aware-rendering",
   "metadata": {},
   "outputs": [
    {
     "data": {
      "text/plain": [
       "b'af0bd175f2c542c6aacf667c5c270a4c13a8d1cb6895807d6a9ed5d74fe71307'"
      ]
     },
     "execution_count": 2,
     "metadata": {},
     "output_type": "execute_result"
    }
   ],
   "source": [
    "password_hashes[0]"
   ]
  },
  {
   "cell_type": "code",
   "execution_count": 18,
   "id": "incoming-spiritual",
   "metadata": {},
   "outputs": [
    {
     "name": "stdout",
     "output_type": "stream",
     "text": [
      "b'cd6945c693e715197e2f12c464a96ffcb7416d8026041ad77ce82edb76cc870d'\n"
     ]
    }
   ],
   "source": [
    "a = generateRandomPassword(32); print(a)"
   ]
  },
  {
   "cell_type": "code",
   "execution_count": 19,
   "id": "supposed-salem",
   "metadata": {},
   "outputs": [
    {
     "data": {
      "text/plain": [
       "b'abebc476df7796929775ffee58478decd0dff2d4cf99e4f596a3aaacfc1c6cea'"
      ]
     },
     "execution_count": 19,
     "metadata": {},
     "output_type": "execute_result"
    }
   ],
   "source": [
    "hashPassword(splitPassword(a, isString=False))"
   ]
  },
  {
   "cell_type": "code",
   "execution_count": 23,
   "id": "twenty-flood",
   "metadata": {},
   "outputs": [],
   "source": [
    "aa = MerkleTree()\n",
    "for c in test_password_list:\n",
    "    aa.add_leaf(c)\n",
    "aa.make_tree()"
   ]
  },
  {
   "cell_type": "code",
   "execution_count": 38,
   "id": "military-australian",
   "metadata": {},
   "outputs": [
    {
     "data": {
      "text/plain": [
       "[b'`gU\\xae\\xed\\x86\\xf9\\x89#)\\xe3\\xdcb+\\xb2\\x85\\x91\\r\\xea,\\xabA\\xda\\x92\\x92\\x17\\xbbu\\xe5i\\xa1\\xce',\n",
       " b'B4=\\x1b\\xc3\\x02\\x1c.|\\xd8\\xbc\\xb2i(\\xe3\\xdcB\\xbe\\x0c8S\\x84\\x98\\x88Q\\x8e\\x88\\x84\\x14x\\x9a\\x9e']"
      ]
     },
     "execution_count": 38,
     "metadata": {},
     "output_type": "execute_result"
    }
   ],
   "source": [
    "aa.levels[1]"
   ]
  },
  {
   "cell_type": "code",
   "execution_count": 31,
   "id": "normal-bradford",
   "metadata": {},
   "outputs": [
    {
     "data": {
      "text/plain": [
       "'606755aeed86f9892329e3dc622bb285910dea2cab41da929217bb75e569a1ce,42343d1bc3021c2e7cd8bcb26928e3dc42be0c3853849888518e888414789a9e'"
      ]
     },
     "execution_count": 31,
     "metadata": {},
     "output_type": "execute_result"
    }
   ],
   "source": [
    "aa.levels[1][0].hex()+','+aa.levels[1][1].hex()"
   ]
  },
  {
   "cell_type": "code",
   "execution_count": 32,
   "id": "intended-irrigation",
   "metadata": {},
   "outputs": [],
   "source": [
    "payload = aa.levels[1][0].hex()+','+aa.levels[1][1].hex()"
   ]
  },
  {
   "cell_type": "code",
   "execution_count": 35,
   "id": "biological-dialogue",
   "metadata": {},
   "outputs": [
    {
     "name": "stdout",
     "output_type": "stream",
     "text": [
      "user_password entered: [ 606755aeed86f9892329e3dc622bb285910dea2cab41da929217bb75e569a1ce,42343d1bc3021c2e7cd8bcb26928e3dc42be0c3853849888518e888414789a9e ]\n",
      "hashes [b'af0bd175f2c542c6aacf667c5c270a4c13a8d1cb6895807d6a9ed5d74fe71307', b'ffa3469ad6da3debcc00487910370a012574c2048af7451049c19f8766939e03', b'947cebedac42e8f992ff3bbf5dc0995d80538a5fcb7046bc912ea2ece7f5c7f7', b'7816bedf4da46c75811674f40e855fb978cf4c6a81a45cdfd40c0b3111025560', b'7f495c1572a603e7f5645d7b283b67e46ccede96eb25ef6c311a4990406b27b3', b'655938de459f028a1ea10459d85bf385cdbe9c7cd5bdb212e66e80b7aaab963e', b'4ad32423173bb0265d00e72435172be8d68c27fc23d1b9ba677dd3a345e6b2ec', b'59d900d8d641b3bfbbd57049b858e4be121ab070f4de77e1b48e669dea59d4fe', b'9d9bb7978b42b335d2b9fc91e8594cf2df99870ed74c55847814aa9c4af7b4e1', b'166fa6ade3b96b0e9370ff180f47ad2176221d1d7e685c920bf8953e462ba852']\n",
      "deny list [b'SuperSecretPassword']\n",
      "hash b'8dffb9a4bd415199403f2a9813b88bc5f0af4a8b64ac808312dd19d0dc5d2475'\n"
     ]
    },
    {
     "data": {
      "text/plain": [
       "False"
      ]
     },
     "execution_count": 35,
     "metadata": {},
     "output_type": "execute_result"
    }
   ],
   "source": [
    "validatePassword(payload, password_hashes, denyList=[test_password], debug=True)"
   ]
  },
  {
   "cell_type": "code",
   "execution_count": 34,
   "id": "sacred-comedy",
   "metadata": {},
   "outputs": [
    {
     "data": {
      "text/plain": [
       "'606755aeed86f9892329e3dc622bb285910dea2cab41da929217bb75e569a1ce,42343d1bc3021c2e7cd8bcb26928e3dc42be0c3853849888518e888414789a9e'"
      ]
     },
     "execution_count": 34,
     "metadata": {},
     "output_type": "execute_result"
    }
   ],
   "source": [
    "payload"
   ]
  },
  {
   "cell_type": "code",
   "execution_count": 36,
   "id": "activated-paintball",
   "metadata": {},
   "outputs": [],
   "source": [
    "split_password = [unhexlify(c) for c in payload.split(\",\")]\n",
    "user_password_hash = hashPassword(split_password)"
   ]
  },
  {
   "cell_type": "code",
   "execution_count": 37,
   "id": "aquatic-ontario",
   "metadata": {},
   "outputs": [
    {
     "data": {
      "text/plain": [
       "[b'`gU\\xae\\xed\\x86\\xf9\\x89#)\\xe3\\xdcb+\\xb2\\x85\\x91\\r\\xea,\\xabA\\xda\\x92\\x92\\x17\\xbbu\\xe5i\\xa1\\xce',\n",
       " b'B4=\\x1b\\xc3\\x02\\x1c.|\\xd8\\xbc\\xb2i(\\xe3\\xdcB\\xbe\\x0c8S\\x84\\x98\\x88Q\\x8e\\x88\\x84\\x14x\\x9a\\x9e']"
      ]
     },
     "execution_count": 37,
     "metadata": {},
     "output_type": "execute_result"
    }
   ],
   "source": [
    "split_password"
   ]
  },
  {
   "cell_type": "code",
   "execution_count": 39,
   "id": "primary-thursday",
   "metadata": {},
   "outputs": [
    {
     "data": {
      "text/plain": [
       "b'8dffb9a4bd415199403f2a9813b88bc5f0af4a8b64ac808312dd19d0dc5d2475'"
      ]
     },
     "execution_count": 39,
     "metadata": {},
     "output_type": "execute_result"
    }
   ],
   "source": [
    "hashPassword(split_password)"
   ]
  },
  {
   "cell_type": "code",
   "execution_count": null,
   "id": "chubby-german",
   "metadata": {},
   "outputs": [],
   "source": []
  },
  {
   "cell_type": "code",
   "execution_count": null,
   "id": "loved-stomach",
   "metadata": {},
   "outputs": [],
   "source": []
  },
  {
   "cell_type": "code",
   "execution_count": 20,
   "id": "prospective-channels",
   "metadata": {},
   "outputs": [
    {
     "ename": "KeyboardInterrupt",
     "evalue": "",
     "output_type": "error",
     "traceback": [
      "\u001b[0;31m---------------------------------------------------------------------------\u001b[0m",
      "\u001b[0;31mKeyboardInterrupt\u001b[0m                         Traceback (most recent call last)",
      "\u001b[0;32m<ipython-input-20-d613d2d6db59>\u001b[0m in \u001b[0;36m<module>\u001b[0;34m\u001b[0m\n\u001b[1;32m      3\u001b[0m     \u001b[0ma\u001b[0m \u001b[0;34m=\u001b[0m \u001b[0mgenerateRandomPassword\u001b[0m\u001b[0;34m(\u001b[0m\u001b[0;36m32\u001b[0m\u001b[0;34m)\u001b[0m\u001b[0;34m\u001b[0m\u001b[0;34m\u001b[0m\u001b[0m\n\u001b[1;32m      4\u001b[0m \u001b[0;34m\u001b[0m\u001b[0m\n\u001b[0;32m----> 5\u001b[0;31m     \u001b[0mb\u001b[0m \u001b[0;34m=\u001b[0m \u001b[0mhashPassword\u001b[0m\u001b[0;34m(\u001b[0m\u001b[0msplitPassword\u001b[0m\u001b[0;34m(\u001b[0m\u001b[0ma\u001b[0m\u001b[0;34m,\u001b[0m \u001b[0misString\u001b[0m\u001b[0;34m=\u001b[0m\u001b[0;32mFalse\u001b[0m\u001b[0;34m)\u001b[0m\u001b[0;34m)\u001b[0m\u001b[0;34m\u001b[0m\u001b[0;34m\u001b[0m\u001b[0m\n\u001b[0m\u001b[1;32m      6\u001b[0m \u001b[0;34m\u001b[0m\u001b[0m\n\u001b[1;32m      7\u001b[0m     \u001b[0;32mif\u001b[0m \u001b[0mb\u001b[0m \u001b[0;34m==\u001b[0m \u001b[0mpassword_hashes\u001b[0m\u001b[0;34m[\u001b[0m\u001b[0;36m0\u001b[0m\u001b[0;34m]\u001b[0m\u001b[0;34m:\u001b[0m\u001b[0;34m\u001b[0m\u001b[0;34m\u001b[0m\u001b[0m\n",
      "\u001b[0;32m<ipython-input-1-fc7c3c8eab9f>\u001b[0m in \u001b[0;36mhashPassword\u001b[0;34m(p)\u001b[0m\n\u001b[1;32m     57\u001b[0m     \u001b[0;32mfor\u001b[0m \u001b[0mc\u001b[0m \u001b[0;32min\u001b[0m \u001b[0mp\u001b[0m\u001b[0;34m:\u001b[0m\u001b[0;34m\u001b[0m\u001b[0;34m\u001b[0m\u001b[0m\n\u001b[1;32m     58\u001b[0m         \u001b[0mmt\u001b[0m\u001b[0;34m.\u001b[0m\u001b[0madd_leaf\u001b[0m\u001b[0;34m(\u001b[0m\u001b[0mc\u001b[0m\u001b[0;34m)\u001b[0m\u001b[0;34m\u001b[0m\u001b[0;34m\u001b[0m\u001b[0m\n\u001b[0;32m---> 59\u001b[0;31m     \u001b[0mmt\u001b[0m\u001b[0;34m.\u001b[0m\u001b[0mmake_tree\u001b[0m\u001b[0;34m(\u001b[0m\u001b[0;34m)\u001b[0m\u001b[0;34m\u001b[0m\u001b[0;34m\u001b[0m\u001b[0m\n\u001b[0m\u001b[1;32m     60\u001b[0m     \u001b[0;32mreturn\u001b[0m \u001b[0mhexlify\u001b[0m\u001b[0;34m(\u001b[0m\u001b[0mmt\u001b[0m\u001b[0;34m.\u001b[0m\u001b[0mget_merkle_root\u001b[0m\u001b[0;34m(\u001b[0m\u001b[0;34m)\u001b[0m\u001b[0;34m)\u001b[0m\u001b[0;34m\u001b[0m\u001b[0;34m\u001b[0m\u001b[0m\n\u001b[1;32m     61\u001b[0m \u001b[0;34m\u001b[0m\u001b[0m\n",
      "\u001b[0;32m<ipython-input-1-fc7c3c8eab9f>\u001b[0m in \u001b[0;36mmake_tree\u001b[0;34m(self)\u001b[0m\n\u001b[1;32m     41\u001b[0m             \u001b[0mself\u001b[0m\u001b[0;34m.\u001b[0m\u001b[0mlevels\u001b[0m \u001b[0;34m=\u001b[0m \u001b[0;34m[\u001b[0m\u001b[0mself\u001b[0m\u001b[0;34m.\u001b[0m\u001b[0mleaves\u001b[0m\u001b[0;34m,\u001b[0m \u001b[0;34m]\u001b[0m\u001b[0;34m\u001b[0m\u001b[0;34m\u001b[0m\u001b[0m\n\u001b[1;32m     42\u001b[0m             \u001b[0;32mwhile\u001b[0m \u001b[0mlen\u001b[0m\u001b[0;34m(\u001b[0m\u001b[0mself\u001b[0m\u001b[0;34m.\u001b[0m\u001b[0mlevels\u001b[0m\u001b[0;34m[\u001b[0m\u001b[0;36m0\u001b[0m\u001b[0;34m]\u001b[0m\u001b[0;34m)\u001b[0m \u001b[0;34m>\u001b[0m \u001b[0;36m1\u001b[0m\u001b[0;34m:\u001b[0m\u001b[0;34m\u001b[0m\u001b[0;34m\u001b[0m\u001b[0m\n\u001b[0;32m---> 43\u001b[0;31m                 \u001b[0mself\u001b[0m\u001b[0;34m.\u001b[0m\u001b[0m_calculate_next_level\u001b[0m\u001b[0;34m(\u001b[0m\u001b[0;34m)\u001b[0m\u001b[0;34m\u001b[0m\u001b[0;34m\u001b[0m\u001b[0m\n\u001b[0m\u001b[1;32m     44\u001b[0m         \u001b[0mself\u001b[0m\u001b[0;34m.\u001b[0m\u001b[0mis_ready\u001b[0m \u001b[0;34m=\u001b[0m \u001b[0;32mTrue\u001b[0m\u001b[0;34m\u001b[0m\u001b[0;34m\u001b[0m\u001b[0m\n\u001b[1;32m     45\u001b[0m \u001b[0;34m\u001b[0m\u001b[0m\n",
      "\u001b[0;32m<ipython-input-1-fc7c3c8eab9f>\u001b[0m in \u001b[0;36m_calculate_next_level\u001b[0;34m(self)\u001b[0m\n\u001b[1;32m     31\u001b[0m         \u001b[0mnew_level\u001b[0m \u001b[0;34m=\u001b[0m \u001b[0;34m[\u001b[0m\u001b[0;34m]\u001b[0m\u001b[0;34m\u001b[0m\u001b[0;34m\u001b[0m\u001b[0m\n\u001b[1;32m     32\u001b[0m         \u001b[0;32mfor\u001b[0m \u001b[0ml\u001b[0m\u001b[0;34m,\u001b[0m \u001b[0mr\u001b[0m \u001b[0;32min\u001b[0m \u001b[0mzip\u001b[0m\u001b[0;34m(\u001b[0m\u001b[0mself\u001b[0m\u001b[0;34m.\u001b[0m\u001b[0mlevels\u001b[0m\u001b[0;34m[\u001b[0m\u001b[0;36m0\u001b[0m\u001b[0;34m]\u001b[0m\u001b[0;34m[\u001b[0m\u001b[0;36m0\u001b[0m\u001b[0;34m:\u001b[0m\u001b[0mN\u001b[0m\u001b[0;34m:\u001b[0m\u001b[0;36m2\u001b[0m\u001b[0;34m]\u001b[0m\u001b[0;34m,\u001b[0m \u001b[0mself\u001b[0m\u001b[0;34m.\u001b[0m\u001b[0mlevels\u001b[0m\u001b[0;34m[\u001b[0m\u001b[0;36m0\u001b[0m\u001b[0;34m]\u001b[0m\u001b[0;34m[\u001b[0m\u001b[0;36m1\u001b[0m\u001b[0;34m:\u001b[0m\u001b[0mN\u001b[0m\u001b[0;34m:\u001b[0m\u001b[0;36m2\u001b[0m\u001b[0;34m]\u001b[0m\u001b[0;34m)\u001b[0m\u001b[0;34m:\u001b[0m\u001b[0;34m\u001b[0m\u001b[0;34m\u001b[0m\u001b[0m\n\u001b[0;32m---> 33\u001b[0;31m             \u001b[0mnew_level\u001b[0m\u001b[0;34m.\u001b[0m\u001b[0mappend\u001b[0m\u001b[0;34m(\u001b[0m\u001b[0msha256\u001b[0m\u001b[0;34m(\u001b[0m\u001b[0ml\u001b[0m\u001b[0;34m+\u001b[0m\u001b[0mr\u001b[0m\u001b[0;34m)\u001b[0m\u001b[0;34m.\u001b[0m\u001b[0mdigest\u001b[0m\u001b[0;34m(\u001b[0m\u001b[0;34m)\u001b[0m\u001b[0;34m)\u001b[0m\u001b[0;34m\u001b[0m\u001b[0;34m\u001b[0m\u001b[0m\n\u001b[0m\u001b[1;32m     34\u001b[0m         \u001b[0;32mif\u001b[0m \u001b[0msolo_leave\u001b[0m \u001b[0;32mis\u001b[0m \u001b[0;32mnot\u001b[0m \u001b[0;32mNone\u001b[0m\u001b[0;34m:\u001b[0m\u001b[0;34m\u001b[0m\u001b[0;34m\u001b[0m\u001b[0m\n\u001b[1;32m     35\u001b[0m             \u001b[0mnew_level\u001b[0m\u001b[0;34m.\u001b[0m\u001b[0mappend\u001b[0m\u001b[0;34m(\u001b[0m\u001b[0msolo_leave\u001b[0m\u001b[0;34m)\u001b[0m\u001b[0;34m\u001b[0m\u001b[0;34m\u001b[0m\u001b[0m\n",
      "\u001b[0;31mKeyboardInterrupt\u001b[0m: "
     ]
    }
   ],
   "source": [
    "while True:\n",
    "    \n",
    "    a = generateRandomPassword(32)\n",
    "    \n",
    "    b = hashPassword(splitPassword(a, isString=False))\n",
    "    \n",
    "    if b == password_hashes[0]:\n",
    "        \n",
    "        print(a)\n",
    "        print(b)\n",
    "        break"
   ]
  },
  {
   "cell_type": "code",
   "execution_count": null,
   "id": "cross-animal",
   "metadata": {},
   "outputs": [],
   "source": []
  }
 ],
 "metadata": {
  "kernelspec": {
   "display_name": "Python 3",
   "language": "python",
   "name": "python3"
  },
  "language_info": {
   "codemirror_mode": {
    "name": "ipython",
    "version": 3
   },
   "file_extension": ".py",
   "mimetype": "text/x-python",
   "name": "python",
   "nbconvert_exporter": "python",
   "pygments_lexer": "ipython3",
   "version": "3.9.1+"
  }
 },
 "nbformat": 4,
 "nbformat_minor": 5
}
