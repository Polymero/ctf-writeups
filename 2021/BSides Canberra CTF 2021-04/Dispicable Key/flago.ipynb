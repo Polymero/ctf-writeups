{
 "cells": [
  {
   "cell_type": "code",
   "execution_count": 24,
   "id": "economic-raising",
   "metadata": {},
   "outputs": [],
   "source": [
    "from Crypto.Util.number import long_to_bytes\n",
    "from Cryptodome.Cipher import AES"
   ]
  },
  {
   "cell_type": "code",
   "execution_count": 25,
   "id": "connected-tours",
   "metadata": {},
   "outputs": [],
   "source": [
    "with open('flag.png.enc','rb') as f:\n",
    "    \n",
    "    enc_dat = f.read()\n",
    "    \n",
    "    f.close()"
   ]
  },
  {
   "cell_type": "code",
   "execution_count": 26,
   "id": "worthy-repair",
   "metadata": {},
   "outputs": [],
   "source": [
    "png_sign = long_to_bytes(int(\"8950 4e47 0d0a 1a0a 0000 000d 4948 4452\".replace(' ',''),16))"
   ]
  },
  {
   "cell_type": "code",
   "execution_count": 27,
   "id": "ceramic-trick",
   "metadata": {},
   "outputs": [
    {
     "name": "stdout",
     "output_type": "stream",
     "text": [
      "b'\\xc7\\x8fV\\xae9\\xd9\\xf0\\xba\\x93\\xcd\\x1b\\xdb\\xc6\\xb3\\xca-'\n"
     ]
    }
   ],
   "source": [
    "act_sign = enc_dat[:16]\n",
    "print(act_sign)"
   ]
  },
  {
   "cell_type": "code",
   "execution_count": 28,
   "id": "developing-canberra",
   "metadata": {},
   "outputs": [],
   "source": [
    "key = b'cybearscybears20'"
   ]
  },
  {
   "cell_type": "code",
   "execution_count": 29,
   "id": "coral-bridges",
   "metadata": {},
   "outputs": [],
   "source": [
    "enc_iv = b''.join( long_to_bytes( png_sign[i] ^ act_sign[i] ) for i in range(16) )"
   ]
  },
  {
   "cell_type": "code",
   "execution_count": 30,
   "id": "moving-professor",
   "metadata": {},
   "outputs": [
    {
     "name": "stdout",
     "output_type": "stream",
     "text": [
      "b'\\xaa\\xa8N\\xc0\\xa3Eh\\xb7\\x00\\x9fb\\x96\\x00\\x00\\x00\\x02'\n"
     ]
    }
   ],
   "source": [
    "a = AES.new(key, AES.MODE_ECB)\n",
    "dec_iv = a.decrypt(enc_iv)\n",
    "print(dec_iv)\n",
    "iv = dec_iv[:12]"
   ]
  },
  {
   "cell_type": "code",
   "execution_count": 31,
   "id": "becoming-inflation",
   "metadata": {},
   "outputs": [],
   "source": [
    "A = AES.new(key, AES.MODE_GCM, nonce=iv)"
   ]
  },
  {
   "cell_type": "code",
   "execution_count": 32,
   "id": "moved-terry",
   "metadata": {},
   "outputs": [],
   "source": [
    "dec_data = A.decrypt(enc_dat)"
   ]
  },
  {
   "cell_type": "code",
   "execution_count": 33,
   "id": "suitable-trout",
   "metadata": {},
   "outputs": [],
   "source": [
    "with open('dec_flag.png','wb') as f:\n",
    "    \n",
    "    f.write(dec_data)\n",
    "    \n",
    "    f.close()"
   ]
  },
  {
   "cell_type": "code",
   "execution_count": null,
   "id": "median-bosnia",
   "metadata": {},
   "outputs": [],
   "source": []
  }
 ],
 "metadata": {
  "kernelspec": {
   "display_name": "Python 3",
   "language": "python",
   "name": "python3"
  },
  "language_info": {
   "codemirror_mode": {
    "name": "ipython",
    "version": 3
   },
   "file_extension": ".py",
   "mimetype": "text/x-python",
   "name": "python",
   "nbconvert_exporter": "python",
   "pygments_lexer": "ipython3",
   "version": "3.9.1+"
  }
 },
 "nbformat": 4,
 "nbformat_minor": 5
}
