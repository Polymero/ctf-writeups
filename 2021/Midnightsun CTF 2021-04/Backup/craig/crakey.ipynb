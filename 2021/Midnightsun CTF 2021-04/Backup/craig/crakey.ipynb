{
 "cells": [
  {
   "cell_type": "code",
   "execution_count": 11,
   "id": "legal-spain",
   "metadata": {},
   "outputs": [],
   "source": [
    "import gmpy2\n",
    "from Crypto.PublicKey import RSA\n",
    "from Crypto.Util.number import long_to_bytes,bytes_to_long"
   ]
  },
  {
   "cell_type": "code",
   "execution_count": null,
   "id": "cooked-vanilla",
   "metadata": {},
   "outputs": [],
   "source": []
  },
  {
   "cell_type": "code",
   "execution_count": 8,
   "id": "unnecessary-cisco",
   "metadata": {},
   "outputs": [],
   "source": [
    "key1 = RSA.importKey(\"ssh-rsa AAAAB3NzaC1yc2EAAAADAQABAAABAQCimsuwvFRGUeB/uzU/c6NU/lk/7hnRti3eepq/vzFxHageaBZLnDlFMPa2YI5ZT2vmt9v4ONN/Kbe95KKQfYMXpal73+xkeakbR3Kt0FCv2PSluWWXmwjJY/8kqM9ci2m5dkLj0y5wuqfWCrPCzKPLQWkC6Pdr/6x4oVA1fftO/Ak+Zzk6nZta3j0PtyzxNgQYhq1lDEPDYgGzIUllL98S4UhvU4B7feRPd7STWprKuPX/psBk9l1s7md54wF1dN25rZCLqSM42i1BZX30wWFRPw886LPQ93oHDjeHfZo2P2UU9ZIiS0xWeX4PkQk8LFA6+fWW9Sdk2yBNQvrUBpY/ u@eniac\")"
   ]
  },
  {
   "cell_type": "code",
   "execution_count": 9,
   "id": "altered-gibson",
   "metadata": {},
   "outputs": [
    {
     "data": {
      "text/plain": [
       "RsaKey(n=20526937992124979994676269601460421380487992690437638664666928760258077219609711510229737651579796010914037552717245812776917060193125018047792312028971504582389692855370354275864631985093720009617830216522814391211223199809387299977236867026852462294835030503134356160889437179805277319168029533563486314245036105563897430279459827813497286771201268280734953564155538069934820406856375381725699353711270954314174943340927613269923320202855472624772726391393907855391503593156330688724454678339727191773253333807971796611758228803521548541650312005254289837449793097166209283703123851661676863123076665828402635642431, e=65537)"
      ]
     },
     "execution_count": 9,
     "metadata": {},
     "output_type": "execute_result"
    }
   ],
   "source": [
    "key1"
   ]
  },
  {
   "cell_type": "code",
   "execution_count": 5,
   "id": "approximate-consumer",
   "metadata": {},
   "outputs": [],
   "source": [
    "key2 = RSA.importKey(\"ssh-rsa AAAAB3NzaC1yc2EAAAADAQABAAABAQCimsuwvFRGUeB/uzU/c6NU/lk/7hnRti3eepq/vzFxHageaBZLnDlFMPa2YI5ZT2vmt9v4ONN/Kbe95KKQfYMXpal73+xkeakbR3Kt0FCv2PSluWWXmwjJY/8kqM9ci2m5dkLj0y5wuqfWCrPCzKPLQWkC6Pdr/6x4oVA1fftO/Ak+Zzk6nZta3j0PtyzxNgQYhq1lDEPDYgGzIUllL98S4UhvU4B7feRPd7STWprKuPX/psBk9l1s7md54wF1dN25rZCLqSM42i1BZX30wWFRPw886LPQ93oHDjeHfZo2P2UU9ZIiS0xWeX4PkQk8LFA6+fWW9Sdk2yBNQvrUBpY/ u@eniac\")"
   ]
  },
  {
   "cell_type": "code",
   "execution_count": 6,
   "id": "incident-namibia",
   "metadata": {},
   "outputs": [
    {
     "data": {
      "text/plain": [
       "RsaKey(n=20526937992124979994676269601460421380487992690437638664666928760258077219609711510229737651579796010914037552717245812776917060193125018047792312028971504582389692855370354275864631985093720009617830216522814391211223199809387299977236867026852462294835030503134356160889437179805277319168029533563486314245036105563897430279459827813497286771201268280734953564155538069934820406856375381725699353711270954314174943340927613269923320202855472624772726391393907855391503593156330688724454678339727191773253333807971796611758228803521548541650312005254289837449793097166209283703123851661676863123076665828402635642431, e=65537)"
      ]
     },
     "execution_count": 6,
     "metadata": {},
     "output_type": "execute_result"
    }
   ],
   "source": [
    "key2"
   ]
  },
  {
   "cell_type": "code",
   "execution_count": 10,
   "id": "corporate-limit",
   "metadata": {},
   "outputs": [
    {
     "data": {
      "text/plain": [
       "True"
      ]
     },
     "execution_count": 10,
     "metadata": {},
     "output_type": "execute_result"
    }
   ],
   "source": [
    "key1 == key2"
   ]
  },
  {
   "cell_type": "code",
   "execution_count": 13,
   "id": "informal-environment",
   "metadata": {},
   "outputs": [
    {
     "data": {
      "text/plain": [
       "'0b100001101110010011000010110100101100111'"
      ]
     },
     "execution_count": 13,
     "metadata": {},
     "output_type": "execute_result"
    }
   ],
   "source": [
    "bin(bytes_to_long(b'Craig'))"
   ]
  },
  {
   "cell_type": "code",
   "execution_count": null,
   "id": "structural-participation",
   "metadata": {},
   "outputs": [],
   "source": []
  }
 ],
 "metadata": {
  "kernelspec": {
   "display_name": "Python 3",
   "language": "python",
   "name": "python3"
  },
  "language_info": {
   "codemirror_mode": {
    "name": "ipython",
    "version": 3
   },
   "file_extension": ".py",
   "mimetype": "text/x-python",
   "name": "python",
   "nbconvert_exporter": "python",
   "pygments_lexer": "ipython3",
   "version": "3.9.1+"
  }
 },
 "nbformat": 4,
 "nbformat_minor": 5
}
