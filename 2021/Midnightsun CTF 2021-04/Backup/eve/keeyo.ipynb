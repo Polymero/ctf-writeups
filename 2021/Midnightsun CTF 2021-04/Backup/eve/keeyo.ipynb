{
 "cells": [
  {
   "cell_type": "code",
   "execution_count": 10,
   "id": "everyday-closer",
   "metadata": {},
   "outputs": [],
   "source": [
    "import gmpy2\n",
    "from Crypto.PublicKey import RSA\n",
    "from Crypto.Util.number import long_to_bytes,bytes_to_long"
   ]
  },
  {
   "cell_type": "code",
   "execution_count": 2,
   "id": "rubber-prophet",
   "metadata": {},
   "outputs": [],
   "source": [
    "key1 = RSA.importKey(\"ssh-rsa AAAAB3NzaC1yc2EAAAADAQABAAAAgQDFg8PVTExWwj+JlKEiCrReO5K+UPYQAW7bUSur5plVjhXYmewNR7sHBCzwcSa8I84A4eKEprsjU7uLQslAT+NuvZqZ+mSiqFyoN4ppiUJWbWdt2+L6j5Txmp1oEoH9Vlou44eJeEGlArOUkxTRp1QjsppHlAIdj8ELAy1HeTcXDQ==\")"
   ]
  },
  {
   "cell_type": "code",
   "execution_count": 3,
   "id": "ranking-permit",
   "metadata": {},
   "outputs": [
    {
     "data": {
      "text/plain": [
       "RsaKey(n=138699544014752809278609820276930694691563253978293387458833860583134288922789455231561505322559959001822330192423307508725230869709251206539783192366622168058191231819329040330762155464791140587816915322777494059366034320765670954958223624555942817484793634905127694389714960518058782082081383176238888589069, e=65537)"
      ]
     },
     "execution_count": 3,
     "metadata": {},
     "output_type": "execute_result"
    }
   ],
   "source": [
    "key1"
   ]
  },
  {
   "cell_type": "code",
   "execution_count": null,
   "id": "pharmaceutical-centre",
   "metadata": {},
   "outputs": [],
   "source": []
  },
  {
   "cell_type": "code",
   "execution_count": 7,
   "id": "norman-picking",
   "metadata": {},
   "outputs": [
    {
     "data": {
      "text/plain": [
       "'10010001100100001101000101100110110001011110101100011100100110000011001001011111100110001110110011100100000011010000001111110010'"
      ]
     },
     "execution_count": 7,
     "metadata": {},
     "output_type": "execute_result"
    }
   ],
   "source": [
    "bin(0x9190d166c5eb1c98325f98ece40d03f2)[2:]"
   ]
  },
  {
   "cell_type": "code",
   "execution_count": 9,
   "id": "australian-violation",
   "metadata": {},
   "outputs": [
    {
     "data": {
      "text/plain": [
       "b'\\x91\\x90\\xd1f\\xc5\\xeb\\x1c\\x982_\\x98\\xec\\xe4\\r\\x03\\xf2'"
      ]
     },
     "execution_count": 9,
     "metadata": {},
     "output_type": "execute_result"
    }
   ],
   "source": [
    "long_to_bytes(0x9190d166c5eb1c98325f98ece40d03f2)"
   ]
  },
  {
   "cell_type": "code",
   "execution_count": 12,
   "id": "ceramic-respondent",
   "metadata": {},
   "outputs": [
    {
     "data": {
      "text/plain": [
       "'0b110001001101001011011100110000101110011011000110110100101101001'"
      ]
     },
     "execution_count": 12,
     "metadata": {},
     "output_type": "execute_result"
    }
   ],
   "source": [
    "bin(bytes_to_long(b\"binascii\"))"
   ]
  },
  {
   "cell_type": "code",
   "execution_count": 13,
   "id": "twenty-danish",
   "metadata": {},
   "outputs": [
    {
     "data": {
      "text/plain": [
       "110001001101001011011100110000101110011011000110110100101101001"
      ]
     },
     "execution_count": 13,
     "metadata": {},
     "output_type": "execute_result"
    }
   ],
   "source": [
    "110001001101001011011100110000101110011011000110110100101101001"
   ]
  },
  {
   "cell_type": "code",
   "execution_count": 14,
   "id": "formal-examination",
   "metadata": {},
   "outputs": [
    {
     "data": {
      "text/plain": [
       "7091320453098334569"
      ]
     },
     "execution_count": 14,
     "metadata": {},
     "output_type": "execute_result"
    }
   ],
   "source": [
    "bytes_to_long(b\"binascii\")"
   ]
  },
  {
   "cell_type": "code",
   "execution_count": 18,
   "id": "asian-defensive",
   "metadata": {},
   "outputs": [],
   "source": [
    "goal = [alp.index(i) for i in list('midnightisthis')]"
   ]
  },
  {
   "cell_type": "code",
   "execution_count": 19,
   "id": "deluxe-chick",
   "metadata": {},
   "outputs": [],
   "source": [
    "alp = 'abcdefghijklmnopqrstuvwxyz'"
   ]
  },
  {
   "cell_type": "code",
   "execution_count": 20,
   "id": "advisory-breathing",
   "metadata": {},
   "outputs": [],
   "source": [
    "eve = \"eunfutsqupqsupwmoerkobjjcwf\""
   ]
  },
  {
   "cell_type": "code",
   "execution_count": 21,
   "id": "danish-shelf",
   "metadata": {},
   "outputs": [],
   "source": [
    "code = [alp.index(i) for i in list(eve)]"
   ]
  },
  {
   "cell_type": "code",
   "execution_count": 22,
   "id": "recreational-girlfriend",
   "metadata": {},
   "outputs": [
    {
     "name": "stdout",
     "output_type": "stream",
     "text": [
      "[8, 14, 16, 8, 14, 13, 15, 3, 14, 3, 3, 15, 14, 3]\n"
     ]
    }
   ],
   "source": [
    "diff = [(goal[i] - code[i])%26 for i in range(len(goal))]; print(diff)"
   ]
  },
  {
   "cell_type": "code",
   "execution_count": 23,
   "id": "applied-criterion",
   "metadata": {},
   "outputs": [
    {
     "name": "stdout",
     "output_type": "stream",
     "text": [
      "midnightisthiseaemfxdexmflt\n"
     ]
    }
   ],
   "source": [
    "crack = ''\n",
    "for i,c in enumerate(code):\n",
    "    \n",
    "    crack += alp[ (c + diff[i%len(diff)])%26 ]\n",
    "    \n",
    "print(crack)"
   ]
  },
  {
   "cell_type": "code",
   "execution_count": null,
   "id": "illegal-pressing",
   "metadata": {},
   "outputs": [],
   "source": []
  }
 ],
 "metadata": {
  "kernelspec": {
   "display_name": "Python 3",
   "language": "python",
   "name": "python3"
  },
  "language_info": {
   "codemirror_mode": {
    "name": "ipython",
    "version": 3
   },
   "file_extension": ".py",
   "mimetype": "text/x-python",
   "name": "python",
   "nbconvert_exporter": "python",
   "pygments_lexer": "ipython3",
   "version": "3.9.1+"
  }
 },
 "nbformat": 4,
 "nbformat_minor": 5
}
