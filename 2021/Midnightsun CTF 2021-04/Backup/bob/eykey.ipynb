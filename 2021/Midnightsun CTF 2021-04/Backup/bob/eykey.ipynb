{
 "cells": [
  {
   "cell_type": "code",
   "execution_count": 1,
   "id": "certified-biodiversity",
   "metadata": {},
   "outputs": [],
   "source": [
    "import gmpy2\n",
    "from Crypto.PublicKey import RSA"
   ]
  },
  {
   "cell_type": "code",
   "execution_count": 3,
   "id": "sunrise-tolerance",
   "metadata": {},
   "outputs": [],
   "source": [
    "key1 = RSA.importKey(\"ssh-rsa AAAAB3NzaC1yc2EAAAADAQABAAABAiNqJM3LzsulIQSh/OVU4Nbtfvnn6PictEw7rKCmAHgufbeBQWcM5PeZurgy8j1fhMJiyUkXkmwnZLCDDMTy9qwU3uCUSdYBkAxLUt8JE8VBdtDkAv5KNX4U6Mc+PP231/wddc1//0/XItvFL8vmr9nUadmPG6vyr+fahaZ+Rod2Ipz8x0LatSHNE0S4VRDW2FcJOvgM9dLyOF6ivdCKmbx53xDrr1B8AjoJHnCGyygLunRSDOK3USVdM6mQumQCjjVWMElJZshxrKFfUtxDqrIePLdVHI7IxPINYpPxvTw+giIYaN1/8YQ/YbUFMQJZLlcNsVtS7ucfBkVeSh7gTMYdRw==\")"
   ]
  },
  {
   "cell_type": "code",
   "execution_count": 4,
   "id": "domestic-unknown",
   "metadata": {},
   "outputs": [
    {
     "data": {
      "text/plain": [
       "RsaKey(n=292990623103335493083913779240227114014904398616038776886875167758623613267713719485674604784729195181038351832618761824038504140656599226185121583057564640306785410343719022605570022010005365168476355940663606943398746699884693312099702534701527459939206645436661317995669108935090673904917668084888759984068936279043561859031475316147764516900077276002733154419678141190215602495515119640962345701087676290867864254791059984691165085786925183275218310949675831467166068472807231810975997996854523424726065091238482206852784278991075956030040050699499746167768437515319815674181113042108365139058834101801220867518504263, e=65537)"
      ]
     },
     "execution_count": 4,
     "metadata": {},
     "output_type": "execute_result"
    }
   ],
   "source": [
    "key1"
   ]
  },
  {
   "cell_type": "code",
   "execution_count": 5,
   "id": "damaged-pennsylvania",
   "metadata": {},
   "outputs": [],
   "source": [
    "p = 10007\n",
    "q = int(\"29278 567313 214299 298882 160411 734497 253413 050726 095610 761154 708479 926412 837784 922502 815489 635727 909981 117053 245989 683404 021035 689083 301611 490468 830124 669195 593762 906999 472271 670387 730789 447922 970768 097925 518497 745917 732257 408283 532737 054315 449338 209247 447451 327736 716098 298102 221953 699800 631324 881072 125510 549508 971624 219232 440439 224157 865945 528138 030978 588303 629427 215068 473628 709454 893538 619201 129318 244857 686405 941320 181871 159304 995082 135023 810854 233131 775340 408430 705353 533249 906163 285499 835567 445260 923862 420154 112806 314008 093442 186072 753077 915409 188185 047310 634088 119883 499661 541132 044083 047749 985190 488744 630609\".replace(' ',''))"
   ]
  },
  {
   "cell_type": "code",
   "execution_count": 6,
   "id": "atlantic-flood",
   "metadata": {},
   "outputs": [],
   "source": [
    "assert p*q == key1.n"
   ]
  },
  {
   "cell_type": "code",
   "execution_count": 9,
   "id": "preliminary-warner",
   "metadata": {},
   "outputs": [
    {
     "name": "stdout",
     "output_type": "stream",
     "text": [
      "124261706446928411517993269588548574390522332373232859516203325369911564569507930313976065410760459026211895759601512427565457090679875607234047907491865302301736506331475808477375254187613776455903754075597500383176790814991581384929192767807073860992254845134752931815760706158842862570179339729537417139817294588315908914218434952907859952137488089740739329369576302715735231826898757475149682610522947906724307243882464364233799543684508797401355333350725417278966214728469077202200577769904597602219994724273612965837098241765673557224691440549381286896843906204279320911154997280208247945040769473851137715628665665\n"
     ]
    }
   ],
   "source": [
    "phi = (p-1)*(q-1)\n",
    "d = gmpy2.invert(key1.e, phi)\n",
    "print(d)"
   ]
  },
  {
   "cell_type": "code",
   "execution_count": 11,
   "id": "blocked-symphony",
   "metadata": {},
   "outputs": [],
   "source": [
    "private_key = RSA.construct((key1.n, key1.e, int(d)))\n",
    "\n",
    "with open('BOB_PRIVKEY.pem', 'wb') as f:\n",
    "    \n",
    "    f.write(private_key.exportKey())\n",
    "\n",
    "    f.close()"
   ]
  },
  {
   "cell_type": "code",
   "execution_count": null,
   "id": "native-fountain",
   "metadata": {},
   "outputs": [],
   "source": []
  }
 ],
 "metadata": {
  "kernelspec": {
   "display_name": "Python 3",
   "language": "python",
   "name": "python3"
  },
  "language_info": {
   "codemirror_mode": {
    "name": "ipython",
    "version": 3
   },
   "file_extension": ".py",
   "mimetype": "text/x-python",
   "name": "python",
   "nbconvert_exporter": "python",
   "pygments_lexer": "ipython3",
   "version": "3.9.1+"
  }
 },
 "nbformat": 4,
 "nbformat_minor": 5
}
