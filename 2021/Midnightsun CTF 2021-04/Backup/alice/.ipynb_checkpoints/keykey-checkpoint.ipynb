{
 "cells": [
  {
   "cell_type": "code",
   "execution_count": 13,
   "id": "comfortable-pound",
   "metadata": {},
   "outputs": [],
   "source": [
    "import gmpy2"
   ]
  },
  {
   "cell_type": "code",
   "execution_count": 5,
   "id": "curious-upper",
   "metadata": {},
   "outputs": [],
   "source": [
    "from Crypto.PublicKey import RSA"
   ]
  },
  {
   "cell_type": "code",
   "execution_count": 6,
   "id": "amino-august",
   "metadata": {},
   "outputs": [],
   "source": [
    "key1 = RSA.importKey(\"ssh-rsa AAAAB3NzaC1yc2EAAAADAQABAAABAQDv9fYADdQjY7ETSi+5ODxXmO2cKJRu4zL7s4yGHLMXVykw3P7PkPOYJ18Q0QZ2mt6hacE1Zw12UmibgjENV4GPR0GR+/N/NZ8t0Vti0hV+Rj3OQij0/W4RM+phTSmnA9Kz4j24ZMNnQAMl7MaOSjHRN+1TE4rETTBMpyKylYu01aGbLbzBBCcW+YeZLhAyYF1FoLyXjSEx6ucDFNE+ud8IrQWts4d50tWFHficRzulfsluo/D1RItasDDx6rtZUSAqWmLWw/XuTmvE4gkU1HsGi9jMnFrAV4sy/s+0jWy+GH/8X7Q1bgfxmX9HfGW3qnO/Kc5eFqX6i9RxnGbC/Yzx alice@work\")\n",
    "key2 = RSA.importKey(\"ssh-rsa AAAAB3NzaC1yc2EAAAADAQABAAABAQDlPRSh8cN2qd+lAVSf3tQnGy7gSmRiH9k2T3p0tVXD33SCiJaMmfqeIfQNe9sVKXi1E1J4rJ09Bv0Vht8Ti8yUY5B+wOh0JKGIPYMxClROo4a42pv4iDOECfZ77T6pHm5lDoAK5KDXvKy119TtXpl26/1+FYwr87kMjU/ZujAHQDMkx1JGUrQfipYMqV8Sm0ufyvTitP9NWV3fXNt83IAOheYbbI4lYkV/NqUbdW0FtBZiUuE9EZiM0ATLDYN5GIWE5jOCkUP5QBB9/X4w+keHSpxsyNI7/g4sNfFybjdNf7Kx2GmEeIe+xrU3X2xPO1j/px2QMZe0PhhIkbSF/YxL alice@home\")"
   ]
  },
  {
   "cell_type": "code",
   "execution_count": 14,
   "id": "legendary-fight",
   "metadata": {},
   "outputs": [
    {
     "data": {
      "text/plain": [
       "mpz(171271932272901803774128505983365082675029542666691747200477582499432049482725221456365399113480297074384917169149347993114697250080329906810077468818479458173346323889305093008389190427501456666485586943618415784519402027225089556051642516053179825638237155560833886980519882958785597519492961451928936581189)"
      ]
     },
     "execution_count": 14,
     "metadata": {},
     "output_type": "execute_result"
    }
   ],
   "source": [
    "gmpy2.gcd(key1.n, key2.n)"
   ]
  },
  {
   "cell_type": "code",
   "execution_count": 8,
   "id": "massive-lightweight",
   "metadata": {},
   "outputs": [
    {
     "data": {
      "text/plain": [
       "RsaKey(n=28938691801738590006069983977764214650843494790483455891163386974553753039366793575399500592888800239157529900750083679424173560982678176854248282521343575778206629768377453051008952525524506340336580410386977882351825310392438566743192930344512748403120130603977017740437435741283242099791556820701165392657281203225778765299110741281565941506554552651531981629938373519006523766965115711626502599619617340962108377030931530131444210485402390362821508145113660839057137101420567067990940899994907078517540208039763497143748147370842436428216430228764770034995168387883342764314325625983365837741521286781612972674123, e=65537)"
      ]
     },
     "execution_count": 8,
     "metadata": {},
     "output_type": "execute_result"
    }
   ],
   "source": [
    "key2"
   ]
  },
  {
   "cell_type": "code",
   "execution_count": 15,
   "id": "driving-breakfast",
   "metadata": {},
   "outputs": [],
   "source": [
    "p = 171271932272901803774128505983365082675029542666691747200477582499432049482725221456365399113480297074384917169149347993114697250080329906810077468818479458173346323889305093008389190427501456666485586943618415784519402027225089556051642516053179825638237155560833886980519882958785597519492961451928936581189"
   ]
  },
  {
   "cell_type": "code",
   "execution_count": 18,
   "id": "adverse-halloween",
   "metadata": {},
   "outputs": [],
   "source": [
    "q2 = key2.n//p\n",
    "q1 = key1.n//p"
   ]
  },
  {
   "cell_type": "code",
   "execution_count": 19,
   "id": "civilian-craft",
   "metadata": {},
   "outputs": [],
   "source": [
    "assert q2 * p == key2.n"
   ]
  },
  {
   "cell_type": "code",
   "execution_count": 23,
   "id": "turkish-subsection",
   "metadata": {},
   "outputs": [
    {
     "data": {
      "text/plain": [
       "mpz(20534871328255079241226858185237725290102945286348675041862662484575465540011790823869780049014963381326898210695983055550623181614957178610659877300686375506439100315522429377865500971962664866523531317958502928403369639437269871162735359044075337053681152230617074477303552941824880202798516104592942865640951519154913932757240076013324221573145736566540220681532250644125631527599638534767169025564497460786460771204439473682731231343894560237486907971376962877925772411396567553747261927045455293576106256744102702503439084197974428327583501489071531174875559034924092969695872256079407568367481719942038392611193)"
      ]
     },
     "execution_count": 23,
     "metadata": {},
     "output_type": "execute_result"
    }
   ],
   "source": [
    "gmpy2.invert(key2.e, (p-1)*(q2-1))"
   ]
  },
  {
   "cell_type": "code",
   "execution_count": 29,
   "id": "spoken-pollution",
   "metadata": {},
   "outputs": [],
   "source": [
    "private_key = RSA.construct((key2.n, key2.e, int(gmpy2.invert(key2.e, (p-1)*(q2-1)))))\n",
    "\n",
    "with open('ALICE_PRIVKEY.pem', 'wb') as f:\n",
    "    \n",
    "    f.write(private_key.exportKey())\n",
    "\n",
    "    f.close()"
   ]
  },
  {
   "cell_type": "code",
   "execution_count": null,
   "id": "manual-battle",
   "metadata": {},
   "outputs": [],
   "source": []
  }
 ],
 "metadata": {
  "kernelspec": {
   "display_name": "Python 3",
   "language": "python",
   "name": "python3"
  },
  "language_info": {
   "codemirror_mode": {
    "name": "ipython",
    "version": 3
   },
   "file_extension": ".py",
   "mimetype": "text/x-python",
   "name": "python",
   "nbconvert_exporter": "python",
   "pygments_lexer": "ipython3",
   "version": "3.9.1+"
  }
 },
 "nbformat": 4,
 "nbformat_minor": 5
}
