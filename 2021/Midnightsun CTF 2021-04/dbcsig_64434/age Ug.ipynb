{
 "cells": [
  {
   "cell_type": "code",
   "execution_count": null,
   "id": "indoor-scheme",
   "metadata": {},
   "outputs": [],
   "source": []
  },
  {
   "cell_type": "code",
   "execution_count": null,
   "id": "printable-implementation",
   "metadata": {},
   "outputs": [],
   "source": []
  },
  {
   "cell_type": "code",
   "execution_count": 10,
   "id": "collective-cosmetic",
   "metadata": {},
   "outputs": [
    {
     "name": "stderr",
     "output_type": "stream",
     "text": [
      "/usr/lib/python3/dist-packages/sage/arith/misc.py:1417: RuntimeWarning: cypari2 leaked 567312 bytes on the PARI stack\n",
      "  if prime_test(p):\n"
     ]
    },
    {
     "ename": "KeyboardInterrupt",
     "evalue": "",
     "output_type": "error",
     "traceback": [
      "\u001b[0;31m---------------------------------------------------------------------------\u001b[0m",
      "\u001b[0;31mKeyboardInterrupt\u001b[0m                         Traceback (most recent call last)",
      "\u001b[0;32m<ipython-input-10-47a3e80b9193>\u001b[0m in \u001b[0;36m<module>\u001b[0;34m\u001b[0m\n\u001b[0;32m----> 1\u001b[0;31m \u001b[0mkeygen\u001b[0m\u001b[0;34m(\u001b[0m\u001b[0;34mb'password1'\u001b[0m\u001b[0;34m)\u001b[0m\u001b[0;34m\u001b[0m\u001b[0;34m\u001b[0m\u001b[0m\n\u001b[0m",
      "\u001b[0;32m<ipython-input-2-54745e5ae3e1>\u001b[0m in \u001b[0;36mkeygen\u001b[0;34m(password)\u001b[0m\n\u001b[1;32m      4\u001b[0m \u001b[0;32mdef\u001b[0m \u001b[0mkeygen\u001b[0m\u001b[0;34m(\u001b[0m\u001b[0mpassword\u001b[0m\u001b[0;34m)\u001b[0m\u001b[0;34m:\u001b[0m\u001b[0;34m\u001b[0m\u001b[0;34m\u001b[0m\u001b[0m\n\u001b[1;32m      5\u001b[0m     \u001b[0;32mwhile\u001b[0m \u001b[0;32mTrue\u001b[0m\u001b[0;34m:\u001b[0m\u001b[0;34m\u001b[0m\u001b[0;34m\u001b[0m\u001b[0m\n\u001b[0;32m----> 6\u001b[0;31m         \u001b[0mp\u001b[0m \u001b[0;34m=\u001b[0m \u001b[0mInteger\u001b[0m\u001b[0;34m(\u001b[0m\u001b[0;36m2\u001b[0m\u001b[0;34m)\u001b[0m\u001b[0;34m*\u001b[0m\u001b[0mrandom_prime\u001b[0m\u001b[0;34m(\u001b[0m\u001b[0mInteger\u001b[0m\u001b[0;34m(\u001b[0m\u001b[0;36m2\u001b[0m\u001b[0;34m)\u001b[0m\u001b[0;34m**\u001b[0m\u001b[0mInteger\u001b[0m\u001b[0;34m(\u001b[0m\u001b[0;36m521\u001b[0m\u001b[0;34m)\u001b[0m\u001b[0;34m)\u001b[0m \u001b[0;34m+\u001b[0m \u001b[0mInteger\u001b[0m\u001b[0;34m(\u001b[0m\u001b[0;36m1\u001b[0m\u001b[0;34m)\u001b[0m\u001b[0;34m\u001b[0m\u001b[0;34m\u001b[0m\u001b[0m\n\u001b[0m\u001b[1;32m      7\u001b[0m         \u001b[0;32mif\u001b[0m \u001b[0mp\u001b[0m\u001b[0;34m.\u001b[0m\u001b[0mis_prime\u001b[0m\u001b[0;34m(\u001b[0m\u001b[0mproof\u001b[0m\u001b[0;34m=\u001b[0m\u001b[0;32mFalse\u001b[0m\u001b[0;34m)\u001b[0m\u001b[0;34m:\u001b[0m\u001b[0;34m\u001b[0m\u001b[0;34m\u001b[0m\u001b[0m\n\u001b[1;32m      8\u001b[0m             \u001b[0;32mbreak\u001b[0m\u001b[0;34m\u001b[0m\u001b[0;34m\u001b[0m\u001b[0m\n",
      "\u001b[0;32m/usr/lib/python3/dist-packages/sage/arith/misc.py\u001b[0m in \u001b[0;36mrandom_prime\u001b[0;34m(n, proof, lbound)\u001b[0m\n\u001b[1;32m   1415\u001b[0m         \u001b[0;31m# for example, return the first of a pair of twin primes.\u001b[0m\u001b[0;34m\u001b[0m\u001b[0;34m\u001b[0m\u001b[0;34m\u001b[0m\u001b[0m\n\u001b[1;32m   1416\u001b[0m         \u001b[0mp\u001b[0m \u001b[0;34m=\u001b[0m \u001b[0mrandint\u001b[0m\u001b[0;34m(\u001b[0m\u001b[0mlbound\u001b[0m\u001b[0;34m,\u001b[0m \u001b[0mn\u001b[0m\u001b[0;34m)\u001b[0m\u001b[0;34m\u001b[0m\u001b[0;34m\u001b[0m\u001b[0m\n\u001b[0;32m-> 1417\u001b[0;31m         \u001b[0;32mif\u001b[0m \u001b[0mprime_test\u001b[0m\u001b[0;34m(\u001b[0m\u001b[0mp\u001b[0m\u001b[0;34m)\u001b[0m\u001b[0;34m:\u001b[0m\u001b[0;34m\u001b[0m\u001b[0;34m\u001b[0m\u001b[0m\n\u001b[0m\u001b[1;32m   1418\u001b[0m             \u001b[0;32mreturn\u001b[0m \u001b[0mp\u001b[0m\u001b[0;34m\u001b[0m\u001b[0;34m\u001b[0m\u001b[0m\n\u001b[1;32m   1419\u001b[0m \u001b[0;34m\u001b[0m\u001b[0m\n",
      "\u001b[0;32m/usr/lib/python3/dist-packages/sage/arith/misc.py\u001b[0m in \u001b[0;36mis_prime\u001b[0;34m(n)\u001b[0m\n\u001b[1;32m    515\u001b[0m     \"\"\"\n\u001b[1;32m    516\u001b[0m     \u001b[0;32mtry\u001b[0m\u001b[0;34m:\u001b[0m\u001b[0;34m\u001b[0m\u001b[0;34m\u001b[0m\u001b[0m\n\u001b[0;32m--> 517\u001b[0;31m         \u001b[0;32mreturn\u001b[0m \u001b[0mn\u001b[0m\u001b[0;34m.\u001b[0m\u001b[0mis_prime\u001b[0m\u001b[0;34m(\u001b[0m\u001b[0;34m)\u001b[0m\u001b[0;34m\u001b[0m\u001b[0;34m\u001b[0m\u001b[0m\n\u001b[0m\u001b[1;32m    518\u001b[0m     \u001b[0;32mexcept\u001b[0m \u001b[0;34m(\u001b[0m\u001b[0mAttributeError\u001b[0m\u001b[0;34m,\u001b[0m \u001b[0mNotImplementedError\u001b[0m\u001b[0;34m)\u001b[0m\u001b[0;34m:\u001b[0m\u001b[0;34m\u001b[0m\u001b[0;34m\u001b[0m\u001b[0m\n\u001b[1;32m    519\u001b[0m         \u001b[0;32mreturn\u001b[0m \u001b[0mZZ\u001b[0m\u001b[0;34m(\u001b[0m\u001b[0mn\u001b[0m\u001b[0;34m)\u001b[0m\u001b[0;34m.\u001b[0m\u001b[0mis_prime\u001b[0m\u001b[0;34m(\u001b[0m\u001b[0;34m)\u001b[0m\u001b[0;34m\u001b[0m\u001b[0;34m\u001b[0m\u001b[0m\n",
      "\u001b[0;32m/usr/lib/python3/dist-packages/sage/rings/integer.pyx\u001b[0m in \u001b[0;36msage.rings.integer.Integer.is_prime (build/cythonized/sage/rings/integer.c:33690)\u001b[0;34m()\u001b[0m\n\u001b[1;32m   5268\u001b[0m             \u001b[0mproof\u001b[0m \u001b[0;34m=\u001b[0m \u001b[0mget_flag\u001b[0m\u001b[0;34m(\u001b[0m\u001b[0mproof\u001b[0m\u001b[0;34m,\u001b[0m \u001b[0;34m\"arithmetic\"\u001b[0m\u001b[0;34m)\u001b[0m\u001b[0;34m\u001b[0m\u001b[0;34m\u001b[0m\u001b[0m\n\u001b[1;32m   5269\u001b[0m         \u001b[0;32mif\u001b[0m \u001b[0mproof\u001b[0m\u001b[0;34m:\u001b[0m\u001b[0;34m\u001b[0m\u001b[0;34m\u001b[0m\u001b[0m\n\u001b[0;32m-> 5270\u001b[0;31m             \u001b[0;32mreturn\u001b[0m \u001b[0mself\u001b[0m\u001b[0;34m.\u001b[0m\u001b[0m__pari__\u001b[0m\u001b[0;34m(\u001b[0m\u001b[0;34m)\u001b[0m\u001b[0;34m.\u001b[0m\u001b[0misprime\u001b[0m\u001b[0;34m(\u001b[0m\u001b[0;34m)\u001b[0m\u001b[0;34m\u001b[0m\u001b[0;34m\u001b[0m\u001b[0m\n\u001b[0m\u001b[1;32m   5271\u001b[0m         \u001b[0;32melse\u001b[0m\u001b[0;34m:\u001b[0m\u001b[0;34m\u001b[0m\u001b[0;34m\u001b[0m\u001b[0m\n\u001b[1;32m   5272\u001b[0m             \u001b[0;32mreturn\u001b[0m \u001b[0mself\u001b[0m\u001b[0;34m.\u001b[0m\u001b[0m__pari__\u001b[0m\u001b[0;34m(\u001b[0m\u001b[0;34m)\u001b[0m\u001b[0;34m.\u001b[0m\u001b[0mispseudoprime\u001b[0m\u001b[0;34m(\u001b[0m\u001b[0;34m)\u001b[0m\u001b[0;34m\u001b[0m\u001b[0;34m\u001b[0m\u001b[0m\n",
      "\u001b[0;32mcypari2/gen.pyx\u001b[0m in \u001b[0;36mcypari2.gen.Gen.isprime\u001b[0;34m()\u001b[0m\n",
      "\u001b[0;31mKeyboardInterrupt\u001b[0m: "
     ]
    }
   ],
   "source": [
    "keygen(b'password1')"
   ]
  },
  {
   "cell_type": "code",
   "execution_count": 44,
   "id": "public-accident",
   "metadata": {},
   "outputs": [],
   "source": [
    "import gmpy2\n",
    "from Crypto.Util.number import long_to_bytes,bytes_to_long"
   ]
  },
  {
   "cell_type": "code",
   "execution_count": 21,
   "id": "republican-collins",
   "metadata": {},
   "outputs": [],
   "source": [
    "from hashlib import sha256\n",
    "\n",
    "\n",
    "def keygen(password):  \n",
    "    while True:  \n",
    "        p = 2*random_prime(2^521) + 1\n",
    "        if p.is_prime(proof=False):  \n",
    "            break  \n",
    "    base, h = 3, password  \n",
    "    for i in range(256):  \n",
    "        h = sha256(h).digest()  \n",
    "    x = int.from_bytes(h*2, \"big\")\n",
    "    return base, p, pow(base, x, p), x  \n",
    "\n",
    "\n",
    "def sign(message, priv):  \n",
    "    h = int(sha256(message).hexdigest(), 16)  \n",
    "    k = next_prime(int.from_bytes(\n",
    "        sha256(message + priv.to_bytes(128, \"big\")).digest() + \\\n",
    "        sha256(message).digest(),\n",
    "        \"big\"\n",
    "    ))\n",
    "    r = int(pow(g,(k-1)/2,p))  \n",
    "    s = int(Zmod((p-1)/2)(-r*priv+h)/k)  \n",
    "    return h, k, r, s\n",
    "\n",
    "\n",
    "g, p, pub, priv = keygen(b\"password1\") \n",
    "h, k, r, s = sign(b\"blockchain-ready deterministic signatures\", priv)"
   ]
  },
  {
   "cell_type": "code",
   "execution_count": 51,
   "id": "capable-reduction",
   "metadata": {},
   "outputs": [],
   "source": [
    "q = (p-1)//2"
   ]
  },
  {
   "cell_type": "code",
   "execution_count": 43,
   "id": "assisted-correlation",
   "metadata": {},
   "outputs": [
    {
     "data": {
      "text/plain": [
       "b'\\xfdaSiq\\xf6\\xf9S&\\xc9yf\\xb376\\xe5\\xef\\xe5\\xab\\xe2\\xb2i.\\xdaK\\xf1\\xb6+x\\xfe7KEl\\xeeL\\xea\\x91YUR\\x10\\xec\\xc4\\xeb\\xff\\xec\\x16pt:\\x8ew\\xe3\\xdfH\\xc4\\xd2\\xd79\\xda\\x02\\x8e\\xe8'"
      ]
     },
     "execution_count": 43,
     "metadata": {},
     "output_type": "execute_result"
    }
   ],
   "source": [
    "sha256(M + priv.to_bytes(128, \"big\")).digest() + \\\n",
    "        sha256(M).digest()"
   ]
  },
  {
   "cell_type": "code",
   "execution_count": 47,
   "id": "casual-lebanon",
   "metadata": {},
   "outputs": [
    {
     "data": {
      "text/plain": [
       "b'El\\xeeL\\xea\\x91YUR\\x10\\xec\\xc4\\xeb\\xff\\xec\\x16pt:\\x8ew\\xe3\\xdfH\\xc4\\xd2\\xd79\\xda\\x02\\x8e\\xe8'"
      ]
     },
     "execution_count": 47,
     "metadata": {},
     "output_type": "execute_result"
    }
   ],
   "source": [
    "sha256(M).digest()"
   ]
  },
  {
   "cell_type": "code",
   "execution_count": 45,
   "id": "thick-spouse",
   "metadata": {},
   "outputs": [
    {
     "data": {
      "text/plain": [
       "b'\\xfdaSiq\\xf6\\xf9S&\\xc9yf\\xb376\\xe5\\xef\\xe5\\xab\\xe2\\xb2i.\\xdaK\\xf1\\xb6+x\\xfe7KEl\\xeeL\\xea\\x91YUR\\x10\\xec\\xc4\\xeb\\xff\\xec\\x16pt:\\x8ew\\xe3\\xdfH\\xc4\\xd2\\xd79\\xda\\x02\\x8f['"
      ]
     },
     "execution_count": 45,
     "metadata": {},
     "output_type": "execute_result"
    }
   ],
   "source": [
    "long_to_bytes(k)"
   ]
  },
  {
   "cell_type": "code",
   "execution_count": 52,
   "id": "confident-annotation",
   "metadata": {},
   "outputs": [
    {
     "data": {
      "text/plain": [
       "3087408874993206291466884767888124573340962924451558359905375632530772823452352177732567879089134086848613885649694341927401264895529801853584886432576486"
      ]
     },
     "execution_count": 52,
     "metadata": {},
     "output_type": "execute_result"
    }
   ],
   "source": [
    "((h-s*k) * gmpy2.invert(r, q)) % q"
   ]
  },
  {
   "cell_type": "code",
   "execution_count": 54,
   "id": "opening-strength",
   "metadata": {},
   "outputs": [
    {
     "data": {
      "text/plain": [
       "3087408874993206291466884767888124573340962924451558359905375632530772823452352177732567879089134086848613885649694341927401264895529801853584886432576486"
      ]
     },
     "execution_count": 54,
     "metadata": {},
     "output_type": "execute_result"
    }
   ],
   "source": [
    "priv"
   ]
  },
  {
   "cell_type": "code",
   "execution_count": 23,
   "id": "saving-shore",
   "metadata": {},
   "outputs": [
    {
     "name": "stdout",
     "output_type": "stream",
     "text": [
      "230824708460803084269462573916960119167160329304450481210526519137159719488217209858800114395401625926713647911439824424276359038190614237708648597297822958\n",
      "225249311047445591208282666641048578784268109819124161004631310600542543108567947665042982668139901319782030868054024947680295106906120859327465098498652978\n"
     ]
    }
   ],
   "source": [
    "print(r)\n",
    "print(s)"
   ]
  },
  {
   "cell_type": "code",
   "execution_count": 24,
   "id": "binding-burke",
   "metadata": {},
   "outputs": [
    {
     "name": "stdout",
     "output_type": "stream",
     "text": [
      "825552774569684681831801602284451598469995139220370941516708465117325924424656006479738866502123365746700789960176912023214057869789769210661187529581126403\n",
      "241462549728782578887553399634454957458024678356991917503362525653062911844838450173760611969049425955003741061196548970012015813882215289297530505206887032\n",
      "3087408874993206291466884767888124573340962924451558359905375632530772823452352177732567879089134086848613885649694341927401264895529801853584886432576486\n"
     ]
    }
   ],
   "source": [
    "print(p)\n",
    "print(pub)\n",
    "print(priv)"
   ]
  },
  {
   "cell_type": "code",
   "execution_count": 27,
   "id": "interior-refrigerator",
   "metadata": {},
   "outputs": [
    {
     "data": {
      "text/plain": [
       "b'\\x00\\x00\\x00\\x00\\x00\\x00\\x00\\x00\\x00\\x00\\x00\\x00\\x00\\x00\\x00\\x00\\x00\\x00\\x00\\x00\\x00\\x00\\x00\\x00\\x00\\x00\\x00\\x00\\x00\\x00\\x00\\x00\\x00\\x00\\x00\\x00\\x00\\x00\\x00\\x00\\x00\\x00\\x00\\x00\\x00\\x00\\x00\\x00\\x00\\x00\\x00\\x00\\x00\\x00\\x00\\x00\\x00\\x00\\x00\\x00\\x00\\x00\\x00\\x00:\\xf2\\xf0\\xb2\\xa5\\x91D$r\\x01\\x1b\\x17\\xdb\\xc1\\xaa\\x19a\\xd5z/\\xaeV\\x9d\\x96\\r6\\xd2\\xf7\\xac\\xf8\\xb3\\xe6:\\xf2\\xf0\\xb2\\xa5\\x91D$r\\x01\\x1b\\x17\\xdb\\xc1\\xaa\\x19a\\xd5z/\\xaeV\\x9d\\x96\\r6\\xd2\\xf7\\xac\\xf8\\xb3\\xe6'"
      ]
     },
     "execution_count": 27,
     "metadata": {},
     "output_type": "execute_result"
    }
   ],
   "source": [
    "priv.to_bytes(128, \"big\")"
   ]
  },
  {
   "cell_type": "code",
   "execution_count": 25,
   "id": "equivalent-minister",
   "metadata": {},
   "outputs": [
    {
     "name": "stdout",
     "output_type": "stream",
     "text": [
      "31402050724530798506681514245176314739367147232981131812111980907582143500008\n",
      "13270596771410471249614079692877424447835272512633937499875778303477076719034268904078062242449301861891136263220270916717917484024701483078459687123980123\n"
     ]
    }
   ],
   "source": [
    "print(h)\n",
    "print(k)"
   ]
  },
  {
   "cell_type": "code",
   "execution_count": 20,
   "id": "realistic-summit",
   "metadata": {},
   "outputs": [
    {
     "data": {
      "text/plain": [
       "mpz(2450816728418048724655314043520202591558301396481213017830565623014098732308230808467561283189023487598703542760463947344938536585343202667398214522936707465)"
      ]
     },
     "execution_count": 20,
     "metadata": {},
     "output_type": "execute_result"
    }
   ],
   "source": [
    "gmpy2.invert(r, (p-1)//2)"
   ]
  },
  {
   "cell_type": "code",
   "execution_count": 26,
   "id": "persistent-checkout",
   "metadata": {},
   "outputs": [
    {
     "data": {
      "text/plain": [
       "41"
      ]
     },
     "execution_count": 26,
     "metadata": {},
     "output_type": "execute_result"
    }
   ],
   "source": [
    "len(b\"blockchain-ready deterministic signatures\")"
   ]
  },
  {
   "cell_type": "code",
   "execution_count": null,
   "id": "international-interpretation",
   "metadata": {},
   "outputs": [],
   "source": []
  },
  {
   "cell_type": "code",
   "execution_count": 30,
   "id": "fatal-fundamental",
   "metadata": {},
   "outputs": [],
   "source": [
    "P = 403564885370838178925695432427367491470237155186244212153913898686763710896400971013343861778118177227348808022449550091155336980246939657874541422921996385839128510463\n",
    "Pub = 246412225456431779180824199385732957003440696667152337864522703662113001727131541828819072458270449510317065822513378769528087093456569455854781212817817126406744124198\n",
    "R = 195569213557534062135883086442918136431967939088647809625293990874404630325238896363416607124844217333997865971186768485716700133773423095190740751263071126576205643521\n",
    "S = 156909661984338007650026461825579179936003525790982707621071330974873615448305401425316804780001319386278769029432437834130771981383408535426433066382954348912235133967\n",
    "M = b\"blockchain-ready deterministic signatures\"\n",
    "H = int(sha256(M).hexdigest(), 16)\n",
    "Q = (P-1)//2"
   ]
  },
  {
   "cell_type": "code",
   "execution_count": 31,
   "id": "hollow-purpose",
   "metadata": {},
   "outputs": [
    {
     "data": {
      "text/plain": [
       "201782442685419089462847716213683745735118577593122106076956949343381855448200485506671930889059088613674404011224775045577668490123469828937270711460998192919564255231"
      ]
     },
     "execution_count": 31,
     "metadata": {},
     "output_type": "execute_result"
    }
   ],
   "source": [
    "Q"
   ]
  },
  {
   "cell_type": "code",
   "execution_count": 32,
   "id": "structured-excellence",
   "metadata": {},
   "outputs": [
    {
     "data": {
      "text/plain": [
       "195569213557534062135883086442918136431967939088647809625293990874404630325238896363416607124844217333997865971186768485716700133773423095190740751263071126576205643521"
      ]
     },
     "execution_count": 32,
     "metadata": {},
     "output_type": "execute_result"
    }
   ],
   "source": [
    "R"
   ]
  },
  {
   "cell_type": "code",
   "execution_count": null,
   "id": "victorian-treasurer",
   "metadata": {},
   "outputs": [],
   "source": []
  },
  {
   "cell_type": "code",
   "execution_count": null,
   "id": "atmospheric-ordering",
   "metadata": {},
   "outputs": [],
   "source": []
  },
  {
   "cell_type": "code",
   "execution_count": null,
   "id": "happy-hollywood",
   "metadata": {},
   "outputs": [],
   "source": []
  },
  {
   "cell_type": "code",
   "execution_count": null,
   "id": "structured-function",
   "metadata": {},
   "outputs": [],
   "source": []
  }
 ],
 "metadata": {
  "kernelspec": {
   "display_name": "SageMath 9.2",
   "language": "sage",
   "name": "sagemath"
  },
  "language_info": {
   "codemirror_mode": {
    "name": "ipython",
    "version": 3
   },
   "file_extension": ".py",
   "mimetype": "text/x-python",
   "name": "python",
   "nbconvert_exporter": "python",
   "pygments_lexer": "ipython3",
   "version": "3.9.1+"
  }
 },
 "nbformat": 4,
 "nbformat_minor": 5
}
