{
 "cells": [
  {
   "cell_type": "code",
   "execution_count": 1,
   "id": "racial-rally",
   "metadata": {},
   "outputs": [],
   "source": [
    "def fermat_factor(n):\n",
    "\tif is_even(n):\n",
    "\t\tn2 = n/2\n",
    "\t\treturn n2,2\n",
    "\t\n",
    "\tif is_prime(n):\n",
    "\t\treturn 1,n\n",
    "\t\n",
    "\ta = ceil(sqrt(n))\n",
    "\tb2 = a*a - n\n",
    "\t\n",
    "\twhile(is_square(b2) == False):\n",
    "\t\ta +=1\n",
    "\t\tb2 = a*a - n\n",
    "\n",
    "\tb = floor(sqrt(b2))\n",
    "\n",
    "\treturn (a-b),(a+b)"
   ]
  },
  {
   "cell_type": "code",
   "execution_count": 2,
   "id": "scenic-alliance",
   "metadata": {},
   "outputs": [],
   "source": [
    "N = 376347864369130929314918003073529176189619811132906053032580291332225522349124770927556541528827257242440708492473086949335591022991715583608318595770643139658398940858358366788472884935226392323475683663699450192657590965945792699658618476121298301964814904817629813971114882401961638885452623305901569855693667669"
   ]
  },
  {
   "cell_type": "code",
   "execution_count": 3,
   "id": "preliminary-photographer",
   "metadata": {},
   "outputs": [
    {
     "ename": "KeyboardInterrupt",
     "evalue": "",
     "output_type": "error",
     "traceback": [
      "\u001b[0;31m---------------------------------------------------------------------------\u001b[0m",
      "\u001b[0;31mKeyboardInterrupt\u001b[0m                         Traceback (most recent call last)",
      "\u001b[0;32m<ipython-input-3-59ce9d7a5013>\u001b[0m in \u001b[0;36m<module>\u001b[0;34m\u001b[0m\n\u001b[0;32m----> 1\u001b[0;31m \u001b[0mfermat_factor\u001b[0m\u001b[0;34m(\u001b[0m\u001b[0mN\u001b[0m\u001b[0;34m)\u001b[0m\u001b[0;34m\u001b[0m\u001b[0;34m\u001b[0m\u001b[0m\n\u001b[0m",
      "\u001b[0;32m<ipython-input-1-72ae5b0cf6f5>\u001b[0m in \u001b[0;36mfermat_factor\u001b[0;34m(n)\u001b[0m\n\u001b[1;32m     12\u001b[0m         \u001b[0;32mwhile\u001b[0m\u001b[0;34m(\u001b[0m\u001b[0mis_square\u001b[0m\u001b[0;34m(\u001b[0m\u001b[0mb2\u001b[0m\u001b[0;34m)\u001b[0m \u001b[0;34m==\u001b[0m \u001b[0;32mFalse\u001b[0m\u001b[0;34m)\u001b[0m\u001b[0;34m:\u001b[0m\u001b[0;34m\u001b[0m\u001b[0;34m\u001b[0m\u001b[0m\n\u001b[1;32m     13\u001b[0m                 \u001b[0ma\u001b[0m \u001b[0;34m+=\u001b[0m\u001b[0mInteger\u001b[0m\u001b[0;34m(\u001b[0m\u001b[0;36m1\u001b[0m\u001b[0;34m)\u001b[0m\u001b[0;34m\u001b[0m\u001b[0;34m\u001b[0m\u001b[0m\n\u001b[0;32m---> 14\u001b[0;31m                 \u001b[0mb2\u001b[0m \u001b[0;34m=\u001b[0m \u001b[0ma\u001b[0m\u001b[0;34m*\u001b[0m\u001b[0ma\u001b[0m \u001b[0;34m-\u001b[0m \u001b[0mn\u001b[0m\u001b[0;34m\u001b[0m\u001b[0;34m\u001b[0m\u001b[0m\n\u001b[0m\u001b[1;32m     15\u001b[0m \u001b[0;34m\u001b[0m\u001b[0m\n\u001b[1;32m     16\u001b[0m         \u001b[0mb\u001b[0m \u001b[0;34m=\u001b[0m \u001b[0mfloor\u001b[0m\u001b[0;34m(\u001b[0m\u001b[0msqrt\u001b[0m\u001b[0;34m(\u001b[0m\u001b[0mb2\u001b[0m\u001b[0;34m)\u001b[0m\u001b[0;34m)\u001b[0m\u001b[0;34m\u001b[0m\u001b[0;34m\u001b[0m\u001b[0m\n",
      "\u001b[0;32msrc/cysignals/signals.pyx\u001b[0m in \u001b[0;36mcysignals.signals.python_check_interrupt\u001b[0;34m()\u001b[0m\n",
      "\u001b[0;31mKeyboardInterrupt\u001b[0m: "
     ]
    }
   ],
   "source": [
    "fermat_factor(N)"
   ]
  },
  {
   "cell_type": "code",
   "execution_count": 46,
   "id": "cardiovascular-profession",
   "metadata": {},
   "outputs": [],
   "source": [
    "u = getrandbits(512)\n",
    "p = next_prime(1337 * u + getrandbits(300))\n",
    "q = next_prime(2021 * u + getrandbits(300))\n",
    "n = p * q"
   ]
  },
  {
   "cell_type": "code",
   "execution_count": 47,
   "id": "expressed-guidance",
   "metadata": {},
   "outputs": [
    {
     "data": {
      "text/plain": [
       "True"
      ]
     },
     "execution_count": 47,
     "metadata": {},
     "output_type": "execute_result"
    }
   ],
   "source": [
    "p < round(sqrt(N)) and q < 2*round(sqrt(N))"
   ]
  },
  {
   "cell_type": "code",
   "execution_count": 48,
   "id": "nutritional-married",
   "metadata": {},
   "outputs": [
    {
     "data": {
      "text/plain": [
       "1417280869017789698017922975288009971565871878769817776864172212747005954215331032301557855922474842067398523781021182857898073914573584610404405410145883683"
      ]
     },
     "execution_count": 48,
     "metadata": {},
     "output_type": "execute_result"
    }
   ],
   "source": [
    "p"
   ]
  },
  {
   "cell_type": "code",
   "execution_count": 49,
   "id": "aggressive-encoding",
   "metadata": {},
   "outputs": [
    {
     "data": {
      "text/plain": [
       "2142352009188446506876755671695638109599571478678984089037017234077646054360478333659380756818276385591338791475378613745198276918212654888241344599074218263"
      ]
     },
     "execution_count": 49,
     "metadata": {},
     "output_type": "execute_result"
    }
   ],
   "source": [
    "q"
   ]
  },
  {
   "cell_type": "code",
   "execution_count": 50,
   "id": "dressed-tuesday",
   "metadata": {},
   "outputs": [
    {
     "data": {
      "text/plain": [
       "3036314517324609245317855764846868128384092845608127792032048534539428917201354061196527757594877707543741791497844447637306434074648165177382536359628413838361820572180136425705917030498085608079810708028040369410925336522607409561936936004215523309519942463594849073689039960028780239282228030063108180552302629"
      ]
     },
     "execution_count": 50,
     "metadata": {},
     "output_type": "execute_result"
    }
   ],
   "source": [
    "n"
   ]
  },
  {
   "cell_type": "code",
   "execution_count": 51,
   "id": "hydraulic-population",
   "metadata": {},
   "outputs": [
    {
     "data": {
      "text/plain": [
       "3036314517324609245317855764846868128384092845608127792032048534539428917201354061196527757594877707543741791497844447637306434074648165177382536359628413834802187693973900220811238383514437526914367350579238503509735889697955400986127570043276910568768714804857533817289243356932429406495988531417358171332200684"
      ]
     },
     "execution_count": 51,
     "metadata": {},
     "output_type": "execute_result"
    }
   ],
   "source": [
    "(p-1)*(q-1)"
   ]
  },
  {
   "cell_type": "code",
   "execution_count": null,
   "id": "major-leonard",
   "metadata": {},
   "outputs": [],
   "source": []
  },
  {
   "cell_type": "code",
   "execution_count": 5,
   "id": "gorgeous-header",
   "metadata": {},
   "outputs": [
    {
     "data": {
      "text/plain": [
       "313.499246573813"
      ]
     },
     "execution_count": 5,
     "metadata": {},
     "output_type": "execute_result"
    }
   ],
   "source": [
    "log(pow(N,0.3),2)"
   ]
  },
  {
   "cell_type": "code",
   "execution_count": 15,
   "id": "second-wrapping",
   "metadata": {},
   "outputs": [],
   "source": [
    "import gmpy2"
   ]
  },
  {
   "cell_type": "code",
   "execution_count": 8,
   "id": "thick-windows",
   "metadata": {},
   "outputs": [],
   "source": [
    "estop = 310766221758298615381202293330340201483059349618898159596286032329366528507960364515724537815587119639645241427449290559721282531962504187828968370246921804939126848756614691757878117709116273156365166616707032588454229002048939764035908902821773289938766897121298435864096976179239412103595971947786698704390414999+1"
   ]
  },
  {
   "cell_type": "code",
   "execution_count": 48,
   "id": "sweet-hardwood",
   "metadata": {},
   "outputs": [
    {
     "name": "stdout",
     "output_type": "stream",
     "text": [
      "310766221758298615381202293330340201483059349618898159596286032329366528507960364515724537815587119639645241427449290559721282531962504187828968370246921804939126848756614691757878117709116273156365166616707032588454229002048939764035908902821773289938766897121298435864096976179239412103595971947786698704745594969\n"
     ]
    }
   ],
   "source": [
    "for phi in range(estop, estop+100000000):\n",
    "    \n",
    "    try:\n",
    "        len_d = round(log(int(gmpy2.invert(e, phi)),2))\n",
    "    except:\n",
    "        continue\n",
    "    \n",
    "    if len_d == 376:\n",
    "        \n",
    "        print(len_d, phi)\n",
    "\n",
    "estop = phi\n",
    "print(estop)"
   ]
  },
  {
   "cell_type": "code",
   "execution_count": 46,
   "id": "direct-calvin",
   "metadata": {},
   "outputs": [
    {
     "data": {
      "text/plain": [
       "<function numerical_approx at 0x7ff6b04c9310>"
      ]
     },
     "execution_count": 46,
     "metadata": {},
     "output_type": "execute_result"
    }
   ],
   "source": [
    "n"
   ]
  },
  {
   "cell_type": "code",
   "execution_count": 78,
   "id": "functioning-handling",
   "metadata": {},
   "outputs": [
    {
     "data": {
      "text/plain": [
       "mpz(279689599582468753843082063997306181334753414657008343636657429096429875657164328064152084034028407675680717284704361503749154278766253769046071533222229624445214163880953222582090305938204645840728649955036329329608806101844045787632318012539595960944890207409168592277687278561315470893236374753008028833951373508)"
      ]
     },
     "execution_count": 78,
     "metadata": {},
     "output_type": "execute_result"
    }
   ],
   "source": [
    "gmpy2.invert(e, e+10)"
   ]
  },
  {
   "cell_type": "code",
   "execution_count": 9,
   "id": "binding-cannon",
   "metadata": {},
   "outputs": [],
   "source": [
    "e = 310766221758298615381202293330340201483059349618898159596286032329366528507960364515724537815587119639645241427449290559721282531962504187828968370246921804939126848756614691757878117709116273156365166616707032588454229002048939764035908902821773289938766897121298435864096976179239412103595971947786698704390414999\n",
    "N = 376347864369130929314918003073529176189619811132906053032580291332225522349124770927556541528827257242440708492473086949335591022991715583608318595770643139658398940858358366788472884935226392323475683663699450192657590965945792699658618476121298301964814904817629813971114882401961638885452623305901569855693667669"
   ]
  },
  {
   "cell_type": "code",
   "execution_count": 10,
   "id": "natural-broadway",
   "metadata": {},
   "outputs": [
    {
     "data": {
      "text/plain": [
       "613"
      ]
     },
     "execution_count": 10,
     "metadata": {},
     "output_type": "execute_result"
    }
   ],
   "source": [
    "CFs = (e/N).continued_fraction()\n",
    "kDs = CFs.convergents()\n",
    "#print(kDs)\n",
    "len(kDs)"
   ]
  },
  {
   "cell_type": "code",
   "execution_count": 15,
   "id": "noble-graph",
   "metadata": {},
   "outputs": [
    {
     "name": "stdout",
     "output_type": "stream",
     "text": [
      "1045\n",
      "1045 b'\\x1e\\xc3\\xea\\x039xx8\\xb3/\\x0b,\"\\x04\\x89b\\xb7\\x08Hiq\\xbf<\\x87j\\xa2\\xc14\\xb6\\xd5\\xee~\\xa3\\xfbN\\x07J\\x87\\xb1\\r\\xd8\\x94\\xcaj\\xde0\\xe8\\x9a\\x8f3\\x91;cZQ\\xde\\xa3jk\\xa8\\xad\\t\\x84x\\xf1\\x99\\xd3d\\xb8@Q\\x00\\'\\xb1\\xf6\\x88\\xbb\\xec\\x13/3\\x9c\\xb3\\xc3\\x00b\\'\\xd3\\x03\\xb5\\x9e\\xaa3h\\x12\\x9b\\x95[\\x92\\x0fD\\x8b\\xf9\\xbbD\\x04r&\\xc7O\\xce.\\r\\xe4oA\\x87H>\\xd0\\x15\\xbe\\xccFIn\\xe3$(\\x10m'\n",
      "1045\n",
      "1045 b'\\x11\\x10\\x858\\xb0\\x9bx\\x18\\xb2\\'\\xfd\\xa3\\x94\\x8c\\xa8\\xeb\\x83\\x88\\xd3\\xfe\\xce\\xbe\\xcfK\\xa7;\\xff\\xc9\\x90\\x8e\\xb9\\xe8\\xb7\\xa0\\x11_V\\x03J)KB\\xd7\\x93\\xbf50C\\x8b\\xa0\\xe13\\xd7\\xd6\\xfb8\\x033\\x0c\\xdd\\xcfQ\\xb3y\\xa4\\xfa>\\x83Y\\xc0\\x02\\xf4\\x03\\xd6Bn\\x03%\\xe9\\xca\\xddG\\xc1\\xb1\\xc0_&-\\x81A\\x8b\\xa3\\xc5Q\\x1e\\xb0\\xc8+7R\"\\xe9N\\x92\\x87J\\t\\xa27Z\\xe0\\x7f\\xff\\xdf\\x1d\\x96Y\\xf1B\\x9b\\xca4\\xe4\\x94\\xcc\\xd0\\x1c\\xb4m\\xe1['\n",
      "1045\n",
      "1045 b'\\x1f\\xbb\\xf0\\x99\\xc1X\\xceXa\\x9e\\xb5v*TE#\\\\\\x87\\xacm\\x0b\\x8a[!\\xad\\x91\\xd1(\\x05\\xfd\\xa3\\x9b%\\xf8\\x10\\x9e\\x01\\x0c\\x04\\xc0\\x91\\xdd\\xa7\\x86_\\xc8\\x9e\\x9c\\xd1\\x0f\\xa3\\xba\\x05X\\xb6\\xbe\\xf3x\\xb2\\xca,FW\\xfe\\x1c/\\xe3\\xb1g\\xc9\\xae*\\x8fJ\\xbd\\xbd&\\xb6\\xa3\\xb36D\\x90\\xa4\\xa9,k\\x7fti^S\\x03\\xc9\\x15R?\\xa5hk>\\xbc\\xf2\\xa0;\\xf5\"}1L\\xae\\x8f\\xfeW\\x03\\x0b\\xf0\\xc5#|v\\x92\\xf14[\\xde\\x9bsoD\\xf5'\n",
      "1044\n",
      "1044 b'\\x03\\x81\\x89\\xa7\\x81\\xa9\\xfa#\\xf4\\x05\\x10Gf`\\xab1w\"\\xac\\xc1\\xe9\\x06\\x81\\xd8\\x05\\xaeo\\t\\xf1Uk\\xbf\\xcb\\x82,\\x10\\xb1\\n\\x17\\x90\\xdf\\xcb\\xb5\\xb5\\xe5\\x92\\xfd\\xf3\\xed\\xda\\x9f\\x9f\\x1e\\xc4z\\xe7\\xcb\\xaaP\\xf5z\\xc2\\xa1\\x80\\xa0j\\xd7w\\x8bx\\xbbM\\xcf0\\x16\\xfbj;\\xfa\\xb9hfa\\xd9\\xe1\\x0f&\\x8f\\xef\\xd7T\\xf0ci\\x17\\xefK\\x114u\\xd8\\xfbx\\xbfD\\xdc\\x8e\\xfe\\xc4f\\xf8\\x90-\"\\x9c\\xc6J\\xefay\\xe5\\xad\\xb1\\x9b\\xfc*\\x0cGu\\xf3\\x9b'\n",
      "613\n"
     ]
    }
   ],
   "source": [
    "i = 0\n",
    "for conv in kDs:\n",
    "    \n",
    "    i += 1\n",
    "    \n",
    "    if conv == 0:\n",
    "        continue\n",
    "    \n",
    "    if conv == 1:\n",
    "        \n",
    "        k = D = 1\n",
    "        \n",
    "    else:\n",
    "    \n",
    "        k, D = [int(i) for i in str(conv).split('/')]\n",
    "    \n",
    "    phitry = (e * D + 1) / k\n",
    "    \n",
    "    try:\n",
    "        dtry = gmpy2.invert(gmpy2.mpz(e), gmpy2.mpz(phitry))\n",
    "    except:\n",
    "        continue\n",
    "    \n",
    "    print(round(log(int(dtry),2)))\n",
    "    \n",
    "    mtry = pow(ct, dtry, N)\n",
    "    print(round(log(int(dtry),2)), long_to_bytes(mtry))\n",
    "    \n",
    "print(i)"
   ]
  },
  {
   "cell_type": "code",
   "execution_count": 64,
   "id": "dense-foster",
   "metadata": {},
   "outputs": [
    {
     "data": {
      "text/plain": [
       "[14, 17]"
      ]
     },
     "execution_count": 64,
     "metadata": {},
     "output_type": "execute_result"
    }
   ],
   "source": [
    "[int(i) for i in str(kDs[4]).split('/')]"
   ]
  },
  {
   "cell_type": "code",
   "execution_count": 12,
   "id": "functioning-accountability",
   "metadata": {},
   "outputs": [],
   "source": [
    "import gmpy2\n",
    "from Crypto.Util.number import long_to_bytes"
   ]
  },
  {
   "cell_type": "code",
   "execution_count": 75,
   "id": "marked-proxy",
   "metadata": {},
   "outputs": [],
   "source": [
    "ct_old = 243776111759453616373818338990354891951711099728619243814902762013629575073098076242058893654653003746813837937848826020949295386851965538446232236260772070071897240009185949443050602478736302350255347215942414807496927753449092951668338461321946140237848691062284911824336731670766298619816502254184815033511976586"
   ]
  },
  {
   "cell_type": "code",
   "execution_count": 13,
   "id": "existing-tiffany",
   "metadata": {},
   "outputs": [],
   "source": [
    "ct = 303959676149267585825046248298946771045524761540948385119310381022731003152171453295355624619013005255259014408962058282203132797411290952180380162699236575669681289832696809724483816916203823843359489329046259936011464869397208487809073597880729992617105037777911285154649450892121090200338517719744860831555514222"
   ]
  },
  {
   "cell_type": "code",
   "execution_count": 45,
   "id": "civil-syndrome",
   "metadata": {},
   "outputs": [
    {
     "data": {
      "text/plain": [
       "376347864369130929314918003073529176189619811132906053032580291332225522349124770927556541528827257242440708492473086949335591022991715583608318595770643139658398940858358366788472884935226392323475683663699450192657590965945792699658618476121298301964814904817629813971114882401961638885452623305901569855693667669"
      ]
     },
     "execution_count": 45,
     "metadata": {},
     "output_type": "execute_result"
    }
   ],
   "source": [
    "N"
   ]
  },
  {
   "cell_type": "code",
   "execution_count": 43,
   "id": "removed-obligation",
   "metadata": {},
   "outputs": [
    {
     "name": "stdout",
     "output_type": "stream",
     "text": [
      "376340745615554286516685346051421161429026001373344560245043635481434695073860257945648064143646787086542861178195471136543204534119729842141502980482510809651052697576817791853577170069755486758166990765186498180513378241013394943603119038279578663045112205688177922330833035373023875208024479789980222284215915412\n",
      "\n",
      "103493705044277428792088470164140819392982150377669754067386999757394541145311570935053217639502866448799286824003754562549381246882925706588913319632690472654039491833624892759733721769182758858495922460426286999641179016278683609490857735526884132337405856564248928640979084727581565682206731942244561128159376735\n",
      "\n",
      "b'\\x1b\\x94\\xb1\\xb8\"\\xf3 \\x83]\\xf3(UM3\\xd7\\x85Z\\x96\\xb5 \\xb3\\xcdP\\x8f[+\\x16\\x06Y)\\xf8\\xf5\\xb2\\xa1\\x1b\\xee^\\xa2\\x05&qu\\xc84S\\x17\\xed\\xae\\x9a\\xd2t\\x9a_Q\\x87R\\x90NC;\\xa3AT^\\xed\\xf2{\\xf6\\x80Q\\xbd`CW\\xe7VW\\x91\\xb1\\xe5!\\x8a\\xde\\xbc\\x82\\x81\\xa2\\xc0a\\x1f\\xe3\\xddP\\x9bY\\x1d\\xf4\\xe1\\xe4\\xe5a\\x18\\xf4\\x8df\\x1f:\\x89`\\x12\\xc6\\xac-\\x1e\\r\\xf9k\\x05\\x197\\xd7\\x02\\x0f\\x00\\x01X\\xc2s\\xe4\\xf9\\xd9'\n"
     ]
    }
   ],
   "source": [
    "phitry = round((e* 132 +1)/ 109 )\n",
    "print(phitry)\n",
    "print()\n",
    "dtry = gmpy2.invert(gmpy2.mpz(e), gmpy2.mpz(phitry))\n",
    "print(dtry)\n",
    "print()\n",
    "mtry = pow(ct, dtry, N)\n",
    "print(long_to_bytes(mtry))"
   ]
  },
  {
   "cell_type": "code",
   "execution_count": 22,
   "id": "intermediate-circulation",
   "metadata": {},
   "outputs": [
    {
     "name": "stdout",
     "output_type": "stream",
     "text": [
      "310766221758298615381202293330340201483059349618898159596286032329366528507960364515724537815587119639645241427449290559721282531962504187828968370246921804939126848756614691757878117709116273156365166616707032588454229002048939764035908902821773289938766897121298435864096976179239412103595971947786698704390414999\n"
     ]
    }
   ],
   "source": []
  },
  {
   "cell_type": "code",
   "execution_count": 19,
   "id": "palestinian-switch",
   "metadata": {},
   "outputs": [
    {
     "data": {
      "text/plain": [
       "310766221758298615381202293330340201483059349618898159596286032329366528507960364515724537815587119639645241427449290559721282531962504187828968370246921804939126848756614691757878117709116273156365166616707032588454229002048939764035908902821773289938766897121298435864096976179239412103595971947786698704390414999"
      ]
     },
     "execution_count": 19,
     "metadata": {},
     "output_type": "execute_result"
    }
   ],
   "source": []
  },
  {
   "cell_type": "code",
   "execution_count": 3,
   "id": "rough-apple",
   "metadata": {},
   "outputs": [],
   "source": [
    "r = 4\n",
    "priv = 15\n",
    "h = 24\n",
    "k = 1\n",
    "p = 1001"
   ]
  },
  {
   "cell_type": "code",
   "execution_count": 4,
   "id": "hollywood-clock",
   "metadata": {},
   "outputs": [
    {
     "data": {
      "text/plain": [
       "464"
      ]
     },
     "execution_count": 4,
     "metadata": {},
     "output_type": "execute_result"
    }
   ],
   "source": [
    "Zmod((p-1)/2)(-r*priv+h)/k"
   ]
  },
  {
   "cell_type": "code",
   "execution_count": 5,
   "id": "amended-clerk",
   "metadata": {},
   "outputs": [
    {
     "data": {
      "text/plain": [
       "-36"
      ]
     },
     "execution_count": 5,
     "metadata": {},
     "output_type": "execute_result"
    }
   ],
   "source": [
    "(-r*priv+h)/k"
   ]
  },
  {
   "cell_type": "code",
   "execution_count": null,
   "id": "printable-frederick",
   "metadata": {},
   "outputs": [],
   "source": []
  }
 ],
 "metadata": {
  "kernelspec": {
   "display_name": "SageMath 9.2",
   "language": "sage",
   "name": "sagemath"
  },
  "language_info": {
   "codemirror_mode": {
    "name": "ipython",
    "version": 3
   },
   "file_extension": ".py",
   "mimetype": "text/x-python",
   "name": "python",
   "nbconvert_exporter": "python",
   "pygments_lexer": "ipython3",
   "version": "3.9.1+"
  }
 },
 "nbformat": 4,
 "nbformat_minor": 5
}
