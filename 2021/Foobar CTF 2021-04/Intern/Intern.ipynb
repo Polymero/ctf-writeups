{
 "cells": [
  {
   "cell_type": "markdown",
   "id": "olive-preference",
   "metadata": {},
   "source": [
    "# Intern\n"
   ]
  },
  {
   "cell_type": "code",
   "execution_count": 6,
   "id": "comparative-villa",
   "metadata": {},
   "outputs": [],
   "source": [
    "import gmpy2\n",
    "from Crypto.Util.number import long_to_bytes"
   ]
  },
  {
   "cell_type": "code",
   "execution_count": 3,
   "id": "critical-moscow",
   "metadata": {},
   "outputs": [
    {
     "name": "stdout",
     "output_type": "stream",
     "text": [
      "n 1024\n",
      "m 911\n",
      "m-ascii 113.875\n"
     ]
    }
   ],
   "source": [
    "N = 94496817530341425369814649343098047068489632422329867052592031898390981001346742914382925538758846051479915957823128176177618486201915740577075489110958981357299350051166565812980218224834701141651399842752061214756791766886339486075306142699279169889742570645947646725359783103700185509359234574356437232169\n",
    "n = len(bin(N)[2:])\n",
    "e = 3\n",
    "m = n - n//(e*e)\n",
    "print('n', n)\n",
    "print('m', m)\n",
    "print('m-ascii', m/8)"
   ]
  },
  {
   "cell_type": "code",
   "execution_count": null,
   "id": "eastern-winner",
   "metadata": {},
   "outputs": [],
   "source": [
    "alph = \n",
    "beta = "
   ]
  },
  {
   "cell_type": "code",
   "execution_count": null,
   "id": "presidential-construction",
   "metadata": {},
   "outputs": [],
   "source": []
  },
  {
   "cell_type": "code",
   "execution_count": null,
   "id": "thorough-november",
   "metadata": {},
   "outputs": [],
   "source": []
  },
  {
   "cell_type": "code",
   "execution_count": null,
   "id": "touched-valuable",
   "metadata": {},
   "outputs": [],
   "source": []
  },
  {
   "cell_type": "code",
   "execution_count": null,
   "id": "grateful-meeting",
   "metadata": {},
   "outputs": [],
   "source": []
  }
 ],
 "metadata": {
  "kernelspec": {
   "display_name": "Python 3",
   "language": "python",
   "name": "python3"
  },
  "language_info": {
   "codemirror_mode": {
    "name": "ipython",
    "version": 3
   },
   "file_extension": ".py",
   "mimetype": "text/x-python",
   "name": "python",
   "nbconvert_exporter": "python",
   "pygments_lexer": "ipython3",
   "version": "3.9.1+"
  }
 },
 "nbformat": 4,
 "nbformat_minor": 5
}
