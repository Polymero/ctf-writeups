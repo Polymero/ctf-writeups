{
 "cells": [
  {
   "cell_type": "code",
   "execution_count": null,
   "metadata": {},
   "outputs": [],
   "source": []
  },
  {
   "cell_type": "code",
   "execution_count": 34,
   "metadata": {},
   "outputs": [],
   "source": [
    "# Inputs are modulus, known difference, ciphertext 1, ciphertext2.\n",
    "# Ciphertext 1 corresponds to smaller of the two plaintexts. (The one without the fixed difference added to it)\n",
    "def franklinReiter(n,e,r,c1,c2):\n",
    "    R.<X> = Zmod(n)[]\n",
    "    f1 = X^e - c1\n",
    "    f2 = (X + r)^e - c2\n",
    "    # coefficient 0 = -m, which is what we wanted!\n",
    "    return Integer(n-(compositeModulusGCD(f1,f2)).coefficients()[0])\n",
    "\n",
    "  # GCD is not implemented for rings over composite modulus in Sage\n",
    "  # so we do our own implementation. Its the exact same as standard GCD, but with\n",
    "  # the polynomials monic representation\n",
    "def compositeModulusGCD(a, b):\n",
    "    if(b == 0):\n",
    "        return a.monic()\n",
    "    else:\n",
    "        return compositeModulusGCD(b, a % b)\n",
    "\n",
    "def CoppersmithShortPadAttack(e,n,C1,C2,eps=1/30):\n",
    "    \"\"\"\n",
    "    Coppersmith's Shortpad attack!\n",
    "    Figured out from: https://en.wikipedia.org/wiki/Coppersmith's_attack#Coppersmith.E2.80.99s_short-pad_attack\n",
    "    \"\"\"\n",
    "    import binascii\n",
    "    P.<x,y> = PolynomialRing(ZZ)\n",
    "    ZmodN = Zmod(n)\n",
    "    g1 = x^e - C1\n",
    "    g2 = (x+y)^e - C2\n",
    "    res = g1.resultant(g2)\n",
    "    P.<y> = PolynomialRing(ZmodN)\n",
    "    # Convert Multivariate Polynomial Ring to Univariate Polynomial Ring\n",
    "    rres = 0\n",
    "    for i in range(len(res.coefficients())):\n",
    "        rres += res.coefficients()[i]*(y^(res.exponents()[i][1]))\n",
    "\n",
    "    diff = rres.small_roots(epsilon=eps)\n",
    "    recoveredM1 = franklinReiter(n,e,diff[0],C1,C2)\n",
    "    print(recoveredM1)\n",
    "    print(\"Message is the following hex, but potentially missing some zeroes in the binary from the right end\")\n",
    "    print(hex(recoveredM1))\n",
    "    print(\"Message is one of:\")\n",
    "    for i in range(8):\n",
    "        msg = hex(Integer(recoveredM1*pow(2,i)))\n",
    "        if(len(msg)%2 == 1):\n",
    "            msg = '0' + msg\n",
    "        if(msg[:2]=='0x'):\n",
    "            msg = msg[:2]\n",
    "        print(binascii.unhexlify(msg))"
   ]
  },
  {
   "cell_type": "code",
   "execution_count": 41,
   "metadata": {},
   "outputs": [],
   "source": [
    "c1 = 15527916676332663919460678745519904294473274269031781577118130866606353888961767746037973620766554643541281881469438867785041361291532860620998495296501067933669866901284824154517380118094426956416912895918428999308096601019904936287878041033616610308612797697114743401557757535500840436224080958579462800789\n",
    "c2 = 19786889394178837643752408885682603820458469259788624323098963278178993733408425011612055475042455786227489183646124691791567462524901608989503026681612687839621414804815616923310897766038996700895438544107334093631426873662682342859503374376984512041162303394037263938139430081630144094063825918536576486459\n",
    "n = 89189696801818227100485172349771799456214091461068751028922868002049763186608926171695910615077201760508891440396072697385944494644069108102364194633024418522497726629863467851322121094765345561441007158393786265861136657856981558292007780280312793244744964980282765905264018219032387217615145437375255061823\n",
    "e = 3"
   ]
  },
  {
   "cell_type": "code",
   "execution_count": 42,
   "metadata": {},
   "outputs": [
    {
     "name": "stdout",
     "output_type": "stream",
     "text": [
      "9255258906689088471398655118284473286203063538915008006852277152113405554901602899418617599602512732857086190350269171325121899733400211331788609372157534462527761785318093023109854403049137554142782504462654697026273914170390166661428840936687767785512460277550138187135343\n",
      "Message is the following hex, but potentially missing some zeroes in the binary from the right end\n",
      "0x446f20796f75207265616c6c79207468696e6b204c43472077697468205253412077696c6c206d616b65207365637572652073797374656d2062747720666c616720697320474c55477b6e34346d5f6c336b335f6b34346d5f343135315f3530757263335f3733723361e7c1d2c6e2b1396f\n",
      "Message is one of:\n"
     ]
    },
    {
     "ename": "Error",
     "evalue": "Non-hexadecimal digit found",
     "output_type": "error",
     "traceback": [
      "\u001b[0;31m---------------------------------------------------------------------------\u001b[0m",
      "\u001b[0;31mError\u001b[0m                                     Traceback (most recent call last)",
      "\u001b[0;32m<ipython-input-42-eb8bdee0da4a>\u001b[0m in \u001b[0;36m<module>\u001b[0;34m\u001b[0m\n\u001b[0;32m----> 1\u001b[0;31m \u001b[0mCoppersmithShortPadAttack\u001b[0m\u001b[0;34m(\u001b[0m\u001b[0me\u001b[0m\u001b[0;34m,\u001b[0m\u001b[0mn\u001b[0m\u001b[0;34m,\u001b[0m\u001b[0mc1\u001b[0m\u001b[0;34m,\u001b[0m\u001b[0mc2\u001b[0m\u001b[0;34m)\u001b[0m\u001b[0;34m\u001b[0m\u001b[0;34m\u001b[0m\u001b[0m\n\u001b[0m",
      "\u001b[0;32m<ipython-input-34-0af8511a7447>\u001b[0m in \u001b[0;36mCoppersmithShortPadAttack\u001b[0;34m(e, n, C1, C2, eps)\u001b[0m\n\u001b[1;32m     46\u001b[0m         \u001b[0;32mif\u001b[0m\u001b[0;34m(\u001b[0m\u001b[0mmsg\u001b[0m\u001b[0;34m[\u001b[0m\u001b[0;34m:\u001b[0m\u001b[0mInteger\u001b[0m\u001b[0;34m(\u001b[0m\u001b[0;36m2\u001b[0m\u001b[0;34m)\u001b[0m\u001b[0;34m]\u001b[0m\u001b[0;34m==\u001b[0m\u001b[0;34m'0x'\u001b[0m\u001b[0;34m)\u001b[0m\u001b[0;34m:\u001b[0m\u001b[0;34m\u001b[0m\u001b[0;34m\u001b[0m\u001b[0m\n\u001b[1;32m     47\u001b[0m             \u001b[0mmsg\u001b[0m \u001b[0;34m=\u001b[0m \u001b[0mmsg\u001b[0m\u001b[0;34m[\u001b[0m\u001b[0;34m:\u001b[0m\u001b[0mInteger\u001b[0m\u001b[0;34m(\u001b[0m\u001b[0;36m2\u001b[0m\u001b[0;34m)\u001b[0m\u001b[0;34m]\u001b[0m\u001b[0;34m\u001b[0m\u001b[0;34m\u001b[0m\u001b[0m\n\u001b[0;32m---> 48\u001b[0;31m         \u001b[0mprint\u001b[0m\u001b[0;34m(\u001b[0m\u001b[0mbinascii\u001b[0m\u001b[0;34m.\u001b[0m\u001b[0munhexlify\u001b[0m\u001b[0;34m(\u001b[0m\u001b[0mmsg\u001b[0m\u001b[0;34m)\u001b[0m\u001b[0;34m)\u001b[0m\u001b[0;34m\u001b[0m\u001b[0;34m\u001b[0m\u001b[0m\n\u001b[0m",
      "\u001b[0;31mError\u001b[0m: Non-hexadecimal digit found"
     ]
    }
   ],
   "source": [
    "CoppersmithShortPadAttack(e,n,c1,c2)"
   ]
  },
  {
   "cell_type": "code",
   "execution_count": 38,
   "metadata": {},
   "outputs": [],
   "source": [
    "from Crypto.Util.number import long_to_bytes"
   ]
  },
  {
   "cell_type": "code",
   "execution_count": 43,
   "metadata": {},
   "outputs": [
    {
     "data": {
      "text/plain": [
       "b'Do you really think LCG with RSA will make secure system btw flag is GLUG{n44m_l3k3_k44m_4151_50urc3_73r3a\\xe7\\xc1\\xd2\\xc6\\xe2\\xb19o'"
      ]
     },
     "execution_count": 43,
     "metadata": {},
     "output_type": "execute_result"
    }
   ],
   "source": [
    "long_to_bytes(9255258906689088471398655118284473286203063538915008006852277152113405554901602899418617599602512732857086190350269171325121899733400211331788609372157534462527761785318093023109854403049137554142782504462654697026273914170390166661428840936687767785512460277550138187135343)"
   ]
  },
  {
   "cell_type": "code",
   "execution_count": null,
   "metadata": {},
   "outputs": [],
   "source": []
  },
  {
   "cell_type": "code",
   "execution_count": null,
   "metadata": {},
   "outputs": [],
   "source": []
  },
  {
   "cell_type": "code",
   "execution_count": 44,
   "metadata": {},
   "outputs": [],
   "source": [
    "def franklinReiter(n,e,r,c1,c2):\n",
    "    R.<X> = Zmod(n)[]\n",
    "    f1 = X^e - c1\n",
    "    f2 = (X + r)^e - c2\n",
    "    # coefficient 0 = -m, so\n",
    "    return Integer(n-(compositeModulusGCD(f1,f2)).coefficients()[0])"
   ]
  },
  {
   "cell_type": "code",
   "execution_count": 49,
   "metadata": {},
   "outputs": [],
   "source": [
    "n = 79486203821426028598805256387454301145312119345767154768161561282750473121395476088815015288993336899624516908888291057610536957748502868167459132342106961091464094174400211502823356761413226800969654388200072883977601040106965234133288388244188970137876019799151801492307027992561414119837032040050310555187\n",
    "e = 3\n",
    "r = 208732893796551881126\n",
    "c1 = 54892102885039487746178146580508329859123624015062804225705482148116729355525968429152413761851271370225380882724293719232984941210965881777485836530629674733375126695082166730923577189943830294930401328679772965774332133586651957331193237277451038932729530547826084219376694057278693870361639537597935249060\n",
    "c2 = 34187803623506222391213336376670721052370781139676971628942062647777140557100223193332932101243633376990276162735282349044471911100017393688213971791769933659673978724217736987559901639431013723480823478025917941431984864923370289703750222505185000243981522353669741842669924899861009155239277561793060367287"
   ]
  },
  {
   "cell_type": "code",
   "execution_count": 51,
   "metadata": {},
   "outputs": [
    {
     "data": {
      "text/plain": [
       "b'Do you really think LCG with RSA will make secure system btw flag is GLUG{n44m_l3k3_k44m_4151_50urc3_73r3_bh41_k1}'"
      ]
     },
     "execution_count": 51,
     "metadata": {},
     "output_type": "execute_result"
    }
   ],
   "source": [
    "long_to_bytes(franklinReiter(n,e,r,c1,c2)-38991140224961274973)"
   ]
  },
  {
   "cell_type": "code",
   "execution_count": 48,
   "metadata": {},
   "outputs": [
    {
     "data": {
      "text/plain": [
       "208732893796551881126"
      ]
     },
     "execution_count": 48,
     "metadata": {},
     "output_type": "execute_result"
    }
   ],
   "source": [
    "247724034021513156099-38991140224961274973"
   ]
  },
  {
   "cell_type": "code",
   "execution_count": null,
   "metadata": {},
   "outputs": [],
   "source": []
  }
 ],
 "metadata": {
  "kernelspec": {
   "display_name": "SageMath 8.1",
   "language": "",
   "name": "sagemath"
  },
  "language_info": {
   "codemirror_mode": {
    "name": "ipython",
    "version": 2
   },
   "file_extension": ".py",
   "mimetype": "text/x-python",
   "name": "python",
   "nbconvert_exporter": "python",
   "pygments_lexer": "ipython2",
   "version": "2.7.17"
  }
 },
 "nbformat": 4,
 "nbformat_minor": 5
}
