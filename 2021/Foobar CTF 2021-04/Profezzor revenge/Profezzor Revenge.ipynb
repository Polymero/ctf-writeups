{
 "cells": [
  {
   "cell_type": "markdown",
   "metadata": {},
   "source": [
    "# Profezzor Revenge"
   ]
  },
  {
   "cell_type": "code",
   "execution_count": 2,
   "metadata": {},
   "outputs": [],
   "source": [
    "from Crypto.Util.number import bytes_to_long, long_to_bytes"
   ]
  },
  {
   "cell_type": "code",
   "execution_count": 6,
   "metadata": {},
   "outputs": [],
   "source": [
    "actual = b'\\x25\\x50\\x44\\x46'\n",
    "pdfhex = b'\\x8b\\xaa\\xfe\\xf8' "
   ]
  },
  {
   "cell_type": "code",
   "execution_count": 7,
   "metadata": {},
   "outputs": [
    {
     "name": "stdout",
     "output_type": "stream",
     "text": [
      "b'\\xae\\xfa\\xba\\xbe'\n"
     ]
    }
   ],
   "source": [
    "pdfkey = long_to_bytes(bytes_to_long(actual) ^ bytes_to_long(pdfhex))\n",
    "print(pdfkey)"
   ]
  },
  {
   "cell_type": "code",
   "execution_count": 14,
   "metadata": {},
   "outputs": [],
   "source": [
    "pdfenc = open('assignment.pdf', 'rb').read()\n",
    "\n",
    "pdfraw = b''\n",
    "\n",
    "for i,c in enumerate(pdfenc):\n",
    "    pdfraw += long_to_bytes(c ^ pdfkey[i % len(pdfkey)])"
   ]
  },
  {
   "cell_type": "code",
   "execution_count": 16,
   "metadata": {},
   "outputs": [],
   "source": [
    "f = open('ass_dec.pdf','wb')\n",
    "f.write(pdfraw)\n",
    "f.close()"
   ]
  },
  {
   "cell_type": "markdown",
   "metadata": {},
   "source": [
    "GLUG{XOR_IS_EASY_RIGHT}"
   ]
  }
 ],
 "metadata": {
  "kernelspec": {
   "display_name": "Python 3",
   "language": "python",
   "name": "python3"
  },
  "language_info": {
   "codemirror_mode": {
    "name": "ipython",
    "version": 3
   },
   "file_extension": ".py",
   "mimetype": "text/x-python",
   "name": "python",
   "nbconvert_exporter": "python",
   "pygments_lexer": "ipython3",
   "version": "3.7.4"
  }
 },
 "nbformat": 4,
 "nbformat_minor": 5
}
