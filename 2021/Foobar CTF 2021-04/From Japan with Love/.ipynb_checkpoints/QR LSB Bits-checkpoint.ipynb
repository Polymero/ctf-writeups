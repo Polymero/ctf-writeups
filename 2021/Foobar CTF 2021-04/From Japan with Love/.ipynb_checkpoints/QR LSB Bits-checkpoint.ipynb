{
 "cells": [
  {
   "cell_type": "markdown",
   "id": "persistent-miller",
   "metadata": {},
   "source": [
    "# QR LSB Bits"
   ]
  },
  {
   "cell_type": "code",
   "execution_count": null,
   "id": "experienced-stephen",
   "metadata": {},
   "outputs": [],
   "source": []
  },
  {
   "cell_type": "code",
   "execution_count": 1,
   "id": "dress-motel",
   "metadata": {},
   "outputs": [],
   "source": [
    "bits = \"010001110100110001010101010001110111101101110100001100000011000001011111011011010110000101101110011110010101111101110000001100010111100000110011011011000011010101111101111111\""
   ]
  },
  {
   "cell_type": "code",
   "execution_count": 3,
   "id": "therapeutic-society",
   "metadata": {},
   "outputs": [
    {
     "data": {
      "text/plain": [
       "'GLUG{t00_many_p1x3l5}?'"
      ]
     },
     "execution_count": 3,
     "metadata": {},
     "output_type": "execute_result"
    }
   ],
   "source": [
    "''.join([chr(int(bits[i:i+8],2)) for i in range(0,len(bits),8)])"
   ]
  },
  {
   "cell_type": "code",
   "execution_count": null,
   "id": "removed-profile",
   "metadata": {},
   "outputs": [],
   "source": []
  },
  {
   "cell_type": "code",
   "execution_count": null,
   "id": "racial-african",
   "metadata": {},
   "outputs": [],
   "source": []
  },
  {
   "cell_type": "code",
   "execution_count": null,
   "id": "official-biography",
   "metadata": {},
   "outputs": [],
   "source": []
  }
 ],
 "metadata": {
  "kernelspec": {
   "display_name": "Python 3",
   "language": "python",
   "name": "python3"
  },
  "language_info": {
   "codemirror_mode": {
    "name": "ipython",
    "version": 3
   },
   "file_extension": ".py",
   "mimetype": "text/x-python",
   "name": "python",
   "nbconvert_exporter": "python",
   "pygments_lexer": "ipython3",
   "version": "3.9.1+"
  }
 },
 "nbformat": 4,
 "nbformat_minor": 5
}
