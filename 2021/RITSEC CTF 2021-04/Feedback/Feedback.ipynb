{
 "cells": [
  {
   "cell_type": "markdown",
   "id": "seven-pierre",
   "metadata": {},
   "source": [
    "# Feedback"
   ]
  },
  {
   "cell_type": "code",
   "execution_count": 2,
   "id": "temporal-mortality",
   "metadata": {},
   "outputs": [],
   "source": [
    "from pylfsr import LFSR"
   ]
  },
  {
   "cell_type": "code",
   "execution_count": null,
   "id": "catholic-mainstream",
   "metadata": {},
   "outputs": [],
   "source": []
  },
  {
   "cell_type": "code",
   "execution_count": 4,
   "id": "northern-document",
   "metadata": {},
   "outputs": [
    {
     "name": "stdout",
     "output_type": "stream",
     "text": [
      "31 bit LFSR with feedback polynomial  x^31 + x^2 + 1\n",
      "Expected Period (if polynomial is primitive) =  2147483647\n",
      "Current :\n",
      " State        :  [0 0 1 0 1 1 0 1 0 1 0 0 0 1 0 1 1 0 0 1 0 0 0 0 1 0 0 1 1 1 1]\n",
      " Count        :  0\n",
      " Output bit   :  -1\n",
      " feedback bit :  -1\n",
      "S:  [1 0 0 1 0 1 1 0 1 0 1 0 0 0 1 0 1 1 0 0 1 0 0 0 0 1 0 0 1 1 1]\n",
      "S:  [1 1 0 0 1 0 1 1 0 1 0 1 0 0 0 1 0 1 1 0 0 1 0 0 0 0 1 0 0 1 1]\n",
      "S:  [0 1 1 0 0 1 0 1 1 0 1 0 1 0 0 0 1 0 1 1 0 0 1 0 0 0 0 1 0 0 1]\n",
      "S:  [0 0 1 1 0 0 1 0 1 1 0 1 0 1 0 0 0 1 0 1 1 0 0 1 0 0 0 0 1 0 0]\n",
      "S:  [0 0 0 1 1 0 0 1 0 1 1 0 1 0 1 0 0 0 1 0 1 1 0 0 1 0 0 0 0 1 0]\n",
      "S:  [0 0 0 0 1 1 0 0 1 0 1 1 0 1 0 1 0 0 0 1 0 1 1 0 0 1 0 0 0 0 1]\n",
      "S:  [1 0 0 0 0 1 1 0 0 1 0 1 1 0 1 0 1 0 0 0 1 0 1 1 0 0 1 0 0 0 0]\n",
      "S:  [0 1 0 0 0 0 1 1 0 0 1 0 1 1 0 1 0 1 0 0 0 1 0 1 1 0 0 1 0 0 0]\n",
      "S:  [1 0 1 0 0 0 0 1 1 0 0 1 0 1 1 0 1 0 1 0 0 0 1 0 1 1 0 0 1 0 0]\n",
      "S:  [0 1 0 1 0 0 0 0 1 1 0 0 1 0 1 1 0 1 0 1 0 0 0 1 0 1 1 0 0 1 0]\n",
      "31 bit LFSR with feedback polynomial  x^31 + x^2 + 1\n",
      "Expected Period (if polynomial is primitive) =  2147483647\n",
      "Current :\n",
      " State        :  [0 1 0 1 0 0 0 0 1 1 0 0 1 0 1 1 0 1 0 1 0 0 0 1 0 1 1 0 0 1 0]\n",
      " Count        :  10\n",
      " Output bit   :  0\n",
      " feedback bit :  0\n",
      " Output Sequence 1110010000\n"
     ]
    }
   ],
   "source": [
    "L = LFSR(fpoly=[31,2],initstate ='random',verbose=True)\n",
    "L.info()\n",
    "L.runKCycle(10)\n",
    "L.info()\n",
    "seq = L.seq"
   ]
  },
  {
   "cell_type": "code",
   "execution_count": 17,
   "id": "functional-romance",
   "metadata": {},
   "outputs": [
    {
     "name": "stdout",
     "output_type": "stream",
     "text": [
      "7 bit LFSR with feedback polynomial  x^7 + x^2 + 1\n",
      "Expected Period (if polynomial is primitive) =  127\n",
      "Current :\n",
      " State        :  [1 0 1 0 0 1 0]\n",
      " Count        :  0\n",
      " Output bit   :  -1\n",
      " feedback bit :  -1\n",
      "S:  [0 1 0 1 0 0 1]\n",
      "S:  [0 0 1 0 1 0 0]\n",
      "S:  [0 0 0 1 0 1 0]\n",
      "S:  [0 0 0 0 1 0 1]\n",
      "7 bit LFSR with feedback polynomial  x^7 + x^2 + 1\n",
      "Expected Period (if polynomial is primitive) =  127\n",
      "Current :\n",
      " State        :  [0 0 0 0 1 0 1]\n",
      " Count        :  4\n",
      " Output bit   :  1\n",
      " feedback bit :  0\n",
      " Output Sequence 1001\n"
     ]
    }
   ],
   "source": [
    "L = LFSR(fpoly=[7,2],initstate =[1,0,1,0,0,1,0],verbose=True)\n",
    "L.info()\n",
    "L.next()\n",
    "L.next()\n",
    "L.next()\n",
    "L.next()\n",
    "L.info()"
   ]
  },
  {
   "cell_type": "code",
   "execution_count": 98,
   "id": "combined-tradition",
   "metadata": {},
   "outputs": [],
   "source": [
    "P1 = LFSR(fpoly=[31,2],initstate =[1,0,0,1,1,1,0,0,0,0,1,0,1,1,1,0,0,0,0,0,1,1,0,1,0,1,1,1,0,1,1],verbose=False)\n",
    "P2 = LFSR(fpoly=[7,2],initstate =[0,1,0,1,1,1,1],verbose=False)"
   ]
  },
  {
   "cell_type": "code",
   "execution_count": 99,
   "id": "vanilla-apollo",
   "metadata": {},
   "outputs": [
    {
     "name": "stdout",
     "output_type": "stream",
     "text": [
      "16 4\n",
      "15 5\n",
      "17 2\n",
      "18 7\n",
      "16 3\n",
      "15 3\n",
      "12 4\n",
      "15 3\n",
      "16 1\n",
      "14 3\n",
      "11 6\n",
      "14 4\n",
      "15 3\n",
      "17 4\n",
      "15 2\n",
      "20 5\n",
      "14 3\n",
      "16 3\n",
      "19 3\n",
      "12 2\n",
      "18 1\n",
      "12 4\n",
      "19 4\n",
      "13 5\n",
      "17 5\n",
      "14 2\n",
      "14 5\n",
      "15 3\n",
      "8 3\n",
      "10 5\n",
      "21 2\n",
      "18 2\n",
      "16 2\n",
      "17 5\n",
      "16 3\n",
      "13 4\n",
      "21 4\n",
      "19 2\n",
      "16 6\n",
      "17 4\n",
      "16 3\n",
      "16 3\n",
      "18 3\n",
      "15 1\n",
      "15 3\n",
      "16 5\n",
      "19 5\n",
      "16 4\n",
      "17 4\n",
      "15 3\n",
      "17 5\n",
      "19 4\n",
      "15 4\n",
      "16 3\n",
      "12 2\n",
      "13 1\n",
      "12 5\n",
      "15 4\n",
      "13 5\n",
      "11 6\n",
      "11 2\n",
      "16 6\n",
      "17 3\n",
      "14 3\n"
     ]
    }
   ],
   "source": [
    "for _ in range(64):\n",
    "    y = sum(P1.next() for _ in range(31))\n",
    "    x = sum(P2.next() for _ in range(7))\n",
    "    print(y,x)\n",
    "    P1.next()\n",
    "    P2.next()"
   ]
  },
  {
   "cell_type": "code",
   "execution_count": 88,
   "id": "dirty-thong",
   "metadata": {},
   "outputs": [
    {
     "data": {
      "text/plain": [
       "76"
      ]
     },
     "execution_count": 88,
     "metadata": {},
     "output_type": "execute_result"
    }
   ],
   "source": [
    "int(''.join([str(i) for i in P2.state]),2)"
   ]
  },
  {
   "cell_type": "code",
   "execution_count": 87,
   "id": "hairy-structure",
   "metadata": {},
   "outputs": [
    {
     "name": "stdout",
     "output_type": "stream",
     "text": [
      "S:  [1 0 0 1 1 0 0]\n"
     ]
    }
   ],
   "source": [
    " a= P2.next()"
   ]
  },
  {
   "cell_type": "code",
   "execution_count": 76,
   "id": "experimental-attribute",
   "metadata": {},
   "outputs": [
    {
     "name": "stdout",
     "output_type": "stream",
     "text": [
      "31 bit LFSR with feedback polynomial  x^31 + x^2 + 1\n",
      "Expected Period (if polynomial is primitive) =  2147483647\n",
      "Current :\n",
      " State        :  [0 1 0 0 0 1 1 0 1 1 0 0 1 1 1 0 0 0 0 1 0 1 1 1 0 0 0 0 0 1 1]\n",
      " Count        :  9\n",
      " Output bit   :  1\n",
      " feedback bit :  0\n",
      " Output Sequence 101110101\n",
      "7 bit LFSR with feedback polynomial  x^7 + x^2 + 1\n",
      "Expected Period (if polynomial is primitive) =  127\n",
      "Current :\n",
      " State        :  [0 1 1 0 0 1 1]\n",
      " Count        :  30\n",
      " Output bit   :  1\n",
      " feedback bit :  0\n",
      " Output Sequence 111010011011110001100000111111\n"
     ]
    }
   ],
   "source": [
    "P1.info()\n",
    "P2.info()"
   ]
  },
  {
   "cell_type": "code",
   "execution_count": 19,
   "id": "damaged-spokesman",
   "metadata": {
    "scrolled": true
   },
   "outputs": [
    {
     "data": {
      "text/plain": [
       "'\\n\\n\\n\\n\\n\\n\\n\\n\\n\\n\\n\\n\\n\\n\\n\\n\\n\\n\\n\\n\\n\\n\\n\\n\\n\\n\\n\\n\\n\\n'"
      ]
     },
     "execution_count": 19,
     "metadata": {},
     "output_type": "execute_result"
    }
   ],
   "source": [
    "x^31+x^2+1\n",
    "IV: [1 0 0 1 1 1 0 0 0 0 1 0 1 1 1 0 0 0 0 0 1 1 0 1 0 1 1 1 0 1 1]\n",
    "x^7+x^2+1\n",
    "IV: [0 1 0 1 1 1 1]\n",
    "10101110\n",
    "11011011\n",
    "11010111\n",
    "01100101\n",
    "11111110\n",
    "01101010\n",
    "00110111\n",
    "11001100\n",
    "01100010\n",
    "10110000\n",
    "11010110\n",
    "01111001\n",
    "11000011\n",
    "00111010\n",
    "10100001\n",
    "01111110\n",
    "00011000\n",
    "10011010\n",
    "01001100\n",
    "11010110\n",
    "11100011\n",
    "11011010\n",
    "01101111\n",
    "10100000\n",
    "10111111\n",
    "00111000\n",
    "01100110\n",
    "11010100\n",
    "10111100\n",
    "11000101\n",
    "00010101"
   ]
  },
  {
   "cell_type": "code",
   "execution_count": 55,
   "id": "native-foster",
   "metadata": {},
   "outputs": [],
   "source": [
    "import numpy as np"
   ]
  },
  {
   "cell_type": "code",
   "execution_count": 93,
   "id": "quarterly-montreal",
   "metadata": {},
   "outputs": [],
   "source": [
    "datmat = np.array([[int(j) for j in list(i)] for i in \"\"\"10101110\n",
    "11011011\n",
    "11010111\n",
    "01100101\n",
    "11111110\n",
    "01101010\n",
    "00110111\n",
    "11001100\n",
    "01100010\n",
    "10110000\n",
    "11010110\n",
    "01111001\n",
    "11000011\n",
    "00111010\n",
    "10100001\n",
    "01111110\n",
    "00011000\n",
    "10011010\n",
    "01001100\n",
    "11010110\n",
    "11100011\n",
    "11011010\n",
    "01101111\n",
    "10100000\n",
    "10111111\n",
    "00111000\n",
    "01100110\n",
    "11010100\n",
    "10111100\n",
    "11000101\n",
    "00010101\"\"\".split('\\n')])"
   ]
  },
  {
   "cell_type": "code",
   "execution_count": null,
   "id": "recorded-ticket",
   "metadata": {},
   "outputs": [],
   "source": []
  },
  {
   "cell_type": "code",
   "execution_count": 20,
   "id": "current-fishing",
   "metadata": {},
   "outputs": [
    {
     "data": {
      "text/plain": [
       "30"
      ]
     },
     "execution_count": 20,
     "metadata": {},
     "output_type": "execute_result"
    }
   ],
   "source": [
    "len('\\n\\n\\n\\n\\n\\n\\n\\n\\n\\n\\n\\n\\n\\n\\n\\n\\n\\n\\n\\n\\n\\n\\n\\n\\n\\n\\n\\n\\n\\n')"
   ]
  },
  {
   "cell_type": "code",
   "execution_count": null,
   "id": "toxic-appliance",
   "metadata": {},
   "outputs": [],
   "source": []
  }
 ],
 "metadata": {
  "kernelspec": {
   "display_name": "Python 3",
   "language": "python",
   "name": "python3"
  },
  "language_info": {
   "codemirror_mode": {
    "name": "ipython",
    "version": 3
   },
   "file_extension": ".py",
   "mimetype": "text/x-python",
   "name": "python",
   "nbconvert_exporter": "python",
   "pygments_lexer": "ipython3",
   "version": "3.9.1+"
  }
 },
 "nbformat": 4,
 "nbformat_minor": 5
}
