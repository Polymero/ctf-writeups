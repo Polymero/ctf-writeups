{
 "cells": [
  {
   "cell_type": "code",
   "execution_count": null,
   "id": "noted-luxury",
   "metadata": {},
   "outputs": [],
   "source": []
  },
  {
   "cell_type": "code",
   "execution_count": 12,
   "id": "honey-bidder",
   "metadata": {},
   "outputs": [],
   "source": [
    "from functools import reduce\n",
    "import numpy as np\n",
    "import matplotlib.pyplot as plt\n",
    "from Crypto.Util.number import long_to_bytes,bytes_to_long"
   ]
  },
  {
   "cell_type": "code",
   "execution_count": 53,
   "id": "cutting-sailing",
   "metadata": {},
   "outputs": [],
   "source": [
    "unshiftRight = lambda res,next : x^(res>>next)\n",
    "makeUnshiftLeft = lambda mask: lambda res,next : x^(res << next & mask)\n",
    "makeList = lambda x: [x for i in range(32)] "
   ]
  },
  {
   "cell_type": "code",
   "execution_count": 503,
   "id": "micro-interference",
   "metadata": {},
   "outputs": [],
   "source": [
    "import random\n",
    "import os\n",
    "import binascii\n",
    "import sys\n",
    "\n",
    "a = int(binascii.hexlify(os.urandom(2500)), 16)\n",
    "rand = random.Random(a)\n",
    "flag = \"__RS{REDACTEDREDACTEDRED}\" #only difference between this and challenge binary is the characters of the flag were replaced with the characters of redacted\n",
    "\n",
    "def transform(x):\n",
    "    unshiftRight = lambda res,next : x^(res>>next)\n",
    "    makeUnshiftLeft = lambda mask: lambda res,next : x^(res << next & mask)\n",
    "    makeList = lambda x: [x for i in range(32)] \n",
    "\n",
    "    x = reduce(unshiftRight, makeList(18))\n",
    "    x = reduce(makeUnshiftLeft(0xefc60000), makeList(15))\n",
    "    x = reduce(makeUnshiftLeft(0x9d2c5680), makeList(7))\n",
    "    x = reduce(unshiftRight, makeList(11))\n",
    "\n",
    "    return x\n",
    "\n",
    "def make_plaintext(padlen, num_iters=8):\n",
    "    #Make sure the padlen is reasonable.\n",
    "    #We pad num_iters times with padlen repeated random characters \n",
    "    if padlen*num_iters > 325:\n",
    "        padlen = 325//num_iters\n",
    "        print(\"Too much padding, shortening padding\")\n",
    "    if padlen < len(flag):\n",
    "        padlen = len(flag)\n",
    "        print(\"Too little padding, lengthening padding\")\n",
    "    \n",
    "    gen_rand = random.Random()\n",
    "    padding = \"\"\n",
    "    for i in range(num_iters):\n",
    "        padding += chr(gen_rand.getrandbits(8))*padlen\n",
    "    \n",
    "    #Make our message even longer, just to show the strength\n",
    "    padded_msg = (flag + padding)\n",
    "    plaintext = padded_msg\n",
    "    while(len(plaintext) < 2600):\n",
    "        plaintext += padded_msg[:2600-len(plaintext)]\n",
    "    return plaintext\n",
    "\n",
    "def encrypt(plaintext):\n",
    "    ct = []\n",
    "    pos = 0\n",
    "    while pos < len(plaintext):\n",
    "        rand_int = rand.getrandbits(32)\n",
    "        trand_int = transform(rand_int)\n",
    "        for j in range(4):\n",
    "            if pos >= len(plaintext):\n",
    "                break\n",
    "            rand_short = (trand_int >> (j*8)) & 0xff\n",
    "            ct.append(rand_short ^ ord(plaintext[pos]))\n",
    "            pos += 1\n",
    "    return ct\n"
   ]
  },
  {
   "cell_type": "code",
   "execution_count": 500,
   "id": "progressive-thanksgiving",
   "metadata": {},
   "outputs": [
    {
     "data": {
      "text/plain": [
       "23"
      ]
     },
     "execution_count": 500,
     "metadata": {},
     "output_type": "execute_result"
    }
   ],
   "source": [
    "len(\"RS{REDACTEDREDACTEDRED}\")"
   ]
  },
  {
   "cell_type": "code",
   "execution_count": null,
   "id": "intense-input",
   "metadata": {},
   "outputs": [],
   "source": []
  },
  {
   "cell_type": "code",
   "execution_count": 507,
   "id": "approved-restaurant",
   "metadata": {},
   "outputs": [],
   "source": [
    "ciphertext = bytes.fromhex(\"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\")\n",
    "\n",
    "padlen = 32\n",
    "i = 36\n",
    "\n",
    "def _int32(x):\n",
    "    return x & 0xffffffff\n",
    "\n",
    "zone1_pad = ciphertext[i:i+24]\n",
    "zone2_pad = ciphertext[i+397*4:i+397*4+20]\n",
    "twistflag = ciphertext[i+624*4:i+624*4+20]\n",
    "\n",
    "for pad1 in range(256):\n",
    "    for pad2 in range(256):\n",
    "        \n",
    "        xor1 = bytes([pad1 ^ zone1_pad[i] for i in range(len(zone1_pad))])\n",
    "        xor2 = bytes([pad2 ^ zone2_pad[i] for i in range(len(zone2_pad))])\n",
    "        \n",
    "        zone1 = []\n",
    "        zone2 = []\n",
    "        \n",
    "        for r in range(6):\n",
    "            \n",
    "            zone1.append(bytes_to_long(xor1[r*4:(r+1)*4][::-1]))\n",
    "            zone2.append(bytes_to_long(xor2[r*4:(r+1)*4][::-1]))\n",
    "            \n",
    "        zone3 = []\n",
    "            \n",
    "        for m in range(5):\n",
    "            \n",
    "            upper = 0x80000000\n",
    "            lower = 0x7fffffff\n",
    "\n",
    "            x = _int32((zone1[m] & upper) + (zone1[m+1] & lower))\n",
    "            \n",
    "            zone3.append(zone2[m] ^ (x >> 1))\n",
    "\n",
    "            if x & 1 != 0:\n",
    "                zone3[m] ^= 0x9908b0df\n",
    "        \n",
    "        xorflag = b''\n",
    "        \n",
    "        for m3 in zone3:\n",
    "            \n",
    "            for mi in range(4):\n",
    "                \n",
    "                xorflag += long_to_bytes((m3 >> (mi*8)) & 0xff)\n",
    "                \n",
    "        flag = bytes([xorflag[i] ^ twistflag[i] for i in range(len(xorflag))])\n",
    "        \n",
    "        if flag[4] == b'}':\n",
    "            print(flag)\n",
    "        \n",
    "        "
   ]
  },
  {
   "cell_type": "code",
   "execution_count": null,
   "id": "floppy-gross",
   "metadata": {},
   "outputs": [],
   "source": []
  },
  {
   "cell_type": "code",
   "execution_count": 506,
   "id": "owned-living",
   "metadata": {
    "scrolled": false
   },
   "outputs": [
    {
     "ename": "TypeError",
     "evalue": "can't concat str to bytes",
     "output_type": "error",
     "traceback": [
      "\u001b[0;31m---------------------------------------------------------------------------\u001b[0m",
      "\u001b[0;31mTypeError\u001b[0m                                 Traceback (most recent call last)",
      "\u001b[0;32m<ipython-input-506-71bfa3f7d5a2>\u001b[0m in \u001b[0;36m<module>\u001b[0;34m\u001b[0m\n\u001b[0;32m----> 1\u001b[0;31m \u001b[0mtxt\u001b[0m \u001b[0;34m=\u001b[0m \u001b[0mmake_plaintext\u001b[0m\u001b[0;34m(\u001b[0m\u001b[0;36m36\u001b[0m\u001b[0;34m)\u001b[0m\u001b[0;34m\u001b[0m\u001b[0;34m\u001b[0m\u001b[0m\n\u001b[0m\u001b[1;32m      2\u001b[0m \u001b[0;32mfor\u001b[0m \u001b[0mi\u001b[0m \u001b[0;32min\u001b[0m \u001b[0mrange\u001b[0m\u001b[0;34m(\u001b[0m\u001b[0;36m30\u001b[0m\u001b[0;34m,\u001b[0m\u001b[0;36m31\u001b[0m\u001b[0;34m,\u001b[0m\u001b[0;36m20\u001b[0m\u001b[0;34m)\u001b[0m\u001b[0;34m:\u001b[0m\u001b[0;34m\u001b[0m\u001b[0;34m\u001b[0m\u001b[0m\n\u001b[1;32m      3\u001b[0m     \u001b[0mprint\u001b[0m\u001b[0;34m(\u001b[0m\u001b[0mtxt\u001b[0m\u001b[0;34m[\u001b[0m\u001b[0mi\u001b[0m\u001b[0;34m:\u001b[0m\u001b[0mi\u001b[0m\u001b[0;34m+\u001b[0m\u001b[0;36m24\u001b[0m\u001b[0;34m]\u001b[0m\u001b[0;34m)\u001b[0m\u001b[0;34m\u001b[0m\u001b[0;34m\u001b[0m\u001b[0m\n\u001b[1;32m      4\u001b[0m     \u001b[0mprint\u001b[0m\u001b[0;34m(\u001b[0m\u001b[0mtxt\u001b[0m\u001b[0;34m[\u001b[0m\u001b[0mi\u001b[0m\u001b[0;34m+\u001b[0m\u001b[0;36m397\u001b[0m\u001b[0;34m*\u001b[0m\u001b[0;36m4\u001b[0m\u001b[0;34m:\u001b[0m\u001b[0mi\u001b[0m\u001b[0;34m+\u001b[0m\u001b[0;36m397\u001b[0m\u001b[0;34m*\u001b[0m\u001b[0;36m4\u001b[0m\u001b[0;34m+\u001b[0m\u001b[0;36m20\u001b[0m\u001b[0;34m]\u001b[0m\u001b[0;34m)\u001b[0m\u001b[0;34m\u001b[0m\u001b[0;34m\u001b[0m\u001b[0m\n\u001b[1;32m      5\u001b[0m     \u001b[0mprint\u001b[0m\u001b[0;34m(\u001b[0m\u001b[0mtxt\u001b[0m\u001b[0;34m[\u001b[0m\u001b[0mi\u001b[0m\u001b[0;34m+\u001b[0m\u001b[0;36m624\u001b[0m\u001b[0;34m*\u001b[0m\u001b[0;36m4\u001b[0m\u001b[0;34m:\u001b[0m\u001b[0mi\u001b[0m\u001b[0;34m+\u001b[0m\u001b[0;36m624\u001b[0m\u001b[0;34m*\u001b[0m\u001b[0;36m4\u001b[0m\u001b[0;34m+\u001b[0m\u001b[0;36m20\u001b[0m\u001b[0;34m]\u001b[0m\u001b[0;34m)\u001b[0m\u001b[0;34m\u001b[0m\u001b[0;34m\u001b[0m\u001b[0m\n",
      "\u001b[0;32m<ipython-input-503-828b12ecf6a6>\u001b[0m in \u001b[0;36mmake_plaintext\u001b[0;34m(padlen, num_iters)\u001b[0m\n\u001b[1;32m     36\u001b[0m \u001b[0;34m\u001b[0m\u001b[0m\n\u001b[1;32m     37\u001b[0m     \u001b[0;31m#Make our message even longer, just to show the strength\u001b[0m\u001b[0;34m\u001b[0m\u001b[0;34m\u001b[0m\u001b[0;34m\u001b[0m\u001b[0m\n\u001b[0;32m---> 38\u001b[0;31m     \u001b[0mpadded_msg\u001b[0m \u001b[0;34m=\u001b[0m \u001b[0;34m(\u001b[0m\u001b[0mflag\u001b[0m \u001b[0;34m+\u001b[0m \u001b[0mpadding\u001b[0m\u001b[0;34m)\u001b[0m\u001b[0;34m\u001b[0m\u001b[0;34m\u001b[0m\u001b[0m\n\u001b[0m\u001b[1;32m     39\u001b[0m     \u001b[0mplaintext\u001b[0m \u001b[0;34m=\u001b[0m \u001b[0mpadded_msg\u001b[0m\u001b[0;34m\u001b[0m\u001b[0;34m\u001b[0m\u001b[0m\n\u001b[1;32m     40\u001b[0m     \u001b[0;32mwhile\u001b[0m\u001b[0;34m(\u001b[0m\u001b[0mlen\u001b[0m\u001b[0;34m(\u001b[0m\u001b[0mplaintext\u001b[0m\u001b[0;34m)\u001b[0m \u001b[0;34m<\u001b[0m \u001b[0;36m2600\u001b[0m\u001b[0;34m)\u001b[0m\u001b[0;34m:\u001b[0m\u001b[0;34m\u001b[0m\u001b[0;34m\u001b[0m\u001b[0m\n",
      "\u001b[0;31mTypeError\u001b[0m: can't concat str to bytes"
     ]
    }
   ],
   "source": [
    "txt = make_plaintext(36)\n",
    "for i in range(30,31,20):\n",
    "    print(txt[i:i+24])\n",
    "    print(txt[i+397*4:i+397*4+20])\n",
    "    print(txt[i+624*4:i+624*4+20])\n",
    "    print()\n"
   ]
  },
  {
   "cell_type": "code",
   "execution_count": 499,
   "id": "hindu-tradition",
   "metadata": {},
   "outputs": [
    {
     "data": {
      "text/plain": [
       "26"
      ]
     },
     "execution_count": 499,
     "metadata": {},
     "output_type": "execute_result"
    }
   ],
   "source": [
    "len(\"RS{Y0U_4RE_G00D_ABYGRYTHA}\")"
   ]
  },
  {
   "cell_type": "code",
   "execution_count": 502,
   "id": "structured-qatar",
   "metadata": {},
   "outputs": [
    {
     "data": {
      "text/plain": [
       "17"
      ]
     },
     "execution_count": 502,
     "metadata": {},
     "output_type": "execute_result"
    }
   ],
   "source": [
    "len(\"RS{Y0U_4RE_G00D_A\")"
   ]
  },
  {
   "cell_type": "code",
   "execution_count": null,
   "id": "disciplinary-handy",
   "metadata": {},
   "outputs": [],
   "source": []
  },
  {
   "cell_type": "code",
   "execution_count": null,
   "id": "aquatic-router",
   "metadata": {},
   "outputs": [],
   "source": []
  },
  {
   "cell_type": "code",
   "execution_count": 26,
   "id": "rising-patch",
   "metadata": {},
   "outputs": [
    {
     "data": {
      "image/png": "[encoded data removed]",
      "text/plain": [
       "<Figure size 864x576 with 1 Axes>"
      ]
     },
     "metadata": {
      "needs_background": "light"
     },
     "output_type": "display_data"
    }
   ],
   "source": [
    "aa = np.zeros(2**16)\n",
    "\n",
    "for i in range(2**16):\n",
    "    \n",
    "    aa[i] = transform(i)\n",
    "    \n",
    "plt.figure(figsize=(12,8))\n",
    "\n",
    "plt.hist(aa,bins=256*4)\n",
    "\n",
    "plt.show()"
   ]
  },
  {
   "cell_type": "code",
   "execution_count": 28,
   "id": "joint-vitamin",
   "metadata": {},
   "outputs": [
    {
     "data": {
      "text/plain": [
       "2291143538"
      ]
     },
     "execution_count": 28,
     "metadata": {},
     "output_type": "execute_result"
    }
   ],
   "source": [
    "transform(70000)"
   ]
  },
  {
   "cell_type": "code",
   "execution_count": null,
   "id": "turkish-discretion",
   "metadata": {},
   "outputs": [],
   "source": []
  },
  {
   "cell_type": "code",
   "execution_count": 92,
   "id": "regulation-tackle",
   "metadata": {},
   "outputs": [],
   "source": [
    "class MT19937:\n",
    "    \"\"\"Classical Mersenne Twister Implementation.\"\"\"\n",
    "\n",
    "    def __init__(self, seed=None):\n",
    "        self.mt = [0 for i in range(624)]\n",
    "        self.index = 624\n",
    "        if seed is not None:\n",
    "            self.seed(seed)\n",
    "\n",
    "    def seed(self, seed):\n",
    "        self.mt[0] = seed\n",
    "        for i in range(1, 624):\n",
    "            self.mt[i] = self._int32(0x6c078965 *\n",
    "                                (self.mt[i - 1] ^ (self.mt[i - 1] >> 30)) + i)\n",
    "\n",
    "    def extract(self):\n",
    "        \"\"\" Extracts a 32bit word \"\"\"\n",
    "        if self.index >= 624:\n",
    "            self.twist()\n",
    "\n",
    "        x = self.mt[self.index]\n",
    "#         x ^= x >> 11\n",
    "#         x ^= (x << 7) & 0x9d2c5680\n",
    "#         x ^= (x << 15) & 0xefc60000\n",
    "#         x ^= x >> 18\n",
    "\n",
    "        self.index += 1\n",
    "        return self._int32(x)\n",
    "\n",
    "    def twist(self):\n",
    "        \"\"\" The twist operation. Advances the internal state \"\"\"\n",
    "        for i in range(624):\n",
    "            upper = 0x80000000\n",
    "            lower = 0x7fffffff\n",
    "\n",
    "            x = self._int32((self.mt[i] & upper) +\n",
    "                            (self.mt[(i + 1) % 624] & lower))\n",
    "            self.mt[i] = self.mt[(i + 397) % 624] ^ (x >> 1)\n",
    "\n",
    "            if x & 1 != 0:\n",
    "                self.mt[i] ^= 0x9908b0df\n",
    "\n",
    "        self.index = 0\n",
    "\n",
    "    def _int32(self, x):\n",
    "        return x & 0xffffffff"
   ]
  },
  {
   "cell_type": "code",
   "execution_count": 54,
   "id": "blank-ireland",
   "metadata": {},
   "outputs": [
    {
     "name": "stdout",
     "output_type": "stream",
     "text": [
      "3298477474047852\n",
      "3298467503928475\n"
     ]
    }
   ],
   "source": [
    "x = 3298467503928475\n",
    "x ^= x >> 18\n",
    "print(x)\n",
    "x = reduce(unshiftRight, makeList(18))\n",
    "print(x)"
   ]
  },
  {
   "cell_type": "code",
   "execution_count": 93,
   "id": "rotary-scratch",
   "metadata": {},
   "outputs": [
    {
     "name": "stdout",
     "output_type": "stream",
     "text": [
      "b'\\x80)\\xcf\\xb7'\n",
      "b'__RS'\n",
      "b'\\xdfv\\x9d\\xe4'\n",
      "3749092836\n"
     ]
    }
   ],
   "source": [
    "code = bytes.fromhex(\"8029cfb7\"); print(code)\n",
    "ct = b\"__RS\"; print(ct)\n",
    "xor = bytes([code[i] ^ ct[i] for i in range(4)]); print(xor)\n",
    "\n",
    "print(bytes_to_long(xor))"
   ]
  },
  {
   "cell_type": "code",
   "execution_count": 94,
   "id": "respected-knowing",
   "metadata": {},
   "outputs": [
    {
     "data": {
      "text/plain": [
       "mpz(1741501)"
      ]
     },
     "execution_count": 94,
     "metadata": {},
     "output_type": "execute_result"
    }
   ],
   "source": [
    "import gmpy2\n",
    "gmpy2.invert(0x6c07895,2**32)"
   ]
  },
  {
   "cell_type": "code",
   "execution_count": 95,
   "id": "measured-model",
   "metadata": {},
   "outputs": [
    {
     "name": "stdout",
     "output_type": "stream",
     "text": [
      "2848364883\n"
     ]
    }
   ],
   "source": [
    "seed = (bytes_to_long(xor)*int(gmpy2.invert(0x6c07895,2**32)) - 1) % 2**32; print(seed)"
   ]
  },
  {
   "cell_type": "code",
   "execution_count": 97,
   "id": "municipal-precipitation",
   "metadata": {},
   "outputs": [
    {
     "data": {
      "text/plain": [
       "2694698486"
      ]
     },
     "execution_count": 97,
     "metadata": {},
     "output_type": "execute_result"
    }
   ],
   "source": [
    "A = MT19937(seed = seed)\n",
    "A.extract()\n",
    "A.extract()"
   ]
  },
  {
   "cell_type": "code",
   "execution_count": 75,
   "id": "generic-penalty",
   "metadata": {},
   "outputs": [
    {
     "name": "stdout",
     "output_type": "stream",
     "text": [
      "[2560148628, 1417378837, 3386292150, 2270244438, 1131342915, 661847322, 623914842, 3083500246, 875054944, 1043523928, 3648415181, 1011576393]\n"
     ]
    }
   ],
   "source": [
    "A = MT19937(bytes_to_long(xor))\n",
    "nxt = [A.extract() for _ in range(12)]; print(nxt)"
   ]
  },
  {
   "cell_type": "code",
   "execution_count": null,
   "id": "sudden-wilderness",
   "metadata": {},
   "outputs": [],
   "source": []
  },
  {
   "cell_type": "code",
   "execution_count": null,
   "id": "heated-dover",
   "metadata": {},
   "outputs": [],
   "source": []
  },
  {
   "cell_type": "code",
   "execution_count": null,
   "id": "different-simulation",
   "metadata": {},
   "outputs": [],
   "source": []
  },
  {
   "cell_type": "code",
   "execution_count": 39,
   "id": "spiritual-bookmark",
   "metadata": {},
   "outputs": [],
   "source": [
    "A = MT19937(seed=3495634875)"
   ]
  },
  {
   "cell_type": "code",
   "execution_count": 44,
   "id": "designing-serum",
   "metadata": {},
   "outputs": [
    {
     "data": {
      "text/plain": [
       "0"
      ]
     },
     "execution_count": 44,
     "metadata": {},
     "output_type": "execute_result"
    }
   ],
   "source": [
    "9000 >> 18"
   ]
  },
  {
   "cell_type": "code",
   "execution_count": 40,
   "id": "electronic-concentration",
   "metadata": {},
   "outputs": [
    {
     "name": "stdout",
     "output_type": "stream",
     "text": [
      "1117994340\n",
      "46164144\n",
      "1807534703\n",
      "2100706849\n",
      "1186314005\n",
      "497265165\n",
      "1479288487\n",
      "1334516573\n",
      "614023678\n",
      "901636356\n",
      "1814470914\n",
      "3523674099\n",
      "2437195314\n",
      "3650687693\n",
      "4065789105\n",
      "3967453884\n",
      "1313156329\n",
      "293478927\n",
      "702577131\n",
      "3397677968\n",
      "1874579840\n",
      "2126913019\n",
      "1675150802\n",
      "2527571208\n",
      "577793495\n",
      "223939526\n",
      "12852087\n",
      "476940737\n",
      "1624751553\n",
      "2130306610\n",
      "2579283482\n",
      "1055153069\n",
      "783629760\n",
      "2417168316\n",
      "126949880\n",
      "4071774158\n"
     ]
    }
   ],
   "source": [
    "for i in range(36):\n",
    "    \n",
    "    print(A.extract())"
   ]
  },
  {
   "cell_type": "code",
   "execution_count": 43,
   "id": "nervous-horizon",
   "metadata": {},
   "outputs": [
    {
     "data": {
      "text/plain": [
       "11"
      ]
     },
     "execution_count": 43,
     "metadata": {},
     "output_type": "execute_result"
    }
   ],
   "source": [
    "transform(476940737)"
   ]
  },
  {
   "cell_type": "code",
   "execution_count": null,
   "id": "recorded-electron",
   "metadata": {},
   "outputs": [],
   "source": []
  }
 ],
 "metadata": {
  "kernelspec": {
   "display_name": "Python 3",
   "language": "python",
   "name": "python3"
  },
  "language_info": {
   "codemirror_mode": {
    "name": "ipython",
    "version": 3
   },
   "file_extension": ".py",
   "mimetype": "text/x-python",
   "name": "python",
   "nbconvert_exporter": "python",
   "pygments_lexer": "ipython3",
   "version": "3.9.1+"
  }
 },
 "nbformat": 4,
 "nbformat_minor": 5
}
