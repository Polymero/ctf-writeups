{
 "cells": [
  {
   "cell_type": "markdown",
   "id": "swiss-software",
   "metadata": {},
   "source": [
    "# Exploration of Unlucky Strike"
   ]
  },
  {
   "cell_type": "code",
   "execution_count": 7,
   "id": "entire-compiler",
   "metadata": {},
   "outputs": [],
   "source": [
    "import base64\n",
    "import serv\n",
    "import os\n",
    "from Crypto.Random import get_random_bytes\n",
    "from Crypto.Util.number import long_to_bytes\n",
    "from Crypto.Cipher import AES"
   ]
  },
  {
   "cell_type": "code",
   "execution_count": 2,
   "id": "consecutive-april",
   "metadata": {},
   "outputs": [],
   "source": [
    "A = serv.Server()\n",
    "serv.Nballs = 5\n",
    "A.numbers = [int.from_bytes(get_random_bytes(3), \"big\")   for i in range(serv.Nballs)]"
   ]
  },
  {
   "cell_type": "code",
   "execution_count": 197,
   "id": "latter-chrome",
   "metadata": {},
   "outputs": [
    {
     "data": {
      "text/plain": [
       "[13967147, 526602, 8804009, 16256181, 15433614]"
      ]
     },
     "execution_count": 197,
     "metadata": {},
     "output_type": "execute_result"
    }
   ],
   "source": [
    "A.numbers"
   ]
  },
  {
   "cell_type": "code",
   "execution_count": 80,
   "id": "acting-maryland",
   "metadata": {},
   "outputs": [
    {
     "name": "stdout",
     "output_type": "stream",
     "text": [
      "b'numbers:5451,50199,35627,36972,2345\\r\\r\\r\\r\\r\\r\\r\\r\\r\\r\\r\\r\\r'\n",
      "80 b\"7Dc\\xf4\\xbb\\x92G\\xd0\\xce2\\x80S\\xc8\\x15\\xd3\\x91\\xf3\\xdf\\x17\\xb2\\xe0\\xb9\\x86\\x8c>\\xd18\\xbb\\xa7\\x16\\x99\\xc0\\xae\\xef\\x06ab\\x19w\\x80\\x90\\x18\\xa9\\xd7=4\\x0e\\xe3|Q\\xee\\xe0P\\x08\\xe0\\xf0\\x98\\x7f\\xd8\\x8f\\x8a.\\xff\\x1e\\xe3s\\xe6\\xac\\xa5Y\\xd6\\x15\\xb4t\\x9aHm_\\xc5\\xcb@B3\\xa0g\\x1bs4>\\xebr'\\xd5\\x9c\\x95\\x0b\"\n"
     ]
    }
   ],
   "source": [
    "ticket = base64.b64decode(A.getTicket())\n",
    "print(len(rtb)-16, rtb)"
   ]
  },
  {
   "cell_type": "code",
   "execution_count": 34,
   "id": "romance-national",
   "metadata": {},
   "outputs": [
    {
     "name": "stdout",
     "output_type": "stream",
     "text": [
      "b'numbers:17950,55\\xabZ\\xb3\\x9a(\\x08\\x1ej\\x8e\\x08\\xeb\\x18\\x9cwx945\\x0e\\x0e\\x0e\\x0e\\x0e\\x0e\\x0e\\x0e\\x0e\\x0e\\x0e\\x0e\\x02\\x02'\n",
      "120\n"
     ]
    }
   ],
   "source": [
    "#trytick = b'w\\x8c\\xc7l4\\xfe\\xcf\\xddP\\x7f\\x81\\x1c\\x00\\xe4\\xab\\x84\\x05\\x8d\\xad\\x00\\xa7\\x1c_\\xa46\\xef\\xdax\\x80\\xc2g\\xd0,\\xcd\\x19\\xabO\\xee\\x9a\\xb7\\xd7\\x0f\\xdb[\\x06\\xcd\"\\xce\\xf6\\x9d\\xa8\\xf1\\xbe\\xb1w\\xbc|\\xdb\\xe0\\x945\\xfe\\x83\\xd4'\n",
    "dec = AES.new(A.key, AES.MODE_CBC, trytick[:16]).decrypt(trytick[16:])\n",
    "print(dec)\n",
    "print(dec[-18])"
   ]
  },
  {
   "cell_type": "code",
   "execution_count": 156,
   "id": "extraordinary-professional",
   "metadata": {
    "scrolled": true
   },
   "outputs": [
    {
     "name": "stdout",
     "output_type": "stream",
     "text": [
      "b'numbers:5451,50199,35627,36972,2345\\r\\r\\r\\r\\r\\r\\r\\r\\r\\r\\r\\r\\r'\n"
     ]
    }
   ],
   "source": [
    "# Padding Oracle Attack\n",
    "\n",
    "C_blc = []\n",
    "D_blc = []\n",
    "P_blc = []\n",
    "\n",
    "for blc in range(3):\n",
    "    \n",
    "    rtb = ticket[:len(ticket)-16*blc]\n",
    "    #print(rtb)\n",
    "    \n",
    "    C = b''\n",
    "    D = b''\n",
    "    P = b''\n",
    "\n",
    "    for byt in range(1,17):\n",
    "\n",
    "        #print(byt)\n",
    "        assert len(C) == len(D) == len(P)\n",
    "\n",
    "        og_byt = rtb[-16 - byt]\n",
    "\n",
    "        pb = bytes([D[i] ^ byt for i in range(len(D))][::-1])\n",
    "        padbyt = rtb[:(len(rtb)-16)-(byt-1)] + pb + rtb[-16:]\n",
    "\n",
    "        assert len(padbyt) == len(rtb)\n",
    "\n",
    "        b_correct = None\n",
    "        pos_lst = []\n",
    "        for b in range(256):\n",
    "\n",
    "            trytick = bytearray( padbyt )\n",
    "\n",
    "            trytick[-16 - byt] = b\n",
    "\n",
    "            assert len(trytick) == len(rtb)\n",
    "\n",
    "            check = A.redeemTicket(base64.b64encode( ticket + trytick ))\n",
    "\n",
    "            if check:\n",
    "                pos_lst.append(b)\n",
    "\n",
    "        if len(pos_lst) == 1:\n",
    "            b_correct = pos_lst[0]\n",
    "        elif len(pos_lst) == 2:\n",
    "            b1,b2 = pos_lst\n",
    "            if b1 == padbyt[-16 - byt]:\n",
    "                b_correct = b2\n",
    "            if b2 == padbyt[-16 - byt]:\n",
    "                b_correct = b1\n",
    "        else:\n",
    "            print(pos_lst)\n",
    "            raise ValueError('Oh oh...')\n",
    "\n",
    "        #print(pos_lst)            \n",
    "        C += long_to_bytes(b_correct)\n",
    "        D += long_to_bytes(b_correct ^ byt)\n",
    "        P += long_to_bytes(b_correct ^ byt ^ og_byt)\n",
    "        \n",
    "        #print(P[::-1])\n",
    "    \n",
    "    C_blc.append(C[::-1])\n",
    "    D_blc.append(D[::-1])\n",
    "    P_blc.append(P[::-1])\n",
    "\n",
    "print(b''.join(P_blc[::-1]))"
   ]
  },
  {
   "cell_type": "code",
   "execution_count": 233,
   "id": "regional-cycle",
   "metadata": {},
   "outputs": [
    {
     "name": "stdout",
     "output_type": "stream",
     "text": [
      "b'numbers:13967147,526602,8804009,16256181,15433614\\x0f\\x0f\\x0f\\x0f\\x0f\\x0f\\x0f\\x0f\\x0f\\x0f\\x0f\\x0f\\x0f\\x0f\\x0f'\n",
      "\n",
      "b'\\xaa\\xaa\\xaa\\xaa\\xaa\\xaa\\xaa\\xaa\\xaa\\xaa\\xaa\\xaa\\xaa\\xaa\\xaa\\xaa\\xaa\\xaa\\xaa\\xaa\\xaa\\xaa\\xaa\\xaa\\xaa\\xaa\\xaa\\xaa\\xaa\\xaa\\xaa\\xaa\\xaa\\xaa\\xaa\\xaa\\xaa\\xaa\\xaa\\xaa\\xaa\\xaa\\xaa\\xaa\\xaa\\xaa\\xaa\\xaa\\xaa\\xaa\\xaa\\xaa\\xaa\\xaa\\xaa\\xaa\\xaa\\xaa\\xaa\\xaa\\xaa\\xaa\\xaa\\xaa\\xaa\\xaa\\xaa\\xaa\\xaa\\xaa\\xaa\\xaa\\xaa\\xaa\\xaa\\xaa\\xaa\\xaa\\xaa\\xaa'\n",
      "b'\"y\\xa4\\x92\\xcd{&F\\xe53#|\\xc0O\\xd7\\xe4\\xb0\\xf5\\xf8\\x0e{v\\xe9$K\\xd5s\\xc1\\x0f\\xb5\\xe1[\\xa8\\xed=]\\x84\\x02\\xf8\\x9d\\x0c\\x89e\\x99\\x88{Z\\xd1\\x10\\x03\\xc5\\xad\\x87\\xfbM\\n\\x00p\\xd8\\xc6e?\\xba\\xa7'\n",
      "\n",
      "b'L\\x0c\\xc9\\xf0\\xa8\\tU|\\xd4\\x00\\x1aJ\\xf7~\\xe3\\xd3\\x9c\\xc0\\xca8MF\\xdb\\x08s\\xedC\\xf5?\\x85\\xd8w\\x99\\xdb\\x0fh\\xb23\\xc0\\xac \\xb8P\\xad\\xbbHl\\xe0$\\x0c\\xca\\xa2\\x88\\xf4B\\x05\\x0f\\x7f\\xd7\\xc9j0\\xb5\\xa8\\xaa\\xaa\\xaa\\xaa\\xaa\\xaa\\xaa\\xaa\\xaa\\xaa\\xaa\\xaa\\xaa\\xaa\\xaa\\xaa'\n"
     ]
    }
   ],
   "source": [
    "# Padding Oracle Attack\n",
    "\n",
    "payload = b'numbers:' + ','.join([str(i) for i in A.numbers]).encode()\n",
    "padpay = payload + (16-len(payload)%16) * long_to_bytes(16-len(payload)%16)\n",
    "print(padpay)\n",
    "print()\n",
    "\n",
    "C_blc = []\n",
    "D_blc = []\n",
    "\n",
    "tick_pl = b'\\xaa'*16*5 #+ ticket[-16:]\n",
    "print(tick_pl)\n",
    "\n",
    "for blc in range(4):\n",
    "    \n",
    "    rtb = tick_pl[:len(tick_pl)-16*blc]\n",
    "    #print(rtb)\n",
    "    \n",
    "    D = b''\n",
    "\n",
    "    for byt in range(1,17):\n",
    "\n",
    "        pb = bytes([D[i] ^ byt for i in range(len(D))][::-1])\n",
    "        padbyt = rtb[:(len(rtb)-16)-(byt-1)] + pb + rtb[-16:]\n",
    "\n",
    "        assert len(padbyt) == len(rtb)\n",
    "\n",
    "        b_correct = None\n",
    "        pos_lst = []\n",
    "        for b in range(256):\n",
    "\n",
    "            trytick = bytearray( padbyt )\n",
    "\n",
    "            trytick[-16 - byt] = b\n",
    "\n",
    "            assert len(trytick) == len(rtb)\n",
    "\n",
    "            check = A.redeemTicket(base64.b64encode( ticket + trytick ))\n",
    "\n",
    "            if check:\n",
    "                pos_lst.append(b)\n",
    "                break\n",
    "\n",
    "        if len(pos_lst) == 1:\n",
    "            b_correct = pos_lst[0]\n",
    "        elif len(pos_lst) == 2:\n",
    "            b1,b2 = pos_lst\n",
    "            if b1 == padbyt[-16 - byt]:\n",
    "                b_correct = b2\n",
    "            if b2 == padbyt[-16 - byt]:\n",
    "                b_correct = b1\n",
    "        else:\n",
    "            print(pos_lst)\n",
    "            raise ValueError('Oh oh...')\n",
    "          \n",
    "        D += long_to_bytes(b_correct ^ byt)\n",
    "        \n",
    "    pl_blc = padpay[len(padpay)-16*(blc+1):len(padpay)-16*blc]\n",
    "    \n",
    "    C_rep = bytes([pl_blc[i] ^ D[-(i+1)] for i in range(16)])\n",
    "    \n",
    "    tick_pl = tick_pl[:len(padpay)-16*(blc+1)] + C_rep + tick_pl[len(padpay)-16*blc:]\n",
    "    \n",
    "    D_blc.append(D[::-1])\n",
    "\n",
    "print(b''.join(D_blc[::-1]))\n",
    "print()\n",
    "print(tick_pl)"
   ]
  },
  {
   "cell_type": "code",
   "execution_count": 234,
   "id": "eligible-bridal",
   "metadata": {},
   "outputs": [
    {
     "name": "stdout",
     "output_type": "stream",
     "text": [
      "**JACKPOT**  -> Here is your reward: NONO\n"
     ]
    },
    {
     "data": {
      "text/plain": [
       "True"
      ]
     },
     "execution_count": 234,
     "metadata": {},
     "output_type": "execute_result"
    }
   ],
   "source": [
    "A.redeemTicket(base64.b64encode( tick_pl ))"
   ]
  },
  {
   "cell_type": "code",
   "execution_count": 229,
   "id": "public-departure",
   "metadata": {},
   "outputs": [
    {
     "data": {
      "text/plain": [
       "b'\\xea\\x84<K\\x04\\xec\\x9e\\x82p\\x1b\\xfa\\xbex/\\x88\\xe5iv \\xa0M~\\x8f>w\\xdd\\xb1\\xbe\\x8f(\\x10.\\x95\\x12Z\\x1b\\xa9\\xf5\\x01\\xd7K\\x99\\xe0\\xdd\\xa9M\\x16\\x82\\xae\\x94\\xfeS\\xc3\\xce\\xd7\\x85\\xc5\\xa3\\xe8Q\\x9be\\xccr'"
      ]
     },
     "execution_count": 229,
     "metadata": {},
     "output_type": "execute_result"
    }
   ],
   "source": [
    "ticket"
   ]
  },
  {
   "cell_type": "code",
   "execution_count": 223,
   "id": "awful-meditation",
   "metadata": {},
   "outputs": [],
   "source": [
    "def unpkcs7(padded):\n",
    "    while True:\n",
    "        if (len(padded) & 0xf) != 0 or len(padded) == 0: break\n",
    "        padlen = padded[-1]\n",
    "        if padlen < 1 or padlen > 16: break\n",
    "        if any([ padded[-(i + 1)] != padlen for i in range(padlen)]): break\n",
    "        return padded[:(-padlen)]\n",
    "    raise ValueError\n",
    "\n",
    "def redeemTicket(key, ticket):\n",
    "    try:\n",
    "        tenc = base64.b64decode(ticket)\n",
    "        cipher = AES.new(key, AES.MODE_CBC, tenc[:16])\n",
    "        traw = cipher.decrypt(tenc[16:])\n",
    "        print(traw)\n",
    "        traw = unpkcs7(traw)\n",
    "        print(traw)\n",
    "        nums = [v for v in traw[traw.index(b\"numbers\")+8:].split(b\",\")] [:5]\n",
    "        print(nums)\n",
    "    except (ValueError, IndexError):\n",
    "        #print(\"that is an invalid ticket\")\n",
    "        return False\n",
    "    if any([ str(v).encode(\"ascii\") not in nums for v in A.numbers]):\n",
    "        print(f\"sorry, that ticket did not win anything\")\n",
    "        print(cipher.decrypt(tenc[16:]))\n",
    "        return True\n",
    "    else:\n",
    "        print(f\"**JACKPOT**  -> Here is your reward: {FLAG}\")\n",
    "        return True"
   ]
  },
  {
   "cell_type": "code",
   "execution_count": 224,
   "id": "collectible-invite",
   "metadata": {},
   "outputs": [
    {
     "name": "stdout",
     "output_type": "stream",
     "text": [
      "b'numbers:13967147, 526602, 8804009, 16256181, 15433614\\x0b\\x0b\\x0b\\x0b\\x0b\\x0b\\x0b\\x0b\\x0b\\x0b\\x0b'\n",
      "b'numbers:13967147, 526602, 8804009, 16256181, 15433614'\n",
      "[b'13967147', b' 526602', b' 8804009', b' 16256181', b' 15433614']\n",
      "sorry, that ticket did not win anything\n",
      "b'qg\\t\\x87+\\x0b\\xb50\\n\\x00\\x0b\\x11\\xa8\\xf4\\x80\\xeb, 526602, 8804009, 16256181, 15433614\\x0b\\x0b\\x0b\\x0b\\x0b\\x0b\\x0b\\x0b\\x0b\\x0b\\x0b'\n"
     ]
    },
    {
     "data": {
      "text/plain": [
       "True"
      ]
     },
     "execution_count": 224,
     "metadata": {},
     "output_type": "execute_result"
    }
   ],
   "source": [
    "redeemTicket(A.key, base64.b64encode( tick_pl ))"
   ]
  },
  {
   "cell_type": "code",
   "execution_count": 208,
   "id": "impossible-local",
   "metadata": {},
   "outputs": [
    {
     "data": {
      "text/plain": [
       "[13967147, 526602, 8804009, 16256181, 15433614]"
      ]
     },
     "execution_count": 208,
     "metadata": {},
     "output_type": "execute_result"
    }
   ],
   "source": [
    "A.numbers"
   ]
  },
  {
   "cell_type": "code",
   "execution_count": 167,
   "id": "joint-swing",
   "metadata": {},
   "outputs": [
    {
     "data": {
      "text/plain": [
       "b'\\x01\\x02\\x03\\x04\\x05\\x06\\x07\\x08\\t\\n\\x0b\\x0c\\r\\x0e\\x0f\\x10'"
      ]
     },
     "execution_count": 167,
     "metadata": {},
     "output_type": "execute_result"
    }
   ],
   "source": [
    "bytes([C[i] ^ D[i] for i in range(len(C))])"
   ]
  },
  {
   "cell_type": "code",
   "execution_count": null,
   "id": "simple-penalty",
   "metadata": {},
   "outputs": [],
   "source": []
  },
  {
   "cell_type": "code",
   "execution_count": 152,
   "id": "laden-trigger",
   "metadata": {},
   "outputs": [
    {
     "data": {
      "text/plain": [
       "[b'\\xa6&o\\x16\\xa4\\xf8\\x0c\\xdaF\\x94\\xed\\xd0\\xa4@\\x1b\\x8f',\n",
       " b'PO\\x0c\\x93xH\\xbd\\t[\\xee\\x87\\x87\\xb8\\x1a<\\x1c',\n",
       " b'\\x84\\xf1Q)a\\x9e\\xed\\xb8E/\\xcf\\x8fT\\x1a\\xb8\\xd4']"
      ]
     },
     "execution_count": 152,
     "metadata": {},
     "output_type": "execute_result"
    }
   ],
   "source": [
    "D_blc"
   ]
  },
  {
   "cell_type": "code",
   "execution_count": 153,
   "id": "numerous-convert",
   "metadata": {},
   "outputs": [
    {
     "name": "stdout",
     "output_type": "stream",
     "text": [
      "b'numbers:15087615, 5622752, 7060194, 552130, 12062106\\x0c\\x0c\\x0c\\x0c\\x0c\\x0c\\x0c\\x0c\\x0c\\x0c\\x0c\\x0c'\n",
      "\n",
      "[]\n"
     ]
    },
    {
     "ename": "ValueError",
     "evalue": "Oh oh...",
     "output_type": "error",
     "traceback": [
      "\u001b[0;31m---------------------------------------------------------------------------\u001b[0m",
      "\u001b[0;31mValueError\u001b[0m                                Traceback (most recent call last)",
      "\u001b[0;32m<ipython-input-153-ec66bfd1f57e>\u001b[0m in \u001b[0;36m<module>\u001b[0;34m\u001b[0m\n\u001b[1;32m     47\u001b[0m     \u001b[0;32melse\u001b[0m\u001b[0;34m:\u001b[0m\u001b[0;34m\u001b[0m\u001b[0;34m\u001b[0m\u001b[0m\n\u001b[1;32m     48\u001b[0m         \u001b[0mprint\u001b[0m\u001b[0;34m(\u001b[0m\u001b[0mpos_lst\u001b[0m\u001b[0;34m)\u001b[0m\u001b[0;34m\u001b[0m\u001b[0;34m\u001b[0m\u001b[0m\n\u001b[0;32m---> 49\u001b[0;31m         \u001b[0;32mraise\u001b[0m \u001b[0mValueError\u001b[0m\u001b[0;34m(\u001b[0m\u001b[0;34m'Oh oh...'\u001b[0m\u001b[0;34m)\u001b[0m\u001b[0;34m\u001b[0m\u001b[0;34m\u001b[0m\u001b[0m\n\u001b[0m\u001b[1;32m     50\u001b[0m \u001b[0;34m\u001b[0m\u001b[0m\n\u001b[1;32m     51\u001b[0m     \u001b[0mD\u001b[0m \u001b[0;34m+=\u001b[0m \u001b[0mlong_to_bytes\u001b[0m\u001b[0;34m(\u001b[0m\u001b[0mb_correct\u001b[0m \u001b[0;34m^\u001b[0m \u001b[0mbyt\u001b[0m\u001b[0;34m)\u001b[0m\u001b[0;34m\u001b[0m\u001b[0;34m\u001b[0m\u001b[0m\n",
      "\u001b[0;31mValueError\u001b[0m: Oh oh..."
     ]
    }
   ],
   "source": [
    "payload = b'numbers:15087615, 5622752, 7060194, 552130, 12062106'\n",
    "padpay = payload + (16-len(payload)%16) * long_to_bytes(16-len(payload)%16)\n",
    "print(padpay)\n",
    "print()\n",
    "\n",
    "n_blc = len(padpay)//16 + 1\n",
    "\n",
    "C0 = b'\\x00'*16\n",
    "C1 = b'\\x01'*16\n",
    "C2 = b'\\x02'*16\n",
    "C3 = b'\\x03'*16\n",
    "C4 = b'\\x04'*16\n",
    "C5 = b'\\x05'*16\n",
    "\n",
    "D = b''\n",
    "\n",
    "for byt in range(1,17):\n",
    "    \n",
    "    og_byt = C5[-byt]\n",
    "\n",
    "    pb = bytes([D[i] ^ byt for i in range(len(D))][::-1])\n",
    "    padbyt = C5[:len(C5)-(byt-1)] + pb \n",
    "    \n",
    "    assert len(C5) == len(padbyt)\n",
    "\n",
    "    b_correct = None\n",
    "    pos_lst = []\n",
    "    for b in range(256):\n",
    "\n",
    "        trick = bytearray(padbyt)\n",
    "\n",
    "        trick[-byt] = b\n",
    "\n",
    "        check = A.redeemTicket(base64.b64encode( ticket + trick ))\n",
    "\n",
    "        if check:\n",
    "            pos_lst.append(b)\n",
    "            \n",
    "    if len(pos_lst) == 1:\n",
    "        b_correct = pos_lst[0]\n",
    "    elif len(pos_lst) == 2:\n",
    "        b1,b2 = pos_lst\n",
    "        if b1 == og_byt:\n",
    "            b_correct = b2\n",
    "        if b2 == og_byt:\n",
    "            b_correct = b1\n",
    "    else:\n",
    "        print(pos_lst)\n",
    "        raise ValueError('Oh oh...')\n",
    "        \n",
    "    D += long_to_bytes(b_correct ^ byt)\n",
    "        \n",
    "print(D)"
   ]
  },
  {
   "cell_type": "code",
   "execution_count": 151,
   "id": "advance-circus",
   "metadata": {},
   "outputs": [
    {
     "data": {
      "text/plain": [
       "b'Q*'"
      ]
     },
     "execution_count": 151,
     "metadata": {},
     "output_type": "execute_result"
    }
   ],
   "source": [
    "D"
   ]
  },
  {
   "cell_type": "code",
   "execution_count": null,
   "id": "every-nashville",
   "metadata": {},
   "outputs": [],
   "source": []
  }
 ],
 "metadata": {
  "kernelspec": {
   "display_name": "Python 3",
   "language": "python",
   "name": "python3"
  },
  "language_info": {
   "codemirror_mode": {
    "name": "ipython",
    "version": 3
   },
   "file_extension": ".py",
   "mimetype": "text/x-python",
   "name": "python",
   "nbconvert_exporter": "python",
   "pygments_lexer": "ipython3",
   "version": "3.9.1+"
  }
 },
 "nbformat": 4,
 "nbformat_minor": 5
}
