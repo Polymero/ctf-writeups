{
 "cells": [
  {
   "cell_type": "code",
   "execution_count": 1,
   "id": "behind-aquarium",
   "metadata": {},
   "outputs": [],
   "source": [
    "p = 7237005577332262213973186563042994240829374041602535252466099000494570602917\n",
    "q = 88653318322320212121171535397276679450159832009631056842709712756058489880609\n",
    "e = 16\n",
    "c = 128067909105216284348808993695734979917384615977985008857494038384160720721127262500602107681721675827823420594821881043967947295783995842628815275429540\n",
    "N = p*q"
   ]
  },
  {
   "cell_type": "code",
   "execution_count": 4,
   "id": "czech-involvement",
   "metadata": {},
   "outputs": [],
   "source": [
    "R = Zmod(N)"
   ]
  },
  {
   "cell_type": "code",
   "execution_count": null,
   "id": "excess-delhi",
   "metadata": {},
   "outputs": [],
   "source": [
    "A = R(c).nth_root(16)"
   ]
  },
  {
   "cell_type": "code",
   "execution_count": null,
   "id": "executive-seafood",
   "metadata": {},
   "outputs": [],
   "source": [
    "print(A)"
   ]
  },
  {
   "cell_type": "code",
   "execution_count": null,
   "id": "broke-seventh",
   "metadata": {},
   "outputs": [],
   "source": []
  }
 ],
 "metadata": {
  "kernelspec": {
   "display_name": "SageMath 9.2",
   "language": "sage",
   "name": "sagemath"
  },
  "language_info": {
   "codemirror_mode": {
    "name": "ipython",
    "version": 3
   },
   "file_extension": ".py",
   "mimetype": "text/x-python",
   "name": "python",
   "nbconvert_exporter": "python",
   "pygments_lexer": "ipython3",
   "version": "3.9.1+"
  }
 },
 "nbformat": 4,
 "nbformat_minor": 5
}
