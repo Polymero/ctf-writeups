{
 "cells": [
  {
   "cell_type": "code",
   "execution_count": null,
   "id": "expanded-communist",
   "metadata": {},
   "outputs": [],
   "source": []
  },
  {
   "cell_type": "code",
   "execution_count": null,
   "id": "rocky-fence",
   "metadata": {},
   "outputs": [],
   "source": []
  },
  {
   "cell_type": "code",
   "execution_count": null,
   "id": "potential-season",
   "metadata": {},
   "outputs": [],
   "source": []
  },
  {
   "cell_type": "code",
   "execution_count": 1,
   "id": "unavailable-gross",
   "metadata": {},
   "outputs": [],
   "source": [
    "def modular_sqrt(a, p):\n",
    "    \"\"\" Find a quadratic residue (mod p) of 'a'. p\n",
    "        must be an odd prime.\n",
    "\n",
    "        Solve the congruence of the form:\n",
    "            x^2 = a (mod p)\n",
    "        And returns x. Note that p - x is also a root.\n",
    "\n",
    "        0 is returned is no square root exists for\n",
    "        these a and p.\n",
    "\n",
    "        The Tonelli-Shanks algorithm is used (except\n",
    "        for some simple cases in which the solution\n",
    "        is known from an identity). This algorithm\n",
    "        runs in polynomial time (unless the\n",
    "        generalized Riemann hypothesis is false).\n",
    "    \"\"\"\n",
    "    # Simple cases\n",
    "    #\n",
    "    if legendre_symbol(a, p) != 1:\n",
    "        return 0\n",
    "    elif a == 0:\n",
    "        return 0\n",
    "    elif p == 2:\n",
    "        return 0\n",
    "    elif p % 4 == 3:\n",
    "        return pow(a, (p + 1) / 4, p)\n",
    "\n",
    "    # Partition p-1 to s * 2^e for an odd s (i.e.\n",
    "    # reduce all the powers of 2 from p-1)\n",
    "    #\n",
    "    s = p - 1\n",
    "    e = 0\n",
    "    while s % 2 == 0:\n",
    "        s /= 2\n",
    "        e += 1\n",
    "\n",
    "    # Find some 'n' with a legendre symbol n|p = -1.\n",
    "    # Shouldn't take long.\n",
    "    #\n",
    "    n = 2\n",
    "    while legendre_symbol(n, p) != -1:\n",
    "        n += 1\n",
    "\n",
    "    # Here be dragons!\n",
    "    # Read the paper \"Square roots from 1; 24, 51,\n",
    "    # 10 to Dan Shanks\" by Ezra Brown for more\n",
    "    # information\n",
    "    #\n",
    "\n",
    "    # x is a guess of the square root that gets better\n",
    "    # with each iteration.\n",
    "    # b is the \"fudge factor\" - by how much we're off\n",
    "    # with the guess. The invariant x^2 = ab (mod p)\n",
    "    # is maintained throughout the loop.\n",
    "    # g is used for successive powers of n to update\n",
    "    # both a and b\n",
    "    # r is the exponent - decreases with each update\n",
    "    #\n",
    "    x = pow(a, (s + 1) / 2, p)\n",
    "    b = pow(a, s, p)\n",
    "    g = pow(n, s, p)\n",
    "    r = e\n",
    "\n",
    "    while True:\n",
    "        t = b\n",
    "        m = 0\n",
    "        for m in xrange(r):\n",
    "            if t == 1:\n",
    "                break\n",
    "            t = pow(t, 2, p)\n",
    "\n",
    "        if m == 0:\n",
    "            return x\n",
    "\n",
    "        gs = pow(g, 2 ** (r - m - 1), p)\n",
    "        g = (gs * gs) % p\n",
    "        x = (x * gs) % p\n",
    "        b = (b * g) % p\n",
    "        r = m\n",
    "\n",
    "\n",
    "def legendre_symbol(a, p):\n",
    "    \"\"\" Compute the Legendre symbol a|p using\n",
    "        Euler's criterion. p is a prime, a is\n",
    "        relatively prime to p (if p divides\n",
    "        a, then a|p = 0)\n",
    "\n",
    "        Returns 1 if a has a square root modulo\n",
    "        p, -1 otherwise.\n",
    "    \"\"\"\n",
    "    ls = pow(a, (p - 1) / 2, p)\n",
    "    return -1 if ls == p - 1 else ls"
   ]
  },
  {
   "cell_type": "code",
   "execution_count": 2,
   "id": "lesbian-hacker",
   "metadata": {},
   "outputs": [],
   "source": [
    "from Crypto.Util.number import long_to_bytes"
   ]
  },
  {
   "cell_type": "code",
   "execution_count": 17,
   "id": "split-socket",
   "metadata": {},
   "outputs": [],
   "source": [
    "import gmpy2"
   ]
  },
  {
   "cell_type": "code",
   "execution_count": 22,
   "id": "instructional-kentucky",
   "metadata": {},
   "outputs": [
    {
     "data": {
      "text/plain": [
       "mpz(16)"
      ]
     },
     "execution_count": 22,
     "metadata": {},
     "output_type": "execute_result"
    }
   ],
   "source": [
    "gmpy2.gcd(e2, (p2-1)*(q2-1))"
   ]
  },
  {
   "cell_type": "code",
   "execution_count": 3,
   "id": "known-identity",
   "metadata": {
    "scrolled": false
   },
   "outputs": [
    {
     "ename": "TypeError",
     "evalue": "pow() 3rd argument not allowed unless all arguments are integers",
     "output_type": "error",
     "traceback": [
      "\u001b[0;31m---------------------------------------------------------------------------\u001b[0m",
      "\u001b[0;31mTypeError\u001b[0m                                 Traceback (most recent call last)",
      "\u001b[0;32m<ipython-input-3-2a4792832666>\u001b[0m in \u001b[0;36m<module>\u001b[0;34m\u001b[0m\n\u001b[1;32m     12\u001b[0m \u001b[0;32mfor\u001b[0m \u001b[0mi\u001b[0m \u001b[0;32min\u001b[0m \u001b[0mrange\u001b[0m\u001b[0;34m(\u001b[0m\u001b[0;36m4\u001b[0m\u001b[0;34m)\u001b[0m\u001b[0;34m:\u001b[0m\u001b[0;34m\u001b[0m\u001b[0;34m\u001b[0m\u001b[0m\n\u001b[1;32m     13\u001b[0m     \u001b[0;32mfor\u001b[0m \u001b[0me\u001b[0m \u001b[0;32min\u001b[0m \u001b[0mroots1\u001b[0m\u001b[0;34m:\u001b[0m\u001b[0;34m\u001b[0m\u001b[0;34m\u001b[0m\u001b[0m\n\u001b[0;32m---> 14\u001b[0;31m         \u001b[0mr1\u001b[0m \u001b[0;34m=\u001b[0m \u001b[0mmodular_sqrt\u001b[0m\u001b[0;34m(\u001b[0m\u001b[0me\u001b[0m\u001b[0;34m,\u001b[0m\u001b[0mp2\u001b[0m\u001b[0;34m)\u001b[0m\u001b[0;34m\u001b[0m\u001b[0;34m\u001b[0m\u001b[0m\n\u001b[0m\u001b[1;32m     15\u001b[0m         \u001b[0mr2\u001b[0m \u001b[0;34m=\u001b[0m \u001b[0mp2\u001b[0m \u001b[0;34m-\u001b[0m \u001b[0mr1\u001b[0m\u001b[0;34m\u001b[0m\u001b[0;34m\u001b[0m\u001b[0m\n\u001b[1;32m     16\u001b[0m         \u001b[0mr3\u001b[0m \u001b[0;34m=\u001b[0m \u001b[0mmodular_sqrt\u001b[0m\u001b[0;34m(\u001b[0m\u001b[0me\u001b[0m\u001b[0;34m,\u001b[0m\u001b[0mq2\u001b[0m\u001b[0;34m)\u001b[0m\u001b[0;34m\u001b[0m\u001b[0;34m\u001b[0m\u001b[0m\n",
      "\u001b[0;32m<ipython-input-1-de94d1691977>\u001b[0m in \u001b[0;36mmodular_sqrt\u001b[0;34m(a, p)\u001b[0m\n\u001b[1;32m     18\u001b[0m     \u001b[0;31m# Simple cases\u001b[0m\u001b[0;34m\u001b[0m\u001b[0;34m\u001b[0m\u001b[0;34m\u001b[0m\u001b[0m\n\u001b[1;32m     19\u001b[0m     \u001b[0;31m#\u001b[0m\u001b[0;34m\u001b[0m\u001b[0;34m\u001b[0m\u001b[0;34m\u001b[0m\u001b[0m\n\u001b[0;32m---> 20\u001b[0;31m     \u001b[0;32mif\u001b[0m \u001b[0mlegendre_symbol\u001b[0m\u001b[0;34m(\u001b[0m\u001b[0ma\u001b[0m\u001b[0;34m,\u001b[0m \u001b[0mp\u001b[0m\u001b[0;34m)\u001b[0m \u001b[0;34m!=\u001b[0m \u001b[0;36m1\u001b[0m\u001b[0;34m:\u001b[0m\u001b[0;34m\u001b[0m\u001b[0;34m\u001b[0m\u001b[0m\n\u001b[0m\u001b[1;32m     21\u001b[0m         \u001b[0;32mreturn\u001b[0m \u001b[0;36m0\u001b[0m\u001b[0;34m\u001b[0m\u001b[0;34m\u001b[0m\u001b[0m\n\u001b[1;32m     22\u001b[0m     \u001b[0;32melif\u001b[0m \u001b[0ma\u001b[0m \u001b[0;34m==\u001b[0m \u001b[0;36m0\u001b[0m\u001b[0;34m:\u001b[0m\u001b[0;34m\u001b[0m\u001b[0;34m\u001b[0m\u001b[0m\n",
      "\u001b[0;32m<ipython-input-1-de94d1691977>\u001b[0m in \u001b[0;36mlegendre_symbol\u001b[0;34m(a, p)\u001b[0m\n\u001b[1;32m     90\u001b[0m         \u001b[0mp\u001b[0m\u001b[0;34m,\u001b[0m \u001b[0;34m-\u001b[0m\u001b[0;36m1\u001b[0m \u001b[0motherwise\u001b[0m\u001b[0;34m.\u001b[0m\u001b[0;34m\u001b[0m\u001b[0;34m\u001b[0m\u001b[0m\n\u001b[1;32m     91\u001b[0m     \"\"\"\n\u001b[0;32m---> 92\u001b[0;31m     \u001b[0mls\u001b[0m \u001b[0;34m=\u001b[0m \u001b[0mpow\u001b[0m\u001b[0;34m(\u001b[0m\u001b[0ma\u001b[0m\u001b[0;34m,\u001b[0m \u001b[0;34m(\u001b[0m\u001b[0mp\u001b[0m \u001b[0;34m-\u001b[0m \u001b[0;36m1\u001b[0m\u001b[0;34m)\u001b[0m \u001b[0;34m/\u001b[0m \u001b[0;36m2\u001b[0m\u001b[0;34m,\u001b[0m \u001b[0mp\u001b[0m\u001b[0;34m)\u001b[0m\u001b[0;34m\u001b[0m\u001b[0;34m\u001b[0m\u001b[0m\n\u001b[0m\u001b[1;32m     93\u001b[0m     \u001b[0;32mreturn\u001b[0m \u001b[0;34m-\u001b[0m\u001b[0;36m1\u001b[0m \u001b[0;32mif\u001b[0m \u001b[0mls\u001b[0m \u001b[0;34m==\u001b[0m \u001b[0mp\u001b[0m \u001b[0;34m-\u001b[0m \u001b[0;36m1\u001b[0m \u001b[0;32melse\u001b[0m \u001b[0mls\u001b[0m\u001b[0;34m\u001b[0m\u001b[0;34m\u001b[0m\u001b[0m\n",
      "\u001b[0;31mTypeError\u001b[0m: pow() 3rd argument not allowed unless all arguments are integers"
     ]
    }
   ],
   "source": [
    "# Son 2\n",
    "p2 = 7237005577332262213973186563042994240829374041602535252466099000494570602917\n",
    "q2 = 88653318322320212121171535397276679450159832009631056842709712756058489880609\n",
    "e2 = 16\n",
    "c2 = 128067909105216284348808993695734979917384615977985008857494038384160720721127262500602107681721675827823420594821881043967947295783995842628815275429540\n",
    "N2 = p2*q2\n",
    "\n",
    "# Get all 16*16 = 256 possible roots\n",
    "entry = [c2]\n",
    "roots1 = [entry[0]]\n",
    "roots2 = []\n",
    "for i in range(4):\n",
    "    for e in roots1:\n",
    "        r1 = modular_sqrt(e,p2)\n",
    "        r2 = p2 - r1\n",
    "        r3 = modular_sqrt(e,q2)\n",
    "        r4 = q2 - r3\n",
    "        [roots2.append(r) for r in [r1,r2,r3,r4]]\n",
    "    #print(str(2**(i+1))+'-th root', len(roots2))\n",
    "    roots1 = roots2[::1]\n",
    "    roots2 = []\n",
    "    \n",
    "print()\n",
    "# Let's check em out\n",
    "# for r in roots1:\n",
    "#     b = long_to_bytes(r).hex()\n",
    "#     if '28322c' in b:\n",
    "#         print(b)\n",
    "for r in roots1:\n",
    "    print(long_to_bytes(r))"
   ]
  },
  {
   "cell_type": "code",
   "execution_count": null,
   "id": "looking-graphic",
   "metadata": {},
   "outputs": [],
   "source": []
  },
  {
   "cell_type": "code",
   "execution_count": null,
   "id": "supported-claim",
   "metadata": {},
   "outputs": [],
   "source": []
  },
  {
   "cell_type": "code",
   "execution_count": null,
   "id": "outer-morrison",
   "metadata": {},
   "outputs": [],
   "source": []
  },
  {
   "cell_type": "code",
   "execution_count": 4,
   "id": "continent-reasoning",
   "metadata": {},
   "outputs": [],
   "source": [
    "import numbertheory"
   ]
  },
  {
   "cell_type": "code",
   "execution_count": 25,
   "id": "leading-flower",
   "metadata": {},
   "outputs": [],
   "source": [
    "phi = (p2-1)*(q2-1)\n",
    "d2 = gmpy2.invert(e2//16, phi)\n",
    "\n",
    "m16 = pow(c2,d2,N2)"
   ]
  },
  {
   "cell_type": "code",
   "execution_count": 26,
   "id": "southern-mining",
   "metadata": {},
   "outputs": [],
   "source": [
    "roots1 = [m16]\n",
    "roots2 = []\n",
    "\n",
    "for k in range(4):\n",
    "    \n",
    "    for r in roots1:\n",
    "        \n",
    "        try:\n",
    "            r1 = numbertheory.square_root_mod_prime(r, p2)\n",
    "            r2 = p2 - r1\n",
    "        except:\n",
    "            r1 = 0\n",
    "            r2 = 0\n",
    "        \n",
    "        try:\n",
    "            r3 = numbertheory.square_root_mod_prime(r, q2)\n",
    "            r4 = q2 - r3\n",
    "        except:\n",
    "            r3 = 0\n",
    "            r4 = 0\n",
    "        \n",
    "        [roots2.append(i) for i in [r1,r2,r3,r4]]\n",
    "        \n",
    "    roots1 = roots2[::1]\n",
    "    roots2 = []\n",
    "\n"
   ]
  },
  {
   "cell_type": "code",
   "execution_count": 13,
   "id": "ambient-portal",
   "metadata": {},
   "outputs": [],
   "source": [
    "import numpy as np\n",
    "from Crypto.Util.number import long_to_bytes"
   ]
  },
  {
   "cell_type": "code",
   "execution_count": 29,
   "id": "fiscal-problem",
   "metadata": {},
   "outputs": [
    {
     "name": "stdout",
     "output_type": "stream",
     "text": [
      "b'\\xb9?\\xcfi6\\xb7\\x07}\\x81>N\\xd9f+\\xe6\\x12\\xd4\\xbfD]On\\xfa\\x8e\\xecFt\\x1f\\x14^\\xc5'\n",
      "b'\\x02\\xd1\\xc3t\\x95U\\xf7\\xc8g\\x1d\\xaa\\xe1,!\\xcd\\xb9\\x11-\\x02\\x85\\xc1\\x14\\x9b\\xe0\\xdc\\x89\\x06d>Z>_'\n",
      "b'\\x02\\xfd\\x81\\x9dq\\xf2\\xcf\\xf3\\x95V\\xb5U!\"\\xe2#\\x883\\xbd0\\xe7{\\x1c\\x83\\xe2\\xa0\\xe9y\\xd3\\xb0\\x9d\\x02'\n",
      "b'\\x03\\xd8\\xf7\\xc0\\xf5p\\x08\\x1cg\\xa3_\\xf3Ah0\\r0;s\\xf4\\xa6]\\x93=OlY\\x8e\\xf5\\xe1\\xc3S'\n",
      "b'\\x03\\xdcu\\xbb!\\x89\\xcb\\x05X\\x7f<\\x83\\x91\\xb5OL\\xc5eWa\\xc0\\x85\\x10\\xa2\\xcd;\\x16\\n/9rT'\n",
      "b'\\x04961238641\\x11\\x8a\\x08\"o&E\\x9d\\xcb}7\\x16\\x9fS\\x11\\xd6Gl`\\x1c\\x19\\xaa'\n",
      "b'\\x04\\xb8\\xe1\\xddv~v\\xbfH(~\\xf9\\xc0\\xe9\\xdc\\x15\\r\\xceU%sK\\xe8F.\\x91!zH=R~'\n",
      "b\"\\x04\\xf4M\\xdeO\\xde\\xa0/\\xe9n\\x0c\\xb0\\x08\\x8a\\x98\\x99\\xde\\xe9U>\\xad\\x92\\x0b\\xff?\\xf0'.V\\xd6\\xe5\\xe9\"\n",
      "b'\\x05i\\xa2\\xbe\\xa1\\xf6\\xd7\\x00\\xe7\\x00j\\x8a\\x01zfjp\\xa4\\x92g\\x1b\\xa4\\x86z\\x8c_\\xfb9|\\x94\\x7ff'\n",
      "b'\\x05\\xb4\\xd3\\xbd\\xbd\\xdd-\\x9a\\x8e-\\xf0;z\\xcf\\xde\\xe5\\x13\\xeeR!0i\\xc8\\x18\\x10\\x88\\xa1j\\x0b\\xd1T\\x8a'\n",
      "b'\\x05\\xe4\\x9d@! Dad\\xde\\xbapy\\x90K\\x9a\\x15%\\x84\\x7fQ\\x85\\x14\\xc9\\xc6vE\\xd1\\xe4j\\xc0\\xa1'\n",
      "b'\\x06\\xb2fe\\xa3\\x90\\x1a\\x9c\\xa5\\xa9\\x10\\xedK=,s\\x83\\x14\\xcfq\\xcbo\\xb4m\\xa5\\x1a\\x00Q\\xb7\\xfcs\\x7f'\n",
      "b'\\x07\\x9f\\xb7\\xca\\x99\\xcf\\xa0\\x9a}\\tAg\\r\\x11\\xf8X\\xf1$\\x8fy{\\xb3mr\\x1f}d\\xf4\\xd6+\\x8c\\x85'\n",
      "b'\\x07\\xf9\\xe8\\xda|n\\xcfrqy\\x1c\\xa6\\xcb\\x11\\x0f\\xc9\\xc7\\xf1\\xc3\\x88\\x008Q\\x0c&8\\xfaH\\x98\\xdf\\x89\\xa3'\n",
      "b'\\x08\\x06\\x17%\\x83\\x910\\x8d\\x8e\\x86\\xe3Y4\\xee\\xf068\\x0e<w\\xff\\xc7\\xae\\xf3\\xd9\\xc7\\x05\\xb7g x\\x02'\n",
      "b'\\x08`H5f0_e\\x82\\xf6\\xbe\\x98\\xf2\\xee\\x07\\xa7\\x0e\\xdbp\\x86\\x84L\\x92\\x8d\\xe0\\x82\\x9b\\x0b)\\xd4u '\n",
      "b'\\tM\\x99\\x9a\\\\o\\xe5cZV\\xef\\x12\\xb4\\xc2\\xd3\\x8c|\\xeb0\\x8e4\\x90K\\x92Z\\xe5\\xff\\xaeH\\x03\\x8e&'\n",
      "b'\\n\\x1bb\\xbf\\xde\\xdf\\xbb\\x9e\\x9b!E\\x8f\\x86o\\xb4e\\xea\\xda{\\x80\\xaez\\xeb69\\x89\\xba.\\x1b\\x95A\\x04'\n",
      "b'\\n\\x96]A^\\t(\\xff\\x18\\xff\\x95u\\xfe\\x85\\x99\\x95\\x8f[m\\x98\\xe4[y\\x85s\\xa0\\x04\\xc6\\x83k\\x82?'\n",
      "b'\\x0b\\x0b\\xb2!\\xb0!_\\xd0\\x16\\x91\\xf3O\\xf7ugf!\\x16\\xaa\\xc1Rm\\xf4\\x00\\xc0\\x0f\\xd8\\xd1\\xa9)\\x1b\\xbc'\n",
      "b'\\x0bG\\x1e\"\\x89\\x81\\x89@\\xb7\\xd7\\x81\\x06?\\x16#\\xea\\xf21\\xaa\\xda\\x8c\\xb4\\x17\\xb9\\xd1n\\xde\\x85\\xb7\\xc2\\xaf\\''\n",
      "b'\\x0b\\xc6\\xc9\\xce\\xcd\\xcc\\xc7\\xc9\\xcb\\xce\\xeeu\\xf7\\xdd\\x90\\xd9\\xbab4\\x82\\xc8\\xe9`\\xac\\xee)\\xb8\\x93\\x9f\\xe3\\xe7\\xfb'\n",
      "b'\\x0c#\\x8aD\\xdev4\\xfa\\xa7\\x80\\xc3|nJ\\xb0\\xb3:\\x9a\\xa8\\x9e?z\\xef]2\\xc4\\xe9\\xf5\\xd0\\xc6\\x8fQ'\n",
      "b\"\\x0c'\\x08?\\n\\x8f\\xf7\\xe3\\x98\\\\\\xa0\\x0c\\xbe\\x97\\xcf\\xf2\\xcf\\xc4\\x8c\\x0bY\\xa2l\\xc2\\xb0\\x93\\xa6q\\n\\x1e>R\"\n",
      "b'\\x0cH_\\xd2k\\xc5\\x1e\\x98\\xb5S\\xd2\\x0b\\xc7\\x1a\\x8e\\xbdz^\\x84\\x8ck\\xd3\\x8co\\x1e\\x96\\xa5\\xb3\\x8b7d\\x1c'\n",
      "b'\\r\\x02~b\\x8e\\r0\\x0cj\\xa9J\\xaa\\xde\\xdd\\x1d\\xdcw\\xccB\\xcf\\x18\\x84\\xe3|\\x1d_\\x16\\x86,Od\\xa3'\n",
      "b'\\r.<\\x8bj\\xaa\\x087\\x98\\xe2U\\x1e\\xd3\\xde2F\\xee\\xd2\\xfdz>\\xebd\\x1f#v\\xf9\\x9b\\xc1\\xa5\\xc3F'\n",
      "b'\\x0fF\\xc00\\x96\\xc9H\\xf8\\x82~\\xc1\\xb1&\\x99\\xd4\\x19\\xed+@\\xbb\\xa2\\xb0\\x91\\x05q\\x13\\xb9\\x8b\\xe0\\xeb\\xa2\\xe0'\n",
      "b'\\x10\\x00\\x00\\x00\\x00\\x00\\x00\\x00\\x00\\x00\\x00\\x00\\x00\\x00\\x00\\x00\\x00\\x00\\x00\\x00\\x00\\x00\\x00\\x00\\x00\\x00\\x00\\x00\\x00\\x00\\x01\\xa5'\n",
      "b'\\x12{t\\xe7\\xbe}\\n\\xdc\\xb2Q\\xc5\\xfb\\x92$\\x9a`\\xd1\\xa0\\x14\\xc2\\xfb\\xf5\\xfa\\x8f\\x05\\x10H)\\xbb\\x92Zq'\n",
      "b'!$\\xd9\\xeb\\xcf\\xb1m\\xf0\\x81B\\xfe\\x08\\xeb\\xfe@f\\xd2]HzP\\xc5u\\x0e\\xa7E\\xe2\\xa6U\\xae|A'\n",
      "b'2\"u\\x1b[\\xf4f]\\x89\\xc4\\x12\\',\\x18(\\xebZh\\x07\\\\\\x94\\x00\\x91@\\x15S\\xcd\\xa1S\\x03\\xc9_'\n",
      "b'6\\xe3\\xf1\\x08\\x8e\\xeb\\x12\\x13/\\x9aK\\xcd{z\\xf6\\xf5\\xaee\\xd1\\xb0T\\xfa\\xbb\\xde`\\x8dC\\x87S\\xc0\\xcc{'\n",
      "b'?\\x1cN\\xd5\\x15E[\\x066<\\xbd\\xf6\\x8a)\\xae\\x9aw\\xbe\\x06\\x92\\x1f\\x00\\xb6\\xc1\\xfe\\xb9\\xac1\\x17\\n\\xd9\\x14'\n",
      "b'?zT\\xe8\\x12\\x05\\xc4n\\xa8C\\x13\\x98LC\\x92\\xc9\\xe6\\xa2\\x06\\x82Pj\\x02\\xa7\\x84.\\xb3\\x80\\xbb\\n^S'\n",
      "b'F\\xc2E9\\xfa!\\xab\\x95\\xf6\\xc7C\\xc46\\xc7\\xfe\\xaero\\xf9\\xf3P\\xac\\x00[M\\xc6Rs_\\xe7\\xda\\xd0'\n",
      "b'G\\xc6\\xc9\\xce\\xcd\\xcc\\xc7\\xc9\\xcb\\xca\\xd3\\x92V;\\xb3\\xe5\\xd1z\\xaf\\xdd\\xff\\xfb7\\xd7\\x97\\xb8\\x18\\x9c\\x98\\x063F'\n",
      "b\"J\\xa9a'\\xa3\\xb5\\xbc\\x1d\\xfc\\x11\\xec\\xb2\\x0e\\xc8\\xba8\\x86Fa\\xfe\\xa6\\x86\\xc8\\xc8^\\xc4\\x8e\\xae\\xbc}\\xc6\\xa6\"\n",
      "b'T\\xab\\xb9C\\xfeR\\xbf~L\\xd6\\xa3\\x9e\\xba\\xd9\\xf9\\xc4\\x8e\\x82\\x82$O\\xec\\x0f\\xd5\\xa5\\xce`\\xabV\\x90\\x97\\x11'\n",
      "b'\\\\i[T\\xf9\\n\\xcfe}\\xea\\x95\\x11\\xd8\\xa2\\xa4\\xc8\\xf5W-V\\xc7B\\xdb\\xcdw\\xf54\\xa4\\x84\\xae\\xe9l'\n",
      "b\"g\\x96\\xa4\\xab\\x06\\xf50\\x9a\\x82\\x15j\\xee'][7\\n\\xa8\\xd2\\xa98\\xbd$2\\x88\\n\\xcb[{Q\\x16\\xb5\"\n",
      "b'oTF\\xbc\\x01\\xad@\\x81\\xb3)\\\\aE&\\x06;q}}\\xdb\\xb0\\x13\\xf0*Z1\\x9fT\\xa9oi\\x10'\n",
      "b'yV\\x9e\\xd8\\\\JC\\xe2\\x03\\xee\\x13M\\xf17E\\xc7y\\xb9\\x9e\\x01Yy77\\xa1;qQC\\x829{'\n",
      "b'|961238645,m\\xa9\\xc4L\\x1a.\\x85P\"\\x00\\x04\\xc8(hG\\xe7cg\\xf9\\xcc\\xdb'\n",
      "b'}=\\xba\\xc6\\x05\\xdeTj\\t8\\xbc;\\xc98\\x01Q\\x8d\\x90\\x06\\x0c\\xafS\\xff\\xa4\\xb29\\xad\\x8c\\xa0\\x18%Q'\n",
      "b'\\x84\\x85\\xab\\x17\\xed\\xfa;\\x91W\\xbc\\xecg\\xb3\\xbcm6\\x19]\\xf9}\\xaf\\x95\\xfdX{\\xd1L\\x7fD\\xf5\\xa1\\xce'\n",
      "b\"\\x84\\xe3\\xb1*\\xea\\xba\\xa4\\xf9\\xc9\\xc3B\\tu\\xd6Qe\\x88A\\xf9m\\xe0\\xffI>\\x01FS\\xce\\xe8\\xf5'\\r\"\n",
      "b'\\x8d\\x1c\\x0e\\xf7q\\x14\\xed\\xec\\xd0e\\xb42\\x84\\x85\\t\\nQ\\x9a.O\\xab\\x05D!\\x9fr\\xbcx\\xac?3\\xa6'\n",
      "b'\\x91\\xdd\\x8a\\xe4\\xa4\\x0b\\x99\\xa2v;\\xed\\xd8\\xd3\\xe7\\xd7\\x14\\xa5\\x97\\xf8\\xa3k\\xffn\\xbf\\xea\\xac2^\\xac\\xfc6\\xc2'\n",
      "b'\\xa2\\xdb&\\x140N\\x92\\x0f~\\xbd\\x01\\xf7\\x14\\x01\\xbf\\x99-\\xa2\\xb7\\x85\\xaf:\\x8a\\xf1X\\xba\\x1dY\\xaaQ\\x83\\xe0'\n",
      "b'\\xb1\\x84\\x8b\\x18A\\x82\\xf5#M\\xae:\\x04m\\xdbe\\x9f._\\xeb=\\x04\\n\\x05p\\xfa\\xef\\xb7\\xd6Dm\\xa5\\xb0'\n",
      "b'\\xb7\\xb7\\xa0-\\x94:\\xe1gJ\\xac-\\xf48\\xe5qB\\x85\\xa1{s\\x94,s\\x90\\xe1iZLt\\xc8\\x9c\\x05'\n",
      "b'\\xbeK,BB\"\\xd2eq\\xd2\\x0f\\xc4\\x850!\\x1a\\xec\\x11\\xad\\xde\\xcf\\x967\\xe7\\xefw^\\x95\\xf4.\\xab\\x97'\n",
      "b'\\xc4\\x00\\x00\\x00\\x00\\x00\\x00\\x00\\x00\\x00\\x00\\x00\\x00\\x00\\x00\\x00\\x00\\x00\\x00\\x00\\x00\\x00\\x00\\x00\\x00\\x00\\x00\\x00\\x00\\x00\\x00!'\n"
     ]
    }
   ],
   "source": [
    "for root in np.unique(roots1):\n",
    "    if root != 0:\n",
    "        print(long_to_bytes(root))"
   ]
  },
  {
   "cell_type": "code",
   "execution_count": null,
   "id": "liquid-fountain",
   "metadata": {},
   "outputs": [],
   "source": []
  },
  {
   "cell_type": "code",
   "execution_count": null,
   "id": "coated-young",
   "metadata": {},
   "outputs": [],
   "source": []
  },
  {
   "cell_type": "code",
   "execution_count": null,
   "id": "boxed-acceptance",
   "metadata": {},
   "outputs": [],
   "source": []
  },
  {
   "cell_type": "code",
   "execution_count": null,
   "id": "compliant-thomson",
   "metadata": {},
   "outputs": [],
   "source": []
  },
  {
   "cell_type": "code",
   "execution_count": null,
   "id": "hispanic-investor",
   "metadata": {},
   "outputs": [],
   "source": []
  },
  {
   "cell_type": "code",
   "execution_count": 30,
   "id": "experimental-postcard",
   "metadata": {},
   "outputs": [],
   "source": [
    "def legendre_symbol(a, p):\n",
    "    \"\"\"\n",
    "    Legendre symbol\n",
    "    Define if a is a quadratic residue modulo odd prime\n",
    "    http://en.wikipedia.org/wiki/Legendre_symbol\n",
    "    \"\"\"\n",
    "    ls = pow(a, (p - 1)//2, p)\n",
    "    if ls == p - 1:\n",
    "        return -1\n",
    "    return ls\n",
    "\n",
    "def prime_mod_sqrt(a, p):\n",
    "    \"\"\"\n",
    "    Square root modulo prime number\n",
    "    Solve the equation\n",
    "        x^2 = a mod p\n",
    "    and return list of x solution\n",
    "    http://en.wikipedia.org/wiki/Tonelli-Shanks_algorithm\n",
    "    \"\"\"\n",
    "    a %= p\n",
    "\n",
    "    # Simple case\n",
    "    if a == 0:\n",
    "        return [0]\n",
    "    if p == 2:\n",
    "        return [a]\n",
    "\n",
    "    # Check solution existence on odd prime\n",
    "    if legendre_symbol(a, p) != 1:\n",
    "        return []\n",
    "\n",
    "    # Simple case\n",
    "    if p % 4 == 3:\n",
    "        x = pow(a, (p + 1)//4, p)\n",
    "        return [x, p-x]\n",
    "\n",
    "    # Factor p-1 on the form q * 2^s (with Q odd)\n",
    "    q, s = p - 1, 0\n",
    "    while q % 2 == 0:\n",
    "        s += 1\n",
    "        q //= 2\n",
    "\n",
    "    # Select a z which is a quadratic non resudue modulo p\n",
    "    z = 1\n",
    "    while legendre_symbol(z, p) != -1:\n",
    "        z += 1\n",
    "    c = pow(z, q, p)\n",
    "\n",
    "    # Search for a solution\n",
    "    x = pow(a, (q + 1)//2, p)\n",
    "    t = pow(a, q, p)\n",
    "    m = s\n",
    "    while t != 1:\n",
    "        # Find the lowest i such that t^(2^i) = 1\n",
    "        i, e = 0, 2\n",
    "        for i in range(1, m):\n",
    "            if pow(t, e, p) == 1:\n",
    "                break\n",
    "            e *= 2\n",
    "\n",
    "        # Update next value to iterate\n",
    "        b = pow(c, 2**(m - i - 1), p)\n",
    "        x = (x * b) % p\n",
    "        t = (t * b * b) % p\n",
    "        c = (b * b) % p\n",
    "        m = i\n",
    "\n",
    "    return [x, p-x]"
   ]
  },
  {
   "cell_type": "code",
   "execution_count": 35,
   "id": "voluntary-seeking",
   "metadata": {},
   "outputs": [],
   "source": [
    "\n"
   ]
  },
  {
   "cell_type": "code",
   "execution_count": 64,
   "id": "theoretical-supplier",
   "metadata": {},
   "outputs": [
    {
     "data": {
      "text/plain": [
       "array([list([2641505242155570709869754740226520880434339438169725263265148264111259779253, 4595500335176691504103431822816473360395034603432809989200950736383310823664]),\n",
       "       list([2856719430566652581805226484293801930212924619175739824952550321137262029256, 4380286146765609632167960078749192310616449422426795427513548679357308573661]),\n",
       "       list([]), list([])], dtype=object)"
      ]
     },
     "execution_count": 64,
     "metadata": {},
     "output_type": "execute_result"
    }
   ],
   "source": [
    "m2"
   ]
  },
  {
   "cell_type": "code",
   "execution_count": 66,
   "id": "baking-karen",
   "metadata": {},
   "outputs": [],
   "source": [
    "prime = q2\n",
    "m16 = c2\n",
    "m8 = np.array(prime_mod_sqrt(m16, prime))\n",
    "m4 = np.array([prime_mod_sqrt(i, prime) for i in m8]).flatten()\n",
    "m2 = np.array([prime_mod_sqrt(i, prime) for i in m4]).flatten()\n",
    "m1 = np.array([prime_mod_sqrt(i, prime) for i in m2]).flatten()\n",
    "m0 = np.array([prime_mod_sqrt(i, prime) for i in m1]).flatten()"
   ]
  },
  {
   "cell_type": "code",
   "execution_count": 67,
   "id": "bright-prime",
   "metadata": {},
   "outputs": [
    {
     "data": {
      "text/plain": [
       "b'\\x02q\\xfb\\x9fV8\\x84\\xe0\\x8b\\xa0\\x08B()\\t\\xc9\\xeb\\xd5\\xa6OrA\\xfdVP\\x90\\\\\\xaf\\xe0\\xe4\\x1f>\\xaa\\xa8u\\xc94\\xd6W\\xad\\x80\\xff\\xfa\\xa1\\xa8\\xf5\\xb6\\x1dCB\\xf2\\xb5s\\x89[k\\xca\\x81\\x13!p\\x0c\\x0e\\xa4'"
      ]
     },
     "execution_count": 67,
     "metadata": {},
     "output_type": "execute_result"
    }
   ],
   "source": [
    "long_to_bytes(m16)"
   ]
  },
  {
   "cell_type": "code",
   "execution_count": 68,
   "id": "crucial-energy",
   "metadata": {},
   "outputs": [
    {
     "name": "stdout",
     "output_type": "stream",
     "text": [
      "b'#\\xb5\\x0f\\x9a\\xf4\\x9e\\x16\\xe6s=V\\xb6\\xcf\\xb3\\x1c\\x83\\x12\\xb0uZ\\x16\\x81+\\xc2\\xf1ZA\\xba\\xe0o\\x1c\\xbf'\n",
      "b'\\xa0J\\xf0e\\x0ba\\xe9\\x19\\x8c\\xc2\\xa9I0L\\xe3|\\xedO\\x8a\\xa5\\xe9~\\xd4=\\x0e\\xa5\\xbeE\\x1f\\x90\\xe3b'\n"
     ]
    }
   ],
   "source": [
    "for r in m8:\n",
    "    print(long_to_bytes(r))"
   ]
  },
  {
   "cell_type": "code",
   "execution_count": 69,
   "id": "institutional-laptop",
   "metadata": {},
   "outputs": [
    {
     "name": "stdout",
     "output_type": "stream",
     "text": [
      "b'\\t*e\\x85Fi\\x8eo\\xf7\\x16\\x19\\xe9\\x1f\\x83\\xed\\xa4\\x9dv+\\n\\x12K\\xcf+ol\\x13\\x96)\\xca2\\xdd'\n",
      "b'\\xba\\xd5\\x9az\\xb9\\x96q\\x90\\x08\\xe9\\xe6\\x16\\xe0|\\x12[b\\x89\\xd4\\xf5\\xed\\xb40\\xd4\\x90\\x93\\xeci\\xd65\\xcdD'\n",
      "b\"b[$\\xda&\\x05l\\xdae\\xef\\xa9\\x909\\x98Lj\\xcd\\xe4\\x8e*\\xc4\\xb4G\\xa6B\\x1a\\x02?\\xbeMJ'\"\n",
      "b'a\\xa4\\xdb%\\xd9\\xfa\\x93%\\x9a\\x10Vo\\xc6g\\xb3\\x952\\x1bq\\xd5;K\\xb8Y\\xbd\\xe5\\xfd\\xc0A\\xb2\\xb5\\xfa'\n"
     ]
    }
   ],
   "source": [
    "for r in m4:\n",
    "    print(long_to_bytes(r))"
   ]
  },
  {
   "cell_type": "code",
   "execution_count": 70,
   "id": "alpine-dallas",
   "metadata": {},
   "outputs": [
    {
     "name": "stdout",
     "output_type": "stream",
     "text": [
      "b\"\\xa9\\xda\\xf6\\xd6I\\xd7\\xb8'Th\\x1c#\\xe3=D-%2\\xb6\\x19o\\x872\\xa0\\xc7S]CYZ\\x93\\xc9\"\n",
      "b'\\x1a%\\t)\\xb6(G\\xd8\\xab\\x97\\xe3\\xdc\\x1c\\xc2\\xbb\\xd2\\xda\\xcdI\\xe6\\x90x\\xcd_8\\xac\\xa2\\xbc\\xa6\\xa5lX'\n",
      "b'\\n\\xca\\x80= |\\x82\\xb5\\x8c\\x83\\xf2\\x9a\\xceq\\xd3I\\xcc\\x1c\\xb4\\xa2\\xd6\\xd1g\\xd5\\xb4\\x99\\x1b\\xb6,\\x9e\\xf2\\x19'\n",
      "b'\\xb95\\x7f\\xc2\\xdf\\x83}Js|\\re1\\x8e,\\xb63\\xe3K]).\\x98*Kf\\xe4I\\xd3a\\x0e\\x08'\n",
      "b\"q\\x1b\\x98\\xdc\\xd6\\xf6\\xd8f@\\xdf\\x1d'\\xaby$\\xe4\\x0c\\xcf:(\\xec\\x1ch\\xa6\\xcd\\x95:o\\x87W\\xf1\\x04\"\n",
      "b\"R\\xe4g#)\\t'\\x99\\xbf \\xe2\\xd8T\\x86\\xdb\\x1b\\xf30\\xc5\\xd7\\x13\\xe3\\x97Y2j\\xc5\\x90x\\xa8\\x0f\\x1d\"\n",
      "b\"\\x84`\\xa0t}e\\x06a\\xc3\\x0fE\\xcf\\xd1\\x15u\\xafI\\xf3'\\xb7\\xfe\\xd6\\x8b\\xcc\\x9c\\xb9\\x1bzD\\x84t\\xb5\"\n",
      "b'?\\x9f_\\x8b\\x82\\x9a\\xf9\\x9e<\\xf0\\xba0.\\xea\\x8aP\\xb6\\x0c\\xd8H\\x01)t3cF\\xe4\\x85\\xbb{\\x8bl'\n"
     ]
    }
   ],
   "source": [
    "for r in m2:\n",
    "    print(long_to_bytes(r))"
   ]
  },
  {
   "cell_type": "code",
   "execution_count": 71,
   "id": "accurate-finding",
   "metadata": {},
   "outputs": [
    {
     "name": "stdout",
     "output_type": "stream",
     "text": [
      "b'T\\xab\\xb9C\\xfeR\\xbf~L\\xd6\\xa3\\x9e\\xba\\xd9\\xf9\\xc4\\x8e\\x82\\x82$O\\xec\\x0f\\xd5\\xa5\\xce`\\xabV\\x90\\x97\\x11'\n",
      "b'oTF\\xbc\\x01\\xad@\\x81\\xb3)\\\\aE&\\x06;q}}\\xdb\\xb0\\x13\\xf0*Z1\\x9fT\\xa9oi\\x10'\n",
      "b'!$\\xd9\\xeb\\xcf\\xb1m\\xf0\\x81B\\xfe\\x08\\xeb\\xfe@f\\xd2]HzP\\xc5u\\x0e\\xa7E\\xe2\\xa6U\\xae|A'\n",
      "b'\\xa2\\xdb&\\x140N\\x92\\x0f~\\xbd\\x01\\xf7\\x14\\x01\\xbf\\x99-\\xa2\\xb7\\x85\\xaf:\\x8a\\xf1X\\xba\\x1dY\\xaaQ\\x83\\xe0'\n",
      "b'\\x8d\\x1c\\x0e\\xf7q\\x14\\xed\\xec\\xd0e\\xb42\\x84\\x85\\t\\nQ\\x9a.O\\xab\\x05D!\\x9fr\\xbcx\\xac?3\\xa6'\n",
      "b'6\\xe3\\xf1\\x08\\x8e\\xeb\\x12\\x13/\\x9aK\\xcd{z\\xf6\\xf5\\xaee\\xd1\\xb0T\\xfa\\xbb\\xde`\\x8dC\\x87S\\xc0\\xcc{'\n",
      "b'\\x91\\xdd\\x8a\\xe4\\xa4\\x0b\\x99\\xa2v;\\xed\\xd8\\xd3\\xe7\\xd7\\x14\\xa5\\x97\\xf8\\xa3k\\xffn\\xbf\\xea\\xac2^\\xac\\xfc6\\xc2'\n",
      "b'2\"u\\x1b[\\xf4f]\\x89\\xc4\\x12\\',\\x18(\\xebZh\\x07\\\\\\x94\\x00\\x91@\\x15S\\xcd\\xa1S\\x03\\xc9_'\n",
      "b'\\x0cH_\\xd2k\\xc5\\x1e\\x98\\xb5S\\xd2\\x0b\\xc7\\x1a\\x8e\\xbdz^\\x84\\x8ck\\xd3\\x8co\\x1e\\x96\\xa5\\xb3\\x8b7d\\x1c'\n",
      "b'\\xb7\\xb7\\xa0-\\x94:\\xe1gJ\\xac-\\xf48\\xe5qB\\x85\\xa1{s\\x94,s\\x90\\xe1iZLt\\xc8\\x9c\\x05'\n",
      "b'?\\x1cN\\xd5\\x15E[\\x066<\\xbd\\xf6\\x8a)\\xae\\x9aw\\xbe\\x06\\x92\\x1f\\x00\\xb6\\xc1\\xfe\\xb9\\xac1\\x17\\n\\xd9\\x14'\n",
      "b\"\\x84\\xe3\\xb1*\\xea\\xba\\xa4\\xf9\\xc9\\xc3B\\tu\\xd6Qe\\x88A\\xf9m\\xe0\\xffI>\\x01FS\\xce\\xe8\\xf5'\\r\"\n",
      "b'G\\xc6\\xc9\\xce\\xcd\\xcc\\xc7\\xc9\\xcb\\xca\\xd3\\x92V;\\xb3\\xe5\\xd1z\\xaf\\xdd\\xff\\xfb7\\xd7\\x97\\xb8\\x18\\x9c\\x98\\x063F'\n",
      "b'|961238645,m\\xa9\\xc4L\\x1a.\\x85P\"\\x00\\x04\\xc8(hG\\xe7cg\\xf9\\xcc\\xdb'\n",
      "b'\\xbeK,BB\"\\xd2eq\\xd2\\x0f\\xc4\\x850!\\x1a\\xec\\x11\\xad\\xde\\xcf\\x967\\xe7\\xefw^\\x95\\xf4.\\xab\\x97'\n",
      "b'\\x05\\xb4\\xd3\\xbd\\xbd\\xdd-\\x9a\\x8e-\\xf0;z\\xcf\\xde\\xe5\\x13\\xeeR!0i\\xc8\\x18\\x10\\x88\\xa1j\\x0b\\xd1T\\x8a'\n"
     ]
    }
   ],
   "source": [
    "for r in m1:\n",
    "    print(long_to_bytes(r))"
   ]
  },
  {
   "cell_type": "code",
   "execution_count": 72,
   "id": "wanted-thriller",
   "metadata": {},
   "outputs": [
    {
     "name": "stdout",
     "output_type": "stream",
     "text": [
      "b'\\x8a\\xe1\\xd8\\xd3\\xb7\\x80\\xcf\\x17\\xeb\\xca\\x1crE\\xc1t\\x08J0\\xa7\\xab\\x16\\xdb\\xcd\\r\\x03qHL\\xf9\\x02\\xea\"'\n",
      "b\"9\\x1e',H\\x7f0\\xe8\\x145\\xe3\\x8d\\xba>\\x8b\\xf7\\xb5\\xcfXT\\xe9$2\\xf2\\xfc\\x8e\\xb7\\xb3\\x06\\xfd\\x15\\xff\"\n",
      "b\"\\xbe\\xff\\r\\xfe\\x16\\xe6\\xf5'f`m\\xcePC\\r\\xd9\\xc0g\\xebw\\xb2\\x89\\x05\\x06\\xee\\x87\\xf1\\xf77>a\\xdb\"\n",
      "b'\\x05\\x00\\xf2\\x01\\xe9\\x19\\n\\xd8\\x99\\x9f\\x921\\xaf\\xbc\\xf2&?\\x98\\x14\\x88Mv\\xfa\\xf9\\x11x\\x0e\\x08\\xc8\\xc1\\x9eF'\n",
      "b'\\x04d\\xfc\\x9f\\xbd=\\xf0\\xd3+-\\x82\\x91\\x05\\x13j\\xfb\\xe0\\xab\\xa82\\xa9T\\xf5\\xa8:\\x05\\xcb7\\xb58\\xa89'\n",
      "b'\\xbf\\x9b\\x03`B\\xc2\\x0f,\\xd4\\xd2}n\\xfa\\xec\\x95\\x04\\x1fTW\\xcdV\\xab\\nW\\xc5\\xfa4\\xc8J\\xc7W\\xe8'\n",
      "b'\\xbc\\xea\\x05B\\x9b\\x9f[\\xd2xk\\x00\\xff\\xb7\\x06:\\x9d\\x87\\xe3\\xbc\\x8e\\xb7\\x987\\xbcq\\xb7i\\xbe\\xb3^\\xe8\\x00'\n",
      "b'\\x07\\x15\\xfa\\xbdd`\\xa4-\\x87\\x94\\xff\\x00H\\xf9\\xc5bx\\x1cCqHg\\xc8C\\x8eH\\x96AL\\xa1\\x18!'\n",
      "b'\\x10\\x00\\xe9\\x16\\xe6\\x06\\xc1\\x7fr\\xfe\\xeb\\x9e\\xc7/\\xe3\\xc0\\xbb h\\x9f\"\\xf5\\x81\\xca\\xde\\xf8\\xd2\\x90\\xfa\\xf56\\xce'\n",
      "b'\\xb3\\xff\\x16\\xe9\\x19\\xf9>\\x80\\x8d\\x01\\x14a8\\xd0\\x1c?D\\xdf\\x97`\\xdd\\n~5!\\x07-o\\x05\\n\\xc9S'\n",
      "b'zF:\\xe0\\x0e\\x8d\\x83\\xbcB\\xe8l\\xb8\\x17\\x14\\x9c3\\x0e\\x88pJ\\x0c\\xf0\\x01yV\\xdd\\xa6G\\xfaSm\\xae'\n",
      "b'I\\xb9\\xc5\\x1f\\xf1r|C\\xbd\\x17\\x93G\\xe8\\xebc\\xcc\\xf1w\\x8f\\xb5\\xf3\\x0f\\xfe\\x86\\xa9\"Y\\xb8\\x05\\xac\\x92s'\n",
      "b'K@6\\xb9\\xebj\\xe1\\xdb2\\x11Q\\x94\\n\\xfe\\xeb(,\\xc9\\xa6\\x07F\\xa9*\\xd1\\xd4\\xbd\\xbd\\xda\\x1fl\\xbd\\xf0'\n",
      "b'x\\xbf\\xc9F\\x14\\x95\\x1e$\\xcd\\xee\\xaek\\xf5\\x01\\x14\\xd7\\xd36Y\\xf8\\xb9V\\xd5.+BB%\\xe0\\x93B1'\n",
      "b'{\\x18\\xbbsG\\xf6\\xf8\\x9c\\xc5\\xf0\\x9eV\\xb3\\x86\\xd0]\\xa69\\xf7\\x9cZ\\xba\\xdd\"#\\x86\\xb8\\xf8\\xbd\\x15[\\xb8'\n",
      "b'H\\xe7D\\x8c\\xb8\\t\\x07c:\\x0fa\\xa9Ly/\\xa2Y\\xc6\\x08c\\xa5E\"\\xdd\\xdcyG\\x07B\\xea\\xa4i'\n",
      "b'^\\xf2\\xd0\\xae@\\xcb\\x99]m\\x82\\xc7\\xdf#\\x82\\xe2m\\xb2\\x1e\\xc9r\\x18\\xebf\\x103\\xf9\\xa8i\\xfe{G\\xde'\n",
      "b'e\\r/Q\\xbf4f\\xa2\\x92}8 \\xdc}\\x1d\\x92M\\xe16\\x8d\\xe7\\x14\\x99\\xef\\xcc\\x06W\\x96\\x01\\x84\\xb8C'\n",
      "b'\\xact\\x88\\x00\\xc1\\xeeX<C\\xec\\xef\\xb00\\xbe$\\xe4\\xd3\\r\\x94\\x93\\x12\\xa6VB\\x07y\\x923\\xf8\\x13\\xdd\\xe6'\n",
      "b'\\x17\\x8bw\\xff>\\x11\\xa7\\xc3\\xbc\\x13\\x10O\\xcfA\\xdb\\x1b,\\xf2kl\\xedY\\xa9\\xbd\\xf8\\x86m\\xcc\\x07\\xec\";'\n",
      "b'f\\xb9\\xfc0t\\x8b\\xcflbt4\\xd7G\\x9b\\xc5\\xf1X\\xee\\xf3\\xa4sB\\xd8\\x96\\xa5\\xa0\\xd7\\xf7h\\x1c\\x07\\xdd'\n",
      "b\"]F\\x03\\xcf\\x8bt0\\x93\\x9d\\x8b\\xcb(\\xb8d:\\x0e\\xa7\\x11\\x0c[\\x8c\\xbd'iZ_(\\x08\\x97\\xe3\\xf8D\"\n",
      "b':\\xada\\x18\\xee\\xe0x\\xb9\\xa5\\x1e\\xae\\xae\\x7f\\xea,\\xe2o^\\x05&H{1e\\xe6\\xcan3U\\xdd:m'\n",
      "b'\\x89R\\x9e\\xe7\\x11\\x1f\\x87FZ\\xe1QQ\\x80\\x15\\xd3\\x1d\\x90\\xa1\\xfa\\xd9\\xb7\\x84\\xce\\x9a\\x195\\x91\\xcc\\xaa\"\\xc5\\xb4'\n",
      "b'P\\x9f\\xe3\\x0c\\xbbD\\x82\\x8a\\x19\\x1a\\x16\\x9b\\xd1\\x8a*J\\xa5h\\xe4>\\xaa\\xd4\\x98_\\xc1\\x0b\\x0b\\x8a\\xa2\\xe4\\xb3\\x82'\n",
      "b's`\\x1c\\xf3D\\xbb}u\\xe6\\xe5\\xe9d.u\\xd5\\xb5Z\\x97\\x1b\\xc1U+g\\xa0>\\xf4\\xf4u]\\x1bL\\x9f'\n",
      "b'E\\xed=\\xcc\\x96\\x1a@K\\x98`$\\xeb\\x16\\xd8a\\xf2\\xb3\\xc2\\xa4@\\xb5\\x04F\\xd4X\\xf5\\xc3`\\xa1D\\xebT'\n",
      "b\"~\\x12\\xc23i\\xe5\\xbf\\xb4g\\x9f\\xdb\\x14\\xe9'\\x9e\\rL=[\\xbfJ\\xfb\\xb9+\\xa7\\n<\\x9f^\\xbb\\x14\\xcd\"\n",
      "b'9%l\\xcf(\\x02\\xf2q\\x0f\\x9f:\\nS\\x17WI\\x0e\\xe8\\xc8A\\x8aU\\xeb\\xf9\\xb8\\xa9Q\\x9c\\xee\\xb1B\\xfe'\n",
      "b'\\x8a\\xda\\x930\\xd7\\xfd\\r\\x8e\\xf0`\\xc5\\xf5\\xac\\xe8\\xa8\\xb6\\xf1\\x177\\xbeu\\xaa\\x14\\x06GV\\xaec\\x11N\\xbd#'\n",
      "b'\\xbd\\xf1\\xd9\\xaa\\xed\\x13\\x16\\xd6\\xd3\\xd7\\xa8\\x9e3\\xf2\\xccf\\xdd;\\xe7\\x9e\\xb2\\xf2\\x89j\\xb2X\\x05\\x82\\xe0\\xe9I\\xa0'\n",
      "b'\\x06\\x0e&U\\x12\\xec\\xe9),(Wa\\xcc\\r3\\x99\"\\xc4\\x18aM\\rv\\x95M\\xa7\\xfa}\\x1f\\x16\\xb6\\x81'\n"
     ]
    }
   ],
   "source": [
    "for r in m0:\n",
    "    print(long_to_bytes(r))"
   ]
  },
  {
   "cell_type": "code",
   "execution_count": null,
   "id": "weird-jones",
   "metadata": {},
   "outputs": [],
   "source": []
  },
  {
   "cell_type": "code",
   "execution_count": null,
   "id": "corrected-circle",
   "metadata": {},
   "outputs": [],
   "source": []
  }
 ],
 "metadata": {
  "kernelspec": {
   "display_name": "Python 3",
   "language": "python",
   "name": "python3"
  },
  "language_info": {
   "codemirror_mode": {
    "name": "ipython",
    "version": 3
   },
   "file_extension": ".py",
   "mimetype": "text/x-python",
   "name": "python",
   "nbconvert_exporter": "python",
   "pygments_lexer": "ipython3",
   "version": "3.9.1+"
  }
 },
 "nbformat": 4,
 "nbformat_minor": 5
}
