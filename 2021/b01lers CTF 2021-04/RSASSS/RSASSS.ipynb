{
 "cells": [
  {
   "cell_type": "markdown",
   "id": "living-platinum",
   "metadata": {},
   "source": [
    "# RSASSS"
   ]
  },
  {
   "cell_type": "code",
   "execution_count": 4,
   "id": "formal-disco",
   "metadata": {},
   "outputs": [],
   "source": [
    "import gmpy2\n",
    "from Crypto.Util.number import long_to_bytes"
   ]
  },
  {
   "cell_type": "code",
   "execution_count": 134,
   "id": "simple-retailer",
   "metadata": {},
   "outputs": [],
   "source": [
    "def modular_sqrt(a, p):\n",
    "    \"\"\" Find a quadratic residue (mod p) of 'a'. p\n",
    "        must be an odd prime.\n",
    "\n",
    "        Solve the congruence of the form:\n",
    "            x^2 = a (mod p)\n",
    "        And returns x. Note that p - x is also a root.\n",
    "\n",
    "        0 is returned is no square root exists for\n",
    "        these a and p.\n",
    "\n",
    "        The Tonelli-Shanks algorithm is used (except\n",
    "        for some simple cases in which the solution\n",
    "        is known from an identity). This algorithm\n",
    "        runs in polynomial time (unless the\n",
    "        generalized Riemann hypothesis is false).\n",
    "    \"\"\"\n",
    "    # Simple cases\n",
    "    #\n",
    "    if gmpy2.legendre(a, p) != 1:\n",
    "        return 0\n",
    "    elif a == 0:\n",
    "        return 0\n",
    "    elif p == 2:\n",
    "        return 0\n",
    "    elif p % 4 == 3:\n",
    "        return pow(a, (p + 1) / 4, p)\n",
    "\n",
    "    # Partition p-1 to s * 2^e for an odd s (i.e.\n",
    "    # reduce all the powers of 2 from p-1)\n",
    "    #\n",
    "    s = p - 1\n",
    "    e = 0\n",
    "    while s % 2 == 0:\n",
    "        s /= 2\n",
    "        e += 1\n",
    "\n",
    "    # Find some 'n' with a legendre symbol n|p = -1.\n",
    "    # Shouldn't take long.\n",
    "    #\n",
    "    n = 2\n",
    "    while gmpy2.legendre(n, p) != -1:\n",
    "        n += 1\n",
    "\n",
    "    # Here be dragons!\n",
    "    # Read the paper \"Square roots from 1; 24, 51,\n",
    "    # 10 to Dan Shanks\" by Ezra Brown for more\n",
    "    # information\n",
    "    #\n",
    "\n",
    "    # x is a guess of the square root that gets better\n",
    "    # with each iteration.\n",
    "    # b is the \"fudge factor\" - by how much we're off\n",
    "    # with the guess. The invariant x^2 = ab (mod p)\n",
    "    # is maintained throughout the loop.\n",
    "    # g is used for successive powers of n to update\n",
    "    # both a and b\n",
    "    # r is the exponent - decreases with each update\n",
    "    #\n",
    "    x = pow(a, (s + 1) / 2, p)\n",
    "    b = pow(a, s, p)\n",
    "    g = pow(n, s, p)\n",
    "    r = e\n",
    "\n",
    "    while True:\n",
    "        t = b\n",
    "        m = 0\n",
    "        for m in xrange(r):\n",
    "            if t == 1:\n",
    "                break\n",
    "            t = pow(t, 2, p)\n",
    "\n",
    "        if m == 0:\n",
    "            return x\n",
    "\n",
    "        gs = pow(g, 2 ** (r - m - 1), p)\n",
    "        g = (gs * gs) % p\n",
    "        x = (x * gs) % p\n",
    "        b = (b * g) % p\n",
    "        r = m\n",
    "\n",
    "\n",
    "def legendre_symbol(a, p):\n",
    "    \"\"\" Compute the Legendre symbol a|p using\n",
    "        Euler's criterion. p is a prime, a is\n",
    "        relatively prime to p (if p divides\n",
    "        a, then a|p = 0)\n",
    "\n",
    "        Returns 1 if a has a square root modulo\n",
    "        p, -1 otherwise.\n",
    "    \"\"\"\n",
    "    ls = pow(a, (p - 1) / 2, p)\n",
    "    return -1 if ls == p - 1 else ls"
   ]
  },
  {
   "cell_type": "code",
   "execution_count": 136,
   "id": "specific-video",
   "metadata": {},
   "outputs": [],
   "source": [
    "def legendre_symbol(a, p):\n",
    "    \"\"\"\n",
    "    Legendre symbol\n",
    "    Define if a is a quadratic residue modulo odd prime\n",
    "    http://en.wikipedia.org/wiki/Legendre_symbol\n",
    "    \"\"\"\n",
    "    ls = pow(a, (p - 1)//2, p)\n",
    "    if ls == p - 1:\n",
    "        return -1\n",
    "    return ls\n",
    "\n",
    "def prime_mod_sqrt(a, p):\n",
    "    \"\"\"\n",
    "    Square root modulo prime number\n",
    "    Solve the equation\n",
    "        x^2 = a mod p\n",
    "    and return list of x solution\n",
    "    http://en.wikipedia.org/wiki/Tonelli-Shanks_algorithm\n",
    "    \"\"\"\n",
    "    a %= p\n",
    "\n",
    "    # Simple case\n",
    "    if a == 0:\n",
    "        return [0]\n",
    "    if p == 2:\n",
    "        return [a]\n",
    "\n",
    "    # Check solution existence on odd prime\n",
    "    if legendre_symbol(a, p) != 1:\n",
    "        return []\n",
    "\n",
    "    # Simple case\n",
    "    if p % 4 == 3:\n",
    "        x = pow(a, (p + 1)//4, p)\n",
    "        return [x, p-x]\n",
    "\n",
    "    # Factor p-1 on the form q * 2^s (with Q odd)\n",
    "    q, s = p - 1, 0\n",
    "    while q % 2 == 0:\n",
    "        s += 1\n",
    "        q //= 2\n",
    "\n",
    "    # Select a z which is a quadratic non resudue modulo p\n",
    "    z = 1\n",
    "    while legendre_symbol(z, p) != -1:\n",
    "        z += 1\n",
    "    c = pow(z, q, p)\n",
    "\n",
    "    # Search for a solution\n",
    "    x = pow(a, (q + 1)//2, p)\n",
    "    t = pow(a, q, p)\n",
    "    m = s\n",
    "    while t != 1:\n",
    "        # Find the lowest i such that t^(2^i) = 1\n",
    "        i, e = 0, 2\n",
    "        for i in range(1, m):\n",
    "            if pow(t, e, p) == 1:\n",
    "                break\n",
    "            e *= 2\n",
    "\n",
    "        # Update next value to iterate\n",
    "        b = pow(c, 2**(m - i - 1), p)\n",
    "        x = (x * b) % p\n",
    "        t = (t * b * b) % p\n",
    "        c = (b * b) % p\n",
    "        m = i\n",
    "\n",
    "    return [x, p-x]"
   ]
  },
  {
   "cell_type": "code",
   "execution_count": 209,
   "id": "incredible-resistance",
   "metadata": {},
   "outputs": [
    {
     "data": {
      "text/plain": [
       "b'(1, 132156498146518935546534654)'"
      ]
     },
     "execution_count": 209,
     "metadata": {},
     "output_type": "execute_result"
    },
    {
     "name": "stdout",
     "output_type": "stream",
     "text": [
      "The history saving thread hit an unexpected error (OperationalError('database is locked')).History will not be written to the database.\n"
     ]
    }
   ],
   "source": [
    "S1"
   ]
  },
  {
   "cell_type": "code",
   "execution_count": 110,
   "id": "victorian-adrian",
   "metadata": {},
   "outputs": [
    {
     "name": "stdout",
     "output_type": "stream",
     "text": [
      "32 b'(1, 132156498146518935546534654)'\n",
      "28312c2031333231353634393831343635313839333535343635333436353429\n"
     ]
    }
   ],
   "source": [
    "# Son 1\n",
    "N1 = 97047969232146954924046774696075865737213640317155598548487427318856539382020276352271195838803309131457220036648459752540841036128924236048549721616504194211254524734004891263525843844420125276708561088067354907535207032583787127753999797298443939923156682493665024043791390402297820623248479854569162947726288476231132227245848115115422145148336574070067423431126845531640957633685686645225126825334581913963565723039133863796718136412375397839670960352036239720850084055826265202851425314018360795995897013762969921609482109602561498180630710515820313694959690818241359973185843521836735260581693346819233041430373151\n",
    "e1 = 3\n",
    "c1 = 6008114574778435343952018711942729034975412246009252210018599456513617537698072592002032569492841831205939130493750693989597182551192638274353912519544475581613764788829782577570885595737170709653047941339954488766683093231757625\n",
    "\n",
    "m1 = gmpy2.iroot(c1,3)[0]\n",
    "print(len(long_to_bytes(m1)), long_to_bytes(m1))\n",
    "print(long_to_bytes(m1).hex())\n",
    "\n",
    "S1 = b'(1, 132156498146518935546534654)'"
   ]
  },
  {
   "cell_type": "code",
   "execution_count": 149,
   "id": "selected-webster",
   "metadata": {},
   "outputs": [
    {
     "name": "stdout",
     "output_type": "stream",
     "text": [
      "b'\\x0b\\xc6\\xc9\\xce\\xcd\\xcc\\xc7\\xc9\\xcb\\xce\\xeeu\\xf7\\xdd\\x90\\xd9\\xbab4\\x82\\xc8\\xe9`\\xac\\xee)\\xb8\\x93\\x9f\\xe3\\xe7\\xfb'\n",
      "b'\\x04961238641\\x11\\x8a\\x08\"o&E\\x9d\\xcb}7\\x16\\x9fS\\x11\\xd6Gl`\\x1c\\x19\\xaa'\n",
      "b'\\x08`H5f0_e\\x82\\xf6\\xbe\\x98\\xf2\\xee\\x07\\xa7\\x0e\\xdbp\\x86\\x84L\\x92\\x8d\\xe0\\x82\\x9b\\x0b)\\xd4u '\n",
      "b'\\x07\\x9f\\xb7\\xca\\x99\\xcf\\xa0\\x9a}\\tAg\\r\\x11\\xf8X\\xf1$\\x8fy{\\xb3mr\\x1f}d\\xf4\\xd6+\\x8c\\x85'\n"
     ]
    }
   ],
   "source": [
    "# Son 2\n",
    "p2 = 7237005577332262213973186563042994240829374041602535252466099000494570602917\n",
    "q2 = 88653318322320212121171535397276679450159832009631056842709712756058489880609\n",
    "e2 = 16\n",
    "c2 = 128067909105216284348808993695734979917384615977985008857494038384160720721127262500602107681721675827823420594821881043967947295783995842628815275429540\n",
    "N2 = 641584559147643806522585180578209433834461841024440698738725108146842224132878080954869712051951546360407690947466432537234140877105707375769336477136453\n",
    "f2 = (p2-1)*(q2-1)\n",
    "d2 = gmpy2.invert(e2//16,f2)\n",
    "\n",
    "prime = p2\n",
    "m16 = pow(c2, d2, N2)\n",
    "m8 = prime_mod_sqrt(m16,prime)\n",
    "m4 = [item for sublist in [prime_mod_sqrt(i,prime) for i in m8] for item in sublist]\n",
    "m2 = [item for sublist in [prime_mod_sqrt(i,prime) for i in m4] for item in sublist]\n",
    "m1 = [item for sublist in [prime_mod_sqrt(i,prime) for i in m2] for item in sublist]\n",
    "\n",
    "for m in m1:\n",
    "    print(long_to_bytes(m))"
   ]
  },
  {
   "cell_type": "code",
   "execution_count": 152,
   "id": "tired-miami",
   "metadata": {},
   "outputs": [
    {
     "data": {
      "text/plain": [
       "[mpz(38297688785245425942315470195203368228917701025365630206640911325936938424081),\n",
       " mpz(50355629537074786178856065202073311221242130984265426636068801430121551456528),\n",
       " mpz(14991434533997167602900450207826414892791918008257559906785817035918095055937),\n",
       " mpz(73661883788323044518271085189450264557367914001373496935923895720140394824672),\n",
       " mpz(63825686663518936188124045803129940209355472505493513065376022650672390288294),\n",
       " mpz(24827631658801275933047489594146739240804359504137543777333690105386099592315),\n",
       " mpz(65976794851029334311604807496441880931188870664677745946719553145804980762306),\n",
       " mpz(22676523471290877809566727900834798518970961344953310895990159610253509118303),\n",
       " mpz(5555628510504491012094665941460002231027535769363266461787671386055926834204),\n",
       " mpz(83097689811815721109076869455816677219132296240267790380922041370002563046405),\n",
       " mpz(28545725259483356344817474381552442111873386390261071738789425798044283754772),\n",
       " mpz(60107593062836855776354061015724237338286445619369985103920286958014206125837),\n",
       " mpz(32465440794676013579959413930274400499595358038128706592322893609202184762182),\n",
       " mpz(56187877527644198541212121467002278950564473971502350250386819146856305118427),\n",
       " mpz(86072260223839667565028657402646108662437209362721378811532783775062120377239),\n",
       " mpz(2581058098480544556142877994630570787722622646909678031176928980996369503370)]"
      ]
     },
     "execution_count": 152,
     "metadata": {},
     "output_type": "execute_result"
    }
   ],
   "source": [
    "qm"
   ]
  },
  {
   "cell_type": "code",
   "execution_count": 151,
   "id": "nonprofit-comedy",
   "metadata": {},
   "outputs": [
    {
     "data": {
      "text/plain": [
       "[mpz(5326669879680030277560357503186915499085285713538416134067345893682994997243),\n",
       " mpz(1910335697652231936412829059856078741744088328064119118398753106811575605674),\n",
       " mpz(3788618472260751383396585810107767470073035349261013075305220094291497743648),\n",
       " mpz(3448387105071510830576600752935226770756338692341522177160878906203072859269)]"
      ]
     },
     "execution_count": 151,
     "metadata": {},
     "output_type": "execute_result"
    }
   ],
   "source": [
    "pm"
   ]
  },
  {
   "cell_type": "code",
   "execution_count": 153,
   "id": "incredible-circulation",
   "metadata": {
    "scrolled": false
   },
   "outputs": [
    {
     "name": "stdout",
     "output_type": "stream",
     "text": [
      "b'\\xac\\xec\\x04\\x9c\\xe7\\xea?\\x1a\\xe6lT\\x83\\xcd\\x0e|\\xf0\\nO\\xd8g\\x98\\xf436y\\xda\\x9b\\xfa\\xf6C\\x8c\\xb1\\xc9\\x03/d\\x10d=\\x9a\\xd1^A\\xfbj\\xc8E\\xc9\\xb7\"\\xa8\\xb1\\x82\\xe46Tq\\xe0\\xcf\\x0f\\xb3y!'\n",
      "b'\\x05|\\xb1\\x16/\\xce\\x0e8[bS\\x0bXa\\xa9\\x12\\xc7D\\xd8\\x86\\x94\\x99,k\\xde\\x13\\xacQ&*\\x86\\xcae,\\xcd\\xfb\\x10\\tc\\x1a\\xbfZ,\\x0f\\x91\\xd3-A\\x89\\x1f \\xa35wu\\x96w|^\\xa8\\x9f\\x07\\xef\\xca'\n",
      "b'\\x027\\xc9n\\xecc1\\t\\xa8\\x7f\\x1f[\\x80\\xfa\\x0b\\xb2\\x95./\\x94\\xc3m\\xaa\\x99\\xf1o?u\\xe1H=\\xae4D~\\xe1X*\\xad\\x87\\x13\\xdf\\xd6J\\xa6A\\xd2\\x9c^\\x1fj\\xdc\\xb9\\xe5\\x85.\\x9f\\xb8h\\xc2\\xe6\\xa5lq'\n",
      "b'\\x03\\xf1\\xd3\\xab\\xe0R\\xc7m\\xcd\\xc9\\xa0\\x04[4\\xab\\xdd\" \\xf8\\xca8\\xc4v\\x05#\\x1eGw?\\xd8\\x8c\\xa8\\xe2\\xb1RI\\x1b\\xef\\x19\\xd1FK\\xb4\\x06\\xe6\\xfc\"\\xea\\xf4\\xb6\\xd8o-\\x14\\xd4\\x9e,5\\xd6\\xb4\\xc8\\x15\\xfcz'\n",
      "b\"\\x06\\xc3N\\xe9\\xd01\\xf1\\xc7\\xa4\\x9d\\xac\\xf4\\xa7\\x9eV\\xed8\\xbb'ykf\\xd3\\x94!\\xecS\\xae\\xd9\\xd5zy\\xfe\\xd32\\x04\\xef\\xf6\\x9c\\xe5@\\xa5\\xd3\\xf0n,\\xd2\\xbev\\xe0\\xdf\\\\\\xca\\x88\\x8ai\\x88\\x83\\xa1W`\\xf8F{\"\n",
      "b\"\\x0b\\x93\\x13\\xfbc\\x18\\x15\\xc0\\xe5\\x19\\x93\\xab|2\\xf1\\x83\\x0f\\xf5\\xb0'\\x98g\\x0b\\xcc\\xc9\\x86%d\\x05\\t\\xbd\\xb7\\xb26\\xfc\\xd0\\x9b\\xef\\x9b\\xc2e.\\xa1\\xbe\\x04\\x957\\xba6H\\xddWN}\\x1b\\xc9\\xab\\x8e\\x1f0\\xf0L\\xbd$\"\n",
      "b'\\x08N,T\\x1f\\xad8\\x9226_\\xfb\\xa4\\xcbT\"\\xdd\\xdf\\x075\\xc7;\\x89\\xfa\\xdc\\xe1\\xb8\\x88\\xc0\\'t\\x9b\\x81N\\xad\\xb6\\xe4\\x10\\xe6.\\xb9\\xb4K\\xf9\\x19\\x03\\xdd\\x15\\x0bI\\'\\x90\\xd2\\xeb+a\\xd3\\xca)K7\\xea9\\xcb'\n",
      "b'\\n\\x086\\x91\\x13\\x9c\\xce\\xf6W\\x80\\xe0\\xa4\\x7f\\x05\\xf4Mj\\xd1\\xd0k<\\x92Uf\\x0e\\x90\\xc0\\x8a\\x1e\\xb7\\xc3\\x96/\\xbb\\x81\\x1e\\xa7\\xd5Rx\\xec )\\xb5Y\\xbe-c\\xa1\\xe0\\x95#F\\x1az\\xd1`G\\x97=\\x19Z\\xc9\\xd4'\n",
      "b'\\x04\\xc6Zsec\\x87\\x00\\xdfK\\xe5P\\xaa\\xaf\\x13?n\\x1fQ(\\x1eY\\xc0ZN&\\xad\\xdb\\xdd\\x98E\\xb1\\x0e\\xf2\\xc6*\\x98\\x9d\\x0e\\xbdH\\xd0\\xc9\\x01\\x16\\x88\\x05\\xdbRi\\xa4!b~\\xa8\\xd5G\\xe8a\\xcaV\\x80\\xbf\\xc9'\n",
      "b'\\t\\x96\\x1f\\x84\\xf8I\\xaa\\xfa\\x1f\\xc7\\xcc\\x07\\x7fC\\xad\\xd5EY\\xd9\\xd6KY\\xf8\\x92\\xf5\\xc0\\x7f\\x91\\x08\\xcc\\x88\\xee\\xc2V\\x90\\xf6D\\x96\\r\\x9amY\\x96\\xce\\xac\\xf0j\\xd7\\x11\\xd1\\xa2\\x1b\\xe6s:5j\\xf2\\xdf\\xa3\\xe5\\xd56r'\n",
      "b'\\x06Q7\\xdd\\xb4\\xde\\xcd\\xcbl\\xe4\\x98W\\xa7\\xdc\\x10u\\x13C0\\xe4z.v\\xc1\\t\\x1c\\x12\\xb5\\xc3\\xea?\\xd2\\x91nA\\xdc\\x8c\\xb7X\\x06\\xc1\\xdfA\\t\\xc1_\\x101\\xe6\\xd1\\xecUj\\xe1I\\xcd\\x93.\\xe9\\xbe-r\\xb3\\x19'\n",
      "b'\\x08\\x0bB\\x1a\\xa8\\xced/\\x92/\\x19\\x00\\x82\\x16\\xb0\\x9f\\xa05\\xfa\\x19\\xef\\x85B,:\\xcb\\x1a\\xb7\"z\\x8e\\xcd?\\xdb\\x15DP{\\xc4P\\xf4K\\x1e\\xc6\\x02\\x19`\\x80}iY\\xe7\\xde\\x10\\x99=\\x1f\\xacW\\xb0\\x0e\\xe3C\"'\n",
      "b'\\x02\\xa9\\xe0{\\x07\\xb6U\\x05\\xe083\\xf8\\x80\\xbcR*\\xba\\xa6&)\\xb4\\xa6\\x07m\\n?\\x80n\\xf73xU\\xa1\\xa9o\\t\\xbbi\\xf2e\\x92\\xa6i1S\\x0f\\x95(\\xee.]\\xe4\\x19\\x8c\\xc5\\xca\\x95\\r \\\\\\x1a*\\xff\\xd3'\n",
      "b'\\x07y\\xa5\\x8c\\x9a\\x9cx\\xff \\xb4\\x1a\\xafUP\\xec\\xc0\\x91\\xe0\\xae\\xd7\\xe1\\xa6?\\xa5\\xb1\\xd9R$\"g\\xbb\\x93U\\r9\\xd5gb\\xf1B\\xb7/6\\xfe\\xe9w\\xfa$\\xad\\x96[\\xde\\x9d\\x81W*\\xb8\\x17\\x9e5\\xa9\\x7fv|'\n",
      "b'\\x044\\xbd\\xe5W1\\x9b\\xd0m\\xd0\\xe6\\xff}\\xe9O`_\\xca\\x05\\xe6\\x10z\\xbd\\xd3\\xc54\\xe5H\\xdd\\x85rw$$\\xea\\xbb\\xaf\\x84;\\xaf\\x0b\\xb4\\xe19\\xfd\\xe6\\x9f\\x7f\\x82\\x96\\xa6\\x18!\\xeff\\xc2\\xe0S\\xa8O\\xf1\\x1c\\xf3#'\n",
      "b'\\x05\\xee\\xc8\"K!24\\x93\\x1bg\\xa8X#\\xef\\x8a\\xec\\xbc\\xcf\\x1b\\x85\\xd1\\x89>\\xf6\\xe3\\xedJ<\\x15\\xc1q\\xd2\\x91\\xbe#sH\\xa7\\xf9> \\xbe\\xf6>\\xa0\\xef\\xce\\x19.\\x13\\xaa\\x95\\x1e\\xb62l\\xd1\\x16A\\xd2\\x8d\\x83,'\n",
      "b'\\x018\\xee\\x90\\xf3\\xc0\\xdaat;F\\xc6\\x87\\xa1\\\\\\xeb\\xda\\xf0\\xdd(\\xc4.*\\xdbfq\\xd15~\\x00L[\\xb5\\xcc\\x0f\\xdc\\x90>\\xec\\x0c#\\x856F\\xbd\\xba\\x8e\\xca\\x9c\\x1du,\\xc7\\xb1\\r\\xa4\\x80\\xfa\\x88\\x17\\x07\\xb9\\xc5\\x93'\n",
      "b'\\x06\\x08\\xb3\\xa2\\x86\\xa6\\xfeZ\\xb4\\xb7-}\\\\5\\xf7\\x81\\xb2+e\\xd6\\xf1.c\\x14\\x0e\\x0b\\xa2\\xea\\xa94\\x8f\\x99i/\\xda\\xa8<7\\xea\\xe9H\\x0e\\x04\\x14T\"\\xf3\\xc6[\\x85s\\'K\\xa5\\x9f\\x04\\xa4\\x05\\x05\\xf0\\x97\\x0e<<'\n",
      "b'\\x02\\xc3\\xcb\\xfbC<!,\\x01\\xd3\\xf9\\xcd\\x84\\xceZ!\\x80\\x14\\xbc\\xe5 \\x02\\xe1B!g6\\x0fdRF}8G\\x8b\\x8e\\x84Y5U\\x9c\\x93\\xaeOh\\x91\\x99!0\\x85\\xbd`\\xd0\\x13\\xae\\x9c\\xccA\\x10\\n\\xde\\xab\\xb8\\xe3'\n",
      "b\"\\x04}\\xd687+\\xb7\\x90'\\x1ezv_\\x08\\xfaL\\r\\x07\\x86\\x1a\\x95Y\\xac\\xadS\\x16>\\x10\\xc2\\xe2\\x95w\\xe6\\xb4^\\xf6H\\x1d\\xa1\\x9f\\xce\\xff\\x8c\\x0b\\xa9K\\xe9o\\xc7\\x1d*\\xf3CB\\xfe\\x0cX\\xbe}\\xfc\\xc0\\x1cH\\xec\"\n",
      "b'\\x067L]yY\\x01\\xa5KH\\xd2\\x82\\xa3\\xca\\x08~M\\xd4\\x9a)\\x0e\\xd1\\x9c\\xeb\\xf1\\xf4]\\x15V\\xcbq\\xaa\\xfa\\xd0%W\\xc3\\xc8\\x15\\x16\\xb7\\xf1\\xfb\\xeb\\xab\\xdd\\x0c9\\xa4z\\x8c\\xd8\\xb4Z`\\xfb[\\xfa\\xfa\\x0fh\\xf1\\xfa\\t'\n",
      "b'\\x0b\\x07\\x11o\\x0c?%\\x9e\\x8b\\xc4\\xb99x^\\xa3\\x14%\\x0f\"\\xd7;\\xd1\\xd5$\\x99\\x8e.\\xca\\x81\\xff\\xb4\\xe8\\xae3\\xf0#o\\xc1\\x13\\xf3\\xdcz\\xc9\\xb9BEq5c\\xe2\\x8a\\xd38N\\xf2[\\x7f\\x05w\\xe8\\xf8Fp\\xb2'\n",
      "b'\\x07\\xc2)\\xc7\\xc8\\xd4Ho\\xd8\\xe1\\x85\\x89\\xa0\\xf7\\x05\\xb3\\xf2\\xf8y\\xe5j\\xa6SR\\xac\\xe9\\xc1\\xef=\\x1dk\\xcc}K\\xa1\\t\\xb7\\xe2^`1\\x00s\\xf4V\\xb4\\x16\\x908\\xe2\\xd5\\x0c\\xbc\\xbd\\x01\\xf3\\xa7A\\x82\\x03?\\xe3\\xedY'\n",
      "b'\\t|4\\x04\\xbc\\xc3\\xde\\xd3\\xfe,\\x062{1\\xa5\\xde\\x7f\\xebC\\x1a\\xdf\\xfd\\x1e\\xbd\\xde\\x98\\xc9\\xf0\\x9b\\xad\\xba\\xc7+\\xb8tq{\\xa6\\xca\\xaaclQ\\xb0\\x97nf\\xde\\xcfzB\\x9f/\\xecQc3\\xbe\\xef\\xf5!T}b'\n",
      "b'\\x04\\xfd\\xc4%O\\x81\\xe7\\xff\\xee\\xe8\\x8eZ\\xb9\\xe7\\xb7\\xf3\\xff\\x9b\\x16\\x80\\x86\\xbc\\xcf\\xb8\\xccA\\xdc\\x99b\\x94\\'\\xc3\\xb0\\xff\\xdf\\x8a\\xd7\\xf5F\\x08\\x12\\xf0\\xa1\\xb1\\x98\\xf5\\xd5\\x0f[\"J\\\\\\x11\\x03\\x0f+s&<\\x85z,\\xb44'\n",
      "b'\\t\\xcd\\x896\\xe2h\\x0b\\xf9/du\\x11\\x8e|R\\x89\\xd6\\xd5\\x9f.\\xb3\\xbd\\x07\\xf1s\\xdb\\xaeN\\x8d\\xc8k\\x01dc\\xaaV\\x83\\xeeD\\xe57yo\\x7f/^:\\x0b\\x1a\\x8aHV\\x94\\xf7\\xa0\\x8b\\x960\\xba_\\t\\x81*\\xdd'\n",
      "b'\\x06\\x88\\xa1\\x8f\\x9e\\xfd.\\xca|\\x81Aa\\xb7\\x14\\xb5)\\xa4\\xbe\\xf6<\\xe2\\x91\\x86\\x1f\\x877AsH\\xe6!\\xe53{[<\\xcc\\x0f\\x8fQ\\x8b\\xff\\x19\\xbaC\\xcc\\xdfe\\xef\\x8a\\x92\\x90\\x19e\\xb0#\\xbel\\xc4yQ\\x1e\\xa7\\x84'\n",
      "b'\\x08B\\xab\\xcc\\x92\\xec\\xc5.\\xa1\\xcb\\xc2\\n\\x91OUT1\\xb1\\xbfrW\\xe8Q\\x8a\\xb8\\xe6It\\xa7vp\\xdf\\xe1\\xe8.\\xa4\\x8f\\xd3\\xfb\\x9b\\xbej\\xf7v\\x84\\x87/\\xb4\\x86\"\\x00\"\\x8c\\x94\\xff\\x93J\\xea2k2\\x8f7\\x8d'\n",
      "b'\\x02rv\\xc9\\x1d\\x97\\xf4\\x06\\xd0\\x9b\\x8a\\xeeq\\x83\\xadv)*`\\xd1LB\\xf8\\x0e\\x8c$Q\\xb1r7\\x96B\\xff\\x9cU\\xa9|\\x11\\xbb\\x1a\\xc8\\x86\\x90\\x80\\xd0\\xa1\\xc5\\xf4\\xe5u\\xb7\\xa9k\\x08_ti\\xcfE\\xa0\\xf6\\x7f\\x0bh'\n",
      "b'\\x07B;\\xda\\xb0~\\x18\\x00\\x11\\x17q\\xa5F\\x18H\\x0c\\x00d\\xe9\\x7fyC0G3\\xbe#f\\x9dk\\xd9\\x80\\xb3\\x00 u(\\n\\xb9\\xf7\\xed\\x0f^Ng\\n*\\xf0\\xa4\\xdd\\xb5\\xa3\\xee\\xfc\\xf0\\xd4\\x8c\\xd9\\xc3z\\x85\\xd3\\x82\\x11'\n",
      "b'\\x03\\xfdT3m\\x13:\\xd1^4=\\xf5n\\xb0\\xaa\\xab\\xceN@\\x8d\\xa8\\x17\\xaeuG\\x19\\xb6\\x8bX\\x89\\x90d\\x82\\x17\\xd1[p,\\x04dA\\x95\\x08\\x89{x\\xd0Ky\\xdd\\xff\\xddsk\\x00l\\xb5\\x15\\xcd\\x94\\xcdp\\xfe\\xb8'\n",
      "b'\\x05\\xb7^pa\\x02\\xd15\\x83~\\xbe\\x9eH\\xebJ\\xd6[A\\t\\xc3\\x1dny\\xe0x\\xc8\\xbe\\x8c\\xb7\\x19\\xdf_0\\x84\\xa4\\xc33\\xf0p\\xaet\\x00\\xe6E\\xbc3 \\x9a\\x10umo\\xe6\\x9aO\\xdcA\\x93;\\x86\\xae\\xe1\\x8e\\xc1'\n",
      "b'\\x01\\xb3\\xc1\\xf6Sd\\xed\\x0fY\\x0f6\\xda\\xa7\\xde\\xdc`}6\\xf0\\xfb\\xda\\xd9\\x87\\xf0cY\\xf1\\x0e\\xa7\\x1b\\xb2\\xe2\\xe5\\xa6kA\\x1djk\\xa1,\"G\\xd7\\x0f\\xe4;\\xb8p\\x07\\x17qD\\xb2E\\xe3\\x1c\\xc0\\x8a \\xa8\\xb2>\\x80'\n",
      "b'\\x06\\x83\\x87\\x07\\xe6K\\x11\\x08\\x99\\x8b\\x1d\\x91|sv\\xf6Tqy\\xaa\\x07\\xd9\\xc0)\\n\\xf3\\xc2\\xc3\\xd2O\\xf6 \\x99\\n6\\x0c\\xc9cj~P\\xab\\x15\\xa4\\xa6L\\xa0\\xb4/o\\x15k\\xc8\\xa6\\xd7C?\\xcb\\x07\\xfa8\\x06\\xb5)'\n",
      "b'\\x03>\\x9f`\\xa2\\xe03\\xd9\\xe6\\xa7\\xe9\\xe1\\xa5\\x0b\\xd9\\x96\"Z\\xd0\\xb86\\xae>W\\x1eOU\\xe8\\x8dm\\xad\\x04h!\\xe6\\xf3\\x11\\x84\\xb4\\xea\\xa50\\xbf\\xdf\\xba\\xbbF\\x0f\\x04o_\\xa5M\\x14\\xe6\\xdbh\\x07\\x12\\x14\\x7f\\xa41\\xd0'\n",
      "b'\\x04\\xf8\\xa9\\x9d\\x96\\xcf\\xca>\\x0b\\xf2j\\x8a\\x7fFy\\xc0\\xafM\\x99\\xed\\xac\\x05\\t\\xc2O\\xfe]\\xe9\\xeb\\xfd\\xfb\\xff\\x16\\x8e\\xbaZ\\xd5I!4\\xd7\\x9c\\x9d\\x9b\\xfbu\\x96]\\x9b\\x06\\xcd7\\xc0D6J\\xf4\\x84\\x80\\x06a\\x14\\xc1\\xd9'\n",
      "b'\\x05\\xbcx\\xf8\\x19\\xb4\\xee\\xf7ft\\xe2n\\x83\\x8c\\x89\\t\\xab\\x8e\\x86U\\xf8&?\\xd6\\xf5\\x0c=<-\\xb0\\x0b#\\xca\\xf5\\xc9\\xf36\\x9c\\x95\\x81\\xafT\\xea[Y\\xb3_K\\xd0\\x90\\xea\\x947Y(\\xbc\\xc04\\xf8\\x05\\xc7\\xf9\\x81\\x1c'\n",
      "b'\\n\\x8c>\\t\\xac\\x9b\\x12\\xf0\\xa6\\xf0\\xc9%X!#\\x9f\\x82\\xc9\\x0f\\x04%&x\\x0f\\x9c\\xa6\\x0e\\xf1X\\xe4Na~Y\\x94\\xbe\\xe2\\x95\\x94^\\xd3\\xdd\\xb8(\\xf0\\x1b\\xc4G\\x8f\\xf8\\xe8\\x8e\\xbbM\\xba\\x1c\\xe3?u\\xdfWM\\xf7\\xc5'\n",
      "b'\\x07GVbi05\\xc1\\xf4\\r\\x95u\\x80\\xb9\\x86?P\\xb2f\\x12S\\xfa\\xf6=\\xb0\\x01\\xa2\\x16\\x14\\x02\\x05EMqE\\xa5*\\xb6\\xde\\xcb(cbd\\x04\\x8ai\\xa2d\\xf92\\xc8?\\xbb\\xc9\\xb5\\x0b{\\x7f\\xf9\\x9e\\xebtl'\n",
      "b'\\t\\x01`\\x9f]\\x1f\\xcc&\\x19X\\x16\\x1eZ\\xf4&i\\xdd\\xa5/G\\xc9Q\\xc1\\xa8\\xe1\\xb0\\xaa\\x17r\\x92T?\\xfb\\xde\\x19\\x0c\\xee{K\\x15Z\\xcf@ ED\\xb9\\xf0\\xfb\\x90\\xa0Z\\xb2\\xeb\\x19$\\x97\\xf8\\xed\\xeb\\x80\\\\\\x04u'\n",
      "b'\\t\\x9a\\xf5X[C\\xbe\\x05A\\xcb\\xb1Q\\xa9\\xc4\\xb9\\x82\\x84\\xa4\\xa9\\x867\\xaawx\\x1b\\xae\\xf3\\x88\\x934\\xaf\\x17\\t\\x1en\\xb04D\\xb2\\x1d\\x0bx\\xa39\\x00.\\xcb\\x1b\\xe7\\x0e\\xd0\\x1b~P\\xe9\\x05Y\\x91\\xb24\\xfa\\x08\\xfa\\xaf'\n",
      "b'\\x02*\\xbai\\xee)\\xe1\\xfe\\x82G\\x98\\x08~YT\\x18[\\xdf24d\\xaa\\xaf\\xb0\\xc3H\\xc5=\\xbeh\\xf1\\x10X\\x829{\\xe0=\\xb0\\xfa0\\x01q\\x06\\x96\\x970\\x17\\xa6v\\xce\\x16\\x02Eze|\\x9c0\\x0e\\x89];\\x13'\n",
      "b'\\x0b%\\xd2\\xc2\\xaa\\xbf\\x04\\xcf\\xcfddX\\xa6\\xf1\\xb6\\xb8)\\xc8\\x89B\\x93\\x7f-\\xde\\xd6\\xa4Xby\\x86\\xa98\\x8b\\x99\\xeab(^\\xfbf\\x84\\x87\\x1bA\\xab\\x05\\xd5r{w\\x18O\\x86\\xb3\\x89\\xfd\\xa4\\xd8:(\\xd0\\xfa\\xed\\xff'\n",
      "b'\\x9f\\xdc\\xff\\x9e\\xae\\x9b3\\xf4\\xae\\xe5\\x01\\x81,V\\xe2\\xb6\\xbbRx\\x08\\xd5\\xf9J\\x08S`c\\xd8\\x16\\xf6\\xee\\xd6\\x06\\xbd\\xc9\\xec#g\\xb0\\xb6\\xf2\\xf8\\xfd\\xeb\\xc0%\\xc1\\x12\\x0e\\x85\\xe1\\xf9\\xe2\\xd9m1U\\xa8\\x1a\\xb2kG\\xc3'\n",
      "b'\\n\\x15E\\x96\\x11\\xd6\\x1e\\x01}\\xb8g\\xf7\\x81\\xa6\\xab\\xe7\\xa4 \\xcd\\xcb\\x9bUPO<\\xb7:\\xc2A\\x97\\x104\\x0b}\\xc6\\x84\\x1f\\xc2O\\x05\\xcf\\xfe\\x8e\\xf9ih\\xcf\\xe8Y\\x891\\xe9\\xfd\\xba\\x85\\x9a\\x83c\\xcf\\xf1v\\xa2\\xfb2'\n",
      "b'\\x02\\xa5\\n\\xa7\\xa4\\xbcA\\xfa\\xbe4N\\xaeV;F}{[Vy\\xc8U\\x88\\x87\\xe4Q\\x0cwl\\xcbR-Z\\xe1\\x91O\\xcb\\xbbM\\xe2\\xf4\\x87\\\\\\xc6\\xff\\xd14\\xe4\\x18\\xf1/\\xe4\\x81\\xaf\\x16\\xfa\\xa6nM\\xcb\\x05\\xf7;\\x96'\n",
      "b\"\\x0b\\xa0#\\x00aQd\\xcc\\x0bQ\\x1a\\xfe~\\xd3\\xa9\\x1dID\\xad\\x87\\xf7*\\x06\\xb5\\xf7\\xac\\x9f\\x9c'\\xe9\\nU\\x8d\\xf9B6\\x13\\xdc\\x98OI\\r\\x07\\x02\\x14?\\xda>\\xed\\xf1z\\x1e\\x06\\x1d&\\x92\\xce\\xaaW\\xe5M\\x94\\xee\\x82\"\n",
      "b\"\\x01\\x1a-=U@\\xfb00\\x9b\\x9b\\xa7Y\\x0eIG\\xd67v\\xbdl\\x80\\xd2!)[\\xa7\\x9d\\x86yX\\x0b\\xd8f\\x15\\x9d\\xd7\\xa1\\x04\\x99{x\\xe4\\xbeT\\xfa*\\x8d\\x84\\x88\\xe7\\xb0yLv\\x02['\\xc5\\xd7/\\x05HF\"\n",
      "b'\\x0c?\\xff\\xff\\xff\\xff\\xff\\xff\\xff\\xff\\xff\\xd7\\xcd\\xd3\\xdf\\xc7\\xc9\\xce\\xcc\\xca\\xcd\\xcb\\xc6\\xc7\\xcb\\xc6\\xc9\\xce\\xca\\xcc\\xcf\\x0f/\\xc6\\xc9\\xce\\xcd\\xcc\\xc7\\xc9\\xcb\\xca\\xcc\\xcd\\xce\\xcd\\xc9\\xc7\\xcb\\xce\\xcc\\xc9\\xca\\xc7\\xc9\\xce\\xcc\\xc7\\xc9\\xcb\\xcc\\xcb\\x05\\x1c'\n",
      "b'\\x04\\xcf\\xc5\\x11\\x92\\xe6#\\xf9@{\\xe6\\x8e\\xa2hz]\\xa1\\tUx\\xfa\\xcb\\xff\\x00s`\\x9b\\x83\\xf6\\x01\\x11\\x08\\x7f*\\x94\\x9ay\\xc5\\xc6\\xa6\\xf0S\\x9a\\x9be6.\\xc3\\x8b6\\xca\\xc4N\\xbc[.\\xef\\xd2G\\xa5\\\\\\x1fE\\x80'\n",
      "b\"\\x01\\x8a\\xddjO{F\\xca\\x8d\\x98\\xb2\\xde\\xcb\\x00\\xdc\\xfdn\\xf2\\xac\\x87)\\xa0}.\\x86\\xbc.\\xa8\\xb1\\x1e\\xc7\\xecNBE\\x80\\xc1\\xe7\\x11\\x13D\\xd9D\\xd6y\\xa4\\xd4\\x1e`7\\x14\\xfd\\xd3*j\\xc7\\x18\\x0eQ\\xbf\\xa3\\xbc\\xc2'\"\n",
      "b'\\x03D\\xe7\\xa7Cj\\xdd.\\xb2\\xe33\\x87\\xa5;}\\'\\xfb\\xe5u\\xbc\\x9e\\xf7H\\x99\\xb8k6\\xaa\\x0f\\xaf\\x16\\xe6\\xfc\\xaf\\x18\\xe8\\x85\\xab}]wE\"\\x92\\xba_$l\\xf6\\xce\\x82\\x90FY\\xba6\\xa4\\x8b\\xbf\\xb1\\x85-R0'\n",
      "b'\\x07p:\\xeem\\x19\\xdc\\x06\\xbf\\x84\\x19q]\\x97\\x85\\xa2^\\xf6\\xaa\\x87\\x054\\x00\\xff\\x8c\\x9fd|\\t\\xfe\\xf0;\\xe4\\xd5ke\\x86:9Y\\x0f\\xaced\\x9a\\xc9\\xd1<t\\xc95;\\xb1C\\xa4\\xd1\\x10-\\xb8Z\\xa3\\xe0\\xf0\\xc5'\n",
      "b'(2, 861352498496153254961238645321268413658613864351)'\n",
      "b'\\x08\\xfb\\x18X\\xbc\\x95\"\\xd1M\\x1c\\xccxZ\\xc4\\x82\\xd8\\x04\\x1a\\x8aCa\\x08\\xb7fG\\x94\\xc9U\\xf0P\\xea]gP\\xe7\\x17zT\\x82\\xa2\\x88\\xba\\xddmE\\xa0\\xdb\\x93\\t1}o\\xb9\\xa6E\\xc9[t@Nz\\xd2\\xe4\\x15'\n",
      "b'\\n\\xb5\"\\x95\\xb0\\x84\\xb95rgM!4\\xff#\\x02\\x91\\rSx\\xd6_\\x82\\xd1yC\\xd1WN\\xe19X\\x15\\xbd\\xba\\x7f>\\x18\\xee\\xec\\xbb&\\xbb)\\x86[+\\xe1\\x9f\\xc8\\xeb\\x02,\\xd5\\x958\\xe7\\xf1\\xae@\\\\Ct\\x1e'\n",
      "b'\\n\\xcf\\x86+B\\x07\\x05\\xcd,[\\xed\\xc8\\xf2\\x1b)\\x96\\xafFt\\xbe\\xd6^\\xb3\\xb1A12Qv`\\xe02\\x00A\\x1c\\x08&\\x95nh\\xfe\\xaf\\xa5\\xd8b\\x93\\xdd\\xbd\\xa8B\\x11\\xebd\\xc1\\x88\\xb0L\\xa5\\xb8\\x0et\\xd1\\xcd\\xb3'\n",
      "b'\\x03_K<\\xd4\\xed)\\xc6l\\xd7\\xd4\\x7f\\xc6\\xaf\\xc4,\\x86\\x80\\xfdm\\x03^\\xeb\\xe9\\xe8\\xcb\\x04\\x06\\xa1\\x95\"+O\\xa4\\xe6\\xd3\\xd2\\x8emF#8s\\xa5\\xf8\\xfcB\\xb9g\\xaa\\x0f\\xe5\\xe8\\xb6\\x1a\\x10o\\xb05\\xe8\\x04&\\x0e\\x17'\n",
      "b'\\x1ac\\x95\\x91\\x82L\\x97\\xb9\\xf4\\xa0\\xcf\\xefH&\\xccTjT{23j\\x17\\xfc&\\x97+\\\\\\xb2\\xd9\\x0f\\x1e\\xbc\\x97\\xba\\x1a\\xaf\\xb7\\xb2w\\xbe\\x1d\\xe1\\rj\\xe8\\x14<\\xaaZ\\x1fm$)\\xa8\\x97\\xec@\\x02K\\xc3\\x8a\\xbe'\n",
      "b'\\x01\\xd4m\\xd2\\x85q\\xe2\\xfb\\xdf?!x\\xc9\\x82\\xc6\\xf6\\xe1]\\x1d\\xb0\\xa7\\x8a5\\x83-\\xd5\\x9f,\\xbbC(\\t\\xcd)k!\\xdet#\\xfc\\xaa)\\xfb\\x9dN%8b\\xd3A\\xc7\\xb1\\xe0Sy\\x18$i\\xad\\xf4-4\\x1a\\xc7'\n",
      "b'\\x08\\xe0\\xb4\\xc3+\\x12\\xd69\\x93(+\\x809P;\\xd3y\\x7f\\x02\\x92\\xfc\\xa1\\x14\\x16\\x174\\xfb\\xf9^j\\xdf\\x19\\x14[\\x19,-q\\x92\\xb9\\xdc\\xc7\\x8cZ\\x07\\x03\\xbdF\\x98U\\xf0\\x1a\\x17I\\xe5\\xef\\x90O\\xca\\x17\\xfb\\xda(.'\n",
      "b'\\x01py\\xd4\\xbd\\xf8\\xfa2\\xd3\\xa4\\x127\\r\\xe4\\xd6iP\\xb9\\x8bA)\\xa1LN\\xbe\\xce\\xcd\\xae\\x89\\x9f!\\x12c\\xbe\\xe3\\xf7\\xd9j\\x91\\x97\\x01PZ\\'\\x9dl\"BW\\xbd\\xee\\x14\\x9b>wO\\xb3ZG\\xf1\\x8b.h\\x92'\n",
      "b'\\nk\\x92-z\\x8e\\x1d\\x04 \\xc0\\xde\\x876}9\\t\\x1e\\xa2\\xe2OXu\\xca|\\xd2*`\\xd3D\\xbc\\xd9:\\x96\\xd6\\x94\\xde!\\x8b\\xdc\\x03U\\xd6\\x04b\\xb1\\xda\\xc7\\x9d,\\xbe8N\\x1f\\xac\\x86\\xe7\\xdb\\x96R\\x0b\\xd2\\xcc\\x1b~'\n",
      "b'\\x0c%\\x9cjn}\\xb3hF\\x0b_0\\x10\\xb7\\xd93\\xab\\x95\\xab\\x84\\xcd\\xcc\\x95\\xe8\\x03\\xd9h\\xd4\\xa3M(5EChE\\xe5PHM\\x88A\\xe2\\x1e\\xf2\\x95\\x17\\xeb\\xc3U\\xa5\\xe0\\x92\\xdb\\xd6Wh\\x13\\xbf\\xfd\\xb4<\\xab\\x87'\n"
     ]
    }
   ],
   "source": [
    "qinv = gmpy2.invert(q2, p2)\n",
    "\n",
    "for qmi in qm:\n",
    "    \n",
    "    for pmi in pm:\n",
    "        \n",
    "        h = (qinv * (pmi - qmi)) % p2\n",
    "        \n",
    "        mfinal = qmi + h*q2\n",
    "        print(long_to_bytes(mfinal))"
   ]
  },
  {
   "cell_type": "code",
   "execution_count": 155,
   "id": "liberal-dynamics",
   "metadata": {},
   "outputs": [],
   "source": [
    "S2 = b'(2, 861352498496153254961238645321268413658613864351)'"
   ]
  },
  {
   "cell_type": "code",
   "execution_count": null,
   "id": "confused-certification",
   "metadata": {},
   "outputs": [],
   "source": []
  },
  {
   "cell_type": "code",
   "execution_count": 205,
   "id": "elect-occurrence",
   "metadata": {},
   "outputs": [],
   "source": [
    "import random\n",
    "from math import ceil\n",
    "from decimal import Decimal, getcontext\n",
    "\n",
    "getcontext().prec = 500\n",
    " \n",
    "def reconstruct_secret(shares):\n",
    "    \"\"\"\n",
    "    Combines individual shares (points on graph)\n",
    "    using Lagranges interpolation.\n",
    " \n",
    "    `shares` is a list of points (x, y) belonging to a\n",
    "    polynomial with a constant of our key.\n",
    "    \"\"\"\n",
    "    sums = 0\n",
    "    prod_arr = []\n",
    " \n",
    "    for j, share_j in enumerate(shares):\n",
    "        xj, yj = share_j\n",
    "        prod = Decimal(1)\n",
    " \n",
    "        for i, share_i in enumerate(shares):\n",
    "            xi, _ = share_i\n",
    "            if i != j:\n",
    "                prod *= Decimal(Decimal(xi)/(xi-xj))\n",
    " \n",
    "        prod *= yj\n",
    "        sums += Decimal(prod)\n",
    " \n",
    "    return round(sums)\n",
    "\n",
    "long_to_bytes(reconstruct_secret(lest))"
   ]
  },
  {
   "cell_type": "code",
   "execution_count": 206,
   "id": "relative-riverside",
   "metadata": {},
   "outputs": [],
   "source": [
    "SSS = [[int(i) for i in S1.decode()[1:-1].split(', ')], \n",
    "       [int(i) for i in S2.decode()[1:-1].split(', ')], \n",
    "       [int(i) for i in S3.decode()[1:-1].split(', ')]]"
   ]
  },
  {
   "cell_type": "code",
   "execution_count": 208,
   "id": "sorted-drilling",
   "metadata": {},
   "outputs": [
    {
     "data": {
      "text/plain": [
       "b'bctf{Mr._Ad1_5ham1r}'"
      ]
     },
     "execution_count": 208,
     "metadata": {},
     "output_type": "execute_result"
    }
   ],
   "source": [
    "getcontext().prec = 500\n",
    "long_to_bytes(reconstruct_secret(SSS))"
   ]
  },
  {
   "cell_type": "code",
   "execution_count": null,
   "id": "sixth-hunger",
   "metadata": {},
   "outputs": [],
   "source": []
  },
  {
   "cell_type": "code",
   "execution_count": null,
   "id": "ignored-civilian",
   "metadata": {},
   "outputs": [],
   "source": []
  },
  {
   "cell_type": "code",
   "execution_count": null,
   "id": "blocked-booking",
   "metadata": {},
   "outputs": [],
   "source": []
  },
  {
   "cell_type": "code",
   "execution_count": null,
   "id": "purple-samba",
   "metadata": {},
   "outputs": [],
   "source": []
  },
  {
   "cell_type": "code",
   "execution_count": null,
   "id": "color-stability",
   "metadata": {},
   "outputs": [],
   "source": []
  },
  {
   "cell_type": "code",
   "execution_count": 98,
   "id": "loved-privilege",
   "metadata": {},
   "outputs": [
    {
     "data": {
      "text/plain": [
       "2031333231353634393831343635313839333535343635333436353429"
      ]
     },
     "execution_count": 98,
     "metadata": {},
     "output_type": "execute_result"
    }
   ],
   "source": [
    "2031333231353634393831343635313839333535343635333436353429"
   ]
  },
  {
   "cell_type": "code",
   "execution_count": 128,
   "id": "integrated-hopkins",
   "metadata": {},
   "outputs": [
    {
     "ename": "TypeError",
     "evalue": "pow() 3rd argument not allowed unless all arguments are integers",
     "output_type": "error",
     "traceback": [
      "\u001b[0;31m---------------------------------------------------------------------------\u001b[0m",
      "\u001b[0;31mTypeError\u001b[0m                                 Traceback (most recent call last)",
      "\u001b[0;32m<ipython-input-128-d7e19b977750>\u001b[0m in \u001b[0;36m<module>\u001b[0;34m\u001b[0m\n\u001b[1;32m      5\u001b[0m \u001b[0;32mfor\u001b[0m \u001b[0mi\u001b[0m \u001b[0;32min\u001b[0m \u001b[0mrange\u001b[0m\u001b[0;34m(\u001b[0m\u001b[0;36m4\u001b[0m\u001b[0;34m)\u001b[0m\u001b[0;34m:\u001b[0m\u001b[0;34m\u001b[0m\u001b[0;34m\u001b[0m\u001b[0m\n\u001b[1;32m      6\u001b[0m     \u001b[0;32mfor\u001b[0m \u001b[0me\u001b[0m \u001b[0;32min\u001b[0m \u001b[0mroots1\u001b[0m\u001b[0;34m:\u001b[0m\u001b[0;34m\u001b[0m\u001b[0;34m\u001b[0m\u001b[0m\n\u001b[0;32m----> 7\u001b[0;31m         \u001b[0mr1\u001b[0m \u001b[0;34m=\u001b[0m \u001b[0mprime_mod_sqrt\u001b[0m\u001b[0;34m(\u001b[0m\u001b[0me\u001b[0m\u001b[0;34m,\u001b[0m\u001b[0mp2\u001b[0m\u001b[0;34m)\u001b[0m\u001b[0;34m\u001b[0m\u001b[0;34m\u001b[0m\u001b[0m\n\u001b[0m\u001b[1;32m      8\u001b[0m         \u001b[0mr2\u001b[0m \u001b[0;34m=\u001b[0m \u001b[0mp2\u001b[0m \u001b[0;34m-\u001b[0m \u001b[0mr1\u001b[0m\u001b[0;34m\u001b[0m\u001b[0;34m\u001b[0m\u001b[0m\n\u001b[1;32m      9\u001b[0m         \u001b[0mr3\u001b[0m \u001b[0;34m=\u001b[0m \u001b[0mprime_mod_sqrt\u001b[0m\u001b[0;34m(\u001b[0m\u001b[0me\u001b[0m\u001b[0;34m,\u001b[0m\u001b[0mq2\u001b[0m\u001b[0;34m)\u001b[0m\u001b[0;34m\u001b[0m\u001b[0;34m\u001b[0m\u001b[0m\n",
      "\u001b[0;32m<ipython-input-70-ed94dcc13884>\u001b[0m in \u001b[0;36mprime_mod_sqrt\u001b[0;34m(a, p)\u001b[0m\n\u001b[1;32m     27\u001b[0m \u001b[0;34m\u001b[0m\u001b[0m\n\u001b[1;32m     28\u001b[0m     \u001b[0;31m# Check solution existence on odd prime\u001b[0m\u001b[0;34m\u001b[0m\u001b[0;34m\u001b[0m\u001b[0;34m\u001b[0m\u001b[0m\n\u001b[0;32m---> 29\u001b[0;31m     \u001b[0;32mif\u001b[0m \u001b[0mlegendre_symbol\u001b[0m\u001b[0;34m(\u001b[0m\u001b[0ma\u001b[0m\u001b[0;34m,\u001b[0m \u001b[0mp\u001b[0m\u001b[0;34m)\u001b[0m \u001b[0;34m!=\u001b[0m \u001b[0;36m1\u001b[0m\u001b[0;34m:\u001b[0m\u001b[0;34m\u001b[0m\u001b[0;34m\u001b[0m\u001b[0m\n\u001b[0m\u001b[1;32m     30\u001b[0m         \u001b[0;32mreturn\u001b[0m \u001b[0;34m[\u001b[0m\u001b[0;34m]\u001b[0m\u001b[0;34m\u001b[0m\u001b[0;34m\u001b[0m\u001b[0m\n\u001b[1;32m     31\u001b[0m \u001b[0;34m\u001b[0m\u001b[0m\n",
      "\u001b[0;32m<ipython-input-124-de94d1691977>\u001b[0m in \u001b[0;36mlegendre_symbol\u001b[0;34m(a, p)\u001b[0m\n\u001b[1;32m     90\u001b[0m         \u001b[0mp\u001b[0m\u001b[0;34m,\u001b[0m \u001b[0;34m-\u001b[0m\u001b[0;36m1\u001b[0m \u001b[0motherwise\u001b[0m\u001b[0;34m.\u001b[0m\u001b[0;34m\u001b[0m\u001b[0;34m\u001b[0m\u001b[0m\n\u001b[1;32m     91\u001b[0m     \"\"\"\n\u001b[0;32m---> 92\u001b[0;31m     \u001b[0mls\u001b[0m \u001b[0;34m=\u001b[0m \u001b[0mpow\u001b[0m\u001b[0;34m(\u001b[0m\u001b[0ma\u001b[0m\u001b[0;34m,\u001b[0m \u001b[0;34m(\u001b[0m\u001b[0mp\u001b[0m \u001b[0;34m-\u001b[0m \u001b[0;36m1\u001b[0m\u001b[0;34m)\u001b[0m \u001b[0;34m/\u001b[0m \u001b[0;36m2\u001b[0m\u001b[0;34m,\u001b[0m \u001b[0mp\u001b[0m\u001b[0;34m)\u001b[0m\u001b[0;34m\u001b[0m\u001b[0;34m\u001b[0m\u001b[0m\n\u001b[0m\u001b[1;32m     93\u001b[0m     \u001b[0;32mreturn\u001b[0m \u001b[0;34m-\u001b[0m\u001b[0;36m1\u001b[0m \u001b[0;32mif\u001b[0m \u001b[0mls\u001b[0m \u001b[0;34m==\u001b[0m \u001b[0mp\u001b[0m \u001b[0;34m-\u001b[0m \u001b[0;36m1\u001b[0m \u001b[0;32melse\u001b[0m \u001b[0mls\u001b[0m\u001b[0;34m\u001b[0m\u001b[0;34m\u001b[0m\u001b[0m\n",
      "\u001b[0;31mTypeError\u001b[0m: pow() 3rd argument not allowed unless all arguments are integers"
     ]
    }
   ],
   "source": [
    "# Get all 16*16 = 256 possible roots\n",
    "entry = [pow(c2,gmpy2.invert(e2//16,phi),N2)]\n",
    "roots1 = [entry[0]]\n",
    "roots2 = []\n",
    "for i in range(4):\n",
    "    for e in roots1:\n",
    "        r1 = prime_mod_sqrt(e,p2)\n",
    "        r2 = p2 - r1\n",
    "        r3 = prime_mod_sqrt(e,q2)\n",
    "        r4 = q2 - r3\n",
    "        [roots2.append(r) for r in [r1,r2,r3,r4]]\n",
    "    print(str(2**(i+1))+'-th root', len(roots2))\n",
    "    roots1 = roots2[::1]\n",
    "    roots2 = []\n",
    "    \n",
    "print()\n",
    "# Let's check em out\n",
    "for r in roots1:\n",
    "    if r != 0:\n",
    "        if '20' == str(r)[:2]:\n",
    "            b = long_to_bytes(r)\n",
    "            print(r)"
   ]
  },
  {
   "cell_type": "code",
   "execution_count": 210,
   "id": "current-edwards",
   "metadata": {},
   "outputs": [
    {
     "name": "stdout",
     "output_type": "stream",
     "text": [
      "b'd@\\x9b\\xd7\\xd2\\xf1\\xea\\x9a\\x17*u\\x97\\\\H3\\xcf\\x15\\xfe\\x93\\xa3K&\\x93\\x19\\xcd'\n"
     ]
    },
    {
     "data": {
      "text/plain": [
       "629294375772413445978559434482906561379546104217158827579853"
      ]
     },
     "execution_count": 210,
     "metadata": {},
     "output_type": "execute_result"
    }
   ],
   "source": [
    "# Son 3\n",
    "N3 = 3213876088517980551083924185487283336189331657515992206038949\n",
    "e3 = 65537\n",
    "c3 = 2941293819923490843589362205798232424837846370982721175905966\n",
    "p3 = 2**100+277\n",
    "q3 = 2**101+81\n",
    "\n",
    "phi3 = (p3-1)*(q3-1)\n",
    "d3 = pow(e3, -1, phi3)\n",
    "\n",
    "m3 = pow(c3, d3, N3)\n",
    "print(long_to_bytes(m3))\n",
    "m3"
   ]
  },
  {
   "cell_type": "code",
   "execution_count": 109,
   "id": "floating-newark",
   "metadata": {},
   "outputs": [],
   "source": [
    "S3 = b'(3, 3145756504701717246281836139538967176547517737056)'"
   ]
  },
  {
   "cell_type": "code",
   "execution_count": 117,
   "id": "handy-valuation",
   "metadata": {},
   "outputs": [
    {
     "data": {
      "text/plain": [
       "b'(3, 3145756504701717246281836139538967176547517737056)'"
      ]
     },
     "execution_count": 117,
     "metadata": {},
     "output_type": "execute_result"
    }
   ],
   "source": [
    "long_to_bytes(541893472927304311696017462663852715895951883676838007787557872016428*N3+629294375772413445978559434482906561379546104217158827579853)"
   ]
  },
  {
   "cell_type": "code",
   "execution_count": 211,
   "id": "floating-physiology",
   "metadata": {},
   "outputs": [
    {
     "data": {
      "text/plain": [
       "1741578475165028969394795886739067133341415965726853757727627095462005631428847640037247055134536266102909953307040160676163434025"
      ]
     },
     "execution_count": 211,
     "metadata": {},
     "output_type": "execute_result"
    }
   ],
   "source": [
    "541893472927304311696017462663852715895951883676838007787557872016428*N3+629294375772413445978559434482906561379546104217158827579853"
   ]
  },
  {
   "cell_type": "code",
   "execution_count": 213,
   "id": "increased-sleeve",
   "metadata": {},
   "outputs": [
    {
     "data": {
      "text/plain": [
       "b'(3, 3145756504701717246281836139538967176547517737056)'"
      ]
     },
     "execution_count": 213,
     "metadata": {},
     "output_type": "execute_result"
    }
   ],
   "source": [
    "long_to_bytes(1741578475165028969394795886739067133341415965726853757727627095462005631428847640037247055134536266102909953307040160676163434025)"
   ]
  },
  {
   "cell_type": "code",
   "execution_count": null,
   "id": "dominant-ground",
   "metadata": {},
   "outputs": [],
   "source": []
  }
 ],
 "metadata": {
  "kernelspec": {
   "display_name": "Python 3",
   "language": "python",
   "name": "python3"
  },
  "language_info": {
   "codemirror_mode": {
    "name": "ipython",
    "version": 3
   },
   "file_extension": ".py",
   "mimetype": "text/x-python",
   "name": "python",
   "nbconvert_exporter": "python",
   "pygments_lexer": "ipython3",
   "version": "3.9.1+"
  }
 },
 "nbformat": 4,
 "nbformat_minor": 5
}
