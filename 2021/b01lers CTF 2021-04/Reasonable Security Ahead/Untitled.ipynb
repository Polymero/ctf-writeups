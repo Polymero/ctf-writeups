{
 "cells": [
  {
   "cell_type": "code",
   "execution_count": 3,
   "id": "accomplished-cornwall",
   "metadata": {},
   "outputs": [],
   "source": [
    "from Crypto.Util.number import bytes_to_long, long_to_bytes"
   ]
  },
  {
   "cell_type": "code",
   "execution_count": 4,
   "id": "dutch-communication",
   "metadata": {},
   "outputs": [],
   "source": [
    "# Inputs are modulus, known difference, ciphertext 1, ciphertext2.\n",
    "# Ciphertext 1 corresponds to smaller of the two plaintexts. (The one without the fixed difference added to it)\n",
    "def franklinReiter(n,e,r,c1,c2):\n",
    "    R.<X> = Zmod(n)[]\n",
    "    f1 = X^e - c1\n",
    "    f2 = (X + r)^e - c2\n",
    "    # coefficient 0 = -m, which is what we wanted!\n",
    "    return Integer(n-(compositeModulusGCD(f1,f2)).coefficients()[0])\n",
    "\n",
    "  # GCD is not implemented for rings over composite modulus in Sage\n",
    "  # so we do our own implementation. Its the exact same as standard GCD, but with\n",
    "  # the polynomials monic representation\n",
    "def compositeModulusGCD(a, b):\n",
    "    if(b == 0):\n",
    "        return a.monic()\n",
    "    else:\n",
    "        return compositeModulusGCD(b, a % b)"
   ]
  },
  {
   "cell_type": "code",
   "execution_count": null,
   "id": "narrative-boards",
   "metadata": {},
   "outputs": [],
   "source": []
  },
  {
   "cell_type": "code",
   "execution_count": 5,
   "id": "chemical-broadway",
   "metadata": {},
   "outputs": [],
   "source": [
    "e = 11111\n",
    "n = 1511161812866285898011156507911487824354265588664775980823178181721546740082122753522924902783387185099756752418975552788713561001278125555282797834263687632658450691342628423985076424816041990411577284050886902395290095712325403377*975446076687579483401910475818559181969000767662394052229615516755848686262647148760671312135608886181424364000402518458472664347008769595629289755997870064447968585289009316493551119460333730411721909800946541991573059299626258337"
   ]
  },
  {
   "cell_type": "code",
   "execution_count": 7,
   "id": "wooden-devices",
   "metadata": {},
   "outputs": [],
   "source": [
    "c1 = pow(bytes_to_long(b'ab'), e, n)\n",
    "c2 = pow(bytes_to_long(b'de'), e, n)\n",
    "r = bytes_to_long(b'de') - bytes_to_long(b'ab')"
   ]
  },
  {
   "cell_type": "code",
   "execution_count": null,
   "id": "concrete-sixth",
   "metadata": {},
   "outputs": [],
   "source": [
    "franklinReiter(n,e,r,c1,c2)"
   ]
  },
  {
   "cell_type": "code",
   "execution_count": null,
   "id": "aquatic-rover",
   "metadata": {},
   "outputs": [],
   "source": []
  }
 ],
 "metadata": {
  "kernelspec": {
   "display_name": "SageMath 9.2",
   "language": "sage",
   "name": "sagemath"
  },
  "language_info": {
   "codemirror_mode": {
    "name": "ipython",
    "version": 3
   },
   "file_extension": ".py",
   "mimetype": "text/x-python",
   "name": "python",
   "nbconvert_exporter": "python",
   "pygments_lexer": "ipython3",
   "version": "3.9.1+"
  }
 },
 "nbformat": 4,
 "nbformat_minor": 5
}
