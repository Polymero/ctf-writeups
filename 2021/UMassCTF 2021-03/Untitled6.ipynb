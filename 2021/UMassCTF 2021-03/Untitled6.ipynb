{
 "cells": [
  {
   "cell_type": "code",
   "execution_count": null,
   "metadata": {},
   "outputs": [],
   "source": []
  },
  {
   "cell_type": "code",
   "execution_count": 16,
   "metadata": {},
   "outputs": [
    {
     "ename": "ModuleNotFoundError",
     "evalue": "No module named 'sage.all'",
     "output_type": "error",
     "traceback": [
      "\u001b[0;31m---------------------------------------------------------------------------\u001b[0m",
      "\u001b[0;31mModuleNotFoundError\u001b[0m                       Traceback (most recent call last)",
      "\u001b[0;32m<ipython-input-16-d287b22e1156>\u001b[0m in \u001b[0;36m<module>\u001b[0;34m\u001b[0m\n\u001b[0;32m----> 1\u001b[0;31m \u001b[0;32mimport\u001b[0m \u001b[0msage\u001b[0m\u001b[0;34m.\u001b[0m\u001b[0mall\u001b[0m\u001b[0;34m\u001b[0m\u001b[0;34m\u001b[0m\u001b[0m\n\u001b[0m",
      "\u001b[0;31mModuleNotFoundError\u001b[0m: No module named 'sage.all'"
     ]
    }
   ],
   "source": [
    "import sage.all"
   ]
  },
  {
   "cell_type": "code",
   "execution_count": 15,
   "metadata": {},
   "outputs": [
    {
     "ename": "SyntaxError",
     "evalue": "invalid syntax (<ipython-input-15-41c3a70018de>, line 7)",
     "output_type": "error",
     "traceback": [
      "\u001b[0;36m  File \u001b[0;32m\"<ipython-input-15-41c3a70018de>\"\u001b[0;36m, line \u001b[0;32m7\u001b[0m\n\u001b[0;31m    R.<x> = PolynomialRing(ZZ)\u001b[0m\n\u001b[0m      ^\u001b[0m\n\u001b[0;31mSyntaxError\u001b[0m\u001b[0;31m:\u001b[0m invalid syntax\n"
     ]
    }
   ],
   "source": [
    "def factor_lattice(N, nearp, howclose, t, k):\n",
    "    \"\"\"Finds p very quickly if p has about half as many bits as N and half of\n",
    "    the leading bits of p are known.\n",
    "\n",
    "    Source: http://facthacks.cr.yp.to/lattice.html\n",
    "    \"\"\"\n",
    "    R.<x> = PolynomialRing(ZZ)\n",
    "    f = howclose * x + nearp\n",
    "    M = matrix(t)\n",
    "    for i in range(t):\n",
    "        M[i] = (f ^ i * N ^ max(k - i, 0)).coefficients(sparse=False) + [0] * (t - 1 - i)\n",
    "    M = M.LLL()\n",
    "    Q = sum(z * (x / howclose) ^ i for i, z in enumerate(M[0]))\n",
    "    for r, multiplicty in Q.roots():\n",
    "        if nearp + r > 0:\n",
    "            g = gcd(N, nearp + r)\n",
    "            if g > 1: return [g, N / g]\n",
    "    return [1, N]"
   ]
  },
  {
   "cell_type": "code",
   "execution_count": 9,
   "metadata": {},
   "outputs": [],
   "source": [
    "24191078938512024512307825770649281593646617961143268274994188312549010181623147030239770393681513244736782464904354519653764810869833632999123562532672384659276928302606548427115360875761532829984154985536440361298729500271499634436855857117746802664326542046945303769897910083401629018251404323722514321233"
   ]
  },
  {
   "cell_type": "code",
   "execution_count": null,
   "metadata": {},
   "outputs": [],
   "source": []
  },
  {
   "cell_type": "code",
   "execution_count": 17,
   "metadata": {},
   "outputs": [],
   "source": [
    "phi = 71306660912569134565280622669443323631672443535332368228465181306544761470009355899267882957235727054571697206711673673688965731615466631160604629174079515084110483428585056944420943114083437127148375400331863421662890164807306769838457897368584768755843475623664430315130727649622230463349875321181072011160\n"
   ]
  },
  {
   "cell_type": "code",
   "execution_count": 18,
   "metadata": {},
   "outputs": [
    {
     "ename": "ValueError",
     "evalue": "pow() 2nd argument cannot be negative when 3rd argument specified",
     "output_type": "error",
     "traceback": [
      "\u001b[0;31m---------------------------------------------------------------------------\u001b[0m",
      "\u001b[0;31mValueError\u001b[0m                                Traceback (most recent call last)",
      "\u001b[0;32m<ipython-input-18-297243d975ef>\u001b[0m in \u001b[0;36m<module>\u001b[0;34m\u001b[0m\n\u001b[0;32m----> 1\u001b[0;31m \u001b[0mpow\u001b[0m\u001b[0;34m(\u001b[0m\u001b[0;36m0x10001\u001b[0m\u001b[0;34m,\u001b[0m \u001b[0;34m-\u001b[0m\u001b[0;36m1\u001b[0m\u001b[0;34m,\u001b[0m \u001b[0mphi\u001b[0m\u001b[0;34m)\u001b[0m\u001b[0;34m\u001b[0m\u001b[0;34m\u001b[0m\u001b[0m\n\u001b[0m",
      "\u001b[0;31mValueError\u001b[0m: pow() 2nd argument cannot be negative when 3rd argument specified"
     ]
    }
   ],
   "source": [
    "pow(0x10001, -1, phi)"
   ]
  },
  {
   "cell_type": "code",
   "execution_count": null,
   "metadata": {},
   "outputs": [],
   "source": []
  },
  {
   "cell_type": "code",
   "execution_count": null,
   "metadata": {},
   "outputs": [],
   "source": []
  }
 ],
 "metadata": {
  "kernelspec": {
   "display_name": "Python 3",
   "language": "python",
   "name": "python3"
  },
  "language_info": {
   "codemirror_mode": {
    "name": "ipython",
    "version": 3
   },
   "file_extension": ".py",
   "mimetype": "text/x-python",
   "name": "python",
   "nbconvert_exporter": "python",
   "pygments_lexer": "ipython3",
   "version": "3.6.9"
  }
 },
 "nbformat": 4,
 "nbformat_minor": 4
}
