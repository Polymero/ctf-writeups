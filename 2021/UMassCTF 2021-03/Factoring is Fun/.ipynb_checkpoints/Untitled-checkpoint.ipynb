{
 "cells": [
  {
   "cell_type": "code",
   "execution_count": 29,
   "id": "seventh-bulgarian",
   "metadata": {},
   "outputs": [],
   "source": [
    "import random\n",
    "import time"
   ]
  },
  {
   "cell_type": "code",
   "execution_count": 30,
   "id": "apart-surgeon",
   "metadata": {},
   "outputs": [],
   "source": [
    "t1 = time.time()"
   ]
  },
  {
   "cell_type": "code",
   "execution_count": null,
   "id": "requested-flush",
   "metadata": {},
   "outputs": [],
   "source": []
  },
  {
   "cell_type": "code",
   "execution_count": 35,
   "id": "disciplinary-distinction",
   "metadata": {},
   "outputs": [
    {
     "name": "stdout",
     "output_type": "stream",
     "text": [
      "19.737515449523926\n"
     ]
    }
   ],
   "source": [
    "t2 = time.time()\n",
    "print(t2-t1)"
   ]
  },
  {
   "cell_type": "code",
   "execution_count": null,
   "id": "recreational-protest",
   "metadata": {},
   "outputs": [],
   "source": []
  },
  {
   "cell_type": "code",
   "execution_count": 11,
   "id": "colored-surgeon",
   "metadata": {},
   "outputs": [
    {
     "name": "stdout",
     "output_type": "stream",
     "text": [
      "10010100111111010001100000001101????????000110011011011000000110000111010010011000100010????????11000011101010000000100110111000????????10101110????????101101001110111011111100????????11100010111110101000010101111010????????1101000011101111????????????????00011101????????1100011001000000011000010111110010010010????????0101101010101100000001000011110111000111????????110000000101001110000101010011000000110000001101????????10000100????????0110010000110110010010100111101100011101????????11100101????????01111011\n"
     ]
    }
   ],
   "source": [
    "n = 93264473507353671569055811810232848676971902740900129774078738154195581956962331982833742539270046109418215762703498351099866884834257671850677168355235110717204909318110156071914356184084506781320025478876349540305873464389815541926651401488966894555690770408336402737023543263088227032135435255602687769363\n",
    "\n",
    "p = \"10010100111111010001100000001101????????000110011011011000000110000111010010011000100010????????11000011101010000000100110111000????????10101110????????101101001110111011111100????????11100010111110101000010101111010????????1101000011101111????????????????00011101????????1100011001000000011000010111110010010010????????0101101010101100000001000011110111000111????????110000000101001110000101010011000000110000001101????????10000100????????0110010000110110010010100111101100011101????????11100101????????01111011\"\n",
    "print(p)"
   ]
  },
  {
   "cell_type": "code",
   "execution_count": 28,
   "id": "announced-farming",
   "metadata": {},
   "outputs": [
    {
     "ename": "KeyboardInterrupt",
     "evalue": "",
     "output_type": "error",
     "traceback": [
      "\u001b[0;31m---------------------------------------------------------------------------\u001b[0m",
      "\u001b[0;31mKeyboardInterrupt\u001b[0m                         Traceback (most recent call last)",
      "\u001b[0;32m<ipython-input-28-efb5fb324e8d>\u001b[0m in \u001b[0;36m<module>\u001b[0;34m\u001b[0m\n\u001b[1;32m      3\u001b[0m     \u001b[0mpt\u001b[0m \u001b[0;34m=\u001b[0m \u001b[0mp\u001b[0m\u001b[0;34m\u001b[0m\u001b[0;34m\u001b[0m\u001b[0m\n\u001b[1;32m      4\u001b[0m     \u001b[0;32mwhile\u001b[0m \u001b[0;34m'?'\u001b[0m \u001b[0;32min\u001b[0m \u001b[0mpt\u001b[0m\u001b[0;34m:\u001b[0m\u001b[0;34m\u001b[0m\u001b[0;34m\u001b[0m\u001b[0m\n\u001b[0;32m----> 5\u001b[0;31m         \u001b[0mpt\u001b[0m \u001b[0;34m=\u001b[0m \u001b[0mpt\u001b[0m\u001b[0;34m.\u001b[0m\u001b[0mreplace\u001b[0m\u001b[0;34m(\u001b[0m\u001b[0;34m'?'\u001b[0m\u001b[0;34m,\u001b[0m\u001b[0mrandom\u001b[0m\u001b[0;34m.\u001b[0m\u001b[0mchoice\u001b[0m\u001b[0;34m(\u001b[0m\u001b[0;34m[\u001b[0m\u001b[0;34m'0'\u001b[0m\u001b[0;34m,\u001b[0m\u001b[0;34m'1'\u001b[0m\u001b[0;34m]\u001b[0m\u001b[0;34m)\u001b[0m\u001b[0;34m,\u001b[0m\u001b[0;36m1\u001b[0m\u001b[0;34m)\u001b[0m\u001b[0;34m\u001b[0m\u001b[0;34m\u001b[0m\u001b[0m\n\u001b[0m\u001b[1;32m      6\u001b[0m \u001b[0;34m\u001b[0m\u001b[0m\n\u001b[1;32m      7\u001b[0m     \u001b[0;31m#print(pt)\u001b[0m\u001b[0;34m\u001b[0m\u001b[0;34m\u001b[0m\u001b[0;34m\u001b[0m\u001b[0m\n",
      "\u001b[0;31mKeyboardInterrupt\u001b[0m: "
     ]
    }
   ],
   "source": [
    "while True:\n",
    "    \n",
    "    pt = p\n",
    "    while '?' in pt:\n",
    "        pt = pt.replace('?',random.choice(['0','1']),1)\n",
    "    \n",
    "    #print(pt)\n",
    "    \n",
    "    pti = int(pt,2)\n",
    "    \n",
    "    #print(pti)\n",
    "    \n",
    "    if n % pti == 0:\n",
    "        \n",
    "        print('Gottem!')\n",
    "        print(pti)\n",
    "        print(n//pti)\n",
    "        \n",
    "        break"
   ]
  },
  {
   "cell_type": "code",
   "execution_count": null,
   "id": "altered-posting",
   "metadata": {},
   "outputs": [],
   "source": [
    "n % 7803168671104535204275360519936008073409942172765439014032141264750029297359133590777849419762368762184770808745581182106648944357359840645651052387235707"
   ]
  },
  {
   "cell_type": "code",
   "execution_count": 27,
   "id": "bored-theta",
   "metadata": {},
   "outputs": [
    {
     "data": {
      "text/plain": [
       "7803168671104535204275360519936008073409942172765439014032141264750029297359133590777849419762368762184770808745581182106648944357359840645651052387235707"
      ]
     },
     "execution_count": 27,
     "metadata": {},
     "output_type": "execute_result"
    }
   ],
   "source": [
    "7803168671104535204275360519936008073409942172765439014032141264750029297359133590777849419762368762184770808745581182106648944357359840645651052387235707"
   ]
  },
  {
   "cell_type": "code",
   "execution_count": null,
   "id": "detailed-modern",
   "metadata": {},
   "outputs": [],
   "source": []
  }
 ],
 "metadata": {
  "kernelspec": {
   "display_name": "Python 3",
   "language": "python",
   "name": "python3"
  },
  "language_info": {
   "codemirror_mode": {
    "name": "ipython",
    "version": 3
   },
   "file_extension": ".py",
   "mimetype": "text/x-python",
   "name": "python",
   "nbconvert_exporter": "python",
   "pygments_lexer": "ipython3",
   "version": "3.9.1+"
  }
 },
 "nbformat": 4,
 "nbformat_minor": 5
}
