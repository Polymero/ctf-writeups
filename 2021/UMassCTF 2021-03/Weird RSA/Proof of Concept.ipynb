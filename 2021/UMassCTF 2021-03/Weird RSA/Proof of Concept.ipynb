{
 "cells": [
  {
   "cell_type": "markdown",
   "metadata": {},
   "source": [
    "# Weird RSA"
   ]
  },
  {
   "cell_type": "markdown",
   "metadata": {},
   "source": [
    "## Proof of Concept"
   ]
  },
  {
   "cell_type": "code",
   "execution_count": 1,
   "metadata": {},
   "outputs": [
    {
     "ename": "ModuleNotFoundError",
     "evalue": "No module named 'gmpy2'",
     "output_type": "error",
     "traceback": [
      "\u001b[1;31m---------------------------------------------------------------------------\u001b[0m",
      "\u001b[1;31mModuleNotFoundError\u001b[0m                       Traceback (most recent call last)",
      "\u001b[1;32m<ipython-input-1-0620a05c0e22>\u001b[0m in \u001b[0;36m<module>\u001b[1;34m\u001b[0m\n\u001b[0;32m      2\u001b[0m \u001b[1;32mfrom\u001b[0m \u001b[0mmath\u001b[0m \u001b[1;32mimport\u001b[0m \u001b[0mfactorial\u001b[0m \u001b[1;32mas\u001b[0m \u001b[0mfac\u001b[0m\u001b[1;33m\u001b[0m\u001b[1;33m\u001b[0m\u001b[0m\n\u001b[0;32m      3\u001b[0m \u001b[1;32mimport\u001b[0m \u001b[0mchall\u001b[0m\u001b[1;33m\u001b[0m\u001b[1;33m\u001b[0m\u001b[0m\n\u001b[1;32m----> 4\u001b[1;33m \u001b[1;32mimport\u001b[0m \u001b[0mgmpy2\u001b[0m\u001b[1;33m\u001b[0m\u001b[1;33m\u001b[0m\u001b[0m\n\u001b[0m",
      "\u001b[1;31mModuleNotFoundError\u001b[0m: No module named 'gmpy2'"
     ]
    }
   ],
   "source": [
    "# Imports\n",
    "from math import factorial as fac\n",
    "import chall\n",
    "import gmpy2"
   ]
  },
  {
   "cell_type": "code",
   "execution_count": 2,
   "metadata": {},
   "outputs": [
    {
     "ename": "NameError",
     "evalue": "name 'gmpy2' is not defined",
     "output_type": "error",
     "traceback": [
      "\u001b[1;31m---------------------------------------------------------------------------\u001b[0m",
      "\u001b[1;31mNameError\u001b[0m                                 Traceback (most recent call last)",
      "\u001b[1;32m<ipython-input-2-8bdfda4199b7>\u001b[0m in \u001b[0;36m<module>\u001b[1;34m\u001b[0m\n\u001b[0;32m     11\u001b[0m     \u001b[1;32massert\u001b[0m \u001b[0mpmsb\u001b[0m \u001b[1;33m==\u001b[0m \u001b[0mqmsb\u001b[0m\u001b[1;33m\u001b[0m\u001b[1;33m\u001b[0m\u001b[0m\n\u001b[0;32m     12\u001b[0m \u001b[1;33m\u001b[0m\u001b[0m\n\u001b[1;32m---> 13\u001b[1;33m     \u001b[0mnrootmsb\u001b[0m \u001b[1;33m=\u001b[0m \u001b[0mbin\u001b[0m\u001b[1;33m(\u001b[0m\u001b[0mint\u001b[0m\u001b[1;33m(\u001b[0m\u001b[0mgmpy2\u001b[0m\u001b[1;33m.\u001b[0m\u001b[0miroot\u001b[0m\u001b[1;33m(\u001b[0m\u001b[0mn\u001b[0m\u001b[1;33m,\u001b[0m\u001b[1;36m2\u001b[0m\u001b[1;33m)\u001b[0m\u001b[1;33m[\u001b[0m\u001b[1;36m0\u001b[0m\u001b[1;33m]\u001b[0m\u001b[1;33m)\u001b[0m\u001b[1;33m)\u001b[0m\u001b[1;33m[\u001b[0m\u001b[1;36m2\u001b[0m\u001b[1;33m:\u001b[0m\u001b[1;36m2\u001b[0m\u001b[1;33m+\u001b[0m\u001b[1;36m512\u001b[0m\u001b[1;33m]\u001b[0m\u001b[1;33m\u001b[0m\u001b[1;33m\u001b[0m\u001b[0m\n\u001b[0m\u001b[0;32m     14\u001b[0m     \u001b[1;32massert\u001b[0m \u001b[0mnrootmsb\u001b[0m \u001b[1;33m==\u001b[0m \u001b[0mpmsb\u001b[0m\u001b[1;33m\u001b[0m\u001b[1;33m\u001b[0m\u001b[0m\n\u001b[0;32m     15\u001b[0m \u001b[1;33m\u001b[0m\u001b[0m\n",
      "\u001b[1;31mNameError\u001b[0m: name 'gmpy2' is not defined"
     ]
    }
   ],
   "source": [
    "chcklst = []\n",
    "while len(chcklst) < 1000:\n",
    "\n",
    "    p, q = chall.genPrimes(1024)\n",
    "    n = p*q\n",
    "    e = 0x10001\n",
    "\n",
    "    # GET 2 MSB BLOCKS\n",
    "    pmsb = bin(p)[2:2+512]\n",
    "    qmsb = bin(q)[2:2+512]\n",
    "    assert pmsb == qmsb\n",
    "\n",
    "    nrootmsb = bin(int(gmpy2.iroot(n,2)[0]))[2:2+512]\n",
    "    assert nrootmsb == pmsb\n",
    "\n",
    "    # GET 1 LSB BLOCK\n",
    "    nlsb = bin(n)[-512:]\n",
    "    plsb = bin(p)[-256:]\n",
    "    qlsb = bin(q)[-256:]\n",
    "    pqlsb = '{:0512d}'.format(int(bin(int(plsb,2)*int(qlsb,2))[2:]))\n",
    "\n",
    "    assert pqlsb == nlsb\n",
    "\n",
    "\n",
    "\n",
    "    #===================================\n",
    "    #= TEST AREA \n",
    "    #===================================\n",
    "    T_rn = bin(int(gmpy2.iroot(n,2)[0]))[2:]\n",
    "    T_p  = bin(p)[2:]\n",
    "\n",
    "    T_i = 1\n",
    "\n",
    "    while T_p[:T_i] == T_rn[:T_i]:\n",
    "        T_i += 1\n",
    "\n",
    "    #print('Nroot up to:', T_i)\n",
    "    chcklst.append(T_i)"
   ]
  },
  {
   "cell_type": "code",
   "execution_count": 22,
   "metadata": {},
   "outputs": [
    {
     "data": {
      "image/png": "[encoded data removed]",
      "text/plain": [
       "<Figure size 864x576 with 1 Axes>"
      ]
     },
     "metadata": {
      "needs_background": "light"
     },
     "output_type": "display_data"
    }
   ],
   "source": [
    "import matplotlib.pyplot as plt\n",
    "\n",
    "plt.figure(figsize=(12,8))\n",
    "plt.hist(chcklst, bins=100)\n",
    "plt.show()"
   ]
  },
  {
   "cell_type": "code",
   "execution_count": 23,
   "metadata": {},
   "outputs": [
    {
     "data": {
      "text/plain": [
       "768"
      ]
     },
     "execution_count": 23,
     "metadata": {},
     "output_type": "execute_result"
    }
   ],
   "source": [
    "512+256"
   ]
  },
  {
   "cell_type": "code",
   "execution_count": null,
   "metadata": {},
   "outputs": [],
   "source": []
  },
  {
   "cell_type": "markdown",
   "metadata": {},
   "source": [
    "-----------\n",
    "## The Real Deal"
   ]
  },
  {
   "cell_type": "code",
   "execution_count": 15,
   "metadata": {},
   "outputs": [],
   "source": [
    "R_n = 18378141703504870053256589621469911325593449136456168833252297256858537217774550712713558376586907139191035169090694633962713086351032581652760861668116820553602617805166170038411635411122411322217633088733925562474573155702958062785336418656834129389796123636312497589092777440651253803216182746548802100609496930688436148522617770670087143010376380205698834648595913982981670535389045333406092868158446779681106756879563374434867509327405933798082589697167457848396375382835193219251999626538126258606572805220878283429607438382521692951006432650132816122705167004219371235964716616826653226062550260270958038670427\n",
    "\n",
    "R_c = 14470740653145070679700019966554818534890999807830802232451906444910279478539396448114592242906623394239703347815141824698585119347592990685923384931479024856262941313458084648914561375377956072245149926143782368239175037299219241806241533201175001088200209202522586119648246842120571566051381821899459346757935757111233323915022287370687524912870425787594648397524189694991735372527387329346198018567010117587531474035014342584491831714256980975368294579192077738910916486139823489975038981139084864837358039928972730135031064241393391678984872799573965150169368237298603189344477806873779325227557835790957023000991"
   ]
  },
  {
   "cell_type": "code",
   "execution_count": 6,
   "metadata": {},
   "outputs": [
    {
     "name": "stdout",
     "output_type": "stream",
     "text": [
      "207179300382086147629197694995608024499412064533431402788152829028579645996693415798593742296183956281922652442634675590042459846881574432156232002755675\n"
     ]
    }
   ],
   "source": [
    "R_nlsb = bin(R_n)[-512:]\n",
    "print(int(R_nlsb,2))\n",
    "\n",
    "# Factorization complete!\n",
    "pstr = \"27 × 25 × 7 × 19 × 179779 × 344 414383 × 630 168533 × 36229 907850 622309 477663 × 11 140616 700044 253820 247009 075680 741591 × 146533 705965 347157 224632 736630 732999 962552 705792 616142 976444 170589\".replace(' ','').split('×')\n",
    "R_ps = [int(i) for i in pstr]\n",
    "\n",
    "R_check = 1\n",
    "for pi in R_ps:\n",
    "    R_check *= pi\n",
    "    \n",
    "assert int(R_nlsb,2) == R_check"
   ]
  },
  {
   "cell_type": "code",
   "execution_count": 7,
   "metadata": {},
   "outputs": [],
   "source": [
    "R_p = bin(gmpy2.iroot(R_n,2)[0])[2:2+768] + '?'*256\n",
    "assert len(R_p) == 1024"
   ]
  },
  {
   "cell_type": "code",
   "execution_count": 8,
   "metadata": {},
   "outputs": [
    {
     "data": {
      "text/plain": [
       "'110000010000110101101010000010001101000000011011011000010000010111101001011001001101110110010001100000011101001110101111010111110000110011000010001100101010010000000110001000110011010101110010001101011111000110010011010000100010001100101001110010100001101000010010011011110101001100010111110110000011010001001101001101000000100011101100101110101010111100001111011000111101101101111011110001000001001011110000111101000111010010000011110111110110010011110000000001011110010110000010100101101010010011001101001100000000000000000000000000000000000000000000000000000000000000000000000000000000000000000000000000000000000000000000000000000000000000000000000000000000000000000000000000000000000000000000000000000000000000000000000000000000000000000000000000000000000000000000????????????????????????????????????????????????????????????????????????????????????????????????????????????????????????????????????????????????????????????????????????????????????????????????????????????????????????????????????????????????????????????????'"
      ]
     },
     "execution_count": 8,
     "metadata": {},
     "output_type": "execute_result"
    }
   ],
   "source": [
    "R_p"
   ]
  },
  {
   "cell_type": "code",
   "execution_count": 9,
   "metadata": {},
   "outputs": [],
   "source": [
    "def fermat_factor(n):\n",
    "    assert n % 2 != 0\n",
    "\n",
    "    a = gmpy2.isqrt(n)\n",
    "    b2 = gmpy2.square(a) - n\n",
    "\n",
    "    while not gmpy2.is_square(b2):\n",
    "        a += 1\n",
    "        b2 = gmpy2.square(a) - n\n",
    "\n",
    "    p = a + gmpy2.isqrt(b2)\n",
    "    q = a - gmpy2.isqrt(b2)\n",
    "\n",
    "    return int(p), int(q)"
   ]
  },
  {
   "cell_type": "code",
   "execution_count": 10,
   "metadata": {},
   "outputs": [],
   "source": [
    "R_p, R_q = fermat_factor(R_n)"
   ]
  },
  {
   "cell_type": "code",
   "execution_count": 11,
   "metadata": {},
   "outputs": [],
   "source": [
    "assert R_p * R_q == R_n"
   ]
  },
  {
   "cell_type": "code",
   "execution_count": 12,
   "metadata": {},
   "outputs": [
    {
     "name": "stdout",
     "output_type": "stream",
     "text": [
      "135566004969921829046861317679102794894163252891621004552763069255612086965641424719754859767153782381891044077537624735662301899417143962916558791489710971298124937969427903581890089403413545652984524659790357002447801666607195021452029447206533810446315939039775701027454771450154054624400219767469987538497\n"
     ]
    }
   ],
   "source": [
    "print(R_p)"
   ]
  },
  {
   "cell_type": "code",
   "execution_count": 13,
   "metadata": {},
   "outputs": [
    {
     "name": "stdout",
     "output_type": "stream",
     "text": [
      "135566004969921829046861317679102794894163252891621004552763069255612086965641424719754859767153782381891044077537624735662301899417143962916558791489710971298124937969427903581890089403413545652984524659790357002447801666607195021441224446867180097273643121640903324702747770969633717818870639347019154977691\n"
     ]
    }
   ],
   "source": [
    "print(R_q)"
   ]
  },
  {
   "cell_type": "code",
   "execution_count": 20,
   "metadata": {},
   "outputs": [],
   "source": [
    "from Crypto.Util.number import long_to_bytes"
   ]
  },
  {
   "cell_type": "code",
   "execution_count": 21,
   "metadata": {},
   "outputs": [
    {
     "name": "stdout",
     "output_type": "stream",
     "text": [
      "6402358259192817617313902034694593061547279204639070916153977122409284270244453779116579204050470373908944931039102326746764460907280236686363172448308209561916190352163645393395731389464512762219063750993854685396905255319197331758426778374874956255221253623764448059212005458710480729682906881402195717823660439288169265245005852277048024325944822833251032173462395972917661181903995838555946409909482008877083777280754205731764470087474544866401081798663763183626389145794746165607002734503460507631415602651670427507142467705429528856907273512360733061786888056501394355125565571093933887293922028896704783070593\n"
     ]
    }
   ],
   "source": [
    "e = 0x10001\n",
    "\n",
    "phi = (R_p-1)*(R_q-1)\n",
    "\n",
    "d = gmpy2.invert(e, phi);print(d)"
   ]
  },
  {
   "cell_type": "code",
   "execution_count": 22,
   "metadata": {},
   "outputs": [
    {
     "data": {
      "text/plain": [
       "b\"\\x1fQ-\\x95\\x17\\xad\\x01\\x08\\x81\\xa5C\\xd4\\x9e\\xd3\\xc7&s@\\x1djm\\x15\\x1f\\x90)<\\xbf\\xb8\\x15\\xec\\xde\\x10)\\xb8Y\\x920\\x1c\\xfaO\\xd0\\xc8s\\x08\\xfa]\\xe6`p\\xc7\\x82\\x01b\\xd7L\\x0c\\x0c,$\\x07\\x8ewe1\\xd4\\x0b\\xe1C=C(\\x8f\\xfc\\xdbT\\xbdJ'C\\xa9\\xe2Y\\x01\\x98r\\xcc\\x85\\x93\\xa7\\x7f\\xf0mv;\\xd5\\xc5\\xb5\\x88\\xbe\\x82\\xf1?\\xa00\\x89\\x08'\\xd4\\x03U\\xd35\\xf62\\xf0\\xdd\\xeez)\\xc5\\xd0\\xb4\\xa1\\xdd\\xac\\x1b\\x92\\xab\\xb8\\xe8\\xaf.\\xbeR\\x19KN\\xd8\\x9a\\x0f\\xaf.\\xb5\\x86\\x91\\xef\\x1c\\x95V\\xb7W\\xfc\\xe0\\xa0\\x07\\x81sxX\\xbf\\x10\\x91F\\x07+y\\xed\\xd0\\x9e6\\xea\\x08r\\xd4'\\xe3,^\\xde\\xed\\x98\\xd5wf\\x11S\\xdd\\xab\\xe0\\x1e\\xdftZ\\x81\\xad\\xce\\xde\\xb9\\x9f\\xd4\\xad^\\xe4\\x1fW\\xcc\\xc7K\\xe1=\\xa8N\\xa4\\x16\\x91\\xc0\\xa6\\x88\\xaf\\xf5\\xc4\\xf8n,\\xd1\\x9b\\x0b\\xed\\xf9G\\xb8J\\x13f\\x9b\\xadN-mSP\\xf11\\x8a\\xd8C&\\x03T\\x93\\xf4\\xbb\\xfb\\xb7XH\""
      ]
     },
     "execution_count": 22,
     "metadata": {},
     "output_type": "execute_result"
    }
   ],
   "source": [
    "long_to_bytes(pow(R_c, d, R_n))"
   ]
  },
  {
   "cell_type": "code",
   "execution_count": 25,
   "metadata": {},
   "outputs": [
    {
     "data": {
      "text/plain": [
       "mpz(1)"
      ]
     },
     "execution_count": 25,
     "metadata": {},
     "output_type": "execute_result"
    }
   ],
   "source": [
    "gmpy2.gcd(phi,e)"
   ]
  },
  {
   "cell_type": "code",
   "execution_count": 28,
   "metadata": {},
   "outputs": [
    {
     "data": {
      "text/plain": [
       "[1,\n",
       " -22831,\n",
       " 6402358259192817617313902034694593061547279204639070916153977122409284270244453779116579204050470373908944931039102326746764460907280236686363172448308209561916190352163645393395731389464512762219063750993854685396905255319197331758426778374874956255221253623764448059212005458710480729682906881402195717823660439288169265245005852277048024325944822833251032173462395972917661181903995838555946409909482008877083777280754205731764470087474544866401081798663763183626389145794746165607002734503460507631415602651670427507142467705429528856907273512360733061786888056501394355125565571093933887293922028896704783070593]"
      ]
     },
     "execution_count": 28,
     "metadata": {},
     "output_type": "execute_result"
    }
   ],
   "source": [
    "extended_euclid_gcd(phi, e)"
   ]
  },
  {
   "cell_type": "code",
   "execution_count": 27,
   "metadata": {},
   "outputs": [],
   "source": [
    "def extended_euclid_gcd(a, b):\n",
    "    \"\"\"\n",
    "    Returns a list `result` of size 3 where:\n",
    "    Referring to the equation ax + by = gcd(a, b)\n",
    "        result[0] is gcd(a, b)\n",
    "        result[1] is x\n",
    "        result[2] is y \n",
    "    \"\"\"\n",
    "    s = 0; old_s = 1\n",
    "    t = 1; old_t = 0\n",
    "    r = b; old_r = a\n",
    "\n",
    "    while r != 0:\n",
    "        quotient = old_r//r # In Python, // operator performs integer or floored division\n",
    "        # This is a pythonic way to swap numbers\n",
    "        # See the same part in C++ implementation below to know more\n",
    "        old_r, r = r, old_r - quotient*r\n",
    "        old_s, s = s, old_s - quotient*s\n",
    "        old_t, t = t, old_t - quotient*t\n",
    "    return [old_r, old_s, old_t]\n"
   ]
  },
  {
   "cell_type": "code",
   "execution_count": null,
   "metadata": {},
   "outputs": [],
   "source": []
  },
  {
   "cell_type": "code",
   "execution_count": null,
   "metadata": {},
   "outputs": [],
   "source": []
  }
 ],
 "metadata": {
  "kernelspec": {
   "display_name": "Python 3",
   "language": "python",
   "name": "python3"
  },
  "language_info": {
   "codemirror_mode": {
    "name": "ipython",
    "version": 3
   },
   "file_extension": ".py",
   "mimetype": "text/x-python",
   "name": "python",
   "nbconvert_exporter": "python",
   "pygments_lexer": "ipython3",
   "version": "3.7.4"
  }
 },
 "nbformat": 4,
 "nbformat_minor": 5
}
