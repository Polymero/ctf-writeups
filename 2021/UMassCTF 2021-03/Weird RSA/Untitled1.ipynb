{
 "cells": [
  {
   "cell_type": "code",
   "execution_count": 12,
   "metadata": {},
   "outputs": [],
   "source": [
    "import gmpy2\n",
    "from Crypto.Util.number import long_to_bytes"
   ]
  },
  {
   "cell_type": "code",
   "execution_count": 13,
   "metadata": {},
   "outputs": [],
   "source": [
    "p = 135566004969921829046861317679102794894163252891621004552763069255612086965641424719754859767153782381891044077537624735662301899417143962916558791489710971298124937969427903581890089403413545652984524659790357002447801666607195021452029447206533810446315939039775701027454771450154054624400219767469987538497\n",
    "\n",
    "q = 135566004969921829046861317679102794894163252891621004552763069255612086965641424719754859767153782381891044077537624735662301899417143962916558791489710971298124937969427903581890089403413545652984524659790357002447801666607195021441224446867180097273643121640903324702747770969633717818870639347019154977691\n",
    "\n",
    "e = 0x10001\n",
    "\n",
    "n = p*q\n",
    "\n",
    "c = 14470740653145070679700019966554818534890999807830802232451906444910279478539396448114592242906623394239703347815141824698585119347592990685923384931479024856262941313458084648914561375377956072245149926143782368239175037299219241806241533201175001088200209202522586119648246842120571566051381821899459346757935757111233323915022287370687524912870425787594648397524189694991735372527387329346198018567010117587531474035014342584491831714256980975368294579192077738910916486139823489975038981139084864837358039928972730135031064241393391678984872799573965150169368237298603189344477806873779325227557835790957023000991"
   ]
  },
  {
   "cell_type": "code",
   "execution_count": 18,
   "metadata": {},
   "outputs": [
    {
     "name": "stdout",
     "output_type": "stream",
     "text": [
      "b\"\\x1fQ-\\x95\\x17\\xad\\x01\\x08\\x81\\xa5C\\xd4\\x9e\\xd3\\xc7&s@\\x1djm\\x15\\x1f\\x90)<\\xbf\\xb8\\x15\\xec\\xde\\x10)\\xb8Y\\x920\\x1c\\xfaO\\xd0\\xc8s\\x08\\xfa]\\xe6`p\\xc7\\x82\\x01b\\xd7L\\x0c\\x0c,$\\x07\\x8ewe1\\xd4\\x0b\\xe1C=C(\\x8f\\xfc\\xdbT\\xbdJ'C\\xa9\\xe2Y\\x01\\x98r\\xcc\\x85\\x93\\xa7\\x7f\\xf0mv;\\xd5\\xc5\\xb5\\x88\\xbe\\x82\\xf1?\\xa00\\x89\\x08'\\xd4\\x03U\\xd35\\xf62\\xf0\\xdd\\xeez)\\xc5\\xd0\\xb4\\xa1\\xdd\\xac\\x1b\\x92\\xab\\xb8\\xe8\\xaf.\\xbeR\\x19KN\\xd8\\x9a\\x0f\\xaf.\\xb5\\x86\\x91\\xef\\x1c\\x95V\\xb7W\\xfc\\xe0\\xa0\\x07\\x81sxX\\xbf\\x10\\x91F\\x07+y\\xed\\xd0\\x9e6\\xea\\x08r\\xd4'\\xe3,^\\xde\\xed\\x98\\xd5wf\\x11S\\xdd\\xab\\xe0\\x1e\\xdftZ\\x81\\xad\\xce\\xde\\xb9\\x9f\\xd4\\xad^\\xe4\\x1fW\\xcc\\xc7K\\xe1=\\xa8N\\xa4\\x16\\x91\\xc0\\xa6\\x88\\xaf\\xf5\\xc4\\xf8n,\\xd1\\x9b\\x0b\\xed\\xf9G\\xb8J\\x13f\\x9b\\xadN-mSP\\xf11\\x8a\\xd8C&\\x03T\\x93\\xf4\\xbb\\xfb\\xb7XH\"\n"
     ]
    }
   ],
   "source": [
    "phi = (p-1)*(q-1)\n",
    "\n",
    "d = gmpy2.invert(e, phi)\n",
    "\n",
    "m = long_to_bytes(pow(c, d, n))\n",
    "\n",
    "print(m)"
   ]
  },
  {
   "cell_type": "code",
   "execution_count": null,
   "metadata": {},
   "outputs": [],
   "source": []
  }
 ],
 "metadata": {
  "kernelspec": {
   "display_name": "Python 3",
   "language": "python",
   "name": "python3"
  },
  "language_info": {
   "codemirror_mode": {
    "name": "ipython",
    "version": 3
   },
   "file_extension": ".py",
   "mimetype": "text/x-python",
   "name": "python",
   "nbconvert_exporter": "python",
   "pygments_lexer": "ipython3",
   "version": "3.6.9"
  }
 },
 "nbformat": 4,
 "nbformat_minor": 4
}
