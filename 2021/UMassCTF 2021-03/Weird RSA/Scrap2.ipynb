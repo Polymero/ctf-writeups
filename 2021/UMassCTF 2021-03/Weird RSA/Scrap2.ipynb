{
 "cells": [
  {
   "cell_type": "code",
   "execution_count": 1,
   "metadata": {},
   "outputs": [],
   "source": [
    "# Imports\n",
    "from math import factorial as fac\n",
    "import chall\n",
    "import gmpy2\n",
    "import random\n",
    "import numpy.random as npr"
   ]
  },
  {
   "cell_type": "code",
   "execution_count": 2,
   "metadata": {},
   "outputs": [],
   "source": [
    "n = 18378141703504870053256589621469911325593449136456168833252297256858537217774550712713558376586907139191035169090694633962713086351032581652760861668116820553602617805166170038411635411122411322217633088733925562474573155702958062785336418656834129389796123636312497589092777440651253803216182746548802100609496930688436148522617770670087143010376380205698834648595913982981670535389045333406092868158446779681106756879563374434867509327405933798082589697167457848396375382835193219251999626538126258606572805220878283429607438382521692951006432650132816122705167004219371235964716616826653226062550260270958038670427\n"
   ]
  },
  {
   "cell_type": "code",
   "execution_count": 10,
   "metadata": {},
   "outputs": [
    {
     "name": "stdout",
     "output_type": "stream",
     "text": [
      "P_leak:\n",
      "1100000100001101011010100000100011010000000110110110000100000101111010010110010011011101100100011000000111010011101011110101111100001100110000100011001010100100000001100010001100110101011100100011010111110001100100110100001000100011001010011100101000011010\n",
      "00010010011011110101001100010111110110000011010001001101001101000000100011101100101110101010111100001111011000111101101101111011110001000001001011110000111101000111010010000011110111110110010011110000000001011110010110000010100101101010010011001101????????\n",
      "0000000000000000000000000000000000000000000000000000000000000000000000000000000000000000000000000000000000000000000000000000000000000000000000000000000000000000000000000000000000000000000000000000000000000000000000000000000000000000000000000000000000000000\n",
      "????????????????????????????????????????????????????????????????????????????????????????????????????????????????????????????????????????????????????????????????????????????????????????????????????????????????????????????????????????????????????????????????\n",
      "Factorize please!\n",
      "207179300382086147629197694995608024499412064533431402788152829028579645996693415798593742296183956281922652442634675590042459846881574432156232002755675\n"
     ]
    }
   ],
   "source": [
    "# MSB of n\n",
    "nmsb = int(bin(n)[2:2+256*2],2) << 6*256\n",
    "\n",
    "# Square root the MSB of n\n",
    "offset=8\n",
    "nrootmsb = bin(gmpy2.iroot(nmsb,2)[0])[2:2+256*2-offset]\n",
    "\n",
    "# Create leaked primes\n",
    "pleak = nrootmsb + offset*'?' + 256*'0' + 256*'?'\n",
    "qleak = pleak\n",
    "\n",
    "# Visual checks\n",
    "assert len(pleak) == 4*256\n",
    "print('P_leak:')\n",
    "print(pleak[:256])\n",
    "print(pleak[256:2*256])\n",
    "print(pleak[2*256:3*256])\n",
    "print(pleak[-256:])\n",
    "\n",
    "nmsb = bin((int(nrootmsb,2) << 512+offset)**2)[2:]\n",
    "#print(len(nmsb))\n",
    "nmrlsb = bin(n - int(nmsb,2))[-512:]; #print(len(nmrlsb), nmrlsb)\n",
    "print('Factorize please!\\n'+str(int(nmrlsb,2)))"
   ]
  },
  {
   "cell_type": "code",
   "execution_count": 15,
   "metadata": {},
   "outputs": [],
   "source": [
    "pstr = \"27 × 25 × 7 × 19 × 179779 × 344 414383 × 630 168533 × 36229 907850 622309 477663 × 11 140616 700044 253820 247009 075680 741591 × 146533 705965 347157 224632 736630 732999 962552 705792 616142 976444 170589\".replace(' ','').split('×')\n",
    "ps = [int(i) for i in pstr]\n",
    "ncheck = 1\n",
    "for p in ps:\n",
    "    ncheck *= p\n",
    "assert( int(nmrlsb,2) == ncheck )"
   ]
  },
  {
   "cell_type": "code",
   "execution_count": 149,
   "metadata": {
    "scrolled": false
   },
   "outputs": [
    {
     "ename": "KeyboardInterrupt",
     "evalue": "",
     "output_type": "error",
     "traceback": [
      "\u001b[0;31m---------------------------------------------------------------------------\u001b[0m",
      "\u001b[0;31mKeyboardInterrupt\u001b[0m                         Traceback (most recent call last)",
      "\u001b[0;32m<ipython-input-149-f7b5dfdb00e7>\u001b[0m in \u001b[0;36m<module>\u001b[0;34m\u001b[0m\n\u001b[1;32m     30\u001b[0m     \u001b[0;32mfor\u001b[0m \u001b[0mi\u001b[0m \u001b[0;32min\u001b[0m \u001b[0mrange\u001b[0m\u001b[0;34m(\u001b[0m\u001b[0;36m2\u001b[0m\u001b[0;34m**\u001b[0m\u001b[0moffset\u001b[0m\u001b[0;34m)\u001b[0m\u001b[0;34m:\u001b[0m\u001b[0;34m\u001b[0m\u001b[0;34m\u001b[0m\u001b[0m\n\u001b[1;32m     31\u001b[0m \u001b[0;34m\u001b[0m\u001b[0m\n\u001b[0;32m---> 32\u001b[0;31m         \u001b[0mtryp\u001b[0m \u001b[0;34m=\u001b[0m \u001b[0mint\u001b[0m\u001b[0;34m(\u001b[0m\u001b[0mp\u001b[0m\u001b[0;34m.\u001b[0m\u001b[0mreplace\u001b[0m\u001b[0;34m(\u001b[0m\u001b[0;34m'?'\u001b[0m\u001b[0;34m*\u001b[0m\u001b[0moffset\u001b[0m\u001b[0;34m,\u001b[0m\u001b[0;34m'{:0{of}d}'\u001b[0m\u001b[0;34m.\u001b[0m\u001b[0mformat\u001b[0m\u001b[0;34m(\u001b[0m\u001b[0mint\u001b[0m\u001b[0;34m(\u001b[0m\u001b[0mbin\u001b[0m\u001b[0;34m(\u001b[0m\u001b[0mi\u001b[0m\u001b[0;34m)\u001b[0m\u001b[0;34m[\u001b[0m\u001b[0;36m2\u001b[0m\u001b[0;34m:\u001b[0m\u001b[0;34m]\u001b[0m\u001b[0;34m)\u001b[0m\u001b[0;34m,\u001b[0m\u001b[0mof\u001b[0m\u001b[0;34m=\u001b[0m\u001b[0moffset\u001b[0m\u001b[0;34m)\u001b[0m\u001b[0;34m)\u001b[0m\u001b[0;34m,\u001b[0m\u001b[0;36m2\u001b[0m\u001b[0;34m)\u001b[0m\u001b[0;34m\u001b[0m\u001b[0;34m\u001b[0m\u001b[0m\n\u001b[0m\u001b[1;32m     33\u001b[0m \u001b[0;34m\u001b[0m\u001b[0m\n\u001b[1;32m     34\u001b[0m         \u001b[0;31m#print(tryp)\u001b[0m\u001b[0;34m\u001b[0m\u001b[0;34m\u001b[0m\u001b[0;34m\u001b[0m\u001b[0m\n",
      "\u001b[0;31mKeyboardInterrupt\u001b[0m: "
     ]
    }
   ],
   "source": [
    "rrr = 0\n",
    "\n",
    "while True:\n",
    "    \n",
    "    trime = 1\n",
    "    i = 0\n",
    "    \n",
    "    while i<100:\n",
    "        \n",
    "        pick = npr.choice(ps)\n",
    "\n",
    "        if trime % pick == 0:\n",
    "            i += 1\n",
    "            continue\n",
    "\n",
    "        if trime * pick > 2**256:\n",
    "            i+= 1\n",
    "            continue\n",
    "\n",
    "        trime *= pick\n",
    "\n",
    "    #print(trime)\n",
    "\n",
    "    p = pleak[:-256]\n",
    "\n",
    "    #print(len(bin(trime)[2:]))\n",
    "    \n",
    "    p += '{:0256d}'.format(int(bin(trime)[2:]))\n",
    "\n",
    "    for i in range(2**offset):\n",
    "\n",
    "        tryp = int(p.replace('?'*offset,'{:0{of}d}'.format(int(bin(i)[2:]),of=offset)),2)\n",
    "        \n",
    "        #print(tryp)\n",
    "        #print(n % tryp)\n",
    "        \n",
    "        if n % tryp == 0:\n",
    "            print(tryp)\n",
    "            print('Gottem!')\n",
    "            break\n",
    "            \n",
    "    rrr += 1"
   ]
  },
  {
   "cell_type": "code",
   "execution_count": null,
   "metadata": {},
   "outputs": [],
   "source": []
  }
 ],
 "metadata": {
  "kernelspec": {
   "display_name": "Python 3",
   "language": "python",
   "name": "python3"
  },
  "language_info": {
   "codemirror_mode": {
    "name": "ipython",
    "version": 3
   },
   "file_extension": ".py",
   "mimetype": "text/x-python",
   "name": "python",
   "nbconvert_exporter": "python",
   "pygments_lexer": "ipython3",
   "version": "3.6.9"
  }
 },
 "nbformat": 4,
 "nbformat_minor": 5
}
