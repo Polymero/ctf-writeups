{
 "cells": [
  {
   "cell_type": "code",
   "execution_count": 1,
   "metadata": {},
   "outputs": [],
   "source": [
    "import time\n",
    "\n",
    "debug = True\n",
    "\n",
    "# display matrix picture with 0 and X\n",
    "def matrix_overview(BB, bound):\n",
    "    for ii in range(BB.dimensions()[0]):\n",
    "        a = ('%02d ' % ii)\n",
    "        for jj in range(BB.dimensions()[1]):\n",
    "            a += '0' if BB[ii,jj] == 0 else 'X'\n",
    "            a += ' '\n",
    "        if BB[ii, ii] >= bound:\n",
    "            a += '~'\n",
    "        print a\n",
    "\n",
    "def coppersmith_howgrave_univariate(pol, modulus, beta, mm, tt, XX):\n",
    "    \"\"\"\n",
    "    Coppersmith revisited by Howgrave-Graham\n",
    "    \n",
    "    finds a solution if:\n",
    "    * b|modulus, b >= modulus^beta , 0 < beta <= 1\n",
    "    * |x| < XX\n",
    "    \"\"\"\n",
    "    #\n",
    "    # init\n",
    "    #\n",
    "    dd = pol.degree()\n",
    "    nn = dd * mm + tt\n",
    "\n",
    "    #\n",
    "    # checks\n",
    "    #\n",
    "    if not 0 < beta <= 1:\n",
    "        raise ValueError(\"beta should belongs in (0, 1]\")\n",
    "\n",
    "    if not pol.is_monic():\n",
    "        raise ArithmeticError(\"Polynomial must be monic.\")\n",
    "\n",
    "    #\n",
    "    # calculate bounds and display them\n",
    "    #\n",
    "    \"\"\"\n",
    "    * we want to find g(x) such that ||g(xX)|| <= b^m / sqrt(n)\n",
    "    * we know LLL will give us a short vector v such that:\n",
    "    ||v|| <= 2^((n - 1)/4) * det(L)^(1/n)\n",
    "    * we will use that vector as a coefficient vector for our g(x)\n",
    "    \n",
    "    * so we want to satisfy:\n",
    "    2^((n - 1)/4) * det(L)^(1/n) < N^(beta*m) / sqrt(n)\n",
    "    \n",
    "    so we can obtain ||v|| < N^(beta*m) / sqrt(n) <= b^m / sqrt(n)\n",
    "    (it's important to use N because we might not know b)\n",
    "    \"\"\"\n",
    "    if debug:\n",
    "        # t optimized?\n",
    "        print \"\\n# Optimized t?\\n\"\n",
    "        print \"we want X^(n-1) < N^(beta*m) so that each vector is helpful\"\n",
    "        cond1 = RR(XX^(nn-1))\n",
    "        print \"* X^(n-1) = \", cond1\n",
    "        cond2 = pow(modulus, beta*mm)\n",
    "        print \"* N^(beta*m) = \", cond2\n",
    "        print \"* X^(n-1) < N^(beta*m) \\n-> GOOD\" if cond1 < cond2 else \"* X^(n-1) >= N^(beta*m) \\n-> NOT GOOD\"\n",
    "        \n",
    "        # bound for X\n",
    "        print \"\\n# X bound respected?\\n\"\n",
    "        print \"we want X <= N^(((2*beta*m)/(n-1)) - ((delta*m*(m+1))/(n*(n-1)))) / 2 = M\"\n",
    "        print \"* X =\", XX\n",
    "        cond2 = RR(modulus^(((2*beta*mm)/(nn-1)) - ((dd*mm*(mm+1))/(nn*(nn-1)))) / 2)\n",
    "        print \"* M =\", cond2\n",
    "        print \"* X <= M \\n-> GOOD\" if XX <= cond2 else \"* X > M \\n-> NOT GOOD\"\n",
    "\n",
    "        # solution possible?\n",
    "        print \"\\n# Solutions possible?\\n\"\n",
    "        detL = RR(modulus^(dd * mm * (mm + 1) / 2) * XX^(nn * (nn - 1) / 2))\n",
    "        print \"we can find a solution if 2^((n - 1)/4) * det(L)^(1/n) < N^(beta*m) / sqrt(n)\"\n",
    "        cond1 = RR(2^((nn - 1)/4) * detL^(1/nn))\n",
    "        print \"* 2^((n - 1)/4) * det(L)^(1/n) = \", cond1\n",
    "        cond2 = RR(modulus^(beta*mm) / sqrt(nn))\n",
    "        print \"* N^(beta*m) / sqrt(n) = \", cond2\n",
    "        print \"* 2^((n - 1)/4) * det(L)^(1/n) < N^(beta*m) / sqrt(n) \\n-> SOLUTION WILL BE FOUND\" if cond1 < cond2 else \"* 2^((n - 1)/4) * det(L)^(1/n) >= N^(beta*m) / sqroot(n) \\n-> NO SOLUTIONS MIGHT BE FOUND (but we never know)\"\n",
    "\n",
    "        # warning about X\n",
    "        print \"\\n# Note that no solutions will be found _for sure_ if you don't respect:\\n* |root| < X \\n* b >= modulus^beta\\n\"\n",
    "    \n",
    "    #\n",
    "    # Coppersmith revisited algo for univariate\n",
    "    #\n",
    "\n",
    "    # change ring of pol and x\n",
    "    polZ = pol.change_ring(ZZ)\n",
    "    x = polZ.parent().gen()\n",
    "\n",
    "    # compute polynomials\n",
    "    gg = []\n",
    "    for ii in range(mm):\n",
    "        for jj in range(dd):\n",
    "            gg.append((x * XX)**jj * modulus**(mm - ii) * polZ(x * XX)**ii)\n",
    "    for ii in range(tt):\n",
    "        gg.append((x * XX)**ii * polZ(x * XX)**mm)\n",
    "    \n",
    "    # construct lattice B\n",
    "    BB = Matrix(ZZ, nn)\n",
    "\n",
    "    for ii in range(nn):\n",
    "        for jj in range(ii+1):\n",
    "            BB[ii, jj] = gg[ii][jj]\n",
    "\n",
    "    # display basis matrix\n",
    "    if debug:\n",
    "        matrix_overview(BB, modulus^mm)\n",
    "\n",
    "    # LLL\n",
    "    BB = BB.LLL()\n",
    "\n",
    "    # transform shortest vector in polynomial    \n",
    "    new_pol = 0\n",
    "    for ii in range(nn):\n",
    "        new_pol += x**ii * BB[0, ii] / XX**ii\n",
    "\n",
    "    # factor polynomial\n",
    "    potential_roots = new_pol.roots()\n",
    "    print \"potential roots:\", potential_roots\n",
    "\n",
    "    # test roots\n",
    "    roots = []\n",
    "    for root in potential_roots:\n",
    "        if root[0].is_integer():\n",
    "            result = polZ(ZZ(root[0]))\n",
    "            if gcd(modulus, result) >= modulus^beta:\n",
    "                roots.append(ZZ(root[0]))\n",
    "\n",
    "    # \n",
    "    return roots"
   ]
  },
  {
   "cell_type": "code",
   "execution_count": 7,
   "metadata": {},
   "outputs": [
    {
     "data": {
      "text/plain": [
       "480"
      ]
     },
     "execution_count": 7,
     "metadata": {},
     "output_type": "execute_result"
    }
   ],
   "source": [
    "512-len('11010101110011101100010100100010')"
   ]
  },
  {
   "cell_type": "code",
   "execution_count": 10,
   "metadata": {},
   "outputs": [
    {
     "name": "stdout",
     "output_type": "stream",
     "text": [
      "\n",
      "# Optimized t?\n",
      "\n",
      "we want X^(n-1) < N^(beta*m) so that each vector is helpful\n",
      "* X^(n-1) =  1.13831562340388e190\n",
      "* N^(beta*m) =  3.57967939805122e369\n",
      "* X^(n-1) < N^(beta*m) \n",
      "-> GOOD\n",
      "\n",
      "# X bound respected?\n",
      "\n",
      "we want X <= N^(((2*beta*m)/(n-1)) - ((delta*m*(m+1))/(n*(n-1)))) / 2 = M\n",
      "* X = 47428979768479754651633650237440\n",
      "* M = 7.84466148277224e34\n",
      "* X <= M \n",
      "-> GOOD\n",
      "\n",
      "# Solutions possible?\n",
      "\n",
      "we can find a solution if 2^((n - 1)/4) * det(L)^(1/n) < N^(beta*m) / sqrt(n)\n",
      "* 2^((n - 1)/4) * det(L)^(1/n) =  2.79709917295080e359\n",
      "* N^(beta*m) / sqrt(n) =  1.35299163722642e369\n",
      "* 2^((n - 1)/4) * det(L)^(1/n) < N^(beta*m) / sqrt(n) \n",
      "-> SOLUTION WILL BE FOUND\n",
      "\n",
      "# Note that no solutions will be found _for sure_ if you don't respect:\n",
      "* |root| < X \n",
      "* b >= modulus^beta\n",
      "\n",
      "00 X 0 0 0 0 0 0 ~\n",
      "01 X X 0 0 0 0 0 \n",
      "02 X X X 0 0 0 0 \n",
      "03 X X X X 0 0 0 \n",
      "04 0 X X X X 0 0 \n",
      "05 0 0 X X X X 0 \n",
      "06 0 0 0 X X X X \n",
      "potential roots: []\n",
      "\n",
      "# Solutions\n",
      "we found: []\n",
      "in: 0.00933694839478 seconds \n"
     ]
    }
   ],
   "source": [
    "# RSA gen\n",
    "length_N = 1024;\n",
    "p = next_prime(2^int(round(length_N/2)));\n",
    "q = next_prime( round(pi.n()*p) );\n",
    "N = p*q;\n",
    "\n",
    "\n",
    "N = 91524376058435512802977349054137484853020749756475848937949032819271976245618954056085280356793284207373688914402063849900167769927943540024042052332072339128515647471594344561990787127600319799073223486596604605512823655072245578506874569093613146786306365882399107944523349237631503342093680744942454169241\n",
    "\n",
    "# qbar is q + [hidden_size_random]\n",
    "hidden = 490;\n",
    "diff = ZZ.random_element(0, 2^hidden-1)\n",
    "qbar = int(\"11010101110011101100010100100010????????1110010011101111000000100011011011010110011111010010111110110100110111010101101011111101010011011110011100001001101000100110111110001101101000000001011001111000001100010011000101110011101011100101001000010110011100001001010010110111100001010010110101010001010001110011111100101011011011001001100010101101010100000110011101100010101110000100001001000001110110000101100011001001????????00010010????????1010101110001001001101111111000001111011????????010111110111011000010111\".replace('?','0'),2)\n",
    "\n",
    "F.<x> = PolynomialRing(Zmod(N), implementation='NTL'); \n",
    "pol = x - qbar\n",
    "dd = pol.degree()\n",
    "\n",
    "# PLAY WITH THOSE:\n",
    "beta = 0.4                             # we should have q >= N^beta\n",
    "epsilon = beta / 7                     # <= beta/7\n",
    "mm = ceil(beta**2 / (dd * epsilon))    # optimized\n",
    "tt = floor(dd * mm * ((1/beta) - 1))   # optimized\n",
    "XX = ceil(N**((beta**2/dd) - epsilon)) # we should have |diff| < X\n",
    "\n",
    "# Coppersmith\n",
    "start_time = time.time()\n",
    "roots = coppersmith_howgrave_univariate(pol, N, beta, mm, tt, XX)\n",
    "\n",
    "# output\n",
    "print \"\\n# Solutions\"\n",
    "print \"we found:\", roots\n",
    "print(\"in: %s seconds \" % (time.time() - start_time))"
   ]
  },
  {
   "cell_type": "code",
   "execution_count": null,
   "metadata": {},
   "outputs": [],
   "source": []
  },
  {
   "cell_type": "code",
   "execution_count": 11,
   "metadata": {},
   "outputs": [],
   "source": [
    "# RSA Utilities\n",
    "#\n",
    "# Other factorization algorithms included with Sage:\n",
    "# qsieve - The best algorithm for factoring numbers of the form \\(pq\\) up to\n",
    "#          around 100 digits.\n",
    "# ecm.factor - The best algorithm for factoring numbers of the form \\(n=pm\\),\n",
    "#              where \\(p\\) is not “too big”.\n",
    "\n",
    "def rsa_make_d(p, q, e):\n",
    "    \"\"\"Computes private exponent d given p, q and e.\n",
    "    \"\"\"\n",
    "    return inverse_mod(e, (p - 1) * (q - 1))\n",
    "\n",
    "def factor_rsa_modulus_n(N, e, d):\n",
    "    \"\"\"Factorize the RSA modulus N given the public and private exponents, e\n",
    "    and d.\n",
    "\n",
    "    Source: https://crypto.stanford.edu/~dabo/papers/RSA-survey.pdf\n",
    "    CTF: BCTF 2016 crypto 500 Hyper RSA\n",
    "    \"\"\"\n",
    "    k = d * e - 1\n",
    "    while True:\n",
    "        g = randint(2, N-1)\n",
    "        t = k\n",
    "        while t % 2 == 0:\n",
    "            t = t // 2\n",
    "            x = power_mod(g, t, N)\n",
    "            y = gcd(x - 1, N)\n",
    "            if x > 1 and y > 1:\n",
    "                p = y\n",
    "                q = N // y\n",
    "                if p > q:\n",
    "                    return (p, q)\n",
    "                else:\n",
    "                    return (q, p)\n",
    "\n",
    "def factor_fermat(N):\n",
    "    \"\"\"Factorize N into p and q for p and q share half of their leading bits.\n",
    "    i.e., if the gap between p and q is below the square root of p\n",
    "\n",
    "    Source: http://facthacks.cr.yp.to/fermat.html\n",
    "    CTF: BKP CTF 2016 Bob's Hat\n",
    "    \"\"\"\n",
    "    if N <= 0: return [N]\n",
    "    if is_even(N): return [2,N/2]\n",
    "    a = ceil(sqrt(N))\n",
    "    while not is_square(a^2 - N):\n",
    "        a = a + 1\n",
    "    b = sqrt(a^2-N)\n",
    "    return [a - b,a + b]\n",
    "\n",
    "def factor_lattice(N, nearp, howclose, t, k):\n",
    "    \"\"\"Finds p very quickly if p has about half as many bits as N and half of\n",
    "    the leading bits of p are known.\n",
    "\n",
    "    Source: http://facthacks.cr.yp.to/lattice.html\n",
    "    \"\"\"\n",
    "    R.<x> = PolynomialRing(ZZ)\n",
    "    f = howclose * x + nearp\n",
    "    M = matrix(t)\n",
    "    for i in range(t):\n",
    "        M[i] = (f ^ i * N ^ max(k - i, 0)).coefficients(sparse=False) + [0] * (t - 1 - i)\n",
    "    M = M.LLL()\n",
    "    Q = sum(z * (x / howclose) ^ i for i, z in enumerate(M[0]))\n",
    "    for r, multiplicty in Q.roots():\n",
    "        if nearp + r > 0:\n",
    "            g = gcd(N, nearp + r)\n",
    "            if g > 1: return [g, N / g]\n",
    "    return [1, N]\n",
    "\n",
    "def factor_rsa_wiener(N, e):\n",
    "    \"\"\"Wiener's attack: Factorize the RSA modulus N given the public exponents\n",
    "    e when d is small.\n",
    "\n",
    "    Source: https://crypto.stanford.edu/~dabo/papers/RSA-survey.pdf\n",
    "    CTF: BKP CTF 2016 Bob's Hat\n",
    "    \"\"\"\n",
    "    N = Integer(N)\n",
    "    e = Integer(e)\n",
    "    cf = (e / N).continued_fraction().convergents()\n",
    "    for f in cf:\n",
    "        k = f.numer()\n",
    "        d = f.denom()\n",
    "        if k == 0:\n",
    "            continue\n",
    "        phi_N = ((e * d) - 1) / k\n",
    "        b = -(N - phi_N + 1)\n",
    "        dis = b ^ 2 - 4 * N\n",
    "        if dis.sign() == 1:\n",
    "            dis_sqrt = sqrt(dis)\n",
    "            p = (-b + dis_sqrt) / 2\n",
    "            q = (-b - dis_sqrt) / 2\n",
    "            if p.is_integer() and q.is_integer() and (p * q) % N == 0:\n",
    "                p = p % N\n",
    "                q = q % N\n",
    "                if p > q:\n",
    "                    return (p, q)\n",
    "                else:\n",
    "                    return (q, p)\n",
    "\n",
    "def modular_sqrt(a, p):\n",
    "    \"\"\"Returns modular square root of an integer number a modulo a prime number\n",
    "    p.\n",
    "\n",
    "    Source: http://www.mersennewiki.org/index.php/Modular_Square_Root\n",
    "    \"\"\"\n",
    "\n",
    "    if a == 0:\n",
    "        return (0, )\n",
    "\n",
    "    if legendre_symbol(a, p) != 1:\n",
    "        raise ValueError(\"a is not a quadratic residue modulo p\")\n",
    "\n",
    "    if p == 2:\n",
    "        return (a % p,)\n",
    "\n",
    "    if p % 4 == 3:\n",
    "        r = power_mod(a, (p + 1) // 4, p)\n",
    "        return (r, p - r)\n",
    "\n",
    "    if p % 8 == 5:\n",
    "        v = power_mod(2 * a, (p - 5) // 8, p)\n",
    "        i = (2 * a * power_mod(v, 2, p)) % p\n",
    "        r = a * v * (i - 1) % p\n",
    "        return (r, p - r)\n",
    "\n",
    "    if p % 8 == 1: # Shanks' method\n",
    "        q = p - 1\n",
    "        e = 0\n",
    "        while q % 2 == 0:\n",
    "            q //= 2\n",
    "            e += 1\n",
    "        while True:\n",
    "            x = Integer(randint(2, p - 1))\n",
    "            z = power_mod(x, q, p)\n",
    "            if power_mod(z ^ 2, e - 1, p) != 1:\n",
    "                break\n",
    "        y = z\n",
    "        r = e\n",
    "        x = power_mod(a, (q - 1) // 2, p)\n",
    "        v = (a * x) % p\n",
    "        w = (v * x) % p\n",
    "        while w != 1:\n",
    "            k = 1\n",
    "            ws = power_mod(w, 2, p)\n",
    "            while power_mod(ws, k, p) != 1:\n",
    "                k += 1\n",
    "            d = power_mod(y ^ 2, r - k - 1, p)\n",
    "            y = power_mod(d, 2, p)\n",
    "            r = k\n",
    "            v = (d * v) % p\n",
    "            w = (w * y) % p\n",
    "        return (v, p - v)\n",
    "\n",
    "    raise ValueError(\"Cannot find modular square root\")\n",
    "\n",
    "def modular_sqrt_rabin(a, p, q):\n",
    "    \"\"\"Returns modular square root of an integer number a modulo the product of\n",
    "    two primes p and q. (i.e. decryption of Rabin)\n",
    "\n",
    "    CTF: HITCON 2015 Quals crypto 314 Rsabin\n",
    "    \"\"\"\n",
    "    rp = modular_sqrt(a, p)\n",
    "    rq = modular_sqrt(a, q)\n",
    "    r = []\n",
    "    for a in rp:\n",
    "        for b in rq:\n",
    "            r.append(crt(a, b, p, q))\n",
    "    return r\n"
   ]
  },
  {
   "cell_type": "code",
   "execution_count": 12,
   "metadata": {},
   "outputs": [],
   "source": [
    "def factor_lattice(N, nearp, howclose, t, k):\n",
    "    \"\"\"Finds p very quickly if p has about half as many bits as N and half of\n",
    "    the leading bits of p are known.\n",
    "\n",
    "    Source: http://facthacks.cr.yp.to/lattice.html\n",
    "    \"\"\"\n",
    "    R.<x> = PolynomialRing(ZZ)\n",
    "    f = howclose * x + nearp\n",
    "    M = matrix(t)\n",
    "    for i in range(t):\n",
    "        M[i] = (f ^ i * N ^ max(k - i, 0)).coefficients(sparse=False) + [0] * (t - 1 - i)\n",
    "    M = M.LLL()\n",
    "    Q = sum(z * (x / howclose) ^ i for i, z in enumerate(M[0]))\n",
    "    for r, multiplicty in Q.roots():\n",
    "        if nearp + r > 0:\n",
    "            g = gcd(N, nearp + r)\n",
    "            if g > 1: return [g, N / g]\n",
    "    return [1, N]"
   ]
  },
  {
   "cell_type": "code",
   "execution_count": null,
   "metadata": {},
   "outputs": [],
   "source": []
  },
  {
   "cell_type": "code",
   "execution_count": null,
   "metadata": {},
   "outputs": [],
   "source": []
  },
  {
   "cell_type": "code",
   "execution_count": null,
   "metadata": {},
   "outputs": [],
   "source": []
  },
  {
   "cell_type": "code",
   "execution_count": 136,
   "metadata": {},
   "outputs": [],
   "source": [
    "N = 83053629859775920711567812747186440767081481550602251188553309206324295681965330133627944485866485070999764911856916661666341055580506407138328928582102280441307404997028414990454411914585618511541665346003685339249951173834579019444763896855008180436531017231173187615328630282433643469979677583481033456767"
   ]
  },
  {
   "cell_type": "code",
   "execution_count": 137,
   "metadata": {},
   "outputs": [],
   "source": [
    "precv = \"11011101000001010000101110000011????????0000111000110101111001110101111110101000000101101100110100101100011111011100010011111101100100001010100010101010110010110011001111111110111110001111100000100110100100011000001111000001101100010111000111011110001101010001001010111000101010011011011101100011011001110011110011110101001100111010100111110000011101110001111110110011001111101011100000100001001111000010011111110000????????11001001????????0001111000100110010100000010011010100110????????010100111010010111111001\""
   ]
  },
  {
   "cell_type": "code",
   "execution_count": 138,
   "metadata": {},
   "outputs": [],
   "source": [
    "pmsb = precv[:-96] + '0'*96"
   ]
  },
  {
   "cell_type": "code",
   "execution_count": 139,
   "metadata": {},
   "outputs": [
    {
     "name": "stdout",
     "output_type": "stream",
     "text": [
      "[11575741324989063940281303836117959708777860718967474194557642681569633215263644241397535181182103760190033820353082643135125681090364358617583219675211257, 7174800086495055188509357008521504972173899314795570630078666579402551551217580174534108146333750447573693730100331428261507221799217562896389605880165431]\n"
     ]
    }
   ],
   "source": [
    "for i in range(0,256):\n",
    "\n",
    "    ptry = pmsb.replace('????????','{:08d}'.format(int(bin(i)[2:])))\n",
    "    #print(bin(i)[2:])\n",
    "\n",
    "    facco = factor_lattice(N, int(ptry,2), 2**96, 8, 4)\n",
    "    \n",
    "    if facco[0] != 1:\n",
    "        print(facco)\n",
    "        p,q = facco\n",
    "        \n",
    "assert p*q == N"
   ]
  },
  {
   "cell_type": "code",
   "execution_count": 140,
   "metadata": {},
   "outputs": [
    {
     "name": "stdout",
     "output_type": "stream",
     "text": [
      "83053629859775920711567812747186440767081481550602251188553309206324295681965330133627944485866485070999764911856916661666341055580506407138328928582102261690765993512909286199793567275120937559781631582958860702940690201649812538220347965211680664582323253503622734201257233649530753888058163610655478080080\n"
     ]
    },
    {
     "data": {
      "text/plain": [
       "4688"
      ]
     },
     "execution_count": 140,
     "metadata": {},
     "output_type": "execute_result"
    }
   ],
   "source": [
    "phi = (p-1)*(q-1)\n",
    "print(phi)\n",
    "eulinv(0x10001,phi)\n"
   ]
  },
  {
   "cell_type": "code",
   "execution_count": null,
   "metadata": {},
   "outputs": [],
   "source": []
  },
  {
   "cell_type": "code",
   "execution_count": null,
   "metadata": {},
   "outputs": [],
   "source": []
  },
  {
   "cell_type": "code",
   "execution_count": null,
   "metadata": {},
   "outputs": [],
   "source": []
  },
  {
   "cell_type": "code",
   "execution_count": null,
   "metadata": {},
   "outputs": [],
   "source": []
  },
  {
   "cell_type": "code",
   "execution_count": null,
   "metadata": {},
   "outputs": [],
   "source": []
  },
  {
   "cell_type": "code",
   "execution_count": 58,
   "metadata": {},
   "outputs": [],
   "source": [
    "# Get euler inverse of x (mod n)\n",
    "def eulinv(x, n):\n",
    "    a, b, u = 0, n, 1\n",
    "    while x > 0:\n",
    "        q = b // x \n",
    "        x, a, b, u = b % x, u, x, a - q * u\n",
    "    if b == 1:\n",
    "        return a % n\n",
    "    else:\n",
    "        return None"
   ]
  },
  {
   "cell_type": "code",
   "execution_count": null,
   "metadata": {},
   "outputs": [],
   "source": []
  },
  {
   "cell_type": "code",
   "execution_count": null,
   "metadata": {},
   "outputs": [],
   "source": []
  },
  {
   "cell_type": "code",
   "execution_count": 32,
   "metadata": {},
   "outputs": [
    {
     "data": {
      "text/plain": [
       "146359451465933527125559782999149121046288419152103871589339519138259935083096255623150327987836277883456939067381456086168237719721064739101950574394246224220015112632765697199795985974899913728296309176496996544130705773426055946528621157713576826203191211632295273915206873740865102625993036480670914087397"
      ]
     },
     "execution_count": 32,
     "metadata": {},
     "output_type": "execute_result"
    }
   ],
   "source": [
    "11311569296778257566316063650742214065753951899646801957249815519713146636234353174691717488107769399384511815687655336821304484753870319205933895268408483*12938916575228813185264301257311667599832892654521158841551461501955634358900410205906150664983958943206058704154691235425206496609371331530887497871974359"
   ]
  },
  {
   "cell_type": "code",
   "execution_count": 33,
   "metadata": {},
   "outputs": [
    {
     "data": {
      "text/plain": [
       "146359451465933527125559782999149121046288419152103871589339519138259935083096255623150327987836277883456939067381456086168237719721064739101950574394246224220015112632765697199795985974899913728296309176496996544130705773426055946528621157713576826203191211632295273915206873740865102625993036480670914087397"
      ]
     },
     "execution_count": 33,
     "metadata": {},
     "output_type": "execute_result"
    }
   ],
   "source": [
    "N"
   ]
  },
  {
   "cell_type": "code",
   "execution_count": 112,
   "metadata": {},
   "outputs": [],
   "source": []
  },
  {
   "cell_type": "code",
   "execution_count": 121,
   "metadata": {},
   "outputs": [],
   "source": [
    "import hashlib\n",
    "import numpy.random as npr\n",
    "\n",
    "alp = 'abcdefghijklmnopqrstuvwxyzABCDEFGHIJKLMNOPQRSTUVWXYZ0123456789'\n",
    "\n",
    "def poww(pow_hash):\n",
    "    \n",
    "    while True:\n",
    "        \n",
    "        pow_try = b'UMass-' + ''.join(npr.choice(list(alp),32)).encode()\n",
    "        #print(pow_try)\n",
    "        pow_sha = hashlib.sha256(pow_try).hexdigest().encode()\n",
    "        \n",
    "        if pow_hash == pow_sha[:5]:\n",
    "            \n",
    "            return pow_try\n",
    "    \n",
    "poww(b'bd7f3')"
   ]
  },
  {
   "cell_type": "code",
   "execution_count": 135,
   "metadata": {},
   "outputs": [
    {
     "data": {
      "text/plain": [
       "'UMass-NrBy7cqgoIAWopAxqWmgDF3kNTNCheEs'"
      ]
     },
     "execution_count": 135,
     "metadata": {},
     "output_type": "execute_result"
    }
   ],
   "source": []
  },
  {
   "cell_type": "code",
   "execution_count": null,
   "metadata": {},
   "outputs": [],
   "source": [
    "# Proof of work\n",
    "\ts.recvuntil(b'begins with ')\n",
    "\n",
    "\n",
    "\tpow_hash = s.recvuntil('\\n', drop=True)\n",
    "\ts.recvuntil('> ')\n",
    "\tprint(pow_hash)\n",
    "\n",
    "\twhile True:\n",
    "\n",
    "\t\tpow_try = b'UMass-' + os.urandom(32)\n",
    "\n",
    "\t\tpow_sha = hashlib.sha256(pow_try).hexdigest().encode()\n",
    "\n",
    "\t\tif pow_hash == pow_sha[:5]:\n",
    "\n",
    "\t\t\ts.sendline(pow_try)\n",
    "\t\t\tbreak"
   ]
  }
 ],
 "metadata": {
  "kernelspec": {
   "display_name": "SageMath 8.1",
   "language": "",
   "name": "sagemath"
  },
  "language_info": {
   "codemirror_mode": {
    "name": "ipython",
    "version": 2
   },
   "file_extension": ".py",
   "mimetype": "text/x-python",
   "name": "python",
   "nbconvert_exporter": "python",
   "pygments_lexer": "ipython2",
   "version": "2.7.17"
  }
 },
 "nbformat": 4,
 "nbformat_minor": 4
}
