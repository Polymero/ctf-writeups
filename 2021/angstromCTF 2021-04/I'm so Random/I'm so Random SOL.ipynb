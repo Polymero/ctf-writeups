{
 "cells": [
  {
   "cell_type": "code",
   "execution_count": 16,
   "id": "fallen-visitor",
   "metadata": {},
   "outputs": [],
   "source": [
    "import numpy as np"
   ]
  },
  {
   "cell_type": "code",
   "execution_count": 10,
   "id": "rental-ozone",
   "metadata": {},
   "outputs": [
    {
     "name": "stdout",
     "output_type": "stream",
     "text": [
      "Would you like to get a random output [r], or guess the next random number [g]? r\n",
      "db 29437703 44578556\n",
      "1312290291696868\n",
      "Would you like to get a random output [r], or guess the next random number [g]? kl\n",
      "Invalid input.\n"
     ]
    }
   ],
   "source": [
    "import time\n",
    "import random\n",
    "import os\n",
    "\n",
    "class Generator():\n",
    "    DIGITS = 8\n",
    "    def __init__(self, seed):\n",
    "        self.seed = seed\n",
    "        assert(len(str(self.seed)) == self.DIGITS)\n",
    "\n",
    "    def getNum(self):\n",
    "        self.seed = int(str(self.seed**2).rjust(self.DIGITS*2, \"0\")[self.DIGITS//2:self.DIGITS + self.DIGITS//2])\n",
    "        return self.seed\n",
    "\n",
    "\n",
    "r1 = Generator(random.randint(10000000, 99999999))\n",
    "r2 = Generator(random.randint(10000000, 99999999))\n",
    "\n",
    "\n",
    "query_counter = 0\n",
    "while True:\n",
    "    query = input(\"Would you like to get a random output [r], or guess the next random number [g]? \")\n",
    "    if query.lower() not in [\"r\", \"g\"]:\n",
    "        print(\"Invalid input.\")\n",
    "        break\n",
    "    else:\n",
    "        if query.lower() == \"r\" and query_counter < 3:\n",
    "            r1gn = r1.getNum()\n",
    "            r2gn = r2.getNum()\n",
    "            print('db', r1gn,  r2gn)\n",
    "            print(r1gn * r2gn)\n",
    "            query_counter += 1;\n",
    "        elif query_counter >= 3 and query.lower() == \"r\":\n",
    "            print(\"You don't get more random numbers!\")\n",
    "        else:\n",
    "            for i in range(2):\n",
    "                guess = int(input(\"What is your guess to the next value generated? \"))\n",
    "                if guess != r1.getNum() * r2.getNum():\n",
    "                    print(\"Incorrect!\")\n",
    "                    exit()\n",
    "            with open(\"flag\", \"r\") as f:\n",
    "                fleg = f.read()\n",
    "            print(\"Congrats! Here's your flag: \")\n",
    "            print(fleg)\n",
    "            exit()"
   ]
  },
  {
   "cell_type": "code",
   "execution_count": 33,
   "id": "beginning-sweet",
   "metadata": {},
   "outputs": [],
   "source": [
    "state1 = 3938283387792343\n",
    "state2 = 2287147783835012\n",
    "state3 = 1075972088061000"
   ]
  },
  {
   "cell_type": "code",
   "execution_count": 34,
   "id": "respective-gardening",
   "metadata": {},
   "outputs": [
    {
     "name": "stdout",
     "output_type": "stream",
     "text": [
      "[[95036257, 41439799]]\n",
      "[[50865404, 44964703], [89014457, 25694116], [89929406, 25432702]]\n",
      "[[34413300, 31266170], [35789832, 30063625], [36076350, 29824860], [37281075, 28861080], [37519404, 28677750], [38237000, 28139553], [43016625, 25012936], [43291620, 24854050], [44737290, 24050900], [46899255, 22942200], [48101800, 22368645], [49708100, 21645810], [54114525, 19883240], [56279106, 19118500], [57355500, 18759702], [59649720, 18038175], [60127250, 17894916], [62135125, 17316648], [62532340, 17206650], [68826600, 15633085], [72152700, 14912430], [74562150, 14430540], [75038808, 14338875], [78165425, 13765320], [86033250, 12506468], [86583240, 12427025], [89474580, 12025450], [90190875, 11929944], [93798510, 11471100], [99416200, 10822905]]\n"
     ]
    }
   ],
   "source": [
    "minseed = 10000000\n",
    "maxseed = 99999999\n",
    "\n",
    "pos_lst = [[],[],[]]\n",
    "\n",
    "for i,kk in enumerate([state1, state2, state3]):\n",
    "\n",
    "    k = int(np.sqrt(kk))\n",
    "\n",
    "    while k < maxseed:\n",
    "\n",
    "        if kk % k == 0:\n",
    "\n",
    "            pos_lst[i].append([k, kk//k])\n",
    "\n",
    "        k += 1\n",
    "\n",
    "print(pos_lst[0])\n",
    "print(pos_lst[1])\n",
    "print(pos_lst[2])"
   ]
  },
  {
   "cell_type": "code",
   "execution_count": 35,
   "id": "grave-mistake",
   "metadata": {},
   "outputs": [
    {
     "name": "stdout",
     "output_type": "stream",
     "text": [
      "12426359\n",
      "32061665\n",
      "38444120\n",
      "80326922\n"
     ]
    }
   ],
   "source": [
    "for si in range(10000000, 100000000):\n",
    "    \n",
    "    if str(si**2).rjust(16, \"0\")[4:12] in [str(i) for i in pos_lst[0][0]]:\n",
    "        \n",
    "        print(si)"
   ]
  },
  {
   "cell_type": "code",
   "execution_count": 41,
   "id": "fabulous-appreciation",
   "metadata": {},
   "outputs": [],
   "source": [
    "t1 = Generator(38444120)\n",
    "t2 = Generator(80326922)"
   ]
  },
  {
   "cell_type": "code",
   "execution_count": 42,
   "id": "prepared-mountain",
   "metadata": {},
   "outputs": [
    {
     "data": {
      "text/plain": [
       "3938283387792343"
      ]
     },
     "execution_count": 42,
     "metadata": {},
     "output_type": "execute_result"
    }
   ],
   "source": [
    "t1.getNum() * t2.getNum()"
   ]
  },
  {
   "cell_type": "code",
   "execution_count": 43,
   "id": "filled-basketball",
   "metadata": {},
   "outputs": [
    {
     "data": {
      "text/plain": [
       "2287147783835012"
      ]
     },
     "execution_count": 43,
     "metadata": {},
     "output_type": "execute_result"
    }
   ],
   "source": [
    "t1.getNum() * t2.getNum()"
   ]
  },
  {
   "cell_type": "code",
   "execution_count": 44,
   "id": "under-stylus",
   "metadata": {},
   "outputs": [
    {
     "data": {
      "text/plain": [
       "1075972088061000"
      ]
     },
     "execution_count": 44,
     "metadata": {},
     "output_type": "execute_result"
    }
   ],
   "source": [
    "t1.getNum() * t2.getNum()"
   ]
  },
  {
   "cell_type": "code",
   "execution_count": 45,
   "id": "least-bonus",
   "metadata": {},
   "outputs": [
    {
     "data": {
      "text/plain": [
       "6053039562303800"
      ]
     },
     "execution_count": 45,
     "metadata": {},
     "output_type": "execute_result"
    }
   ],
   "source": [
    "t1.getNum() * t2.getNum()"
   ]
  },
  {
   "cell_type": "code",
   "execution_count": 46,
   "id": "logical-dining",
   "metadata": {},
   "outputs": [
    {
     "data": {
      "text/plain": [
       "301276031382090"
      ]
     },
     "execution_count": 46,
     "metadata": {},
     "output_type": "execute_result"
    }
   ],
   "source": [
    "t1.getNum() * t2.getNum()"
   ]
  },
  {
   "cell_type": "code",
   "execution_count": null,
   "id": "breathing-south",
   "metadata": {},
   "outputs": [],
   "source": []
  },
  {
   "cell_type": "markdown",
   "id": "large-malaysia",
   "metadata": {},
   "source": [
    "actf{middle_square_method_more_like_middle_fail_method}"
   ]
  },
  {
   "cell_type": "code",
   "execution_count": null,
   "id": "legitimate-vietnamese",
   "metadata": {},
   "outputs": [],
   "source": []
  },
  {
   "cell_type": "markdown",
   "id": "fitted-serbia",
   "metadata": {},
   "source": []
  }
 ],
 "metadata": {
  "kernelspec": {
   "display_name": "Python 3",
   "language": "python",
   "name": "python3"
  },
  "language_info": {
   "codemirror_mode": {
    "name": "ipython",
    "version": 3
   },
   "file_extension": ".py",
   "mimetype": "text/x-python",
   "name": "python",
   "nbconvert_exporter": "python",
   "pygments_lexer": "ipython3",
   "version": "3.9.1+"
  }
 },
 "nbformat": 4,
 "nbformat_minor": 5
}
