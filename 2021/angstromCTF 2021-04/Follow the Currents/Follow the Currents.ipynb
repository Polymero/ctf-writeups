{
 "cells": [
  {
   "cell_type": "code",
   "execution_count": 6,
   "id": "technological-heritage",
   "metadata": {},
   "outputs": [
    {
     "ename": "FileNotFoundError",
     "evalue": "[Errno 2] No such file or directory: 'plain'",
     "output_type": "error",
     "traceback": [
      "\u001b[0;31m---------------------------------------------------------------------------\u001b[0m",
      "\u001b[0;31mFileNotFoundError\u001b[0m                         Traceback (most recent call last)",
      "\u001b[0;32m<ipython-input-6-177614dabeb6>\u001b[0m in \u001b[0;36m<module>\u001b[0;34m\u001b[0m\n\u001b[1;32m     10\u001b[0m                 \u001b[0;32myield\u001b[0m \u001b[0mkey\u001b[0m\u001b[0;34m[\u001b[0m\u001b[0mindex\u001b[0m\u001b[0;34m]\u001b[0m\u001b[0;34m\u001b[0m\u001b[0;34m\u001b[0m\u001b[0m\n\u001b[1;32m     11\u001b[0m \u001b[0mciphertext\u001b[0m \u001b[0;34m=\u001b[0m \u001b[0;34m[\u001b[0m\u001b[0;34m]\u001b[0m\u001b[0;34m\u001b[0m\u001b[0;34m\u001b[0m\u001b[0m\n\u001b[0;32m---> 12\u001b[0;31m \u001b[0;32mwith\u001b[0m \u001b[0mopen\u001b[0m\u001b[0;34m(\u001b[0m\u001b[0;34m\"plain\"\u001b[0m\u001b[0;34m,\u001b[0m\u001b[0;34m\"rb\"\u001b[0m\u001b[0;34m)\u001b[0m \u001b[0;32mas\u001b[0m \u001b[0mf\u001b[0m\u001b[0;34m:\u001b[0m\u001b[0;34m\u001b[0m\u001b[0;34m\u001b[0m\u001b[0m\n\u001b[0m\u001b[1;32m     13\u001b[0m         \u001b[0mplain\u001b[0m \u001b[0;34m=\u001b[0m \u001b[0mf\u001b[0m\u001b[0;34m.\u001b[0m\u001b[0mread\u001b[0m\u001b[0;34m(\u001b[0m\u001b[0;34m)\u001b[0m\u001b[0;34m\u001b[0m\u001b[0;34m\u001b[0m\u001b[0m\n\u001b[1;32m     14\u001b[0m         \u001b[0;32massert\u001b[0m \u001b[0;34mb\"actf{\"\u001b[0m \u001b[0;32min\u001b[0m \u001b[0mplain\u001b[0m\u001b[0;34m\u001b[0m\u001b[0;34m\u001b[0m\u001b[0m\n",
      "\u001b[0;31mFileNotFoundError\u001b[0m: [Errno 2] No such file or directory: 'plain'"
     ]
    }
   ],
   "source": [
    "import os\n",
    "import zlib\n",
    "def keystream():\n",
    "\tkey = os.urandom(2)\n",
    "\tindex = 0\n",
    "\twhile 1:\n",
    "\t\tindex+=1\n",
    "\t\tif index >= len(key):\n",
    "\t\t\tkey += zlib.crc32(key).to_bytes(4,'big')\n",
    "\t\tyield key[index]\n",
    "ciphertext = []\n",
    "with open(\"plain\",\"rb\") as f:\n",
    "\tplain = f.read()\n",
    "\tassert b\"actf{\" in plain\n",
    "\tk = keystream()\n",
    "\tfor i in plain:\n",
    "\t\tciphertext.append(i ^ next(k))\n",
    "with open(\"enc\",\"wb\") as g:\n",
    "\tg.write(bytes(ciphertext))"
   ]
  },
  {
   "cell_type": "code",
   "execution_count": 8,
   "id": "deadly-reservation",
   "metadata": {},
   "outputs": [],
   "source": [
    "import os\n",
    "import zlib\n",
    "from Crypto.Util.number import long_to_bytes, bytes_to_long\n"
   ]
  },
  {
   "cell_type": "code",
   "execution_count": 9,
   "id": "consecutive-humidity",
   "metadata": {},
   "outputs": [],
   "source": [
    "def keystream(i):\n",
    "    key = long_to_bytes(i)\n",
    "    if len(key) < 2:\n",
    "        key = b'\\x00' + key\n",
    "    \n",
    "    index = 0\n",
    "    \n",
    "    while True:\n",
    "        \n",
    "        index += 1\n",
    "        \n",
    "        if index >= len(key):\n",
    "            key += zlib.crc32(key).to_bytes(4, 'big')\n",
    "            \n",
    "        yield key[index]"
   ]
  },
  {
   "cell_type": "code",
   "execution_count": 11,
   "id": "distributed-mercury",
   "metadata": {},
   "outputs": [
    {
     "name": "stdout",
     "output_type": "stream",
     "text": [
      "b\"x''R@\\xc5\\x05\\xfb/9\\xe7\\x10\\x13L\\xc5\\xd6\\x19 minutes left before the ctf starts so i have no idea what to put here other than the flag which is actf{low_entropy_keystream}\"\n",
      "b'\\x88\\x86\\x02\\x15\\x8b are like 30 minutes left before the ctf starts so i have no idea what to put here other than the flag which is actf{low_entropy_keystream}'\n",
      "b'uX\\x07\\x80^\\xec\\xe0\\x1e\\x069\\xe7\\x10\\x13L\\xc5\\xd6\\x19 minutes left before the ctf starts so i have no idea what to put here other than the flag which is actf{low_entropy_keystream}'\n",
      "b'\\x85\\xf9\"\\xc7\\x95\\t\\x84\\x97L like 30 minutes left before the ctf starts so i have no idea what to put here other than the flag which is actf{low_entropy_keystream}'\n",
      "b'there are like 30 minutes left before the ctf starts so i have no idea what to put here other than the flag which is actf{low_entropy_keystream}'\n",
      "b'\\x84\\xc9@5\\xae\\xc5\\x05\\xfb/9\\xe7\\x10\\x13L\\xc5\\xd6\\x19 minutes left before the ctf starts so i have no idea what to put here other than the flag which is actf{low_entropy_keystream}'\n",
      "b'y\\x17E\\xa0{\\t\\x84\\x97L like 30 minutes left before the ctf starts so i have no idea what to put here other than the flag which is actf{low_entropy_keystream}'\n",
      "b'\\x89\\xb6`\\xe7\\xb0\\xec\\xe0\\x1e\\x069\\xe7\\x10\\x13L\\xc5\\xd6\\x19 minutes left before the ctf starts so i have no idea what to put here other than the flag which is actf{low_entropy_keystream}'\n"
     ]
    }
   ],
   "source": [
    "import os\n",
    "import zlib\n",
    "from Crypto.Util.number import long_to_bytes, bytes_to_long\n",
    "\n",
    "def keystream(i):\n",
    "    key = long_to_bytes(i)\n",
    "    if len(key) < 2:\n",
    "        key = b'\\x00' + key\n",
    "    \n",
    "    index = 0\n",
    "    \n",
    "    while True:\n",
    "        \n",
    "        index += 1\n",
    "        \n",
    "        if index >= len(key):\n",
    "            key += zlib.crc32(key).to_bytes(4, 'big')\n",
    "            \n",
    "        yield key[index]\n",
    "\n",
    "for i in range(256**2):\n",
    "    \n",
    "    plain = b''\n",
    "    \n",
    "    k = keystream(i)\n",
    "    \n",
    "    with open(\"enc\",\"rb\") as f:\n",
    "        \n",
    "        enc = f.read()\n",
    "        \n",
    "        f.close()\n",
    "        \n",
    "    for ci,c in enumerate(enc):\n",
    "        \n",
    "        plain += long_to_bytes( c ^ next(k) )\n",
    "        \n",
    "    if b'actf{' in plain:\n",
    "        \n",
    "        print(plain)"
   ]
  },
  {
   "cell_type": "code",
   "execution_count": null,
   "id": "correct-medicare",
   "metadata": {},
   "outputs": [],
   "source": []
  },
  {
   "cell_type": "code",
   "execution_count": 12,
   "id": "textile-campus",
   "metadata": {},
   "outputs": [
    {
     "data": {
      "text/plain": [
       "1000228109"
      ]
     },
     "execution_count": 12,
     "metadata": {},
     "output_type": "execute_result"
    }
   ],
   "source": [
    "0x3b9e450d"
   ]
  },
  {
   "cell_type": "code",
   "execution_count": null,
   "id": "brave-mobile",
   "metadata": {},
   "outputs": [],
   "source": []
  },
  {
   "cell_type": "code",
   "execution_count": null,
   "id": "functioning-patio",
   "metadata": {},
   "outputs": [],
   "source": []
  }
 ],
 "metadata": {
  "kernelspec": {
   "display_name": "Python 3",
   "language": "python",
   "name": "python3"
  },
  "language_info": {
   "codemirror_mode": {
    "name": "ipython",
    "version": 3
   },
   "file_extension": ".py",
   "mimetype": "text/x-python",
   "name": "python",
   "nbconvert_exporter": "python",
   "pygments_lexer": "ipython3",
   "version": "3.9.1+"
  }
 },
 "nbformat": 4,
 "nbformat_minor": 5
}
