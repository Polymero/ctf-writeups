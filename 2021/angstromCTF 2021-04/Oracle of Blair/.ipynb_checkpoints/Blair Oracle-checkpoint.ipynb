{
 "cells": [
  {
   "cell_type": "code",
   "execution_count": 44,
   "metadata": {},
   "outputs": [],
   "source": [
    "from Crypto.Util.number import long_to_bytes, bytes_to_long"
   ]
  },
  {
   "cell_type": "code",
   "execution_count": 60,
   "metadata": {},
   "outputs": [
    {
     "name": "stdout",
     "output_type": "stream",
     "text": [
      "b'\\xd4\\xda\\x94\\x86\\xde(\\x81^\\xf7k\\x02!pj\\xc0\\x08'\n",
      "b'\\x00\\x00\\x00\\x00\\x00\\x00\\x00\\x00\\x00\\x00\\x00\\x00\\x00\\x00\\x00\\x00\\x00\\x00\\x00\\x00\\x00\\x00\\x00\\x00\\x00\\x00\\x00\\x00\\x00\\x00\\x00\\x00actf{REEEEEEEEEEEE}\\x00\\x00\\x00\\x00\\x00\\x00\\x00\\x00\\x00\\x00\\x00\\x00\\x00\\x00\\x00\\x00\\x00\\x00\\x00\\x00\\x00\\x00\\x00\\x00\\x00\\x00\\x00\\x00\\x00\\x00\\x00\\x00\\r\\r\\r\\r\\r\\r\\r\\r\\r\\r\\r\\r\\r'\n",
      "00 585fc589b10560d28fb5a303d145e8d98c85510f6f2de18c78dea122a12f28d15e3d330591b001099327bcfc5aac614c3f3a39f2f1891e816ca3e297c5f725dec9c02c0f6f2de18c78dea122a12f28d1fbf5e2fa5f45d6dfa288efead23f9df3\n"
     ]
    }
   ],
   "source": [
    "from Crypto.Cipher import AES\n",
    "from Crypto.Util.Padding import pad\n",
    "import os\n",
    "\n",
    "key = os.urandom(32)\n",
    "#flag = open(\"flag\",\"rb\").read()\n",
    "\n",
    "for iii in range(1):\n",
    "    try:\n",
    "        #print('{:02x}'.format(iii))\n",
    "        i = bytes.fromhex('0'*32 + '0'*32 + '7b7d' + '0'*64)\n",
    "        if not i:\n",
    "            break\n",
    "    except:\n",
    "        break\n",
    "    iv = os.urandom(16); print(iv)\n",
    "    inp = i.replace(b'{}', b'actf{REEEEEEEEEEEE}')\n",
    "    if len(inp) % 16:\n",
    "        inp = pad(inp, 16)\n",
    "    print(inp)\n",
    "    print(\n",
    "        '{:02x}'.format(iii), AES.new(key, AES.MODE_CBC, iv=iv).decrypt(inp).hex()\n",
    "    )"
   ]
  },
  {
   "cell_type": "code",
   "execution_count": null,
   "metadata": {},
   "outputs": [],
   "source": []
  },
  {
   "cell_type": "code",
   "execution_count": 61,
   "metadata": {},
   "outputs": [],
   "source": [
    "out = \"585fc589b10560d28fb5a303d145e8d98c85510f6f2de18c78dea122a12f28d15e3d330591b001099327bcfc5aac614c3f3a39f2f1891e816ca3e297c5f725dec9c02c0f6f2de18c78dea122a12f28d1fbf5e2fa5f45d6dfa288efead23f9df3\"\n",
    "blc = [out[i:i+32] for i in range(0,len(out),32)]"
   ]
  },
  {
   "cell_type": "code",
   "execution_count": 62,
   "metadata": {},
   "outputs": [],
   "source": [
    "def blcxor(blc1, blc2):\n",
    "    return long_to_bytes( int(blc1,16) ^ int(blc2,16) )"
   ]
  },
  {
   "cell_type": "code",
   "execution_count": 63,
   "metadata": {},
   "outputs": [
    {
     "data": {
      "text/plain": [
       "b'EE}\\x00\\x00\\x00\\x00\\x00\\x00\\x00\\x00\\x00\\x00\\x00\\x00\\x00'"
      ]
     },
     "execution_count": 63,
     "metadata": {},
     "output_type": "execute_result"
    }
   ],
   "source": [
    "blcxor(blc[1], blc[4])"
   ]
  },
  {
   "cell_type": "code",
   "execution_count": null,
   "metadata": {},
   "outputs": [],
   "source": []
  },
  {
   "cell_type": "code",
   "execution_count": 2,
   "metadata": {},
   "outputs": [
    {
     "name": "stdout",
     "output_type": "stream",
     "text": [
      "00000000000000000000000000000000000000000000000000000000000000007b7d0000000000000000000000000000000000000000000000000000000000000000\n",
      "b'ke_ecb_c}\\x00\\x00\\x00\\x00\\x00\\x00\\x00'\n",
      "000000000000000000000000000000006b655f6563625f637d00000000000000\n",
      "b'actf{cbc_more_li'\n",
      "actf{cbc_more_like_ecb_c}\u0000\u0000\u0000\u0000\u0000\u0000\u0000\n"
     ]
    }
   ],
   "source": [
    "# Imports\n",
    "from Crypto.Util.number import long_to_bytes, bytes_to_long\n",
    "\n",
    "# Split hex output into 32 character (16 byte) blocks\n",
    "def blocker(out):\n",
    "    return [out[i:i+32] for i in range(0,len(out),32)]\n",
    "\n",
    "# XOR two blocks with each other\n",
    "def blcxor(blc1, blc2):\n",
    "    return long_to_bytes( int(blc1,16) ^ int(blc2,16) )\n",
    "\n",
    "# Construct the first payload\n",
    "payload1 = 32*'0' + 32*'0' + '7b7d' + 64*'0'\n",
    "print(payload1)\n",
    "# Output of first payload\n",
    "out = \"a6f35fff892c5ffc32a2dc6f6a51832984867582d48488ff73bae1d47cb0e10fba1bdcba752c079caa7a7c07969a1e800f44faa7e797186f249b0b2cd20bb5d2efe32ae7b7e6d79c0ebae1d47cb0e10f28cc1a73c4b821dc70371e8817c47cec\"\n",
    "# Block it up\n",
    "blc1 = blocker(out)\n",
    "# Get second half of the flag\n",
    "F2 = blcxor(blc1[1], blc1[4])\n",
    "print(F2)\n",
    "\n",
    "# Construct the second payload\n",
    "payload2 = 32*'0' + F2.hex()\n",
    "print(payload2)\n",
    "# Output of second payload\n",
    "out = \"cabc7622ea7e828aee29fc4575ce3c846e278ec19cf47a0c7bf6645eb754d9bb\"\n",
    "# Block it up\n",
    "blc2 = blocker(out)\n",
    "# Get first half of the flag\n",
    "F1 = blcxor(blc1[3], blc2[1])\n",
    "print(F1)\n",
    "\n",
    "# Combine the halfs\n",
    "flag = F1 + F2\n",
    "print(flag.decode('ascii'))"
   ]
  },
  {
   "cell_type": "code",
   "execution_count": null,
   "metadata": {},
   "outputs": [],
   "source": []
  },
  {
   "cell_type": "code",
   "execution_count": null,
   "metadata": {},
   "outputs": [],
   "source": []
  },
  {
   "cell_type": "code",
   "execution_count": null,
   "metadata": {},
   "outputs": [],
   "source": []
  },
  {
   "cell_type": "code",
   "execution_count": null,
   "metadata": {},
   "outputs": [],
   "source": []
  },
  {
   "cell_type": "code",
   "execution_count": null,
   "metadata": {},
   "outputs": [],
   "source": []
  },
  {
   "cell_type": "code",
   "execution_count": 45,
   "metadata": {},
   "outputs": [
    {
     "name": "stdout",
     "output_type": "stream",
     "text": [
      "b' iGX6\\xa0\\xd2\\x84&\\xa0*\\x11\"\\xd53*'\n"
     ]
    }
   ],
   "source": [
    "part1 = 0x663ffa286f3e572d0de6b45c4a63d729\n",
    "part2 = 0x4656bd70599e85a92b469e4d68b6e403\n",
    "iv = part1 ^ part2\n",
    "print(long_to_byter)"
   ]
  },
  {
   "cell_type": "code",
   "execution_count": null,
   "metadata": {},
   "outputs": [],
   "source": []
  },
  {
   "cell_type": "code",
   "execution_count": 9,
   "metadata": {},
   "outputs": [
    {
     "data": {
      "text/plain": [
       "'3435343534353435343534353435343410101010101010101010101010101010'"
      ]
     },
     "execution_count": 9,
     "metadata": {},
     "output_type": "execute_result"
    }
   ],
   "source": [
    "pad(b'4545454545454544', 16).hex()"
   ]
  },
  {
   "cell_type": "code",
   "execution_count": 6,
   "metadata": {},
   "outputs": [
    {
     "data": {
      "text/plain": [
       "'7b7d'"
      ]
     },
     "execution_count": 6,
     "metadata": {},
     "output_type": "execute_result"
    }
   ],
   "source": [
    "b\"{}\".hex()"
   ]
  },
  {
   "cell_type": "code",
   "execution_count": 12,
   "metadata": {},
   "outputs": [
    {
     "data": {
      "text/plain": [
       "b'\\x00\\x00\\x00\\x00\\x00\\x00\\x00\\x00\\x00\\x00\\x00\\x00\\x00\\x00\\x00\\x00'"
      ]
     },
     "execution_count": 12,
     "metadata": {},
     "output_type": "execute_result"
    }
   ],
   "source": [
    "bytes.fromhex('00000000000000000000000000000000')"
   ]
  },
  {
   "cell_type": "code",
   "execution_count": null,
   "metadata": {},
   "outputs": [],
   "source": []
  },
  {
   "cell_type": "code",
   "execution_count": null,
   "metadata": {},
   "outputs": [],
   "source": []
  },
  {
   "cell_type": "code",
   "execution_count": null,
   "metadata": {},
   "outputs": [],
   "source": []
  },
  {
   "cell_type": "code",
   "execution_count": null,
   "metadata": {},
   "outputs": [],
   "source": []
  }
 ],
 "metadata": {
  "kernelspec": {
   "display_name": "Python 3",
   "language": "python",
   "name": "python3"
  },
  "language_info": {
   "codemirror_mode": {
    "name": "ipython",
    "version": 3
   },
   "file_extension": ".py",
   "mimetype": "text/x-python",
   "name": "python",
   "nbconvert_exporter": "python",
   "pygments_lexer": "ipython3",
   "version": "3.7.4"
  }
 },
 "nbformat": 4,
 "nbformat_minor": 5
}
