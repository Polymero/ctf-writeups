{
 "cells": [
  {
   "cell_type": "code",
   "execution_count": 75,
   "metadata": {},
   "outputs": [],
   "source": [
    "import gmpy2"
   ]
  },
  {
   "cell_type": "code",
   "execution_count": 84,
   "metadata": {},
   "outputs": [
    {
     "name": "stdout",
     "output_type": "stream",
     "text": [
      "58788463451868601215739613013154121493 94083200371496822040167585105439562596\n",
      "\n",
      "45304301599704377673926918429302604429.4758773609\n",
      "\n",
      " 24840175870260691910815884560907032354.8595220417 37887272350639008639721835011435165891.060637731856\n",
      "(83628639322129293126555497574061153847.8595220417, 131970472722135830679889420116874728487.06063773186)\n",
      " -44403274658512342593737298822298299937.3572914061 -8990491812892787411916959177128399014.1723648404455\n",
      "(14385188793356258622002314190855821555.6427085939, 85092708558604034628250625928311163581.827635159554)\n",
      " 3689813554338390202986497084957889752.542517102 45153792967714210946645645817017282316.360290964946\n",
      "(62478277006206991418726110098112011245.542517102, 139236993339211032986813230922456844912.36029096495)\n"
     ]
    }
   ],
   "source": [
    "import random\n",
    "import secrets\n",
    "import math\n",
    "from decimal import Decimal, getcontext\n",
    "from Crypto.Cipher import AES\n",
    "\n",
    "BOUND = 2 ** 128\n",
    "MULT = 10 ** 10\n",
    "\n",
    "getcontext().prec = 50\n",
    "\n",
    "def nums(a):\n",
    "    b = Decimal(random.randint(-a * MULT, a * MULT)) / MULT\n",
    "    c = (a ** 2 - b ** 2).sqrt()\n",
    "    if random.randrange(2):\n",
    "        c *= -1\n",
    "    return (b, c)\n",
    "\n",
    "\n",
    "# with open(\"flag\", \"r\") as f:\n",
    "#     flag = f.read().strip().encode(\"utf8\")\n",
    "\n",
    "# diff = len(flag) % 16\n",
    "# if diff:\n",
    "#     flag += b\"\\x00\" * (16 - diff)\n",
    "\n",
    "keynum = secrets.randbits(128)\n",
    "ivnum = secrets.randbits(128)\n",
    "print(keynum, ivnum)\n",
    "print()\n",
    "\n",
    "key = int.to_bytes(keynum, 16, \"big\")\n",
    "iv = int.to_bytes(ivnum, 16, \"big\")\n",
    "\n",
    "x = Decimal(random.randint(1, BOUND * MULT)) / MULT\n",
    "print(x)\n",
    "print()\n",
    "\n",
    "As = []\n",
    "Bs = []\n",
    "\n",
    "for _ in range(3):\n",
    "    (a, b) = nums(x)\n",
    "    As.append(a)\n",
    "    Bs.append(b)\n",
    "    print('',a,b)\n",
    "    print(f\"({keynum + a}, {ivnum + b})\")\n",
    "\n",
    "cipher = AES.new(key, AES.MODE_CBC, iv=iv)\n",
    "# enc = cipher.encrypt(flag)\n",
    "# print(enc.hex())\n"
   ]
  },
  {
   "cell_type": "code",
   "execution_count": 85,
   "metadata": {},
   "outputs": [
    {
     "data": {
      "text/plain": [
       "Decimal('-5.291095077971086826644972393E+36')"
      ]
     },
     "execution_count": 85,
     "metadata": {},
     "output_type": "execute_result"
    }
   ],
   "source": [
    "sum(As)/3"
   ]
  },
  {
   "cell_type": "code",
   "execution_count": 90,
   "metadata": {},
   "outputs": [
    {
     "data": {
      "text/plain": [
       "Decimal('2.468352450182014405815017388E+37')"
      ]
     },
     "execution_count": 90,
     "metadata": {},
     "output_type": "execute_result"
    }
   ],
   "source": [
    "sum(Bs)/3"
   ]
  },
  {
   "cell_type": "code",
   "execution_count": null,
   "metadata": {},
   "outputs": [],
   "source": []
  },
  {
   "cell_type": "code",
   "execution_count": 88,
   "metadata": {},
   "outputs": [
    {
     "data": {
      "text/plain": [
       "0.4241343853870806"
      ]
     },
     "execution_count": 88,
     "metadata": {},
     "output_type": "execute_result"
    }
   ],
   "source": [
    "0.542517102**2+0.36029096495**2"
   ]
  },
  {
   "cell_type": "code",
   "execution_count": 89,
   "metadata": {},
   "outputs": [
    {
     "data": {
      "text/plain": [
       "mpfr('0.65125600602764544')"
      ]
     },
     "execution_count": 89,
     "metadata": {},
     "output_type": "execute_result"
    }
   ],
   "source": [
    "gmpy2.sqrt(0.4241343853870806)"
   ]
  },
  {
   "cell_type": "code",
   "execution_count": null,
   "metadata": {},
   "outputs": [],
   "source": []
  },
  {
   "cell_type": "code",
   "execution_count": null,
   "metadata": {},
   "outputs": [],
   "source": []
  },
  {
   "cell_type": "code",
   "execution_count": null,
   "metadata": {},
   "outputs": [],
   "source": []
  }
 ],
 "metadata": {
  "kernelspec": {
   "display_name": "Python 3",
   "language": "python",
   "name": "python3"
  },
  "language_info": {
   "codemirror_mode": {
    "name": "ipython",
    "version": 3
   },
   "file_extension": ".py",
   "mimetype": "text/x-python",
   "name": "python",
   "nbconvert_exporter": "python",
   "pygments_lexer": "ipython3",
   "version": "3.7.4"
  }
 },
 "nbformat": 4,
 "nbformat_minor": 5
}
