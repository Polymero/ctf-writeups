{
 "cells": [
  {
   "cell_type": "code",
   "execution_count": 4,
   "id": "nonprofit-empire",
   "metadata": {},
   "outputs": [],
   "source": [
    "from Crypto.Util.number import long_to_bytes"
   ]
  },
  {
   "cell_type": "code",
   "execution_count": 2,
   "id": "passing-hearing",
   "metadata": {},
   "outputs": [],
   "source": [
    "enc = \"8e8b9e099afad3aac6312e9b37079853985e08883b14d7e2f25ce1b7627b5bc0\""
   ]
  },
  {
   "cell_type": "code",
   "execution_count": 3,
   "id": "sustainable-advancement",
   "metadata": {},
   "outputs": [
    {
     "data": {
      "text/plain": [
       "'8e8b9e099afad3aac6312e9b37079853'"
      ]
     },
     "execution_count": 3,
     "metadata": {},
     "output_type": "execute_result"
    }
   ],
   "source": [
    "enc[:32]"
   ]
  },
  {
   "cell_type": "code",
   "execution_count": 5,
   "id": "synthetic-polish",
   "metadata": {},
   "outputs": [
    {
     "data": {
      "text/plain": [
       "b'\\xc9!\\x84a\\x1bka\\xf8#\\xde\\xa2&\\ng\\x061'"
      ]
     },
     "execution_count": 5,
     "metadata": {},
     "output_type": "execute_result"
    }
   ],
   "source": [
    "long_to_bytes(0xc92184611b6b61f823dea2260a670631)"
   ]
  },
  {
   "cell_type": "code",
   "execution_count": null,
   "id": "bored-somewhere",
   "metadata": {},
   "outputs": [],
   "source": []
  },
  {
   "cell_type": "code",
   "execution_count": null,
   "id": "painful-excitement",
   "metadata": {},
   "outputs": [],
   "source": []
  },
  {
   "cell_type": "code",
   "execution_count": null,
   "id": "romance-repair",
   "metadata": {},
   "outputs": [],
   "source": []
  },
  {
   "cell_type": "code",
   "execution_count": null,
   "id": "handed-mother",
   "metadata": {},
   "outputs": [],
   "source": []
  },
  {
   "cell_type": "code",
   "execution_count": null,
   "id": "complicated-heath",
   "metadata": {},
   "outputs": [],
   "source": []
  }
 ],
 "metadata": {
  "kernelspec": {
   "display_name": "Python 3",
   "language": "python",
   "name": "python3"
  },
  "language_info": {
   "codemirror_mode": {
    "name": "ipython",
    "version": 3
   },
   "file_extension": ".py",
   "mimetype": "text/x-python",
   "name": "python",
   "nbconvert_exporter": "python",
   "pygments_lexer": "ipython3",
   "version": "3.9.1+"
  }
 },
 "nbformat": 4,
 "nbformat_minor": 5
}
